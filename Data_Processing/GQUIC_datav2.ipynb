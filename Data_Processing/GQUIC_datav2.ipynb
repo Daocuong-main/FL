{
 "cells": [
  {
   "cell_type": "code",
   "execution_count": 1,
   "id": "56ec2009",
   "metadata": {},
   "outputs": [],
   "source": [
    "import os\n",
    "import pandas as pd\n",
    "import numpy as np\n",
    "import glob\n",
    "import pyarrow.feather as feather\n",
    "from pyarrow import csv\n",
    "import random\n",
    "\n",
    "from sklearn import preprocessing\n",
    "le = preprocessing.LabelEncoder()\n",
    "scale = preprocessing.MinMaxScaler()\n",
    "pd.set_option(\"display.max_rows\", None)\n",
    "\n",
    "\n",
    "def train_test_split(df, frac=0.2):\n",
    "    selected = df['flow_id'].drop_duplicates().sample(frac=frac)\n",
    "    test = df[df['flow_id'].isin(selected)]\n",
    "    train = df[~df['flow_id'].isin(selected)]\n",
    "    return train, test\n",
    "\n",
    "\n",
    "def label_encoding(df, columns_list):\n",
    "    for col in columns_list:\n",
    "        df[col] = le.fit_transform(df[col])\n",
    "        le_name_mapping = dict(zip(le.classes_, le.transform(le.classes_)))\n",
    "        with open('Label_mapping_GQUIC.txt', 'a') as data:\n",
    "            data.write(col+\": \"+str(le_name_mapping) + \"\\n\")\n",
    "    return df\n",
    "\n",
    "\n",
    "def index_reset(df):\n",
    "    return pd.RangeIndex(len(df.index))\n",
    "\n",
    "\n",
    "def data_scale(df):\n",
    "    df.loc[:, '0': '1459'] = df.loc[:, '0': '1459'].div(255)\n",
    "    # df[['length']] = scale.fit_transform(\n",
    "    #     df[['length']])\n",
    "    return df\n",
    "\n",
    "\n",
    "def remove_protocol(df):\n",
    "    df = df.loc[(df['protocol'] == 'GQUIC')]\n",
    "    return df\n",
    "\n",
    "\n",
    "def remove_columns(df):\n",
    "    df = df.drop(['ip_proto', 'data', 'length'], axis=1)\n",
    "    return df\n",
    "\n",
    "\n",
    "def final_remove(df):\n",
    "    df = df.drop(['ip_src', 'ip_dst', 'protocol', 'info'], axis=1)\n",
    "    return df\n",
    "\n",
    "def get_static(df):\n",
    "    for col in ['A->B', 'B->A','total']:\n",
    "        print(\"Cột {}: \".format(col))\n",
    "        for num in [1000,550,500,450,100]:\n",
    "            total_flow = df.shape[0]\n",
    "            count = df[col][df[col] < num].count()\n",
    "            remain = total_flow - count\n",
    "            percent = round((count/float(df.shape[0])) * 100,2)\n",
    "            print(\"<{} chiếm {}% ({}/{}) con lai {})\".format(num,percent,count,df.shape[0],remain))"
   ]
  },
  {
   "cell_type": "markdown",
   "id": "1380d87c",
   "metadata": {},
   "source": [
    "# VoIP"
   ]
  },
  {
   "cell_type": "code",
   "execution_count": 2,
   "id": "48259186",
   "metadata": {},
   "outputs": [],
   "source": [
    "# get your working directory and target folder that contains all your files\n",
    "path = os.path.join(os.getcwd(), 'csv/gquic/GoogleHangout_VoIP')\n",
    "\n",
    "files = [os.path.join(path, i) for i in os.listdir(\n",
    "    path) if os.path.isfile(os.path.join(path, i))]\n",
    "\n",
    "df_GoogleHangout_VoIP = pd.DataFrame()\n",
    "\n",
    "# for every file in folder, read it and append to a empty dataframe with column filename as 'Label'\n",
    "for file in files:\n",
    "    _df_GoogleHangout_VoIP = pd.read_csv(\n",
    "        file, engine='pyarrow')\n",
    "    _df_GoogleHangout_VoIP['Label'] = \"GoogleHangout_VoIP\"\n",
    "    file_name = file.split('/')\n",
    "    _df_GoogleHangout_VoIP['File_name'] = file_name[-1]\n",
    "    df_GoogleHangout_VoIP = pd.concat(\n",
    "        [df_GoogleHangout_VoIP, _df_GoogleHangout_VoIP], ignore_index=True)\n",
    "del _df_GoogleHangout_VoIP\n"
   ]
  },
  {
   "cell_type": "code",
   "execution_count": 79,
   "id": "57c9a421",
   "metadata": {},
   "outputs": [],
   "source": [
    "df_GoogleHangout_VoIP = (df_GoogleHangout_VoIP.pipe(remove_columns).pipe(final_remove))"
   ]
  },
  {
   "cell_type": "code",
   "execution_count": 80,
   "id": "07585831",
   "metadata": {},
   "outputs": [],
   "source": [
    "df_GoogleHangout_VoIP.index = index_reset(df_GoogleHangout_VoIP)\n",
    "df_GoogleHangout_VoIP.to_feather(\n",
    "    \"GQUIC_csv/df_GoogleHangout_VoIP.feather\", )\n",
    "del df_GoogleHangout_VoIP\n"
   ]
  },
  {
   "cell_type": "markdown",
   "id": "47922dc7",
   "metadata": {},
   "source": [
    "# Music"
   ]
  },
  {
   "cell_type": "code",
   "execution_count": 81,
   "id": "7b28754a",
   "metadata": {},
   "outputs": [],
   "source": [
    "# get your working directory and target folder that contains all your files\n",
    "path = os.path.join(os.getcwd(), 'csv/gquic/Google_PlayMusic')\n",
    "\n",
    "files = [os.path.join(path, i) for i in os.listdir(\n",
    "    path) if os.path.isfile(os.path.join(path, i))]\n",
    "\n",
    "df_Google_PlayMusic = pd.DataFrame()\n",
    "\n",
    "# for every file in folder, read it and append to a empty dataframe with column filename as 'Label'\n",
    "for file in files:\n",
    "    _df_Google_PlayMusic = pd.read_csv(\n",
    "        file, engine='pyarrow')\n",
    "    # print(file)\n",
    "    _df_Google_PlayMusic['Label'] = \"Google_PlayMusic\"\n",
    "    file_name = file.split('/')\n",
    "    _df_Google_PlayMusic['File_name'] = file_name[-1]\n",
    "    df_Google_PlayMusic = pd.concat(\n",
    "        [df_Google_PlayMusic, _df_Google_PlayMusic])\n",
    "del _df_Google_PlayMusic\n"
   ]
  },
  {
   "cell_type": "code",
   "execution_count": 82,
   "id": "daafb1d4",
   "metadata": {},
   "outputs": [],
   "source": [
    "df_Google_PlayMusic = (df_Google_PlayMusic.pipe(remove_columns).pipe(final_remove))"
   ]
  },
  {
   "cell_type": "code",
   "execution_count": 83,
   "id": "df1885d3",
   "metadata": {},
   "outputs": [],
   "source": [
    "df_Google_PlayMusic.index = index_reset(df_Google_PlayMusic)\n",
    "df_Google_PlayMusic.to_feather(\"GQUIC_csv/df_Google_PlayMusic.feather\", )\n",
    "del df_Google_PlayMusic\n"
   ]
  },
  {
   "cell_type": "markdown",
   "id": "d6dc65d1",
   "metadata": {},
   "source": [
    "# File Transfer"
   ]
  },
  {
   "cell_type": "code",
   "execution_count": 84,
   "id": "c64b3efd",
   "metadata": {},
   "outputs": [],
   "source": [
    "# get your working directory and target folder that contains all your files\n",
    "path = os.path.join(os.getcwd(), 'csv/gquic/FileTransfer')\n",
    "\n",
    "files = [os.path.join(path, i) for i in os.listdir(\n",
    "    path) if os.path.isfile(os.path.join(path, i))]\n",
    "\n",
    "df_FileTransfer = pd.DataFrame()\n",
    "\n",
    "# for every file in folder, read it and append to a empty dataframe with column filename as 'Label'\n",
    "for file in files:\n",
    "    _df_FileTransfer = pd.read_csv(file, engine='pyarrow')\n",
    "    # print(file)\n",
    "    _df_FileTransfer['Label'] = \"FileTransfer\"\n",
    "    file_name = file.split('/')\n",
    "    _df_FileTransfer['File_name'] = file_name[-1]\n",
    "    df_FileTransfer = pd.concat([df_FileTransfer, _df_FileTransfer])\n",
    "del _df_FileTransfer\n"
   ]
  },
  {
   "cell_type": "code",
   "execution_count": 85,
   "id": "618bd0d8",
   "metadata": {},
   "outputs": [],
   "source": [
    "df_FileTransfer = df_FileTransfer.pipe(remove_columns).pipe(final_remove)"
   ]
  },
  {
   "cell_type": "code",
   "execution_count": 86,
   "id": "96e36640",
   "metadata": {},
   "outputs": [],
   "source": [
    "df_FileTransfer.index = index_reset(df_FileTransfer)\n",
    "df_FileTransfer.to_feather(\"GQUIC_csv/df_FileTranfer.feather\", )\n",
    "del df_FileTransfer\n"
   ]
  },
  {
   "cell_type": "markdown",
   "id": "12724525",
   "metadata": {},
   "source": [
    "# Youtube"
   ]
  },
  {
   "cell_type": "code",
   "execution_count": 87,
   "id": "38f77dad",
   "metadata": {},
   "outputs": [],
   "source": [
    "# get your working directory and target folder that contains all your files\n",
    "path = os.path.join(os.getcwd(), 'csv/gquic/Youtube')\n",
    "\n",
    "files = [os.path.join(path, i) for i in os.listdir(\n",
    "    path) if os.path.isfile(os.path.join(path, i))]\n",
    "\n",
    "df_Youtube = pd.DataFrame()\n",
    "\n",
    "# for every file in folder, read it and append to a empty dataframe with column filename as 'Label'\n",
    "for file in files:\n",
    "    _df_Youtube = pd.read_csv(file, engine='pyarrow')\n",
    "    # print(file)\n",
    "    file_name = file.split('/')\n",
    "    _df_Youtube['File_name'] = file_name[-1]\n",
    "    _df_Youtube['Label'] = \"Youtube\"\n",
    "    df_Youtube = pd.concat([df_Youtube,_df_Youtube])\n",
    "del _df_Youtube"
   ]
  },
  {
   "cell_type": "code",
   "execution_count": 88,
   "id": "8af25270",
   "metadata": {},
   "outputs": [],
   "source": [
    "df_Youtube = df_Youtube.pipe(remove_columns).pipe(final_remove)"
   ]
  },
  {
   "cell_type": "code",
   "execution_count": 89,
   "id": "2e51ec05",
   "metadata": {},
   "outputs": [],
   "source": [
    "df_Youtube.index = index_reset(df_Youtube)\n",
    "df_Youtube.to_feather(\n",
    "    \"GQUIC_csv/df_Youtube.feather\", )\n",
    "del df_Youtube"
   ]
  },
  {
   "cell_type": "markdown",
   "id": "38a5052b",
   "metadata": {},
   "source": [
    "# Final"
   ]
  },
  {
   "cell_type": "markdown",
   "id": "52b249ba",
   "metadata": {},
   "source": [
    "## Gop du lieu"
   ]
  },
  {
   "cell_type": "code",
   "execution_count": 92,
   "id": "4740d621",
   "metadata": {},
   "outputs": [],
   "source": [
    "path = os.path.join(os.getcwd(),  '/home/onos/FL/Data_Processing/GQUIC_csv')\n",
    "all_files = glob.glob(os.path.join(path, \"*.feather\"))\n",
    "df_GQUIC = pd.concat((pd.read_feather(f) for f in all_files), ignore_index=True)\n"
   ]
  },
  {
   "cell_type": "code",
   "execution_count": 93,
   "id": "ebb74731",
   "metadata": {},
   "outputs": [],
   "source": [
    "df_sorted = df_GQUIC.sort_values(['stream_id', 'File_name'])\n",
    "del df_GQUIC\n",
    "df_sorted['flow_id'] = (df_sorted.groupby(['stream_id', 'File_name']).cumcount()==0).astype(int)\n",
    "df_sorted['flow_id'] = df_sorted['flow_id'].cumsum()"
   ]
  },
  {
   "cell_type": "code",
   "execution_count": 95,
   "id": "28711db6",
   "metadata": {},
   "outputs": [],
   "source": [
    "df_sorted.index = pd.RangeIndex(len(df_sorted.index))\n",
    "df_sorted.to_feather('GQUIC_full.feather')\n",
    "del df_sorted"
   ]
  },
  {
   "cell_type": "markdown",
   "id": "af60cb7c",
   "metadata": {},
   "source": [
    "## Loc flow <500 packet"
   ]
  },
  {
   "cell_type": "code",
   "execution_count": 2,
   "id": "df43c8ec",
   "metadata": {},
   "outputs": [],
   "source": [
    "df_sorted = pd.read_feather('GQUIC_full.feather')\n"
   ]
  },
  {
   "cell_type": "code",
   "execution_count": 3,
   "id": "07c1bc77",
   "metadata": {},
   "outputs": [],
   "source": [
    "df_summary = pd.read_feather('sumary.feather')"
   ]
  },
  {
   "cell_type": "code",
   "execution_count": 7,
   "id": "9e36d4a5",
   "metadata": {},
   "outputs": [],
   "source": [
    "# df_summary['File_name'] = df_summary['File_name'].str.replace(r'_summary','')"
   ]
  },
  {
   "cell_type": "code",
   "execution_count": 9,
   "id": "9139e615",
   "metadata": {},
   "outputs": [],
   "source": [
    "# df_summary.to_feather('sumary.feather')\n",
    "# del df_summary"
   ]
  },
  {
   "cell_type": "code",
   "execution_count": 4,
   "id": "ef50108b",
   "metadata": {},
   "outputs": [],
   "source": [
    "df_summary.drop(['flow_id'],axis=1,inplace=True)"
   ]
  },
  {
   "cell_type": "code",
   "execution_count": 5,
   "id": "d1cb8cea",
   "metadata": {},
   "outputs": [],
   "source": [
    "df_sorted['temp'] = df_sorted['stream_id'].astype(str)+df_sorted['File_name'].astype(str)\n",
    "df_summary['temp'] = df_summary['stream_id'].astype(str)+df_summary['File_name'].astype(str)\n"
   ]
  },
  {
   "cell_type": "code",
   "execution_count": 6,
   "id": "a8521fa9",
   "metadata": {},
   "outputs": [
    {
     "name": "stderr",
     "output_type": "stream",
     "text": [
      "/tmp/ipykernel_42657/3807377447.py:1: FutureWarning: In a future version of pandas all arguments of DataFrame.drop except for the argument 'labels' will be keyword-only.\n",
      "  df_summary = df_summary[df_summary['temp'].isin(df_sorted['temp'])].drop('temp',1)\n"
     ]
    }
   ],
   "source": [
    "df_summary = df_summary[df_summary['temp'].isin(df_sorted['temp'])].drop('temp',1)"
   ]
  },
  {
   "cell_type": "code",
   "execution_count": 7,
   "id": "acae45ed",
   "metadata": {},
   "outputs": [],
   "source": [
    "df_summary = df_summary.sort_values(['stream_id', 'File_name'])\n",
    "df_summary['flow_id'] = (df_summary.groupby(['stream_id', 'File_name']).cumcount()==0).astype(int)\n",
    "df_summary['flow_id'] = df_summary['flow_id'].cumsum()"
   ]
  },
  {
   "cell_type": "code",
   "execution_count": 8,
   "id": "72dd8d56",
   "metadata": {},
   "outputs": [],
   "source": [
    "df_summary_500 = df_summary[df_summary['total'] > 500]"
   ]
  },
  {
   "cell_type": "code",
   "execution_count": 9,
   "id": "c034c120",
   "metadata": {},
   "outputs": [],
   "source": [
    "flow_id_list = df_summary_500['flow_id'].to_list()"
   ]
  },
  {
   "cell_type": "code",
   "execution_count": 19,
   "id": "9aa979f4",
   "metadata": {},
   "outputs": [
    {
     "data": {
      "text/plain": [
       "16344"
      ]
     },
     "execution_count": 19,
     "metadata": {},
     "output_type": "execute_result"
    }
   ],
   "source": [
    "len(flow_id_list)"
   ]
  },
  {
   "cell_type": "code",
   "execution_count": 12,
   "id": "b60325b3",
   "metadata": {},
   "outputs": [],
   "source": [
    "value_c = df_sorted['flow_id'].value_counts()"
   ]
  },
  {
   "cell_type": "code",
   "execution_count": 14,
   "id": "0fe480fa",
   "metadata": {},
   "outputs": [
    {
     "data": {
      "text/plain": [
       "138430"
      ]
     },
     "execution_count": 14,
     "metadata": {},
     "output_type": "execute_result"
    }
   ],
   "source": [
    "df_sorted['flow_id'].nunique()"
   ]
  },
  {
   "cell_type": "code",
   "execution_count": 15,
   "id": "ab6d3938",
   "metadata": {},
   "outputs": [
    {
     "data": {
      "text/plain": [
       "138430"
      ]
     },
     "execution_count": 15,
     "metadata": {},
     "output_type": "execute_result"
    }
   ],
   "source": [
    "df_summary['flow_id'].nunique()"
   ]
  },
  {
   "cell_type": "code",
   "execution_count": 20,
   "id": "68c4f660",
   "metadata": {},
   "outputs": [],
   "source": [
    "count_list = value_c[value_c<20].index.to_list()"
   ]
  },
  {
   "cell_type": "code",
   "execution_count": 22,
   "id": "33fbce6e",
   "metadata": {},
   "outputs": [],
   "source": [
    "choice_list = list(set(count_list).intersection(flow_id_list))"
   ]
  },
  {
   "cell_type": "code",
   "execution_count": 23,
   "id": "2ad0d967",
   "metadata": {},
   "outputs": [
    {
     "data": {
      "text/plain": [
       "5468"
      ]
     },
     "execution_count": 23,
     "metadata": {},
     "output_type": "execute_result"
    }
   ],
   "source": [
    "len(choice_list)"
   ]
  },
  {
   "cell_type": "code",
   "execution_count": 29,
   "id": "eb02744a",
   "metadata": {},
   "outputs": [
    {
     "data": {
      "text/plain": [
       "23"
      ]
     },
     "execution_count": 29,
     "metadata": {},
     "output_type": "execute_result"
    }
   ],
   "source": [
    "choice_list[2]"
   ]
  },
  {
   "cell_type": "code",
   "execution_count": 30,
   "id": "26c35178",
   "metadata": {},
   "outputs": [
    {
     "data": {
      "text/html": [
       "<div>\n",
       "<style scoped>\n",
       "    .dataframe tbody tr th:only-of-type {\n",
       "        vertical-align: middle;\n",
       "    }\n",
       "\n",
       "    .dataframe tbody tr th {\n",
       "        vertical-align: top;\n",
       "    }\n",
       "\n",
       "    .dataframe thead th {\n",
       "        text-align: right;\n",
       "    }\n",
       "</style>\n",
       "<table border=\"1\" class=\"dataframe\">\n",
       "  <thead>\n",
       "    <tr style=\"text-align: right;\">\n",
       "      <th></th>\n",
       "      <th>l4_proto</th>\n",
       "      <th>stream_id</th>\n",
       "      <th>A-&gt;B</th>\n",
       "      <th>B-&gt;A</th>\n",
       "      <th>total</th>\n",
       "      <th>Label</th>\n",
       "      <th>File_name</th>\n",
       "      <th>flow_id</th>\n",
       "    </tr>\n",
       "  </thead>\n",
       "  <tbody>\n",
       "    <tr>\n",
       "      <th>29</th>\n",
       "      <td>udp</td>\n",
       "      <td>0</td>\n",
       "      <td>5918</td>\n",
       "      <td>813</td>\n",
       "      <td>6731</td>\n",
       "      <td>Google_PlayMusic</td>\n",
       "      <td>Google_Play_Music_00001_20180329072020.csv</td>\n",
       "      <td>23</td>\n",
       "    </tr>\n",
       "  </tbody>\n",
       "</table>\n",
       "</div>"
      ],
      "text/plain": [
       "   l4_proto  stream_id  A->B  B->A  total             Label  \\\n",
       "29      udp          0  5918   813   6731  Google_PlayMusic   \n",
       "\n",
       "                                     File_name  flow_id  \n",
       "29  Google_Play_Music_00001_20180329072020.csv       23  "
      ]
     },
     "execution_count": 30,
     "metadata": {},
     "output_type": "execute_result"
    }
   ],
   "source": [
    "df_summary[df_summary['flow_id'] == 23]"
   ]
  },
  {
   "cell_type": "code",
   "execution_count": 27,
   "id": "2e64d29a",
   "metadata": {},
   "outputs": [],
   "source": [
    "df_sorted.drop(['temp'],axis=1,inplace=True)"
   ]
  },
  {
   "cell_type": "code",
   "execution_count": 31,
   "id": "b802329e",
   "metadata": {},
   "outputs": [
    {
     "data": {
      "text/html": [
       "<div>\n",
       "<style scoped>\n",
       "    .dataframe tbody tr th:only-of-type {\n",
       "        vertical-align: middle;\n",
       "    }\n",
       "\n",
       "    .dataframe tbody tr th {\n",
       "        vertical-align: top;\n",
       "    }\n",
       "\n",
       "    .dataframe thead th {\n",
       "        text-align: right;\n",
       "    }\n",
       "</style>\n",
       "<table border=\"1\" class=\"dataframe\">\n",
       "  <thead>\n",
       "    <tr style=\"text-align: right;\">\n",
       "      <th></th>\n",
       "      <th>time_epoch</th>\n",
       "      <th>frame_number</th>\n",
       "      <th>stream_id</th>\n",
       "      <th>0</th>\n",
       "      <th>1</th>\n",
       "      <th>2</th>\n",
       "      <th>3</th>\n",
       "      <th>4</th>\n",
       "      <th>5</th>\n",
       "      <th>6</th>\n",
       "      <th>...</th>\n",
       "      <th>1453</th>\n",
       "      <th>1454</th>\n",
       "      <th>1455</th>\n",
       "      <th>1456</th>\n",
       "      <th>1457</th>\n",
       "      <th>1458</th>\n",
       "      <th>1459</th>\n",
       "      <th>Label</th>\n",
       "      <th>File_name</th>\n",
       "      <th>flow_id</th>\n",
       "    </tr>\n",
       "  </thead>\n",
       "  <tbody>\n",
       "    <tr>\n",
       "      <th>410</th>\n",
       "      <td>1.522308e+09</td>\n",
       "      <td>1</td>\n",
       "      <td>0</td>\n",
       "      <td>12</td>\n",
       "      <td>86</td>\n",
       "      <td>237</td>\n",
       "      <td>219</td>\n",
       "      <td>167</td>\n",
       "      <td>209</td>\n",
       "      <td>219</td>\n",
       "      <td>...</td>\n",
       "      <td>0</td>\n",
       "      <td>0</td>\n",
       "      <td>0</td>\n",
       "      <td>0</td>\n",
       "      <td>0</td>\n",
       "      <td>0</td>\n",
       "      <td>0</td>\n",
       "      <td>Google_PlayMusic</td>\n",
       "      <td>Google_Play_Music_00001_20180329072020.csv</td>\n",
       "      <td>23</td>\n",
       "    </tr>\n",
       "    <tr>\n",
       "      <th>411</th>\n",
       "      <td>1.522308e+09</td>\n",
       "      <td>2</td>\n",
       "      <td>0</td>\n",
       "      <td>0</td>\n",
       "      <td>4</td>\n",
       "      <td>127</td>\n",
       "      <td>223</td>\n",
       "      <td>97</td>\n",
       "      <td>167</td>\n",
       "      <td>113</td>\n",
       "      <td>...</td>\n",
       "      <td>0</td>\n",
       "      <td>0</td>\n",
       "      <td>0</td>\n",
       "      <td>0</td>\n",
       "      <td>0</td>\n",
       "      <td>0</td>\n",
       "      <td>0</td>\n",
       "      <td>Google_PlayMusic</td>\n",
       "      <td>Google_Play_Music_00001_20180329072020.csv</td>\n",
       "      <td>23</td>\n",
       "    </tr>\n",
       "    <tr>\n",
       "      <th>412</th>\n",
       "      <td>1.522308e+09</td>\n",
       "      <td>3</td>\n",
       "      <td>0</td>\n",
       "      <td>12</td>\n",
       "      <td>86</td>\n",
       "      <td>237</td>\n",
       "      <td>219</td>\n",
       "      <td>167</td>\n",
       "      <td>209</td>\n",
       "      <td>219</td>\n",
       "      <td>...</td>\n",
       "      <td>0</td>\n",
       "      <td>0</td>\n",
       "      <td>0</td>\n",
       "      <td>0</td>\n",
       "      <td>0</td>\n",
       "      <td>0</td>\n",
       "      <td>0</td>\n",
       "      <td>Google_PlayMusic</td>\n",
       "      <td>Google_Play_Music_00001_20180329072020.csv</td>\n",
       "      <td>23</td>\n",
       "    </tr>\n",
       "  </tbody>\n",
       "</table>\n",
       "<p>3 rows × 1466 columns</p>\n",
       "</div>"
      ],
      "text/plain": [
       "       time_epoch  frame_number  stream_id   0   1    2    3    4    5    6  \\\n",
       "410  1.522308e+09             1          0  12  86  237  219  167  209  219   \n",
       "411  1.522308e+09             2          0   0   4  127  223   97  167  113   \n",
       "412  1.522308e+09             3          0  12  86  237  219  167  209  219   \n",
       "\n",
       "     ...  1453  1454  1455  1456  1457  1458  1459             Label  \\\n",
       "410  ...     0     0     0     0     0     0     0  Google_PlayMusic   \n",
       "411  ...     0     0     0     0     0     0     0  Google_PlayMusic   \n",
       "412  ...     0     0     0     0     0     0     0  Google_PlayMusic   \n",
       "\n",
       "                                      File_name  flow_id  \n",
       "410  Google_Play_Music_00001_20180329072020.csv       23  \n",
       "411  Google_Play_Music_00001_20180329072020.csv       23  \n",
       "412  Google_Play_Music_00001_20180329072020.csv       23  \n",
       "\n",
       "[3 rows x 1466 columns]"
      ]
     },
     "execution_count": 31,
     "metadata": {},
     "output_type": "execute_result"
    }
   ],
   "source": [
    "df_sorted[df_sorted['flow_id'] == 23]"
   ]
  },
  {
   "cell_type": "code",
   "execution_count": 18,
   "id": "a79c02d0",
   "metadata": {},
   "outputs": [],
   "source": [
    "df_sorted_500 = df_sorted[df_sorted['flow_id'].isin(flow_id_list)]"
   ]
  },
  {
   "cell_type": "code",
   "execution_count": 19,
   "id": "e9d76a10",
   "metadata": {},
   "outputs": [
    {
     "data": {
      "text/plain": [
       "count    138430.000000\n",
       "mean         16.162371\n",
       "std           4.883958\n",
       "min           1.000000\n",
       "25%          12.000000\n",
       "50%          20.000000\n",
       "75%          20.000000\n",
       "max          20.000000\n",
       "Name: flow_id, dtype: float64"
      ]
     },
     "execution_count": 19,
     "metadata": {},
     "output_type": "execute_result"
    }
   ],
   "source": [
    "df_sorted['flow_id'].value_counts().describe()"
   ]
  },
  {
   "cell_type": "code",
   "execution_count": 115,
   "id": "ffc47901",
   "metadata": {},
   "outputs": [
    {
     "name": "stderr",
     "output_type": "stream",
     "text": [
      "/tmp/ipykernel_86328/2763499091.py:1: UserWarning: Boolean Series key will be reindexed to match DataFrame index.\n",
      "  df_sorted_500[df_sorted_500['flow_id'].value_counts() < 20]\n"
     ]
    },
    {
     "ename": "IndexingError",
     "evalue": "Unalignable boolean Series provided as indexer (index of the boolean Series and of the indexed object do not match).",
     "output_type": "error",
     "traceback": [
      "\u001b[0;31m---------------------------------------------------------------------------\u001b[0m",
      "\u001b[0;31mIndexingError\u001b[0m                             Traceback (most recent call last)",
      "Cell \u001b[0;32mIn [115], line 1\u001b[0m\n\u001b[0;32m----> 1\u001b[0m df_sorted_500[df_sorted_500[\u001b[39m'\u001b[39;49m\u001b[39mflow_id\u001b[39;49m\u001b[39m'\u001b[39;49m]\u001b[39m.\u001b[39;49mvalue_counts() \u001b[39m<\u001b[39;49m \u001b[39m20\u001b[39;49m]\n",
      "File \u001b[0;32m~/FL/venv/lib/python3.9/site-packages/pandas/core/frame.py:3496\u001b[0m, in \u001b[0;36mDataFrame.__getitem__\u001b[0;34m(self, key)\u001b[0m\n\u001b[1;32m   3494\u001b[0m \u001b[39m# Do we have a (boolean) 1d indexer?\u001b[39;00m\n\u001b[1;32m   3495\u001b[0m \u001b[39mif\u001b[39;00m com\u001b[39m.\u001b[39mis_bool_indexer(key):\n\u001b[0;32m-> 3496\u001b[0m     \u001b[39mreturn\u001b[39;00m \u001b[39mself\u001b[39;49m\u001b[39m.\u001b[39;49m_getitem_bool_array(key)\n\u001b[1;32m   3498\u001b[0m \u001b[39m# We are left with two options: a single key, and a collection of keys,\u001b[39;00m\n\u001b[1;32m   3499\u001b[0m \u001b[39m# We interpret tuples as collections only for non-MultiIndex\u001b[39;00m\n\u001b[1;32m   3500\u001b[0m is_single_key \u001b[39m=\u001b[39m \u001b[39misinstance\u001b[39m(key, \u001b[39mtuple\u001b[39m) \u001b[39mor\u001b[39;00m \u001b[39mnot\u001b[39;00m is_list_like(key)\n",
      "File \u001b[0;32m~/FL/venv/lib/python3.9/site-packages/pandas/core/frame.py:3549\u001b[0m, in \u001b[0;36mDataFrame._getitem_bool_array\u001b[0;34m(self, key)\u001b[0m\n\u001b[1;32m   3543\u001b[0m     \u001b[39mraise\u001b[39;00m \u001b[39mValueError\u001b[39;00m(\n\u001b[1;32m   3544\u001b[0m         \u001b[39mf\u001b[39m\u001b[39m\"\u001b[39m\u001b[39mItem wrong length \u001b[39m\u001b[39m{\u001b[39;00m\u001b[39mlen\u001b[39m(key)\u001b[39m}\u001b[39;00m\u001b[39m instead of \u001b[39m\u001b[39m{\u001b[39;00m\u001b[39mlen\u001b[39m(\u001b[39mself\u001b[39m\u001b[39m.\u001b[39mindex)\u001b[39m}\u001b[39;00m\u001b[39m.\u001b[39m\u001b[39m\"\u001b[39m\n\u001b[1;32m   3545\u001b[0m     )\n\u001b[1;32m   3547\u001b[0m \u001b[39m# check_bool_indexer will throw exception if Series key cannot\u001b[39;00m\n\u001b[1;32m   3548\u001b[0m \u001b[39m# be reindexed to match DataFrame rows\u001b[39;00m\n\u001b[0;32m-> 3549\u001b[0m key \u001b[39m=\u001b[39m check_bool_indexer(\u001b[39mself\u001b[39;49m\u001b[39m.\u001b[39;49mindex, key)\n\u001b[1;32m   3550\u001b[0m indexer \u001b[39m=\u001b[39m key\u001b[39m.\u001b[39mnonzero()[\u001b[39m0\u001b[39m]\n\u001b[1;32m   3551\u001b[0m \u001b[39mreturn\u001b[39;00m \u001b[39mself\u001b[39m\u001b[39m.\u001b[39m_take_with_is_copy(indexer, axis\u001b[39m=\u001b[39m\u001b[39m0\u001b[39m)\n",
      "File \u001b[0;32m~/FL/venv/lib/python3.9/site-packages/pandas/core/indexing.py:2388\u001b[0m, in \u001b[0;36mcheck_bool_indexer\u001b[0;34m(index, key)\u001b[0m\n\u001b[1;32m   2386\u001b[0m     mask \u001b[39m=\u001b[39m isna(result\u001b[39m.\u001b[39m_values)\n\u001b[1;32m   2387\u001b[0m     \u001b[39mif\u001b[39;00m mask\u001b[39m.\u001b[39many():\n\u001b[0;32m-> 2388\u001b[0m         \u001b[39mraise\u001b[39;00m IndexingError(\n\u001b[1;32m   2389\u001b[0m             \u001b[39m\"\u001b[39m\u001b[39mUnalignable boolean Series provided as \u001b[39m\u001b[39m\"\u001b[39m\n\u001b[1;32m   2390\u001b[0m             \u001b[39m\"\u001b[39m\u001b[39mindexer (index of the boolean Series and of \u001b[39m\u001b[39m\"\u001b[39m\n\u001b[1;32m   2391\u001b[0m             \u001b[39m\"\u001b[39m\u001b[39mthe indexed object do not match).\u001b[39m\u001b[39m\"\u001b[39m\n\u001b[1;32m   2392\u001b[0m         )\n\u001b[1;32m   2393\u001b[0m     \u001b[39mreturn\u001b[39;00m result\u001b[39m.\u001b[39mastype(\u001b[39mbool\u001b[39m)\u001b[39m.\u001b[39m_values\n\u001b[1;32m   2394\u001b[0m \u001b[39mif\u001b[39;00m is_object_dtype(key):\n\u001b[1;32m   2395\u001b[0m     \u001b[39m# key might be object-dtype bool, check_array_indexer needs bool array\u001b[39;00m\n",
      "\u001b[0;31mIndexingError\u001b[0m: Unalignable boolean Series provided as indexer (index of the boolean Series and of the indexed object do not match)."
     ]
    }
   ],
   "source": [
    "df_sorted_500[df_sorted_500['flow_id'].value_counts() < 20]"
   ]
  },
  {
   "cell_type": "code",
   "execution_count": 16,
   "id": "600069f8",
   "metadata": {},
   "outputs": [
    {
     "data": {
      "text/plain": [
       "47.335115220689154"
      ]
     },
     "execution_count": 16,
     "metadata": {},
     "output_type": "execute_result"
    }
   ],
   "source": [
    "print(round((65526.0/138430.0)*100),'%')\n",
    "sub_df = df_sorted[df_sorted.groupby('flow_id').flow_id.transform('count')>19].copy()\n",
    "del df_sorted\n",
    "sub_df.index = pd.RangeIndex(len(sub_df.index))\n",
    "sub_df.to_feather('sub_df.feather')\n",
    "del sub_df"
   ]
  },
  {
   "cell_type": "markdown",
   "id": "764c57d4",
   "metadata": {},
   "source": [
    "## Chuan hoa"
   ]
  },
  {
   "cell_type": "code",
   "execution_count": 7,
   "id": "22d79700",
   "metadata": {},
   "outputs": [],
   "source": [
    "df_sorted = pd.read_feather('sub_df.feather')"
   ]
  },
  {
   "cell_type": "code",
   "execution_count": 8,
   "id": "d25bd8ca",
   "metadata": {},
   "outputs": [],
   "source": [
    "_,small_sample = train_test_split(df_sorted,frac=0.01)"
   ]
  },
  {
   "cell_type": "code",
   "execution_count": 9,
   "id": "7f7f9336",
   "metadata": {},
   "outputs": [],
   "source": [
    "small_sample.to_feather(\"data_sample.feather\",)"
   ]
  },
  {
   "cell_type": "code",
   "execution_count": 8,
   "id": "05c0a18a",
   "metadata": {},
   "outputs": [],
   "source": [
    "df_sorted = (df_sorted.pipe(label_encoding, ['Label']))"
   ]
  },
  {
   "cell_type": "code",
   "execution_count": 9,
   "id": "4231eadd",
   "metadata": {},
   "outputs": [
    {
     "ename": "NameError",
     "evalue": "name 'sorted' is not defined",
     "output_type": "error",
     "traceback": [
      "\u001b[0;31m---------------------------------------------------------------------------\u001b[0m",
      "\u001b[0;31mNameError\u001b[0m                                 Traceback (most recent call last)",
      "Cell \u001b[0;32mIn [9], line 2\u001b[0m\n\u001b[1;32m      1\u001b[0m df_sorted\u001b[39m.\u001b[39mto_feather(\u001b[39m'\u001b[39m\u001b[39mdf_with_label_encoding.feather\u001b[39m\u001b[39m'\u001b[39m)\n\u001b[0;32m----> 2\u001b[0m \u001b[39mdel\u001b[39;00m \u001b[39msorted\u001b[39m\n",
      "\u001b[0;31mNameError\u001b[0m: name 'sorted' is not defined"
     ]
    }
   ],
   "source": [
    "df_sorted.to_feather('df_with_label_encoding.feather')\n",
    "\n",
    "del df_sorted"
   ]
  },
  {
   "cell_type": "markdown",
   "id": "cd561d20",
   "metadata": {},
   "source": [
    "## Chia du lieu cho test case"
   ]
  },
  {
   "cell_type": "code",
   "execution_count": 3,
   "id": "b2b799c3",
   "metadata": {},
   "outputs": [],
   "source": [
    "df_sorted = pd.read_feather('df_with_label_encoding.feather')"
   ]
  },
  {
   "cell_type": "code",
   "execution_count": 4,
   "id": "8bb347bc",
   "metadata": {},
   "outputs": [
    {
     "name": "stdout",
     "output_type": "stream",
     "text": [
      "14581\n",
      "58323\n"
     ]
    }
   ],
   "source": [
    "training_data, test_case = train_test_split(df_sorted, 0.2)\n",
    "print(test_case['flow_id'].nunique())\n",
    "print(training_data['flow_id'].nunique())"
   ]
  },
  {
   "cell_type": "code",
   "execution_count": 5,
   "id": "04ec68cd",
   "metadata": {},
   "outputs": [],
   "source": [
    "del df_sorted"
   ]
  },
  {
   "cell_type": "code",
   "execution_count": 6,
   "id": "321ab050",
   "metadata": {},
   "outputs": [],
   "source": [
    "training_data = training_data.drop(['time_epoch', 'frame_number', 'File_name','stream_id'],axis=1)\n",
    "train, test = train_test_split(training_data, frac=0.2)\n",
    "del training_data\n",
    "train = train.drop(['flow_id'],axis=1)\n",
    "train.index = index_reset(train)\n",
    "train.to_feather('GQUIC_data.feather')\n",
    "del train\n",
    "test = test.sort_values(['flow_id'])\n",
    "test.index = index_reset(test)\n",
    "test.to_feather(\"GQUIC_test.feather\")\n",
    "del test"
   ]
  },
  {
   "cell_type": "code",
   "execution_count": null,
   "id": "f6518ab9",
   "metadata": {},
   "outputs": [],
   "source": [
    "# data_bytes = ['9','31','63','127','255','511','1023']\n",
    "# for each_byte in data_bytes:\n",
    "#     data_train = pd.concat([df_sorted.loc[:, : each_byte],df_sorted.iloc[:,-1:]],axis=1)\n",
    "#     # data_test = pd.concat([df_sorted.loc[:, : each_byte ],df_sorted.iloc[:,-1:]],axis=1)\n",
    "#     each_byte = str(int(each_byte)+1)\n",
    "#     data_train_name = \"GQUIC_data_\" + each_byte +\".feather\"\n",
    "#     # data_test_name = \"GQUIC_test_\" + each_byte +\".feather\"\n",
    "#     data_train.to_feather(data_train_name,)\n",
    "#     # data_test.to_feather(data_test_name,)"
   ]
  },
  {
   "cell_type": "code",
   "execution_count": null,
   "id": "dd4183a1",
   "metadata": {},
   "outputs": [],
   "source": [
    "# first_column = test.pop('flow_id')\n",
    "# test.insert(0, 'flow_id', first_column)"
   ]
  },
  {
   "cell_type": "code",
   "execution_count": null,
   "id": "f6c51872",
   "metadata": {},
   "outputs": [],
   "source": [
    "# del train,test,df_sorted,data_train,data_test"
   ]
  },
  {
   "cell_type": "code",
   "execution_count": null,
   "id": "c9a6bfd1",
   "metadata": {},
   "outputs": [],
   "source": [
    "# test_case = test_case[['time_epoch', 'frame_number', 'stream_id', 'length', 'Label', 'File_name', 'flow_id']]\n",
    "# split = 5\n",
    "# total_data_count = test_case.shape[0]\n",
    "# data_per_set = int(np.floor(total_data_count/split))\n",
    "# DataFrameDict = {}\n",
    "# for i in range(1, split+1):\n",
    "#     client_name = \"client_\" + str(i)\n",
    "#     start = data_per_set * (i-1)\n",
    "#     end = data_per_set * i\n",
    "\n",
    "#     print(f\"Adding data from {start} to {end} for client : {client_name}\")\n",
    "#     DataFrameDict[client_name] = test_case[start:end]\n",
    "# for df in DataFrameDict.keys():\n",
    "#     csv_path = \"gquic_test_case/\"+df + \".feather\"\n",
    "#     DataFrameDict[df].to_feather(csv_path,)"
   ]
  },
  {
   "cell_type": "code",
   "execution_count": null,
   "id": "21aeb359",
   "metadata": {},
   "outputs": [],
   "source": [
    "# train.to_feather(\"GQUIC_data.feather\", )\n",
    "# test.to_feather(\"GQUIC_data_test.feather\",)\n"
   ]
  },
  {
   "cell_type": "code",
   "execution_count": null,
   "id": "6d9dea2e",
   "metadata": {},
   "outputs": [],
   "source": [
    "# train.to_feather('GQUIC_data_2label.feather', )\n",
    "# test.to_feather('GQUIC_test_2label.feather', )\n"
   ]
  },
  {
   "cell_type": "code",
   "execution_count": null,
   "id": "43d45486",
   "metadata": {},
   "outputs": [],
   "source": [
    "# index = 0\n",
    "# with pd.read_csv(\"GQUIC_data.feather\", chunksize=1000000) as reader:\n",
    "#     for data in reader:\n",
    "#         path = '/home/onos/FL/Data Processing/GQUIC_arrow/GQUIC_data({}).arrow'.format(index)\n",
    "#         feather.write_feather(data, path)\n",
    "#         index += 1\n"
   ]
  },
  {
   "cell_type": "code",
   "execution_count": null,
   "id": "f56476ef",
   "metadata": {},
   "outputs": [],
   "source": [
    "# df_GQUIC.info()\n",
    "# df_GQUIC.head(2)\n",
    "# df_GQUIC = df_GQUIC.astype('float16')\n",
    "# df_GQUIC.head(2)\n"
   ]
  },
  {
   "cell_type": "code",
   "execution_count": null,
   "id": "23439818",
   "metadata": {},
   "outputs": [],
   "source": [
    "# df_GQUIC.info()\n"
   ]
  },
  {
   "cell_type": "code",
   "execution_count": null,
   "id": "ea03c708",
   "metadata": {},
   "outputs": [],
   "source": [
    "# df_GQUIC[\"Label\"] = df_GQUIC[\"Label\"].astype(\"int8\")\n"
   ]
  },
  {
   "cell_type": "code",
   "execution_count": null,
   "id": "36f18859",
   "metadata": {},
   "outputs": [],
   "source": [
    "# df_GQUIC.info()\n"
   ]
  },
  {
   "cell_type": "code",
   "execution_count": null,
   "id": "78141992",
   "metadata": {},
   "outputs": [],
   "source": [
    "# df = pd.read_csv(\"iris.feather\")\n"
   ]
  },
  {
   "cell_type": "code",
   "execution_count": null,
   "id": "e43ac82e",
   "metadata": {},
   "outputs": [],
   "source": [
    "# df.info()\n"
   ]
  },
  {
   "cell_type": "code",
   "execution_count": null,
   "id": "8292e8c4",
   "metadata": {},
   "outputs": [],
   "source": [
    "# df = (df.pipe(label_encoding, ['variety']))\n"
   ]
  },
  {
   "cell_type": "code",
   "execution_count": null,
   "id": "0b7b38fe",
   "metadata": {},
   "outputs": [],
   "source": [
    "# df.info()\n"
   ]
  },
  {
   "cell_type": "code",
   "execution_count": null,
   "id": "1b71c975",
   "metadata": {},
   "outputs": [],
   "source": [
    "# df.to_feather(\"iris.feather\")\n"
   ]
  }
 ],
 "metadata": {
  "kernelspec": {
   "display_name": "venv",
   "language": "python",
   "name": "python3"
  },
  "language_info": {
   "codemirror_mode": {
    "name": "ipython",
    "version": 3
   },
   "file_extension": ".py",
   "mimetype": "text/x-python",
   "name": "python",
   "nbconvert_exporter": "python",
   "pygments_lexer": "ipython3",
   "version": "3.9.14"
  },
  "latex_envs": {
   "LaTeX_envs_menu_present": true,
   "autoclose": false,
   "autocomplete": true,
   "bibliofile": "biblio.bib",
   "cite_by": "apalike",
   "current_citInitial": 1,
   "eqLabelWithNumbers": true,
   "eqNumInitial": 1,
   "hotkeys": {
    "equation": "Ctrl-E",
    "itemize": "Ctrl-I"
   },
   "labels_anchors": false,
   "latex_user_defs": false,
   "report_style_numbering": false,
   "user_envs_cfg": false
  },
  "toc": {
   "base_numbering": 1,
   "nav_menu": {},
   "number_sections": true,
   "sideBar": true,
   "skip_h1_title": false,
   "title_cell": "Table of Contents",
   "title_sidebar": "Contents",
   "toc_cell": false,
   "toc_position": {},
   "toc_section_display": true,
   "toc_window_display": false
  },
  "vscode": {
   "interpreter": {
    "hash": "addd2fdd290c7c34336629330a81969ca1164c4689498c0841c953bddca49006"
   }
  }
 },
 "nbformat": 4,
 "nbformat_minor": 5
}
