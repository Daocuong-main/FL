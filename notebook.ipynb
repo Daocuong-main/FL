{
  "cells": [
    {
      "cell_type": "code",
      "execution_count": 1,
      "metadata": {
        "id": "bZAnYwAkdAFl"
      },
      "outputs": [
        {
          "name": "stderr",
          "output_type": "stream",
          "text": [
            "2022-10-28 00:02:04.391327: I tensorflow/core/platform/cpu_feature_guard.cc:193] This TensorFlow binary is optimized with oneAPI Deep Neural Network Library (oneDNN) to use the following CPU instructions in performance-critical operations:  AVX2 AVX512F FMA\n",
            "To enable them in other operations, rebuild TensorFlow with the appropriate compiler flags.\n",
            "2022-10-28 00:02:04.533565: W tensorflow/stream_executor/platform/default/dso_loader.cc:64] Could not load dynamic library 'libcudart.so.11.0'; dlerror: libcudart.so.11.0: cannot open shared object file: No such file or directory\n",
            "2022-10-28 00:02:04.533593: I tensorflow/stream_executor/cuda/cudart_stub.cc:29] Ignore above cudart dlerror if you do not have a GPU set up on your machine.\n",
            "2022-10-28 00:02:04.562180: E tensorflow/stream_executor/cuda/cuda_blas.cc:2981] Unable to register cuBLAS factory: Attempting to register factory for plugin cuBLAS when one has already been registered\n",
            "2022-10-28 00:02:05.235383: W tensorflow/stream_executor/platform/default/dso_loader.cc:64] Could not load dynamic library 'libnvinfer.so.7'; dlerror: libnvinfer.so.7: cannot open shared object file: No such file or directory\n",
            "2022-10-28 00:02:05.235470: W tensorflow/stream_executor/platform/default/dso_loader.cc:64] Could not load dynamic library 'libnvinfer_plugin.so.7'; dlerror: libnvinfer_plugin.so.7: cannot open shared object file: No such file or directory\n",
            "2022-10-28 00:02:05.235478: W tensorflow/compiler/tf2tensorrt/utils/py_utils.cc:38] TF-TRT Warning: Cannot dlopen some TensorRT libraries. If you would like to use Nvidia GPU with TensorRT, please make sure the missing libraries mentioned above are installed properly.\n"
          ]
        }
      ],
      "source": [
        "from time import time, localtime\n",
        "import numpy as np\n",
        "from utils import plot_graph\n",
        "import tensorflow_federated as tff\n",
        "import tensorflow as tf\n",
        "from sklearn.preprocessing import MinMaxScaler\n",
        "from sklearn.model_selection import train_test_split\n",
        "from keras import losses, metrics, optimizers\n",
        "import random\n",
        "import pandas as pd\n",
        "import sys\n",
        "import matplotlib.pyplot as plt\n",
        "import nest_asyncio\n",
        "from pathlib import Path\n",
        "from checkpoint_manager import FileCheckpointManager\n",
        "nest_asyncio.apply()\n",
        "SEED = 1337\n",
        "tf.random.set_seed(SEED)\n"
      ]
    },
    {
      "cell_type": "code",
      "execution_count": 2,
      "metadata": {
        "id": "ZYYi42tYdAFp"
      },
      "outputs": [],
      "source": [
        "experiment_name = \"Iris\"\n",
        "method = \"Linear\"\n",
        "client_lr = 1e-4\n",
        "server_lr = 1e-3\n",
        "NUM_ROUNDS = 100\n",
        "BATCH_SIZE = 64\n"
      ]
    },
    {
      "cell_type": "code",
      "execution_count": 3,
      "metadata": {},
      "outputs": [],
      "source": [
        "this_dir = Path.cwd()\n",
        "model_dir = this_dir / \"sdn_saved_models\" / experiment_name / method\n",
        "output_dir = this_dir / \"sdn_results\" / experiment_name / method\n",
        "\n",
        "if not model_dir.exists():\n",
        "    model_dir.mkdir(parents=True)\n",
        "\n",
        "if not output_dir.exists():\n",
        "    output_dir.mkdir(parents=True)\n"
      ]
    },
    {
      "cell_type": "code",
      "execution_count": 4,
      "metadata": {},
      "outputs": [],
      "source": [
        "def sec_to_hours(seconds):\n",
        "    a = seconds//3600\n",
        "    b = (seconds % 3600)//60\n",
        "    c = (seconds % 3600) % 60\n",
        "    d = \"{:.0f} hours {:.0f} mins {:.0f} seconds\".format(a, b, c)\n",
        "    return d\n"
      ]
    },
    {
      "cell_type": "markdown",
      "metadata": {
        "id": "KTm_q5vvdAFm"
      },
      "source": [
        "## Data"
      ]
    },
    {
      "cell_type": "code",
      "execution_count": 5,
      "metadata": {},
      "outputs": [],
      "source": [
        "def sklearn_to_df(sklearn_dataset):\n",
        "    df = pd.DataFrame(sklearn_dataset.data,\n",
        "                      columns=sklearn_dataset.feature_names)\n",
        "    df['target'] = pd.Series(sklearn_dataset.target)\n",
        "    return df\n"
      ]
    },
    {
      "cell_type": "code",
      "execution_count": 6,
      "metadata": {},
      "outputs": [],
      "source": [
        "from sklearn import datasets\n",
        "df = sklearn_to_df(datasets.load_iris())\n"
      ]
    },
    {
      "cell_type": "code",
      "execution_count": 7,
      "metadata": {},
      "outputs": [],
      "source": [
        "df = df.sample(frac=1).reset_index(drop=True)\n"
      ]
    },
    {
      "cell_type": "code",
      "execution_count": 8,
      "metadata": {},
      "outputs": [],
      "source": [
        "# Creating Alice and Bob's splits:\n",
        "alice_df = df[:len(df.index)//2]\n",
        "bob_df = df[len(df.index)//2:]\n"
      ]
    },
    {
      "cell_type": "markdown",
      "metadata": {
        "id": "QNP4fyRtdAFm"
      },
      "source": [
        "### Exploratory Analysis"
      ]
    },
    {
      "cell_type": "code",
      "execution_count": 9,
      "metadata": {
        "id": "tzo3e8h1dAFn"
      },
      "outputs": [
        {
          "data": {
            "text/plain": [
              "1    50\n",
              "0    50\n",
              "2    50\n",
              "Name: target, dtype: int64"
            ]
          },
          "execution_count": 9,
          "metadata": {},
          "output_type": "execute_result"
        }
      ],
      "source": [
        "df['target'].value_counts()\n"
      ]
    },
    {
      "cell_type": "code",
      "execution_count": 10,
      "metadata": {
        "id": "_zv4s-5QdAFo"
      },
      "outputs": [
        {
          "data": {
            "text/plain": [
              "2    27\n",
              "0    26\n",
              "1    22\n",
              "Name: target, dtype: int64"
            ]
          },
          "execution_count": 10,
          "metadata": {},
          "output_type": "execute_result"
        }
      ],
      "source": [
        "alice_df['target'].value_counts()\n"
      ]
    },
    {
      "cell_type": "code",
      "execution_count": 11,
      "metadata": {
        "id": "gZJr_3bjdAFo"
      },
      "outputs": [
        {
          "data": {
            "text/plain": [
              "1    28\n",
              "0    24\n",
              "2    23\n",
              "Name: target, dtype: int64"
            ]
          },
          "execution_count": 11,
          "metadata": {},
          "output_type": "execute_result"
        }
      ],
      "source": [
        "bob_df['target'].value_counts()\n"
      ]
    },
    {
      "cell_type": "markdown",
      "metadata": {
        "id": "QpgncmHIdAFp"
      },
      "source": [
        "## Federated Learning Approach"
      ]
    },
    {
      "cell_type": "markdown",
      "metadata": {
        "id": "DIg-Ji57dAFp"
      },
      "source": [
        "### Data Loading"
      ]
    },
    {
      "cell_type": "code",
      "execution_count": 12,
      "metadata": {
        "id": "QIx3CIRydAFq"
      },
      "outputs": [],
      "source": [
        "def make_tf_dataset(dataframe, batch_size=None):\n",
        "\n",
        "    y = dataframe.pop('target')\n",
        "\n",
        "    # Dataset creation\n",
        "    dataset = tf.data.Dataset.from_tensor_slices(\n",
        "        (dataframe.values, y.to_frame().values))\n",
        "    dataset = dataset.shuffle(2048, seed=SEED)\n",
        "    if batch_size:\n",
        "        dataset = dataset.batch(batch_size)\n",
        "\n",
        "    return dataset"
      ]
    },
    {
      "cell_type": "code",
      "execution_count": 13,
      "metadata": {
        "id": "zBj7fQxFdAFq"
      },
      "outputs": [
        {
          "name": "stderr",
          "output_type": "stream",
          "text": [
            "2022-10-28 00:02:08.271573: W tensorflow/stream_executor/platform/default/dso_loader.cc:64] Could not load dynamic library 'libcuda.so.1'; dlerror: libcuda.so.1: cannot open shared object file: No such file or directory\n",
            "2022-10-28 00:02:08.271606: W tensorflow/stream_executor/cuda/cuda_driver.cc:263] failed call to cuInit: UNKNOWN ERROR (303)\n",
            "2022-10-28 00:02:08.271622: I tensorflow/stream_executor/cuda/cuda_diagnostics.cc:156] kernel driver does not appear to be running on this host (onos-virtual-machine): /proc/driver/nvidia/version does not exist\n",
            "2022-10-28 00:02:08.271932: I tensorflow/core/platform/cpu_feature_guard.cc:193] This TensorFlow binary is optimized with oneAPI Deep Neural Network Library (oneDNN) to use the following CPU instructions in performance-critical operations:  AVX2 AVX512F FMA\n",
            "To enable them in other operations, rebuild TensorFlow with the appropriate compiler flags.\n"
          ]
        }
      ],
      "source": [
        "train_data, val_data = [], []\n",
        "for client_data in [alice_df, bob_df]:\n",
        "    train_df, val_df = train_test_split(\n",
        "        client_data, test_size=0.2, random_state=SEED)\n",
        "\n",
        "    # Scaling (Standardization actually hurts performance)\n",
        "    scaler = MinMaxScaler()\n",
        "    train_features = scaler.fit_transform(train_df.drop(['target'], axis=1))\n",
        "    val_features = scaler.transform(val_df.drop(['target'], axis=1))\n",
        "\n",
        "    train_df[train_df.columns.difference(['target'])] = train_features\n",
        "    val_df[val_df.columns.difference(['target'])] = val_features\n",
        "\n",
        "    # TF Datasets\n",
        "    train_data.append(make_tf_dataset(train_df, batch_size=BATCH_SIZE))\n",
        "    val_data.append(make_tf_dataset(val_df, batch_size=1))\n"
      ]
    },
    {
      "cell_type": "markdown",
      "metadata": {
        "id": "eP8byNHDdAFq"
      },
      "source": [
        "### Model Definition"
      ]
    },
    {
      "cell_type": "code",
      "execution_count": 209,
      "metadata": {
        "id": "rCci5e2-dAFq"
      },
      "outputs": [],
      "source": [
        "def input_spec():\n",
        "    return (\n",
        "        tf.TensorSpec([None, 4], tf.float64),\n",
        "        tf.TensorSpec([None, 1], tf.int64)\n",
        "    )"
      ]
    },
    {
      "cell_type": "code",
      "execution_count": 210,
      "metadata": {},
      "outputs": [],
      "source": [
        "def model_fn():\n",
        "    model = tf.keras.models.Sequential([\n",
        "        tf.keras.layers.InputLayer(input_shape=(4,)),\n",
        "        tf.keras.layers.Dense(32, activation=\"relu\"),\n",
        "        tf.keras.layers.Dense(64, activation=\"relu\"),\n",
        "        tf.keras.layers.Dense(32, activation=\"relu\"),\n",
        "        tf.keras.layers.Dense(3, activation='softmax')\n",
        "    ])\n",
        "\n",
        "    return tff.learning.from_keras_model(\n",
        "        model,\n",
        "        input_spec=input_spec(),\n",
        "        loss=tf.keras.losses.SparseCategoricalCrossentropy(),\n",
        "        metrics=[tf.keras.metrics.SparseCategoricalAccuracy()])"
      ]
    },
    {
      "cell_type": "markdown",
      "metadata": {
        "id": "Sd99tw3RdAFr"
      },
      "source": [
        "### Training"
      ]
    },
    {
      "cell_type": "markdown",
      "metadata": {
        "id": "4XUqmO4HdAFs"
      },
      "source": [
        "Each time the `next` method is called, the server model is broadcast to each client using a broadcast function. For each client, one epoch of local training is performed. Each client computes the difference between the client model after training and the initial broadcast model. These model deltas are then aggregated at the server using some aggregation function."
      ]
    },
    {
      "cell_type": "code",
      "execution_count": 211,
      "metadata": {},
      "outputs": [],
      "source": [
        "tff_train_acc = []\n",
        "tff_train_loss = []\n",
        "tff_val_acc = []\n",
        "tff_val_loss = []"
      ]
    },
    {
      "cell_type": "code",
      "execution_count": 212,
      "metadata": {
        "id": "x1YqmgzhdAFr"
      },
      "outputs": [],
      "source": [
        "iterative_process = tff.learning.algorithms.build_weighted_fed_avg(\n",
        "    model_fn,\n",
        "    client_optimizer_fn=lambda: tf.keras.optimizers.Adam(\n",
        "        learning_rate=client_lr),\n",
        "    server_optimizer_fn=lambda: tf.keras.optimizers.Adam(\n",
        "        learning_rate=server_lr)\n",
        ")"
      ]
    },
    {
      "cell_type": "code",
      "execution_count": 213,
      "metadata": {},
      "outputs": [],
      "source": [
        "evaluator = tff.learning.build_federated_evaluation(model_fn)\n"
      ]
    },
    {
      "cell_type": "code",
      "execution_count": 214,
      "metadata": {},
      "outputs": [],
      "source": [
        "state = iterative_process.initialize()"
      ]
    },
    {
      "cell_type": "code",
      "execution_count": 215,
      "metadata": {},
      "outputs": [
        {
          "name": "stdout",
          "output_type": "stream",
          "text": [
            "round  1\n",
            "train_loss=1.052, train_acc=0.417\n",
            "val_loss: 1.075 val_acc: 0.200\n",
            "round  2\n",
            "train_loss=1.044, train_acc=0.450\n",
            "val_loss: 1.071 val_acc: 0.233\n",
            "round  3\n",
            "train_loss=1.036, train_acc=0.450\n",
            "val_loss: 1.067 val_acc: 0.233\n",
            "round  4\n",
            "train_loss=1.027, train_acc=0.467\n",
            "val_loss: 1.063 val_acc: 0.233\n",
            "round  5\n",
            "train_loss=1.019, train_acc=0.492\n",
            "val_loss: 1.058 val_acc: 0.367\n",
            "round  6\n",
            "train_loss=1.011, train_acc=0.517\n",
            "val_loss: 1.053 val_acc: 0.400\n",
            "round  7\n",
            "train_loss=1.002, train_acc=0.575\n",
            "val_loss: 1.047 val_acc: 0.433\n",
            "round  8\n",
            "train_loss=0.993, train_acc=0.617\n",
            "val_loss: 1.041 val_acc: 0.533\n",
            "round  9\n",
            "train_loss=0.984, train_acc=0.650\n",
            "val_loss: 1.035 val_acc: 0.533\n",
            "round 10\n",
            "train_loss=0.975, train_acc=0.667\n",
            "val_loss: 1.029 val_acc: 0.533\n",
            "round 11\n",
            "train_loss=0.966, train_acc=0.675\n",
            "val_loss: 1.021 val_acc: 0.567\n",
            "round 12\n",
            "train_loss=0.956, train_acc=0.675\n",
            "val_loss: 1.014 val_acc: 0.600\n",
            "round 13\n",
            "train_loss=0.946, train_acc=0.683\n",
            "val_loss: 1.005 val_acc: 0.600\n",
            "round 14\n",
            "train_loss=0.936, train_acc=0.683\n",
            "val_loss: 0.997 val_acc: 0.600\n",
            "round 15\n",
            "train_loss=0.926, train_acc=0.683\n",
            "val_loss: 0.988 val_acc: 0.600\n",
            "round 16\n",
            "train_loss=0.916, train_acc=0.683\n",
            "val_loss: 0.979 val_acc: 0.600\n",
            "round 17\n",
            "train_loss=0.906, train_acc=0.683\n",
            "val_loss: 0.970 val_acc: 0.600\n",
            "round 18\n",
            "train_loss=0.896, train_acc=0.683\n",
            "val_loss: 0.961 val_acc: 0.600\n",
            "round 19\n",
            "train_loss=0.886, train_acc=0.683\n",
            "val_loss: 0.952 val_acc: 0.600\n",
            "round 20\n",
            "train_loss=0.877, train_acc=0.683\n",
            "val_loss: 0.942 val_acc: 0.600\n",
            "round 21\n",
            "train_loss=0.867, train_acc=0.683\n",
            "val_loss: 0.933 val_acc: 0.600\n",
            "round 22\n",
            "train_loss=0.857, train_acc=0.683\n",
            "val_loss: 0.924 val_acc: 0.600\n",
            "round 23\n",
            "train_loss=0.847, train_acc=0.683\n",
            "val_loss: 0.914 val_acc: 0.600\n",
            "round 24\n",
            "train_loss=0.837, train_acc=0.683\n",
            "val_loss: 0.904 val_acc: 0.600\n",
            "round 25\n",
            "train_loss=0.827, train_acc=0.683\n",
            "val_loss: 0.894 val_acc: 0.600\n",
            "round 26\n",
            "train_loss=0.817, train_acc=0.683\n",
            "val_loss: 0.884 val_acc: 0.600\n",
            "round 27\n",
            "train_loss=0.806, train_acc=0.683\n",
            "val_loss: 0.874 val_acc: 0.600\n",
            "round 28\n",
            "train_loss=0.796, train_acc=0.683\n",
            "val_loss: 0.864 val_acc: 0.600\n",
            "round 29\n",
            "train_loss=0.786, train_acc=0.683\n",
            "val_loss: 0.853 val_acc: 0.600\n",
            "round 30\n",
            "train_loss=0.775, train_acc=0.683\n",
            "val_loss: 0.842 val_acc: 0.600\n",
            "round 31\n",
            "train_loss=0.765, train_acc=0.683\n",
            "val_loss: 0.831 val_acc: 0.600\n",
            "round 32\n",
            "train_loss=0.755, train_acc=0.683\n",
            "val_loss: 0.819 val_acc: 0.600\n",
            "round 33\n",
            "train_loss=0.744, train_acc=0.683\n",
            "val_loss: 0.808 val_acc: 0.600\n",
            "round 34\n",
            "train_loss=0.734, train_acc=0.683\n",
            "val_loss: 0.796 val_acc: 0.600\n",
            "round 35\n",
            "train_loss=0.723, train_acc=0.683\n",
            "val_loss: 0.784 val_acc: 0.600\n",
            "round 36\n",
            "train_loss=0.713, train_acc=0.683\n",
            "val_loss: 0.772 val_acc: 0.600\n",
            "round 37\n",
            "train_loss=0.702, train_acc=0.683\n",
            "val_loss: 0.759 val_acc: 0.600\n",
            "round 38\n",
            "train_loss=0.691, train_acc=0.683\n",
            "val_loss: 0.747 val_acc: 0.600\n",
            "round 39\n",
            "train_loss=0.681, train_acc=0.683\n",
            "val_loss: 0.734 val_acc: 0.600\n",
            "round 40\n",
            "train_loss=0.670, train_acc=0.683\n",
            "val_loss: 0.721 val_acc: 0.600\n",
            "round 41\n",
            "train_loss=0.659, train_acc=0.692\n",
            "val_loss: 0.709 val_acc: 0.600\n",
            "round 42\n",
            "train_loss=0.649, train_acc=0.692\n",
            "val_loss: 0.696 val_acc: 0.600\n",
            "round 43\n",
            "train_loss=0.638, train_acc=0.700\n",
            "val_loss: 0.684 val_acc: 0.600\n",
            "round 44\n",
            "train_loss=0.628, train_acc=0.700\n",
            "val_loss: 0.671 val_acc: 0.600\n",
            "round 45\n",
            "train_loss=0.618, train_acc=0.700\n",
            "val_loss: 0.659 val_acc: 0.600\n",
            "round 46\n",
            "train_loss=0.608, train_acc=0.708\n",
            "val_loss: 0.646 val_acc: 0.600\n",
            "round 47\n",
            "train_loss=0.597, train_acc=0.708\n",
            "val_loss: 0.634 val_acc: 0.633\n",
            "round 48\n",
            "train_loss=0.587, train_acc=0.725\n",
            "val_loss: 0.622 val_acc: 0.633\n",
            "round 49\n",
            "train_loss=0.577, train_acc=0.733\n",
            "val_loss: 0.610 val_acc: 0.633\n",
            "round 50\n",
            "train_loss=0.567, train_acc=0.733\n",
            "val_loss: 0.599 val_acc: 0.633\n",
            "round 51\n",
            "train_loss=0.558, train_acc=0.733\n",
            "val_loss: 0.587 val_acc: 0.700\n",
            "round 52\n",
            "train_loss=0.548, train_acc=0.742\n",
            "val_loss: 0.575 val_acc: 0.700\n",
            "round 53\n",
            "train_loss=0.538, train_acc=0.750\n",
            "val_loss: 0.564 val_acc: 0.700\n",
            "round 54\n",
            "train_loss=0.529, train_acc=0.750\n",
            "val_loss: 0.553 val_acc: 0.700\n",
            "round 55\n",
            "train_loss=0.520, train_acc=0.750\n",
            "val_loss: 0.542 val_acc: 0.700\n",
            "round 56\n",
            "train_loss=0.510, train_acc=0.767\n",
            "val_loss: 0.531 val_acc: 0.700\n",
            "round 57\n",
            "train_loss=0.501, train_acc=0.783\n",
            "val_loss: 0.520 val_acc: 0.700\n",
            "round 58\n",
            "train_loss=0.493, train_acc=0.792\n",
            "val_loss: 0.509 val_acc: 0.700\n",
            "round 59\n",
            "train_loss=0.484, train_acc=0.800\n",
            "val_loss: 0.499 val_acc: 0.700\n",
            "round 60\n",
            "train_loss=0.475, train_acc=0.808\n",
            "val_loss: 0.489 val_acc: 0.700\n",
            "round 61\n",
            "train_loss=0.467, train_acc=0.817\n",
            "val_loss: 0.480 val_acc: 0.700\n",
            "round 62\n",
            "train_loss=0.459, train_acc=0.825\n",
            "val_loss: 0.470 val_acc: 0.700\n",
            "round 63\n",
            "train_loss=0.451, train_acc=0.833\n",
            "val_loss: 0.461 val_acc: 0.700\n",
            "round 64\n",
            "train_loss=0.443, train_acc=0.842\n",
            "val_loss: 0.452 val_acc: 0.767\n",
            "round 65\n",
            "train_loss=0.435, train_acc=0.850\n",
            "val_loss: 0.443 val_acc: 0.767\n",
            "round 66\n",
            "train_loss=0.427, train_acc=0.858\n",
            "val_loss: 0.434 val_acc: 0.800\n",
            "round 67\n",
            "train_loss=0.420, train_acc=0.875\n",
            "val_loss: 0.425 val_acc: 0.800\n",
            "round 68\n",
            "train_loss=0.412, train_acc=0.875\n",
            "val_loss: 0.416 val_acc: 0.867\n",
            "round 69\n",
            "train_loss=0.405, train_acc=0.900\n",
            "val_loss: 0.408 val_acc: 0.867\n",
            "round 70\n",
            "train_loss=0.398, train_acc=0.900\n",
            "val_loss: 0.400 val_acc: 0.867\n",
            "round 71\n",
            "train_loss=0.391, train_acc=0.908\n",
            "val_loss: 0.392 val_acc: 0.867\n",
            "round 72\n",
            "train_loss=0.384, train_acc=0.917\n",
            "val_loss: 0.384 val_acc: 0.867\n",
            "round 73\n",
            "train_loss=0.378, train_acc=0.925\n",
            "val_loss: 0.377 val_acc: 0.867\n",
            "round 74\n",
            "train_loss=0.371, train_acc=0.925\n",
            "val_loss: 0.370 val_acc: 0.867\n",
            "round 75\n",
            "train_loss=0.365, train_acc=0.925\n",
            "val_loss: 0.363 val_acc: 0.867\n",
            "round 76\n",
            "train_loss=0.358, train_acc=0.933\n",
            "val_loss: 0.356 val_acc: 0.867\n",
            "round 77\n",
            "train_loss=0.352, train_acc=0.933\n",
            "val_loss: 0.349 val_acc: 0.867\n",
            "round 78\n",
            "train_loss=0.346, train_acc=0.942\n",
            "val_loss: 0.342 val_acc: 0.867\n",
            "round 79\n",
            "train_loss=0.340, train_acc=0.942\n",
            "val_loss: 0.336 val_acc: 0.867\n",
            "round 80\n",
            "train_loss=0.334, train_acc=0.942\n",
            "val_loss: 0.329 val_acc: 0.900\n",
            "round 81\n",
            "train_loss=0.328, train_acc=0.950\n",
            "val_loss: 0.322 val_acc: 0.900\n",
            "round 82\n",
            "train_loss=0.322, train_acc=0.950\n",
            "val_loss: 0.315 val_acc: 0.900\n",
            "round 83\n",
            "train_loss=0.316, train_acc=0.950\n",
            "val_loss: 0.309 val_acc: 0.933\n",
            "round 84\n",
            "train_loss=0.311, train_acc=0.950\n",
            "val_loss: 0.303 val_acc: 0.933\n",
            "round 85\n",
            "train_loss=0.305, train_acc=0.950\n",
            "val_loss: 0.297 val_acc: 0.933\n",
            "round 86\n",
            "train_loss=0.299, train_acc=0.958\n",
            "val_loss: 0.291 val_acc: 0.933\n",
            "round 87\n",
            "train_loss=0.294, train_acc=0.950\n",
            "val_loss: 0.285 val_acc: 0.933\n",
            "round 88\n",
            "train_loss=0.289, train_acc=0.950\n",
            "val_loss: 0.279 val_acc: 0.933\n",
            "round 89\n",
            "train_loss=0.283, train_acc=0.950\n",
            "val_loss: 0.274 val_acc: 0.933\n",
            "round 90\n",
            "train_loss=0.278, train_acc=0.950\n",
            "val_loss: 0.268 val_acc: 0.933\n",
            "round 91\n",
            "train_loss=0.273, train_acc=0.950\n",
            "val_loss: 0.263 val_acc: 0.933\n",
            "round 92\n",
            "train_loss=0.268, train_acc=0.950\n",
            "val_loss: 0.257 val_acc: 0.933\n",
            "round 93\n",
            "train_loss=0.263, train_acc=0.950\n",
            "val_loss: 0.251 val_acc: 0.933\n",
            "round 94\n",
            "train_loss=0.258, train_acc=0.950\n",
            "val_loss: 0.246 val_acc: 0.933\n",
            "round 95\n",
            "train_loss=0.253, train_acc=0.950\n",
            "val_loss: 0.240 val_acc: 0.933\n",
            "round 96\n",
            "train_loss=0.248, train_acc=0.958\n",
            "val_loss: 0.235 val_acc: 0.933\n",
            "round 97\n",
            "train_loss=0.244, train_acc=0.958\n",
            "val_loss: 0.230 val_acc: 0.933\n",
            "round 98\n",
            "train_loss=0.239, train_acc=0.950\n",
            "val_loss: 0.226 val_acc: 0.933\n",
            "round 99\n",
            "train_loss=0.235, train_acc=0.950\n",
            "val_loss: 0.221 val_acc: 0.933\n",
            "round 100\n",
            "train_loss=0.230, train_acc=0.950\n",
            "val_loss: 0.217 val_acc: 0.933\n"
          ]
        }
      ],
      "source": [
        "start = time()\n",
        "\n",
        "for i in range(NUM_ROUNDS):\n",
        "    # Train\n",
        "    result = iterative_process.next(state, train_data)\n",
        "    state = result.state\n",
        "    train_metrics = result.metrics['client_work']['train']\n",
        "\n",
        "    # Validation\n",
        "    federated_metrics = evaluator(result.state.global_model_weights, val_data)\n",
        "    val_metrics = federated_metrics['eval']\n",
        "\n",
        "    # Metrics\n",
        "    train_loss = train_metrics['loss']\n",
        "    train_acc = train_metrics['sparse_categorical_accuracy']\n",
        "    val_loss = val_metrics['loss']\n",
        "    val_acc = val_metrics['sparse_categorical_accuracy']\n",
        "\n",
        "    # Print\n",
        "    print('round {:2d}\\ntrain_loss={l:.3f}, train_acc={ac:.3f}'.format(\n",
        "        i+1, l=train_loss, ac=train_metrics['sparse_categorical_accuracy']))\n",
        "    print('val_loss: {:.3f} val_acc: {:.3f}'.format(\n",
        "        val_loss, val_acc))\n",
        "\n",
        "    # Save\n",
        "    train_val = str(round(train_acc*100)) + \"_\" + str(round(val_acc*100))\n",
        "\n",
        "    # logs\n",
        "    tff_train_acc.append(float(train_metrics['sparse_categorical_accuracy']))\n",
        "    tff_train_loss.append(float(train_metrics['loss']))\n",
        "    tff_val_acc.append(float(val_metrics['sparse_categorical_accuracy']))\n",
        "    tff_val_loss.append(float(val_metrics['loss']))\n",
        "\n",
        "end = time() - start\n"
      ]
    },
    {
      "cell_type": "code",
      "execution_count": 216,
      "metadata": {},
      "outputs": [
        {
          "name": "stdout",
          "output_type": "stream",
          "text": [
            "Time: 0 hours 1 mins 0 seconds\n"
          ]
        }
      ],
      "source": [
        "total_time = \"Time: {}\".format(sec_to_hours(end))\n",
        "print(total_time)\n"
      ]
    },
    {
      "cell_type": "code",
      "execution_count": 217,
      "metadata": {},
      "outputs": [],
      "source": [
        "this_dir = Path.cwd()\n",
        "model_dir = this_dir / \"sdn_saved_models\" / experiment_name / method / train_val\n",
        "output_dir = this_dir / \"sdn_results\" / experiment_name / method / train_val\n",
        "\n",
        "if not model_dir.exists():\n",
        "    model_dir.mkdir(parents=True)\n",
        "\n",
        "if not output_dir.exists():\n",
        "    output_dir.mkdir(parents=True)\n"
      ]
    },
    {
      "cell_type": "markdown",
      "metadata": {
        "id": "WOBx91fpdAFs"
      },
      "source": [
        "### Evaluation"
      ]
    },
    {
      "cell_type": "code",
      "execution_count": 218,
      "metadata": {},
      "outputs": [],
      "source": [
        "with open(output_dir/'parameters.txt', 'w') as f:\n",
        "    print('client_lr: {}\\nserver_lr: {}\\nRounds: {}'.format(\n",
        "        client_lr, server_lr, NUM_ROUNDS), file=f)\n",
        "    f.close()\n"
      ]
    },
    {
      "cell_type": "code",
      "execution_count": 219,
      "metadata": {},
      "outputs": [],
      "source": [
        "text_file = open(output_dir/\"time.txt\", \"w\")\n",
        "n = text_file.write(total_time)\n",
        "text_file.close()\n"
      ]
    },
    {
      "cell_type": "code",
      "execution_count": 220,
      "metadata": {},
      "outputs": [
        {
          "data": {
            "image/png": "[encoded data removed]",
            "text/plain": [
              "<Figure size 1000x600 with 1 Axes>"
            ]
          },
          "metadata": {},
          "output_type": "display_data"
        },
        {
          "data": {
            "image/png": "[encoded data removed]",
            "text/plain": [
              "<Figure size 1000x600 with 1 Axes>"
            ]
          },
          "metadata": {},
          "output_type": "display_data"
        }
      ],
      "source": [
        "fig = plt.figure(figsize=(10, 6))\n",
        "plot_graph(list(range(0, NUM_ROUNDS)), tff_train_acc, label='Train Accuracy')\n",
        "plot_graph(list(range(0, NUM_ROUNDS)), tff_val_acc,\n",
        "           label='Validation Accuracy')\n",
        "plt.legend()\n",
        "plt.savefig(output_dir / \"federated_model_Accuracy.png\")\n",
        "\n",
        "plt.figure(figsize=(10, 6))\n",
        "plot_graph(list(range(0, NUM_ROUNDS)), tff_train_loss, label='Train loss')\n",
        "plot_graph(list(range(0, NUM_ROUNDS)), tff_val_loss, label='Validation loss')\n",
        "plt.legend()\n",
        "plt.savefig(output_dir / \"federated_model_loss.png\")\n"
      ]
    },
    {
      "cell_type": "code",
      "execution_count": null,
      "metadata": {},
      "outputs": [],
      "source": []
    },
    {
      "cell_type": "markdown",
      "metadata": {
        "id": "GnAXQMx_dAFs"
      },
      "source": [
        "## Single Model with all Data at once (for comparison)\n",
        "\n",
        "### Data Loading"
      ]
    },
    {
      "cell_type": "code",
      "execution_count": 221,
      "metadata": {
        "id": "yqL-buDmdAFt"
      },
      "outputs": [],
      "source": [
        "# train_data = train_data[0].concatenate(train_data[1])\n",
        "# val_data = val_data[0].concatenate(val_data[1])\n"
      ]
    },
    {
      "cell_type": "markdown",
      "metadata": {
        "id": "MDjQc-u0dAFt"
      },
      "source": [
        "### Model Definition"
      ]
    },
    {
      "cell_type": "code",
      "execution_count": 222,
      "metadata": {
        "id": "oj7Wsal0dAFt"
      },
      "outputs": [],
      "source": [
        "# def model_fn():\n",
        "#     model = tf.keras.models.Sequential([\n",
        "#         tf.keras.layers.InputLayer(input_shape=(4,)),\n",
        "#         tf.keras.layers.Dense(32, activation='relu'),\n",
        "#         tf.keras.layers.Dense(64, activation='relu'),\n",
        "#         tf.keras.layers.Dense(32, activation='relu'),\n",
        "#         tf.keras.layers.Dense(3, activation='sigmoid'),\n",
        "#     ])\n",
        "\n",
        "#     model.compile(\n",
        "#         loss=tf.keras.losses.SparseCategoricalCrossentropy(),\n",
        "#         optimizer=tf.keras.optimizers.Adam(),\n",
        "#         metrics=[tf.keras.metrics.SparseCategoricalAccuracy()],\n",
        "#     )\n",
        "\n",
        "#     return model\n"
      ]
    },
    {
      "cell_type": "markdown",
      "metadata": {
        "id": "pDYXpu6WdAFt"
      },
      "source": [
        "### Training"
      ]
    },
    {
      "cell_type": "code",
      "execution_count": 223,
      "metadata": {
        "id": "Jm8nwUyDdAFt"
      },
      "outputs": [],
      "source": [
        "# model = model_fn()\n",
        "# history = model.fit(train_data, epochs=NUM_ROUNDS,verbose=0)\n"
      ]
    },
    {
      "cell_type": "markdown",
      "metadata": {
        "id": "pQ_J02EAdAFt"
      },
      "source": [
        "### Evaluation"
      ]
    },
    {
      "cell_type": "code",
      "execution_count": 224,
      "metadata": {
        "id": "Y_xbTiDpdAFu"
      },
      "outputs": [],
      "source": [
        "# test_scores = model.evaluate(val_data)\n",
        "# single_metrics = {\n",
        "#     'loss': test_scores[0],\n",
        "#     'accuracy': test_scores[1],\n",
        "# }\n",
        "# single_metrics\n"
      ]
    },
    {
      "cell_type": "markdown",
      "metadata": {
        "id": "vfJ1_ak4dAFu"
      },
      "source": [
        "## Conclusion\n",
        "\n",
        "Comparing both models:"
      ]
    },
    {
      "cell_type": "code",
      "execution_count": 225,
      "metadata": {
        "id": "zp2npXnodAFu"
      },
      "outputs": [],
      "source": [
        "# print(f\"---Single model metrics---\\n{single_metrics}\\n\")\n",
        "# print(f\"---Federated model metrics---\\n{dict(federated_metrics)}\")\n"
      ]
    },
    {
      "cell_type": "markdown",
      "metadata": {
        "id": "3jgEX9PadAFu"
      },
      "source": [
        "The Federated Learning approach has a better balance between precision and recall, which might be an indicator of better handling of the imbalanced dataset."
      ]
    }
  ],
  "metadata": {
    "colab": {
      "collapsed_sections": [],
      "name": "notebook.ipynb",
      "provenance": []
    },
    "kernelspec": {
      "display_name": "venv",
      "language": "python",
      "name": "python3"
    },
    "language_info": {
      "codemirror_mode": {
        "name": "ipython",
        "version": 3
      },
      "file_extension": ".py",
      "mimetype": "text/x-python",
      "name": "python",
      "nbconvert_exporter": "python",
      "pygments_lexer": "ipython3",
      "version": "3.9.14"
    },
    "vscode": {
      "interpreter": {
        "hash": "addd2fdd290c7c34336629330a81969ca1164c4689498c0841c953bddca49006"
      }
    }
  },
  "nbformat": 4,
  "nbformat_minor": 0
}
