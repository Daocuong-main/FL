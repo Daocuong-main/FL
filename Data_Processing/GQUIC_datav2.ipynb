{
 "cells": [
  {
   "cell_type": "code",
   "execution_count": 2,
   "id": "56ec2009",
   "metadata": {},
   "outputs": [],
   "source": [
    "import os\n",
    "import pandas as pd\n",
    "import numpy as np\n",
    "import glob\n",
    "import pyarrow.feather as feather\n",
    "from pyarrow import csv\n",
    "import random\n",
    "import matplotlib.pyplot as plt\n",
    "from sklearn import preprocessing\n",
    "le = preprocessing.LabelEncoder()\n",
    "scale = preprocessing.MinMaxScaler()\n",
    "pd.set_option(\"display.max_rows\", None)\n",
    "\n",
    "\n",
    "def train_test_split(df, frac=0.2):\n",
    "    selected = df['flow_id'].drop_duplicates().sample(frac=frac)\n",
    "    test = df[df['flow_id'].isin(selected)]\n",
    "    train = df[~df['flow_id'].isin(selected)]\n",
    "    return train, test\n",
    "def test_case_split(df,split):\n",
    "    selected = df['flow_id'].drop_duplicates().sample(frac=1)\n",
    "    # print(selected.shape)\n",
    "    total_data_count = selected.shape[0]\n",
    "    data_per_set = int(np.floor(total_data_count/split))\n",
    "    DataFrameDict = {}\n",
    "    for i in range(1, split+1):\n",
    "        client_name = \"client_\" + str(i)\n",
    "        start = data_per_set * (i-1)\n",
    "        end = data_per_set * i\n",
    "\n",
    "        print(f\"Adding data from {start} to {end} for client : {client_name}\")\n",
    "        DataFrameDict[client_name] = df[df['flow_id'].isin(selected[start:end])]\n",
    "    return DataFrameDict\n",
    "\n",
    "def label_encoding(df, columns_list):\n",
    "    for col in columns_list:\n",
    "        df[col] = le.fit_transform(df[col])\n",
    "        le_name_mapping = dict(zip(le.classes_, le.transform(le.classes_)))\n",
    "        with open('Label_mapping_GQUIC.txt', 'a') as data:\n",
    "            data.write(col+\": \"+str(le_name_mapping) + \"\\n\")\n",
    "    return df\n",
    "\n",
    "\n",
    "def index_reset(df):\n",
    "    return pd.RangeIndex(len(df.index))\n",
    "\n",
    "\n",
    "def data_scale(df):\n",
    "    df.loc[:, '0': '1459'] = df.loc[:, '0': '1459'].div(255)\n",
    "    # df[['length']] = scale.fit_transform(\n",
    "    #     df[['length']])\n",
    "    return df\n",
    "\n",
    "\n",
    "def remove_protocol(df):\n",
    "    df = df.loc[(df['protocol'] == 'GQUIC')]\n",
    "    return df\n",
    "\n",
    "\n",
    "def remove_columns(df):\n",
    "    df = df.drop(['ip_proto', 'data', 'length'], axis=1)\n",
    "    return df\n",
    "\n",
    "\n",
    "def final_remove(df):\n",
    "    df = df.drop(['ip_src', 'ip_dst', 'protocol', 'info'], axis=1)\n",
    "    return df\n",
    "\n",
    "def get_static(df):\n",
    "    for col in ['A->B', 'B->A','total']:\n",
    "        print(\"Cột {}: \".format(col))\n",
    "        for num in [1000,550,500,450,100]:\n",
    "            total_flow = df.shape[0]\n",
    "            count = df[col][df[col] < num].count()\n",
    "            remain = total_flow - count\n",
    "            percent = round((count/float(df.shape[0])) * 100,2)\n",
    "            print(\"<{} chiếm {}% ({}/{}) con lai {})\".format(num,percent,count,df.shape[0],remain))"
   ]
  },
  {
   "cell_type": "markdown",
   "id": "1380d87c",
   "metadata": {},
   "source": [
    "# Add label"
   ]
  },
  {
   "cell_type": "code",
   "execution_count": null,
   "id": "48259186",
   "metadata": {},
   "outputs": [],
   "source": [
    "# get your working directory and target folder that contains all your files\n",
    "for nhan in ['VoIP','FileTransfer','Music','Youtube']:\n",
    "    path = os.path.join(os.getcwd(), '/home/onos/FL/Data_Processing/send/rawds-20/gquic/' + nhan)\n",
    "\n",
    "    files = [os.path.join(path, i) for i in os.listdir(\n",
    "        path) if os.path.isfile(os.path.join(path, i))]\n",
    "\n",
    "    df = pd.DataFrame()\n",
    "\n",
    "    # for every file in folder, read it and append to a empty dataframe with column filename as 'Label'\n",
    "    for file in files:\n",
    "        _df = pd.read_csv(file,engine='pyarrow')\n",
    "        _df['Label'] = nhan\n",
    "        file_name = file.split('/')\n",
    "        _df['File_name'] = file_name[-1]\n",
    "        df = pd.concat([df, _df], ignore_index=True)\n",
    "    del _df\n",
    "    df = (df.pipe(remove_columns).pipe(final_remove))\n",
    "    df.index = index_reset(df)\n",
    "    df.to_feather(\"GQUIC_feather/df_\" + nhan +\".feather\" )\n",
    "    del df\n"
   ]
  },
  {
   "cell_type": "markdown",
   "id": "38a5052b",
   "metadata": {},
   "source": [
    "# Final"
   ]
  },
  {
   "cell_type": "markdown",
   "id": "52b249ba",
   "metadata": {},
   "source": [
    "## Gop du lieu"
   ]
  },
  {
   "cell_type": "code",
   "execution_count": null,
   "id": "4740d621",
   "metadata": {},
   "outputs": [],
   "source": [
    "path = os.path.join(os.getcwd(),  '/home/onos/FL/Data_Processing/GQUIC_feather')\n",
    "all_files = glob.glob(os.path.join(path, \"*.feather\"))\n",
    "df_GQUIC = pd.concat((pd.read_feather(f) for f in all_files), ignore_index=True)\n"
   ]
  },
  {
   "cell_type": "code",
   "execution_count": null,
   "id": "0523c720",
   "metadata": {},
   "outputs": [],
   "source": [
    "df_GQUIC['File_name'] = df_GQUIC['File_name'].str.replace(r'.csv','',regex=True)"
   ]
  },
  {
   "cell_type": "code",
   "execution_count": null,
   "id": "ebb74731",
   "metadata": {},
   "outputs": [],
   "source": [
    "df_sorted = df_GQUIC.sort_values(['stream_id', 'File_name'])\n",
    "del df_GQUIC\n",
    "df_sorted['flow_id'] = (df_sorted.groupby(['stream_id', 'File_name']).cumcount()==0).astype(int)\n",
    "df_sorted['flow_id'] = df_sorted['flow_id'].cumsum()"
   ]
  },
  {
   "cell_type": "code",
   "execution_count": null,
   "id": "b258f03c",
   "metadata": {},
   "outputs": [],
   "source": [
    "df_sorted.head()"
   ]
  },
  {
   "cell_type": "code",
   "execution_count": null,
   "id": "28711db6",
   "metadata": {},
   "outputs": [],
   "source": [
    "df_sorted.index = pd.RangeIndex(len(df_sorted.index))\n",
    "df_sorted.to_feather('GQUIC_full.feather')\n",
    "del df_sorted"
   ]
  },
  {
   "cell_type": "markdown",
   "id": "af60cb7c",
   "metadata": {},
   "source": [
    "## Loc flow <500 packet"
   ]
  },
  {
   "cell_type": "code",
   "execution_count": 2,
   "id": "df43c8ec",
   "metadata": {},
   "outputs": [],
   "source": [
    "df_sorted = pd.read_feather('GQUIC_full.feather')\n",
    "df_summary = pd.read_feather('sumary.feather')\n",
    "df_summary.drop('flow_id',axis=1,inplace=True)\n",
    "df_sorted.drop('flow_id',axis=1,inplace=True)\n",
    "df_sorted['temp'] = df_sorted['stream_id'].astype(str)+df_sorted['File_name'].astype(str)\n",
    "df_summary['temp'] = df_summary['stream_id'].astype(str)+df_summary['File_name'].astype(str)\n",
    "\n",
    "df_sorted = df_sorted[df_sorted['temp'].isin(df_summary['temp'])]\n",
    "df_summary = df_summary.sort_values(['stream_id', 'File_name'])\n",
    "df_summary['flow_id'] = (df_summary.groupby(['stream_id', 'File_name']).cumcount()==0).astype(int)\n",
    "df_summary['flow_id'] = df_summary['flow_id'].cumsum()\n",
    "df_sorted = df_sorted.sort_values(['stream_id', 'File_name'])\n",
    "df_sorted['flow_id'] = (df_sorted.groupby(['stream_id', 'File_name']).cumcount()==0).astype(int)\n",
    "df_sorted['flow_id'] = df_sorted['flow_id'].cumsum()\n",
    "df_summary.drop('temp',axis=1,inplace=True)\n",
    "df_sorted.drop('temp',axis=1,inplace=True)\n",
    "df_summary_500 = df_summary[df_summary['total_pkt'] < 500]\n",
    "flow_id_list = df_summary_500['flow_id'].to_list()"
   ]
  },
  {
   "cell_type": "code",
   "execution_count": null,
   "id": "b60325b3",
   "metadata": {},
   "outputs": [],
   "source": [
    "# # Kiem tra phan loc\n",
    "# value_c = df_sorted['flow_id'].value_counts()\n",
    "# count_list = value_c[value_c<20].index.to_list()\n",
    "# choice_list = list(set(count_list).intersection(flow_id_list))\n",
    "# len(choice_list)\n",
    "# choice_list[2]\n",
    "# df_summary[df_summary['flow_id'] == 131075]\n",
    "# df_sorted[df_sorted['flow_id'] == 131075]"
   ]
  },
  {
   "cell_type": "code",
   "execution_count": 3,
   "id": "a79c02d0",
   "metadata": {},
   "outputs": [],
   "source": [
    "del df_summary,df_summary_500\n",
    "list_index = df_sorted.index[df_sorted['flow_id'].isin(flow_id_list)].to_list()"
   ]
  },
  {
   "cell_type": "code",
   "execution_count": 4,
   "id": "e5bdd3bd",
   "metadata": {},
   "outputs": [],
   "source": [
    "df_sorted.drop(index=list_index,axis=0,inplace=True)"
   ]
  },
  {
   "cell_type": "code",
   "execution_count": 5,
   "id": "e9d76a10",
   "metadata": {},
   "outputs": [
    {
     "data": {
      "text/plain": [
       "count    17377.0\n",
       "mean        20.0\n",
       "std          0.0\n",
       "min         20.0\n",
       "25%         20.0\n",
       "50%         20.0\n",
       "75%         20.0\n",
       "max         20.0\n",
       "Name: flow_id, dtype: float64"
      ]
     },
     "execution_count": 5,
     "metadata": {},
     "output_type": "execute_result"
    }
   ],
   "source": [
    "df_sorted['flow_id'].value_counts().describe()"
   ]
  },
  {
   "cell_type": "code",
   "execution_count": 6,
   "id": "6f917f1c",
   "metadata": {},
   "outputs": [
    {
     "data": {
      "text/plain": [
       "(347540, 1468)"
      ]
     },
     "execution_count": 6,
     "metadata": {},
     "output_type": "execute_result"
    }
   ],
   "source": [
    "df_sorted.shape"
   ]
  },
  {
   "cell_type": "code",
   "execution_count": 7,
   "id": "cfae10de",
   "metadata": {},
   "outputs": [
    {
     "data": {
      "text/plain": [
       "17377"
      ]
     },
     "execution_count": 7,
     "metadata": {},
     "output_type": "execute_result"
    }
   ],
   "source": [
    "df_sorted['flow_id'].nunique()"
   ]
  },
  {
   "cell_type": "code",
   "execution_count": 12,
   "id": "600069f8",
   "metadata": {},
   "outputs": [],
   "source": [
    "df_sorted.index = pd.RangeIndex(len(df_sorted.index))\n",
    "df_sorted.to_feather('GQUIC_non_encoding.feather')\n",
    "del df_sorted"
   ]
  },
  {
   "cell_type": "markdown",
   "id": "764c57d4",
   "metadata": {},
   "source": [
    "## Chuan hoa"
   ]
  },
  {
   "cell_type": "code",
   "execution_count": 50,
   "id": "22d79700",
   "metadata": {},
   "outputs": [],
   "source": [
    "df_sorted = pd.read_feather('GQUIC_non_encoding.feather')"
   ]
  },
  {
   "cell_type": "code",
   "execution_count": null,
   "id": "d25bd8ca",
   "metadata": {},
   "outputs": [],
   "source": [
    "# _,small_sample = train_test_split(df_sorted,frac=0.01)"
   ]
  },
  {
   "cell_type": "code",
   "execution_count": null,
   "id": "7f7f9336",
   "metadata": {},
   "outputs": [],
   "source": [
    "# small_sample.to_feather(\"data_sample.feather\",)"
   ]
  },
  {
   "cell_type": "code",
   "execution_count": 51,
   "id": "2e0e84b8",
   "metadata": {},
   "outputs": [
    {
     "data": {
      "text/plain": [
       "Youtube         5845.0\n",
       "FileTransfer    4451.0\n",
       "Music           4357.0\n",
       "VoIP            2724.0\n",
       "Name: Label, dtype: float64"
      ]
     },
     "execution_count": 51,
     "metadata": {},
     "output_type": "execute_result"
    }
   ],
   "source": [
    "(df_sorted.Label.value_counts()/20)"
   ]
  },
  {
   "cell_type": "code",
   "execution_count": 52,
   "id": "273e3e63",
   "metadata": {},
   "outputs": [
    {
     "data": {
      "image/png": "[encoded data removed]",
      "text/plain": [
       "<Figure size 1000x600 with 1 Axes>"
      ]
     },
     "metadata": {},
     "output_type": "display_data"
    }
   ],
   "source": [
    "fig = plt.figure(figsize=(10, 6))\n",
    "fig.suptitle(\"Thống kê nhãn trên tập GQUIC theo flow\")\n",
    "(df_sorted.Label.value_counts()/20).round(0).plot(kind=\"barh\")\n",
    "plt.savefig('image/GQUIC_label_flow.png')"
   ]
  },
  {
   "cell_type": "code",
   "execution_count": 53,
   "id": "05c0a18a",
   "metadata": {},
   "outputs": [],
   "source": [
    "df_sorted = (df_sorted.pipe(label_encoding, ['Label']))"
   ]
  },
  {
   "cell_type": "code",
   "execution_count": 54,
   "id": "4231eadd",
   "metadata": {},
   "outputs": [],
   "source": [
    "df_sorted.to_feather('GQUIC_label_encoding.feather')\n",
    "\n",
    "del df_sorted"
   ]
  },
  {
   "cell_type": "markdown",
   "id": "cd561d20",
   "metadata": {},
   "source": [
    "## Chia du lieu cho test case, train, test"
   ]
  },
  {
   "cell_type": "code",
   "execution_count": 3,
   "id": "b2b799c3",
   "metadata": {},
   "outputs": [],
   "source": [
    "df_sorted = pd.read_feather('GQUIC_label_encoding.feather')"
   ]
  },
  {
   "cell_type": "code",
   "execution_count": 4,
   "id": "16898086",
   "metadata": {},
   "outputs": [
    {
     "data": {
      "text/plain": [
       "17377"
      ]
     },
     "execution_count": 4,
     "metadata": {},
     "output_type": "execute_result"
    }
   ],
   "source": [
    "df_sorted['flow_id'].nunique()"
   ]
  },
  {
   "cell_type": "code",
   "execution_count": 5,
   "id": "aac33fde",
   "metadata": {},
   "outputs": [
    {
     "data": {
      "text/plain": [
       "count    17377.0\n",
       "mean        20.0\n",
       "std          0.0\n",
       "min         20.0\n",
       "25%         20.0\n",
       "50%         20.0\n",
       "75%         20.0\n",
       "max         20.0\n",
       "Name: flow_id, dtype: float64"
      ]
     },
     "execution_count": 5,
     "metadata": {},
     "output_type": "execute_result"
    }
   ],
   "source": [
    "df_sorted['flow_id'].value_counts().describe()"
   ]
  },
  {
   "cell_type": "code",
   "execution_count": 6,
   "id": "8bb347bc",
   "metadata": {},
   "outputs": [
    {
     "name": "stdout",
     "output_type": "stream",
     "text": [
      "3475\n",
      "13902\n"
     ]
    }
   ],
   "source": [
    "training_data, test_case = train_test_split(df_sorted, 0.2)\n",
    "print(test_case['flow_id'].nunique())\n",
    "print(training_data['flow_id'].nunique())"
   ]
  },
  {
   "cell_type": "code",
   "execution_count": 7,
   "id": "debf18cd",
   "metadata": {},
   "outputs": [
    {
     "data": {
      "text/plain": [
       "count    3475.0\n",
       "mean       20.0\n",
       "std         0.0\n",
       "min        20.0\n",
       "25%        20.0\n",
       "50%        20.0\n",
       "75%        20.0\n",
       "max        20.0\n",
       "Name: flow_id, dtype: float64"
      ]
     },
     "execution_count": 7,
     "metadata": {},
     "output_type": "execute_result"
    }
   ],
   "source": [
    "test_case['flow_id'].value_counts().describe()"
   ]
  },
  {
   "cell_type": "code",
   "execution_count": 8,
   "id": "04ec68cd",
   "metadata": {},
   "outputs": [],
   "source": [
    "del df_sorted"
   ]
  },
  {
   "cell_type": "code",
   "execution_count": 9,
   "id": "8b58415d",
   "metadata": {},
   "outputs": [
    {
     "data": {
      "text/plain": [
       "Index(['time_epoch', 'frame_number', 'stream_id', 'port_src', 'port_dst', '0',\n",
       "       '1', '2', '3', '4',\n",
       "       ...\n",
       "       '1453', '1454', '1455', '1456', '1457', '1458', '1459', 'Label',\n",
       "       'File_name', 'flow_id'],\n",
       "      dtype='object', length=1468)"
      ]
     },
     "execution_count": 9,
     "metadata": {},
     "output_type": "execute_result"
    }
   ],
   "source": [
    "test_case.columns"
   ]
  },
  {
   "cell_type": "code",
   "execution_count": 10,
   "id": "c9a6bfd1",
   "metadata": {},
   "outputs": [
    {
     "name": "stdout",
     "output_type": "stream",
     "text": [
      "Adding data from 0 to 695 for client : client_1\n",
      "Adding data from 695 to 1390 for client : client_2\n",
      "Adding data from 1390 to 2085 for client : client_3\n",
      "Adding data from 2085 to 2780 for client : client_4\n",
      "Adding data from 2780 to 3475 for client : client_5\n"
     ]
    }
   ],
   "source": [
    "test_case = test_case[['time_epoch', 'frame_number', 'stream_id', 'port_src', 'port_dst', 'Label', 'File_name', 'flow_id']]\n",
    "split = 5\n",
    "DataFrameDict = test_case_split(test_case,split)\n",
    "for df in DataFrameDict.keys():\n",
    "    csv_path = \"gquic_test_case/\"+df + \".feather\"\n",
    "    DataFrameDict[df].index = index_reset(DataFrameDict[df])\n",
    "    DataFrameDict[df].to_feather(csv_path)"
   ]
  },
  {
   "cell_type": "code",
   "execution_count": 11,
   "id": "52c576b7",
   "metadata": {},
   "outputs": [
    {
     "data": {
      "text/plain": [
       "Index(['time_epoch', 'frame_number', 'stream_id', 'port_src', 'port_dst', '0',\n",
       "       '1', '2', '3', '4',\n",
       "       ...\n",
       "       '1453', '1454', '1455', '1456', '1457', '1458', '1459', 'Label',\n",
       "       'File_name', 'flow_id'],\n",
       "      dtype='object', length=1468)"
      ]
     },
     "execution_count": 11,
     "metadata": {},
     "output_type": "execute_result"
    }
   ],
   "source": [
    "training_data.columns"
   ]
  },
  {
   "cell_type": "code",
   "execution_count": 12,
   "id": "321ab050",
   "metadata": {},
   "outputs": [],
   "source": [
    "training_data.drop(['time_epoch', 'frame_number','port_src', 'port_dst' ,'File_name','stream_id'],axis=1,inplace=True)\n",
    "train, test = train_test_split(training_data, frac=0.2)\n",
    "del training_data\n",
    "train = train.sort_values(['flow_id'])\n",
    "train.index = index_reset(train)\n",
    "train.to_feather('GQUIC_data.feather')\n",
    "test = test.sort_values(['flow_id'])\n",
    "test.index = index_reset(test)\n",
    "test.to_feather(\"GQUIC_test.feather\")"
   ]
  },
  {
   "cell_type": "code",
   "execution_count": 13,
   "id": "84759618",
   "metadata": {},
   "outputs": [
    {
     "data": {
      "text/plain": [
       "Index(['0', '1', '2', '3', '4', '5', '6', '7', '8', '9',\n",
       "       ...\n",
       "       '1452', '1453', '1454', '1455', '1456', '1457', '1458', '1459', 'Label',\n",
       "       'flow_id'],\n",
       "      dtype='object', length=1462)"
      ]
     },
     "execution_count": 13,
     "metadata": {},
     "output_type": "execute_result"
    }
   ],
   "source": [
    "test.columns"
   ]
  },
  {
   "cell_type": "code",
   "execution_count": 14,
   "id": "1f9e4224",
   "metadata": {},
   "outputs": [
    {
     "name": "stderr",
     "output_type": "stream",
     "text": [
      "/tmp/ipykernel_24172/4194481392.py:2: PerformanceWarning: DataFrame is highly fragmented.  This is usually the result of calling `frame.insert` many times, which has poor performance.  Consider joining all columns at once using pd.concat(axis=1) instead. To get a de-fragmented frame, use `newframe = frame.copy()`\n",
      "  train.insert(0, 'flow_id', first_column)\n"
     ]
    }
   ],
   "source": [
    "first_column = train.pop('flow_id')\n",
    "train.insert(0, 'flow_id', first_column)"
   ]
  },
  {
   "cell_type": "code",
   "execution_count": 15,
   "id": "db451c38",
   "metadata": {},
   "outputs": [
    {
     "name": "stderr",
     "output_type": "stream",
     "text": [
      "/tmp/ipykernel_24172/2047084605.py:2: PerformanceWarning: DataFrame is highly fragmented.  This is usually the result of calling `frame.insert` many times, which has poor performance.  Consider joining all columns at once using pd.concat(axis=1) instead. To get a de-fragmented frame, use `newframe = frame.copy()`\n",
      "  test.insert(0, 'flow_id', first_column)\n"
     ]
    }
   ],
   "source": [
    "first_column = test.pop('flow_id')\n",
    "test.insert(0, 'flow_id', first_column)"
   ]
  },
  {
   "cell_type": "code",
   "execution_count": 16,
   "id": "f6518ab9",
   "metadata": {},
   "outputs": [],
   "source": [
    "data_bytes = ['9','31','63','127','255','511','1023']\n",
    "for each_byte in data_bytes:\n",
    "    data_train = pd.concat([train.loc[:, : each_byte],train.iloc[:,-1:]],axis=1)\n",
    "    data_test = pd.concat([test.loc[:, : each_byte ],test.iloc[:,-1:]],axis=1)\n",
    "    each_byte = str(int(each_byte)+1)\n",
    "    data_train_name = \"GQUIC_data_\" + each_byte +\".feather\"\n",
    "    data_test_name = \"GQUIC_test_\" + each_byte +\".feather\"\n",
    "    data_train.to_feather(\"/home/onos/FL/Data_Processing/GQUIC_small/Train/\"+data_train_name)\n",
    "    data_test.to_feather(\"/home/onos/FL/Data_Processing/GQUIC_small/Test/\"+data_test_name)"
   ]
  },
  {
   "cell_type": "code",
   "execution_count": null,
   "id": "f6c51872",
   "metadata": {},
   "outputs": [],
   "source": [
    "del train,test,data_train,data_test"
   ]
  }
 ],
 "metadata": {
  "kernelspec": {
   "display_name": "venv",
   "language": "python",
   "name": "python3"
  },
  "language_info": {
   "codemirror_mode": {
    "name": "ipython",
    "version": 3
   },
   "file_extension": ".py",
   "mimetype": "text/x-python",
   "name": "python",
   "nbconvert_exporter": "python",
   "pygments_lexer": "ipython3",
   "version": "3.9.14"
  },
  "latex_envs": {
   "LaTeX_envs_menu_present": true,
   "autoclose": false,
   "autocomplete": true,
   "bibliofile": "biblio.bib",
   "cite_by": "apalike",
   "current_citInitial": 1,
   "eqLabelWithNumbers": true,
   "eqNumInitial": 1,
   "hotkeys": {
    "equation": "Ctrl-E",
    "itemize": "Ctrl-I"
   },
   "labels_anchors": false,
   "latex_user_defs": false,
   "report_style_numbering": false,
   "user_envs_cfg": false
  },
  "toc": {
   "base_numbering": 1,
   "nav_menu": {},
   "number_sections": true,
   "sideBar": true,
   "skip_h1_title": false,
   "title_cell": "Table of Contents",
   "title_sidebar": "Contents",
   "toc_cell": false,
   "toc_position": {},
   "toc_section_display": true,
   "toc_window_display": false
  },
  "vscode": {
   "interpreter": {
    "hash": "addd2fdd290c7c34336629330a81969ca1164c4689498c0841c953bddca49006"
   }
  }
 },
 "nbformat": 4,
 "nbformat_minor": 5
}
