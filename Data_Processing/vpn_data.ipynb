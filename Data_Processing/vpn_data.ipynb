{
 "cells": [
  {
   "cell_type": "code",
   "execution_count": 3,
   "id": "56ec2009",
   "metadata": {},
   "outputs": [],
   "source": [
    "import os\n",
    "import pandas as pd\n",
    "import numpy as np\n",
    "import glob\n",
    "import pyarrow.feather as feather\n",
    "\n",
    "from sklearn import preprocessing\n",
    "le = preprocessing.LabelEncoder()\n",
    "scale = preprocessing.MinMaxScaler()\n",
    "pd.set_option(\"display.max_rows\", None)\n",
    "\n",
    "\n",
    "def label_encoding(df, columns_list):\n",
    "    for col in columns_list:\n",
    "        df[col] = le.fit_transform(df[col])\n",
    "        le_name_mapping = dict(zip(le.classes_, le.transform(le.classes_)))\n",
    "        with open('Label_mapping_vpn.txt', 'a') as data:\n",
    "            data.write(col+\": \"+str(le_name_mapping) + \"\\n\")\n",
    "    return df\n",
    "\n",
    "\n",
    "def data_scale(df):\n",
    "    df.loc[:, '0': '127'] = df.loc[:, '0': '127'] / 255.0\n",
    "    df[['total_packet_lenght']] = scale.fit_transform(\n",
    "        df[['total_packet_lenght']])\n",
    "    return df\n",
    "\n",
    "\n",
    "def remove_protocol(df, list_protocol):\n",
    "    df = df.loc[~df['protocol'].isin(list_protocol)]\n",
    "    return df\n",
    "\n",
    "\n",
    "def remove_hello(df):\n",
    "    df = df[~df['info'].str.contains('Hello|Handshake|Cert')]\n",
    "    return df\n",
    "\n",
    "\n",
    "def final_remove(df):\n",
    "    df = df.drop(['ip_src', 'ip_dst',\n",
    "                 'info', 'data'], axis=1)\n",
    "    return df\n"
   ]
  },
  {
   "cell_type": "markdown",
   "id": "a33b2581",
   "metadata": {},
   "source": [
    "# Chat"
   ]
  },
  {
   "cell_type": "code",
   "execution_count": 4,
   "id": "48259186",
   "metadata": {},
   "outputs": [],
   "source": [
    "# get your working directory and target folder that contains all your files\n",
    "path = os.path.join(\n",
    "    os.getcwd(), '/home/onos/FL/Data Processing/rawds/vpn/Chat')\n",
    "\n",
    "files = [os.path.join(path, i) for i in os.listdir(\n",
    "    path) if os.path.isfile(os.path.join(path, i))]\n",
    "\n",
    "df_Chat = pd.DataFrame()\n",
    "\n",
    "# for every file in folder, read it and append to a empty dataframe with column filename as 'Label'\n",
    "for file in files:\n",
    "    _df_Chat = pd.read_csv(file, engine='pyarrow')\n",
    "    _df_Chat['Label'] = \"Chat\"\n",
    "    file_name = file.split('/')\n",
    "    _df_Chat['File_name'] = file_name[-1]\n",
    "    df_Chat = pd.concat([df_Chat, _df_Chat])\n",
    "del _df_Chat\n"
   ]
  },
  {
   "cell_type": "code",
   "execution_count": 5,
   "id": "d1a311ee",
   "metadata": {},
   "outputs": [],
   "source": [
    "remove_protocols = ['SSL', 'X11', 'XMPP/XML', 'OCSP', 'SSLv2','VNC','ICMP','SPOOLSS','SSLv3']"
   ]
  },
  {
   "cell_type": "code",
   "execution_count": 6,
   "id": "8dadb57c",
   "metadata": {},
   "outputs": [],
   "source": [
    "df_Chat = df_Chat.pipe(remove_protocol,remove_protocols).pipe(remove_hello).pipe(final_remove)"
   ]
  },
  {
   "cell_type": "code",
   "execution_count": 7,
   "id": "07274e4d",
   "metadata": {},
   "outputs": [
    {
     "data": {
      "text/plain": [
       "(1467, 8)"
      ]
     },
     "execution_count": 7,
     "metadata": {},
     "output_type": "execute_result"
    }
   ],
   "source": [
    "df_Chat.shape"
   ]
  },
  {
   "cell_type": "code",
   "execution_count": 8,
   "id": "07585831",
   "metadata": {},
   "outputs": [],
   "source": [
    "df_Chat.to_csv(\n",
    "    \"vpn_csv/df_Chat.csv\", index=False)\n",
    "del df_Chat\n"
   ]
  },
  {
   "cell_type": "markdown",
   "id": "b9951caf",
   "metadata": {},
   "source": [
    "# Email"
   ]
  },
  {
   "cell_type": "code",
   "execution_count": 9,
   "id": "7b28754a",
   "metadata": {},
   "outputs": [
    {
     "name": "stdout",
     "output_type": "stream",
     "text": [
      "/home/onos/FL/Data Processing/rawds/vpn/Email/vpn_email2a.csv\n"
     ]
    }
   ],
   "source": [
    "# get your working directory and target folder that contains all your files\n",
    "path = os.path.join(os.getcwd(), 'rawds/vpn/Email')\n",
    "\n",
    "files = [os.path.join(path, i) for i in os.listdir(\n",
    "    path) if os.path.isfile(os.path.join(path, i))]\n",
    "\n",
    "df_Email = pd.DataFrame()\n",
    "\n",
    "# for every file in folder, read it and append to a empty dataframe with column filename as 'Label'\n",
    "for file in files:\n",
    "    _df_Email = pd.read_csv(file, engine='pyarrow')\n",
    "    print(file)\n",
    "    _df_Email['Label'] = \"Email\"\n",
    "    file_name = file.split('/')\n",
    "    _df_Email['File_name'] = file_name[-1]\n",
    "    df_Email = pd.concat([df_Email, _df_Email])\n",
    "del _df_Email\n"
   ]
  },
  {
   "cell_type": "code",
   "execution_count": 10,
   "id": "2dca2a56",
   "metadata": {},
   "outputs": [],
   "source": [
    "df_Email = df_Email.pipe(remove_protocol,remove_protocols).pipe(remove_hello).pipe(final_remove)"
   ]
  },
  {
   "cell_type": "code",
   "execution_count": 11,
   "id": "832c3b71",
   "metadata": {},
   "outputs": [
    {
     "data": {
      "text/plain": [
       "(929, 8)"
      ]
     },
     "execution_count": 11,
     "metadata": {},
     "output_type": "execute_result"
    }
   ],
   "source": [
    "df_Email.shape"
   ]
  },
  {
   "cell_type": "code",
   "execution_count": 12,
   "id": "df1885d3",
   "metadata": {},
   "outputs": [],
   "source": [
    "df_Email.to_csv(\"vpn_csv/df_Email.csv\", index=False)\n",
    "del df_Email\n"
   ]
  },
  {
   "cell_type": "markdown",
   "id": "45d3548b",
   "metadata": {},
   "source": [
    "# FileTransfer"
   ]
  },
  {
   "cell_type": "code",
   "execution_count": 13,
   "id": "c64b3efd",
   "metadata": {},
   "outputs": [
    {
     "name": "stdout",
     "output_type": "stream",
     "text": [
      "/home/onos/FL/Data Processing/rawds/vpn/FileTransfer/vpn_sftp_A.csv\n",
      "/home/onos/FL/Data Processing/rawds/vpn/FileTransfer/vpn_skype_files1a.csv\n",
      "/home/onos/FL/Data Processing/rawds/vpn/FileTransfer/vpn_ftps_A.csv\n"
     ]
    }
   ],
   "source": [
    "# get your working directory and target folder that contains all your files\n",
    "path = os.path.join(os.getcwd(), 'rawds/vpn/FileTransfer')\n",
    "\n",
    "files = [os.path.join(path, i) for i in os.listdir(\n",
    "    path) if os.path.isfile(os.path.join(path, i))]\n",
    "\n",
    "df_FileTransfer = pd.DataFrame()\n",
    "\n",
    "# for every file in folder, read it and append to a empty dataframe with column filename as 'Label'\n",
    "for file in files:\n",
    "    _df_FileTransfer = pd.read_csv(file, engine='pyarrow')\n",
    "    print(file)\n",
    "    _df_FileTransfer['Label'] = \"FileTransfer\"\n",
    "    file_name = file.split('/')\n",
    "    _df_FileTransfer['File_name'] = file_name[-1]\n",
    "    df_FileTransfer = pd.concat([df_FileTransfer, _df_FileTransfer])\n",
    "del _df_FileTransfer\n"
   ]
  },
  {
   "cell_type": "code",
   "execution_count": 14,
   "id": "6dee953b",
   "metadata": {},
   "outputs": [
    {
     "data": {
      "text/plain": [
       "TCP        2023\n",
       "UDP        1135\n",
       "TLSv1.2     375\n",
       "FTP         118\n",
       "ICMP         68\n",
       "GQUIC        63\n",
       "SSHv2        54\n",
       "SSLv3        49\n",
       "TLSv1        35\n",
       "SSH           6\n",
       "Name: protocol, dtype: int64"
      ]
     },
     "execution_count": 14,
     "metadata": {},
     "output_type": "execute_result"
    }
   ],
   "source": [
    "df_FileTransfer.protocol.value_counts()"
   ]
  },
  {
   "cell_type": "code",
   "execution_count": 15,
   "id": "309e49b1",
   "metadata": {},
   "outputs": [],
   "source": [
    "df_FileTransfer = df_FileTransfer.pipe(remove_protocol,remove_protocols).pipe(remove_hello).pipe(final_remove)"
   ]
  },
  {
   "cell_type": "code",
   "execution_count": 16,
   "id": "d8638f0a",
   "metadata": {},
   "outputs": [
    {
     "data": {
      "text/plain": [
       "(3630, 8)"
      ]
     },
     "execution_count": 16,
     "metadata": {},
     "output_type": "execute_result"
    }
   ],
   "source": [
    "df_FileTransfer.shape"
   ]
  },
  {
   "cell_type": "code",
   "execution_count": 17,
   "id": "96e36640",
   "metadata": {},
   "outputs": [],
   "source": [
    "df_FileTransfer.to_csv(\"vpn_csv/df_FileTranfer.csv\", index=False)\n",
    "del df_FileTransfer\n"
   ]
  },
  {
   "cell_type": "markdown",
   "id": "6127c8b5",
   "metadata": {},
   "source": [
    "# Streaming"
   ]
  },
  {
   "cell_type": "code",
   "execution_count": 18,
   "id": "dea42eb8",
   "metadata": {},
   "outputs": [
    {
     "name": "stdout",
     "output_type": "stream",
     "text": [
      "/home/onos/FL/Data Processing/rawds/vpn/Streaming/vpn_youtube_A.csv\n",
      "/home/onos/FL/Data Processing/rawds/vpn/Streaming/vpn_netflix_A.csv\n",
      "/home/onos/FL/Data Processing/rawds/vpn/Streaming/vpn_vimeo_A.csv\n"
     ]
    }
   ],
   "source": [
    "# get your working directory and target folder that contains all your files\n",
    "path = os.path.join(os.getcwd(), 'rawds/vpn/Streaming')\n",
    "\n",
    "files = [os.path.join(path, i) for i in os.listdir(\n",
    "    path) if os.path.isfile(os.path.join(path, i))]\n",
    "\n",
    "df_Streaming = pd.DataFrame()\n",
    "\n",
    "# for every file in folder, read it and append to a empty dataframe with column filename as 'Label'\n",
    "for file in files:\n",
    "    _df_Streaming = pd.read_csv(file, engine='pyarrow')\n",
    "    print(file)\n",
    "    _df_Streaming['Label'] = \"Streaming\"\n",
    "    file_name = file.split('/')\n",
    "    _df_Streaming['File_name'] = file_name[-1]\n",
    "    df_Streaming = pd.concat([df_Streaming,_df_Streaming])\n",
    "del _df_Streaming\n"
   ]
  },
  {
   "cell_type": "code",
   "execution_count": 19,
   "id": "beb2528f",
   "metadata": {},
   "outputs": [],
   "source": [
    "df_Streaming = df_Streaming.pipe(remove_protocol,remove_protocols).pipe(remove_hello).pipe(final_remove)"
   ]
  },
  {
   "cell_type": "code",
   "execution_count": 20,
   "id": "1e532cb2",
   "metadata": {},
   "outputs": [
    {
     "data": {
      "text/plain": [
       "(2563, 8)"
      ]
     },
     "execution_count": 20,
     "metadata": {},
     "output_type": "execute_result"
    }
   ],
   "source": [
    "df_Streaming.shape"
   ]
  },
  {
   "cell_type": "code",
   "execution_count": 21,
   "id": "e668f22c",
   "metadata": {},
   "outputs": [],
   "source": [
    "df_Streaming.to_csv(\n",
    "    \"vpn_csv/df_Streaming.csv\", index=False)\n",
    "del df_Streaming\n"
   ]
  },
  {
   "cell_type": "markdown",
   "id": "f8d62cee",
   "metadata": {},
   "source": [
    "# VoIP"
   ]
  },
  {
   "cell_type": "code",
   "execution_count": 22,
   "id": "d219e3b5",
   "metadata": {},
   "outputs": [
    {
     "name": "stdout",
     "output_type": "stream",
     "text": [
      "/home/onos/FL/Data Processing/rawds/vpn/VoIP/vpn_facebook_audio2.csv\n",
      "/home/onos/FL/Data Processing/rawds/vpn/VoIP/vpn_skype_audio2.csv\n",
      "/home/onos/FL/Data Processing/rawds/vpn/VoIP/vpn_spotify_A.csv\n",
      "/home/onos/FL/Data Processing/rawds/vpn/VoIP/vpn_hangouts_audio2.csv\n",
      "/home/onos/FL/Data Processing/rawds/vpn/VoIP/vpn_voipbuster1a.csv\n",
      "/home/onos/FL/Data Processing/rawds/vpn/VoIP/vpn_hangouts_audio1.csv\n",
      "/home/onos/FL/Data Processing/rawds/vpn/VoIP/vpn_skype_audio1.csv\n"
     ]
    }
   ],
   "source": [
    "# get your working directory and target folder that contains all your files\n",
    "path = os.path.join(os.getcwd(), 'rawds/vpn/VoIP')\n",
    "\n",
    "files = [os.path.join(path, i) for i in os.listdir(\n",
    "    path) if os.path.isfile(os.path.join(path, i))]\n",
    "\n",
    "df_VoIP = pd.DataFrame()\n",
    "\n",
    "# for every file in folder, read it and append to a empty dataframe with column filename as 'Label'\n",
    "for file in files:\n",
    "    _df_VoIP = pd.read_csv(file, engine='pyarrow')\n",
    "    print(file)\n",
    "    _df_VoIP['Label'] = \"VoIP\"\n",
    "    file_name = file.split('/')\n",
    "    _df_VoIP['File_name'] = file_name[-1]\n",
    "    df_VoIP = pd.concat([df_VoIP,_df_VoIP])\n",
    "del _df_VoIP\n"
   ]
  },
  {
   "cell_type": "code",
   "execution_count": 23,
   "id": "e54b8e65",
   "metadata": {},
   "outputs": [
    {
     "data": {
      "text/plain": [
       "TLSv1.2     5238\n",
       "UDP         1881\n",
       "TCP         1471\n",
       "TLSv1        505\n",
       "GQUIC        210\n",
       "SSL          198\n",
       "STUN         196\n",
       "HTTP          94\n",
       "TLSv1.1       54\n",
       "OCSP          53\n",
       "ICMP          18\n",
       "SSLv3          8\n",
       "HTTP/XML       4\n",
       "Name: protocol, dtype: int64"
      ]
     },
     "execution_count": 23,
     "metadata": {},
     "output_type": "execute_result"
    }
   ],
   "source": [
    "df_VoIP.protocol.value_counts()"
   ]
  },
  {
   "cell_type": "code",
   "execution_count": 24,
   "id": "8a5ac393",
   "metadata": {},
   "outputs": [],
   "source": [
    "df_VoIP = df_VoIP.pipe(remove_protocol,remove_protocols).pipe(remove_hello).pipe(final_remove)"
   ]
  },
  {
   "cell_type": "code",
   "execution_count": 25,
   "id": "b410058d",
   "metadata": {},
   "outputs": [
    {
     "data": {
      "text/plain": [
       "(8060, 8)"
      ]
     },
     "execution_count": 25,
     "metadata": {},
     "output_type": "execute_result"
    }
   ],
   "source": [
    "df_VoIP.shape"
   ]
  },
  {
   "cell_type": "code",
   "execution_count": 26,
   "id": "9253b32b",
   "metadata": {},
   "outputs": [],
   "source": [
    "df_VoIP.to_csv(\n",
    "    \"vpn_csv/df_VoIP.csv\", index=False)\n",
    "del df_VoIP\n"
   ]
  },
  {
   "cell_type": "markdown",
   "id": "84b97a7e",
   "metadata": {},
   "source": [
    "# P2P"
   ]
  },
  {
   "cell_type": "code",
   "execution_count": 27,
   "id": "73662b3a",
   "metadata": {},
   "outputs": [
    {
     "name": "stdout",
     "output_type": "stream",
     "text": [
      "/home/onos/FL/Data Processing/rawds/vpn/P2P/vpn_bittorrent.csv\n"
     ]
    }
   ],
   "source": [
    "# get your working directory and target folder that contains all your files\n",
    "path = os.path.join(os.getcwd(), 'rawds/vpn/P2P')\n",
    "\n",
    "files = [os.path.join(path, i) for i in os.listdir(\n",
    "    path) if os.path.isfile(os.path.join(path, i))]\n",
    "\n",
    "df_P2P = pd.DataFrame()\n",
    "\n",
    "# for every file in folder, read it and append to a empty dataframe with column filename as 'Label'\n",
    "for file in files:\n",
    "    _df_P2P = pd.read_csv(file, engine='pyarrow')\n",
    "    print(file)\n",
    "    _df_P2P['Label'] = \"P2P\"\n",
    "    file_name = file.split('/')\n",
    "    _df_P2P['File_name'] = file_name[-1]\n",
    "    df_P2P = pd.concat([df_P2P,_df_P2P])\n",
    "del _df_P2P\n"
   ]
  },
  {
   "cell_type": "code",
   "execution_count": 28,
   "id": "9776c5f0",
   "metadata": {},
   "outputs": [
    {
     "data": {
      "text/plain": [
       "TCP         3567\n",
       "UDP          371\n",
       "HTTP         315\n",
       "TLSv1.2       65\n",
       "ICMP          13\n",
       "SSLv3          8\n",
       "HTTP/XML       1\n",
       "Name: protocol, dtype: int64"
      ]
     },
     "execution_count": 28,
     "metadata": {},
     "output_type": "execute_result"
    }
   ],
   "source": [
    "df_P2P.protocol.value_counts()"
   ]
  },
  {
   "cell_type": "code",
   "execution_count": 29,
   "id": "38b723c4",
   "metadata": {},
   "outputs": [],
   "source": [
    "df_P2P = df_P2P.pipe(remove_protocol,remove_protocols).pipe(remove_hello).pipe(final_remove)"
   ]
  },
  {
   "cell_type": "code",
   "execution_count": 30,
   "id": "0bdba1db",
   "metadata": {},
   "outputs": [
    {
     "data": {
      "text/plain": [
       "(4270, 8)"
      ]
     },
     "execution_count": 30,
     "metadata": {},
     "output_type": "execute_result"
    }
   ],
   "source": [
    "df_P2P.shape"
   ]
  },
  {
   "cell_type": "code",
   "execution_count": 31,
   "id": "783e91b4",
   "metadata": {},
   "outputs": [],
   "source": [
    "df_P2P.to_csv(\n",
    "    \"vpn_csv/df_P2P.csv\", index=False)\n",
    "del df_P2P\n"
   ]
  },
  {
   "cell_type": "markdown",
   "id": "5cbcfae2",
   "metadata": {},
   "source": [
    "# Final"
   ]
  },
  {
   "cell_type": "code",
   "execution_count": 32,
   "id": "4740d621",
   "metadata": {},
   "outputs": [],
   "source": [
    "path = os.path.join(os.getcwd(),  '/home/onos/FL/Data Processing/vpn_csv')\n",
    "all_files = glob.glob(os.path.join(path, \"*.csv\"))\n",
    "df_vpn = pd.concat((pd.read_csv(f) for f in all_files), ignore_index=True)\n"
   ]
  },
  {
   "cell_type": "code",
   "execution_count": 33,
   "id": "520aece4",
   "metadata": {},
   "outputs": [],
   "source": [
    "import matplotlib.pyplot as plt\n"
   ]
  },
  {
   "cell_type": "code",
   "execution_count": 34,
   "id": "04399ef4",
   "metadata": {},
   "outputs": [
    {
     "data": {
      "image/png": "[encoded data removed]",
      "text/plain": [
       "<Figure size 1000x600 with 1 Axes>"
      ]
     },
     "metadata": {},
     "output_type": "display_data"
    }
   ],
   "source": [
    "fig = plt.figure(figsize=(10, 6))\n",
    "fig.suptitle(\"Thống kê nhãn trên tập vpn theo flow\")\n",
    "(df_vpn.Label.value_counts()/20).plot(kind=\"barh\")\n",
    "plt.savefig('image/vpn_label_flow.png')\n"
   ]
  },
  {
   "cell_type": "code",
   "execution_count": 36,
   "id": "b7899244",
   "metadata": {},
   "outputs": [
    {
     "data": {
      "text/plain": [
       "VoIP            403.0\n",
       "P2P             214.0\n",
       "FileTransfer    182.0\n",
       "Streaming       128.0\n",
       "Chat             73.0\n",
       "Email            46.0\n",
       "Name: Label, dtype: float64"
      ]
     },
     "execution_count": 36,
     "metadata": {},
     "output_type": "execute_result"
    }
   ],
   "source": [
    "(df_vpn.Label.value_counts()/20).round(0)"
   ]
  },
  {
   "cell_type": "code",
   "execution_count": 224,
   "id": "13ceb5b8",
   "metadata": {},
   "outputs": [
    {
     "data": {
      "text/plain": [
       "Index(['time_epoch', 'frame_number', 'stream_id', 'ip_proto', 'protocol',\n",
       "       'length', '0', '1', '2', '3',\n",
       "       ...\n",
       "       '1452', '1453', '1454', '1455', '1456', '1457', '1458', '1459', 'Label',\n",
       "       'File_name'],\n",
       "      dtype='object', length=1468)"
      ]
     },
     "execution_count": 224,
     "metadata": {},
     "output_type": "execute_result"
    }
   ],
   "source": [
    "df_vpn.columns"
   ]
  },
  {
   "cell_type": "code",
   "execution_count": 225,
   "id": "885c9ff3",
   "metadata": {},
   "outputs": [],
   "source": [
    "df_vpn = df_vpn.pipe(label_encoding,['protocol', 'Label'])"
   ]
  },
  {
   "cell_type": "code",
   "execution_count": 226,
   "id": "a09c6e93",
   "metadata": {},
   "outputs": [],
   "source": [
    "from sklearn.model_selection import train_test_split\n",
    "\n",
    "train, test_case = train_test_split(df_vpn, test_size=0.2)\n",
    "\n",
    "train = train.drop(['time_epoch', 'frame_number', 'File_name'],axis=1)\n",
    "train, test = train_test_split(train, test_size=0.2)\n",
    "train = train.drop(['stream_id'],axis=1)\n",
    "train.to_csv(\"vpn_data.csv\", index=False)\n",
    "test.to_csv(\"vpn_test.csv\", index=False)"
   ]
  },
  {
   "cell_type": "code",
   "execution_count": 227,
   "id": "d01adc23",
   "metadata": {},
   "outputs": [
    {
     "name": "stdout",
     "output_type": "stream",
     "text": [
      "Adding data from 0 to 836 for client : client_1\n",
      "Adding data from 836 to 1672 for client : client_2\n",
      "Adding data from 1672 to 2508 for client : client_3\n",
      "Adding data from 2508 to 3344 for client : client_4\n",
      "Adding data from 3344 to 4180 for client : client_5\n"
     ]
    }
   ],
   "source": [
    "test_case = test_case[['time_epoch', 'frame_number', 'stream_id', 'length', 'Label', 'File_name']]\n",
    "split = 5\n",
    "total_data_count = test_case.shape[0]\n",
    "data_per_set = int(np.floor(total_data_count/split))\n",
    "DataFrameDict = {}\n",
    "for i in range(1, split+1):\n",
    "    client_name = \"client_\" + str(i)\n",
    "    start = data_per_set * (i-1)\n",
    "    end = data_per_set * i\n",
    "\n",
    "    print(f\"Adding data from {start} to {end} for client : {client_name}\")\n",
    "    DataFrameDict[client_name] = test_case[start:end]\n",
    "for df in DataFrameDict.keys():\n",
    "    csv_path = \"vpn_test_case/\"+df + \".csv\"\n",
    "    DataFrameDict[df].to_csv(csv_path,index=False)"
   ]
  },
  {
   "cell_type": "code",
   "execution_count": 228,
   "id": "43d45486",
   "metadata": {},
   "outputs": [],
   "source": [
    "# index = 0\n",
    "# with pd.read_csv(\"vpn_data.csv\", chunksize=1000000) as reader:\n",
    "#     for data in reader:\n",
    "#         path = '/home/onos/FL/Data Processing/vpn_arrow/vpn_data({}).arrow'.format(index)\n",
    "#         feather.write_feather(data, path)\n",
    "#         index += 1\n"
   ]
  },
  {
   "cell_type": "code",
   "execution_count": 229,
   "id": "f56476ef",
   "metadata": {},
   "outputs": [],
   "source": [
    "# df_vpn.info()\n",
    "# df_vpn.head(2)\n",
    "# df_vpn = df_vpn.astype('float16')\n",
    "# df_vpn.head(2)\n"
   ]
  },
  {
   "cell_type": "code",
   "execution_count": 230,
   "id": "23439818",
   "metadata": {},
   "outputs": [],
   "source": [
    "# df_vpn.info()\n"
   ]
  },
  {
   "cell_type": "code",
   "execution_count": 231,
   "id": "ea03c708",
   "metadata": {},
   "outputs": [],
   "source": [
    "# df_vpn[\"Label\"] = df_vpn[\"Label\"].astype(\"int8\")\n"
   ]
  },
  {
   "cell_type": "code",
   "execution_count": 232,
   "id": "36f18859",
   "metadata": {},
   "outputs": [],
   "source": [
    "# df_vpn.info()\n"
   ]
  },
  {
   "cell_type": "code",
   "execution_count": 233,
   "id": "78141992",
   "metadata": {},
   "outputs": [],
   "source": [
    "# df = pd.read_csv(\"iris.csv\")\n"
   ]
  },
  {
   "cell_type": "code",
   "execution_count": 234,
   "id": "e43ac82e",
   "metadata": {},
   "outputs": [],
   "source": [
    "# df.info()\n"
   ]
  },
  {
   "cell_type": "code",
   "execution_count": 235,
   "id": "8292e8c4",
   "metadata": {},
   "outputs": [],
   "source": [
    "# df = (df.pipe(label_encoding, ['variety']))\n"
   ]
  },
  {
   "cell_type": "code",
   "execution_count": 236,
   "id": "0b7b38fe",
   "metadata": {},
   "outputs": [],
   "source": [
    "# df.info()\n"
   ]
  },
  {
   "cell_type": "code",
   "execution_count": 237,
   "id": "1b71c975",
   "metadata": {},
   "outputs": [],
   "source": [
    "# df.to_csv(\"iris.csv\")\n"
   ]
  },
  {
   "cell_type": "code",
   "execution_count": null,
   "id": "a0fa951e",
   "metadata": {},
   "outputs": [],
   "source": []
  }
 ],
 "metadata": {
  "kernelspec": {
   "display_name": "Python 3.9.14 ('venv': venv)",
   "language": "python",
   "name": "python3"
  },
  "language_info": {
   "codemirror_mode": {
    "name": "ipython",
    "version": 3
   },
   "file_extension": ".py",
   "mimetype": "text/x-python",
   "name": "python",
   "nbconvert_exporter": "python",
   "pygments_lexer": "ipython3",
   "version": "3.9.14 (main, Sep 18 2022, 16:34:37) \n[GCC 7.5.0]"
  },
  "latex_envs": {
   "LaTeX_envs_menu_present": true,
   "autoclose": false,
   "autocomplete": true,
   "bibliofile": "biblio.bib",
   "cite_by": "apalike",
   "current_citInitial": 1,
   "eqLabelWithNumbers": true,
   "eqNumInitial": 1,
   "hotkeys": {
    "equation": "Ctrl-E",
    "itemize": "Ctrl-I"
   },
   "labels_anchors": false,
   "latex_user_defs": false,
   "report_style_numbering": false,
   "user_envs_cfg": false
  },
  "toc": {
   "base_numbering": 1,
   "nav_menu": {},
   "number_sections": true,
   "sideBar": true,
   "skip_h1_title": false,
   "title_cell": "Table of Contents",
   "title_sidebar": "Contents",
   "toc_cell": false,
   "toc_position": {},
   "toc_section_display": true,
   "toc_window_display": false
  },
  "vscode": {
   "interpreter": {
    "hash": "addd2fdd290c7c34336629330a81969ca1164c4689498c0841c953bddca49006"
   }
  }
 },
 "nbformat": 4,
 "nbformat_minor": 5
}
