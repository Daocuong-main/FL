{
  "cells": [
    {
      "cell_type": "code",
      "execution_count": 107,
      "metadata": {
        "id": "bZAnYwAkdAFl"
      },
      "outputs": [],
      "source": [
        "from time import time, localtime\n",
        "import numpy as np\n",
        "from utils import plot_graph\n",
        "import tensorflow_federated as tff\n",
        "import tensorflow as tf\n",
        "from sklearn.preprocessing import MinMaxScaler\n",
        "from sklearn.model_selection import train_test_split\n",
        "from keras import losses, metrics, optimizers\n",
        "import random\n",
        "import pandas as pd\n",
        "import sys\n",
        "import matplotlib.pyplot as plt\n",
        "import nest_asyncio\n",
        "from pathlib import Path\n",
        "from checkpoint_manager import FileCheckpointManager\n",
        "import tensorflow_addons as tfa\n",
        "nest_asyncio.apply()\n",
        "SEED = 1337\n",
        "tf.random.set_seed(SEED)\n"
      ]
    },
    {
      "cell_type": "markdown",
      "metadata": {},
      "source": [
        "Lựa chọn model <br>\n",
        "Thay models.<Ten_model>"
      ]
    },
    {
      "cell_type": "code",
      "execution_count": 108,
      "metadata": {},
      "outputs": [],
      "source": [
        "from models.Linear_new import create_keras_model\n"
      ]
    },
    {
      "cell_type": "markdown",
      "metadata": {},
      "source": [
        "Thay đổi các siêu tham số trong cell dưới <br>\n",
        "**experiment_name:** Tên bộ dữ liệu được sử dụng, <Tên dữ liệu>_<Số byte sử dụng> <br>\n",
        "**method:** Mô hình sử dụng <br>\n",
        "**client_lr, server_lr:** Learning rate của client và server, khi fine tune bắt đầu từ 1 và giảm dần xuống 3e-4 <br>\n",
        "**NUM_ROUNDS:** Số vòng lặp (Bắt đầu từ 1 và tăng dần lên 3000 nếu mô hình chưa hội tụ - 1/100/200/300/400/500/.../3000) <Br>\n",
        "**BATCH_SIZE:** Kích thước batch (Bắt đầu từ 8 và tăng dần lên 64) 8/16/32/64 <br>\n",
        "**split:** Để nguyên là 5"
      ]
    },
    {
      "cell_type": "markdown",
      "metadata": {},
      "source": [
        "byte_number (string): Cac byte cua packet, bao gom 10, 32, 64, 128, 256, 512, 1024, 1460"
      ]
    },
    {
      "cell_type": "code",
      "execution_count": 109,
      "metadata": {},
      "outputs": [],
      "source": [
        "byte_number = \"512\"\n"
      ]
    },
    {
      "cell_type": "code",
      "execution_count": 110,
      "metadata": {
        "id": "ZYYi42tYdAFp"
      },
      "outputs": [],
      "source": [
        "experiment_name = \"GQUIC_\" + byte_number\n",
        "method = \"nonFL_Linear_new_WO_FS\"\n",
        "client_lr = 3e-4\n",
        "NUM_ROUNDS = 100\n",
        "BATCH_SIZE = 32\n"
      ]
    },
    {
      "cell_type": "code",
      "execution_count": 111,
      "metadata": {},
      "outputs": [],
      "source": [
        "this_dir = Path.cwd()\n",
        "model_dir = this_dir / \"sdn_saved_models\" / experiment_name / method\n",
        "output_dir = this_dir / \"sdn_results\" / experiment_name / method\n",
        "\n",
        "if not model_dir.exists():\n",
        "    model_dir.mkdir(parents=True)\n",
        "\n",
        "if not output_dir.exists():\n",
        "    output_dir.mkdir(parents=True)\n"
      ]
    },
    {
      "cell_type": "code",
      "execution_count": 112,
      "metadata": {},
      "outputs": [],
      "source": [
        "def sec_to_hours(seconds):\n",
        "    a = seconds//3600\n",
        "    b = (seconds % 3600)//60\n",
        "    c = (seconds % 3600) % 60\n",
        "    d = \"{:.0f} hours {:.0f} mins {:.0f} seconds\".format(a, b, c)\n",
        "    return d\n"
      ]
    },
    {
      "cell_type": "code",
      "execution_count": 113,
      "metadata": {},
      "outputs": [],
      "source": [
        "def most_frequent(List):\n",
        "    return max(set(List), key=List.count)\n"
      ]
    },
    {
      "cell_type": "markdown",
      "metadata": {},
      "source": [
        "### Đọc dữ liệu"
      ]
    },
    {
      "cell_type": "code",
      "execution_count": 114,
      "metadata": {},
      "outputs": [],
      "source": [
        "train_dir = '/home/onos/FL/Data_Processing/GQUIC_small/Train/GQUIC_data_' + byte_number + '.feather'\n",
        "test_dir = '/home/onos/FL/Data_Processing/GQUIC_small/Test//GQUIC_test_' + byte_number + '.feather'\n",
        "data = pd.read_feather(train_dir)\n",
        "test = pd.read_feather(test_dir)\n"
      ]
    },
    {
      "cell_type": "code",
      "execution_count": 115,
      "metadata": {},
      "outputs": [],
      "source": [
        "# data.drop(['length'],axis=1,inplace=True)\n",
        "# test.drop(['length'],axis=1,inplace=True)\n"
      ]
    },
    {
      "cell_type": "code",
      "execution_count": 116,
      "metadata": {},
      "outputs": [],
      "source": [
        "\n",
        "result = test.groupby('flow_id')['Label'].apply(list).to_dict()\n",
        "flow_label = []\n",
        "for flow in result:\n",
        "    flow_label.append(most_frequent(result[flow]))\n"
      ]
    },
    {
      "cell_type": "code",
      "execution_count": 117,
      "metadata": {},
      "outputs": [],
      "source": [
        "true_test = test.drop('flow_id', axis=1)\n"
      ]
    },
    {
      "cell_type": "code",
      "execution_count": 118,
      "metadata": {},
      "outputs": [
        {
          "name": "stdout",
          "output_type": "stream",
          "text": [
            "512 4\n"
          ]
        }
      ],
      "source": [
        "NUM_FEATURE = len(true_test.columns)-1\n",
        "NUM_CLASSES = len(np.unique(true_test['Label']))\n",
        "print(NUM_FEATURE, NUM_CLASSES)\n"
      ]
    },
    {
      "cell_type": "code",
      "execution_count": 119,
      "metadata": {},
      "outputs": [],
      "source": [
        "y_test = true_test['Label'].to_numpy()\n",
        "x_test = true_test.drop('Label', axis=1).to_numpy()/255\n",
        "y_train = data['Label'].to_numpy()\n",
        "x_train = data.drop(['Label'], axis=1).to_numpy()/255"
      ]
    },
    {
      "cell_type": "code",
      "execution_count": 120,
      "metadata": {},
      "outputs": [],
      "source": [
        "# def sklearn_to_df(sklearn_dataset):\n",
        "#     df = pd.DataFrame(sklearn_dataset.data,\n",
        "#                       columns=sklearn_dataset.feature_names)\n",
        "#     df['Label'] = pd.Series(sklearn_dataset.Label)\n",
        "#     return df\n"
      ]
    },
    {
      "cell_type": "code",
      "execution_count": 121,
      "metadata": {},
      "outputs": [],
      "source": [
        "# from sklearn import datasets\n",
        "# df = sklearn_to_df(datasets.load_iris())\n"
      ]
    },
    {
      "cell_type": "code",
      "execution_count": 122,
      "metadata": {
        "id": "yqL-buDmdAFt"
      },
      "outputs": [],
      "source": [
        "# train_data = train_data[0].concatenate(train_data[1])\n",
        "# val_data = val_data[0].concatenate(val_data[1])\n"
      ]
    },
    {
      "cell_type": "markdown",
      "metadata": {
        "id": "MDjQc-u0dAFt"
      },
      "source": [
        "### Model Definition"
      ]
    },
    {
      "cell_type": "code",
      "execution_count": 123,
      "metadata": {
        "id": "oj7Wsal0dAFt"
      },
      "outputs": [
        {
          "name": "stdout",
          "output_type": "stream",
          "text": [
            "Model: \"sequential_3\"\n",
            "_________________________________________________________________\n",
            " Layer (type)                Output Shape              Param #   \n",
            "=================================================================\n",
            " dense_7 (Dense)             (None, 32)                16416     \n",
            "                                                                 \n",
            " dense_8 (Dense)             (None, 4)                 132       \n",
            "                                                                 \n",
            "=================================================================\n",
            "Total params: 16,548\n",
            "Trainable params: 16,548\n",
            "Non-trainable params: 0\n",
            "_________________________________________________________________\n"
          ]
        }
      ],
      "source": [
        "model = create_keras_model(NUM_FEATURE, NUM_CLASSES)\n",
        "model.summary()"
      ]
    },
    {
      "cell_type": "code",
      "execution_count": 124,
      "metadata": {},
      "outputs": [
        {
          "name": "stdout",
          "output_type": "stream",
          "text": [
            "Epoch 1/100\n",
            "6952/6952 [==============================] - 10s 1ms/step - loss: 0.7657 - sparse_categorical_accuracy: 0.6994\n",
            "Epoch 2/100\n",
            "6952/6952 [==============================] - 10s 1ms/step - loss: 0.7512 - sparse_categorical_accuracy: 0.7141\n",
            "Epoch 3/100\n",
            "6952/6952 [==============================] - 10s 1ms/step - loss: 0.7429 - sparse_categorical_accuracy: 0.7206\n",
            "Epoch 4/100\n",
            "6952/6952 [==============================] - 10s 1ms/step - loss: 0.7329 - sparse_categorical_accuracy: 0.7241\n",
            "Epoch 5/100\n",
            "6952/6952 [==============================] - 10s 1ms/step - loss: 0.7251 - sparse_categorical_accuracy: 0.7263\n",
            "Epoch 6/100\n",
            "6952/6952 [==============================] - 10s 1ms/step - loss: 0.7175 - sparse_categorical_accuracy: 0.7278\n",
            "Epoch 7/100\n",
            "6952/6952 [==============================] - 10s 1ms/step - loss: 0.7141 - sparse_categorical_accuracy: 0.7286\n",
            "Epoch 8/100\n",
            "6952/6952 [==============================] - 10s 1ms/step - loss: 0.7132 - sparse_categorical_accuracy: 0.7285\n",
            "Epoch 9/100\n",
            "6952/6952 [==============================] - 10s 1ms/step - loss: 0.7130 - sparse_categorical_accuracy: 0.7283\n",
            "Epoch 10/100\n",
            "6952/6952 [==============================] - 10s 1ms/step - loss: 0.7125 - sparse_categorical_accuracy: 0.7276\n",
            "Epoch 11/100\n",
            "6952/6952 [==============================] - 10s 1ms/step - loss: 0.7143 - sparse_categorical_accuracy: 0.7269\n",
            "Epoch 12/100\n",
            "6952/6952 [==============================] - 10s 1ms/step - loss: 0.7137 - sparse_categorical_accuracy: 0.7258\n",
            "Epoch 13/100\n",
            "6952/6952 [==============================] - 10s 1ms/step - loss: 0.7109 - sparse_categorical_accuracy: 0.7273\n",
            "Epoch 14/100\n",
            "6952/6952 [==============================] - 10s 1ms/step - loss: 0.7105 - sparse_categorical_accuracy: 0.7264\n",
            "Epoch 15/100\n",
            "6952/6952 [==============================] - 10s 1ms/step - loss: 0.7088 - sparse_categorical_accuracy: 0.7273\n",
            "Epoch 16/100\n",
            "6952/6952 [==============================] - 10s 1ms/step - loss: 0.7064 - sparse_categorical_accuracy: 0.7291\n",
            "Epoch 17/100\n",
            "6952/6952 [==============================] - 10s 1ms/step - loss: 0.7044 - sparse_categorical_accuracy: 0.7294\n",
            "Epoch 18/100\n",
            "6952/6952 [==============================] - 10s 1ms/step - loss: 0.7070 - sparse_categorical_accuracy: 0.7286\n",
            "Epoch 19/100\n",
            "6952/6952 [==============================] - 10s 1ms/step - loss: 0.7055 - sparse_categorical_accuracy: 0.7291\n",
            "Epoch 20/100\n",
            "6952/6952 [==============================] - 10s 1ms/step - loss: 0.7057 - sparse_categorical_accuracy: 0.7284\n",
            "Epoch 21/100\n",
            "6952/6952 [==============================] - 10s 1ms/step - loss: 0.7055 - sparse_categorical_accuracy: 0.7288\n",
            "Epoch 22/100\n",
            "6952/6952 [==============================] - 10s 1ms/step - loss: 0.7043 - sparse_categorical_accuracy: 0.7284\n",
            "Epoch 23/100\n",
            "6952/6952 [==============================] - 10s 1ms/step - loss: 0.7045 - sparse_categorical_accuracy: 0.7287\n",
            "Epoch 24/100\n",
            "6952/6952 [==============================] - 10s 1ms/step - loss: 0.7033 - sparse_categorical_accuracy: 0.7292\n",
            "Epoch 25/100\n",
            "6952/6952 [==============================] - 10s 1ms/step - loss: 0.7027 - sparse_categorical_accuracy: 0.7297\n",
            "Epoch 26/100\n",
            "6952/6952 [==============================] - 10s 1ms/step - loss: 0.7001 - sparse_categorical_accuracy: 0.7307\n",
            "Epoch 27/100\n",
            "6952/6952 [==============================] - 10s 1ms/step - loss: 0.6973 - sparse_categorical_accuracy: 0.7312\n",
            "Epoch 28/100\n",
            "6952/6952 [==============================] - 10s 1ms/step - loss: 0.6957 - sparse_categorical_accuracy: 0.7318\n",
            "Epoch 29/100\n",
            "6952/6952 [==============================] - 10s 1ms/step - loss: 0.6949 - sparse_categorical_accuracy: 0.7323\n",
            "Epoch 30/100\n",
            "6952/6952 [==============================] - 10s 1ms/step - loss: 0.6940 - sparse_categorical_accuracy: 0.7327\n",
            "Epoch 31/100\n",
            "6952/6952 [==============================] - 10s 1ms/step - loss: 0.6928 - sparse_categorical_accuracy: 0.7333\n",
            "Epoch 32/100\n",
            "6952/6952 [==============================] - 10s 1ms/step - loss: 0.6923 - sparse_categorical_accuracy: 0.7331\n",
            "Epoch 33/100\n",
            "6952/6952 [==============================] - 10s 1ms/step - loss: 0.6937 - sparse_categorical_accuracy: 0.7325\n",
            "Epoch 34/100\n",
            "6952/6952 [==============================] - 10s 1ms/step - loss: 0.6922 - sparse_categorical_accuracy: 0.7330\n",
            "Epoch 35/100\n",
            "6952/6952 [==============================] - 10s 1ms/step - loss: 0.6909 - sparse_categorical_accuracy: 0.7332\n",
            "Epoch 36/100\n",
            "6952/6952 [==============================] - 10s 1ms/step - loss: 0.6901 - sparse_categorical_accuracy: 0.7339\n",
            "Epoch 37/100\n",
            "6952/6952 [==============================] - 10s 1ms/step - loss: 0.6882 - sparse_categorical_accuracy: 0.7343\n",
            "Epoch 38/100\n",
            "6952/6952 [==============================] - 10s 1ms/step - loss: 0.6878 - sparse_categorical_accuracy: 0.7345\n",
            "Epoch 39/100\n",
            "6952/6952 [==============================] - 10s 1ms/step - loss: 0.6860 - sparse_categorical_accuracy: 0.7351\n",
            "Epoch 40/100\n",
            "6952/6952 [==============================] - 10s 1ms/step - loss: 0.6846 - sparse_categorical_accuracy: 0.7362\n",
            "Epoch 41/100\n",
            "6952/6952 [==============================] - 10s 1ms/step - loss: 0.6847 - sparse_categorical_accuracy: 0.7356\n",
            "Epoch 42/100\n",
            "6952/6952 [==============================] - 10s 1ms/step - loss: 0.6850 - sparse_categorical_accuracy: 0.7352\n",
            "Epoch 43/100\n",
            "6952/6952 [==============================] - 10s 1ms/step - loss: 0.6849 - sparse_categorical_accuracy: 0.7364\n",
            "Epoch 44/100\n",
            "6952/6952 [==============================] - 9s 1ms/step - loss: 0.6850 - sparse_categorical_accuracy: 0.7363\n",
            "Epoch 45/100\n",
            "6952/6952 [==============================] - 10s 1ms/step - loss: 0.6839 - sparse_categorical_accuracy: 0.7365\n",
            "Epoch 46/100\n",
            "6952/6952 [==============================] - 10s 1ms/step - loss: 0.6837 - sparse_categorical_accuracy: 0.7363\n",
            "Epoch 47/100\n",
            "6952/6952 [==============================] - 10s 1ms/step - loss: 0.6845 - sparse_categorical_accuracy: 0.7361\n",
            "Epoch 48/100\n",
            "6952/6952 [==============================] - 10s 1ms/step - loss: 0.6841 - sparse_categorical_accuracy: 0.7363\n",
            "Epoch 49/100\n",
            "6952/6952 [==============================] - 10s 1ms/step - loss: 0.6838 - sparse_categorical_accuracy: 0.7364\n",
            "Epoch 50/100\n",
            "6952/6952 [==============================] - 10s 1ms/step - loss: 0.6842 - sparse_categorical_accuracy: 0.7358\n",
            "Epoch 51/100\n",
            "6952/6952 [==============================] - 10s 1ms/step - loss: 0.6846 - sparse_categorical_accuracy: 0.7359\n",
            "Epoch 52/100\n",
            "6952/6952 [==============================] - 10s 1ms/step - loss: 0.6861 - sparse_categorical_accuracy: 0.7356\n",
            "Epoch 53/100\n",
            "6952/6952 [==============================] - 10s 1ms/step - loss: 0.6857 - sparse_categorical_accuracy: 0.7354\n",
            "Epoch 54/100\n",
            "6952/6952 [==============================] - 10s 1ms/step - loss: 0.6844 - sparse_categorical_accuracy: 0.7363\n",
            "Epoch 55/100\n",
            "6952/6952 [==============================] - 10s 1ms/step - loss: 0.6837 - sparse_categorical_accuracy: 0.7363\n",
            "Epoch 56/100\n",
            "6952/6952 [==============================] - 10s 1ms/step - loss: 0.6842 - sparse_categorical_accuracy: 0.7362\n",
            "Epoch 57/100\n",
            "6952/6952 [==============================] - 10s 1ms/step - loss: 0.6840 - sparse_categorical_accuracy: 0.7364\n",
            "Epoch 58/100\n",
            "6952/6952 [==============================] - 10s 1ms/step - loss: 0.6843 - sparse_categorical_accuracy: 0.7363\n",
            "Epoch 59/100\n",
            "6952/6952 [==============================] - 10s 1ms/step - loss: 0.6841 - sparse_categorical_accuracy: 0.7361\n",
            "Epoch 60/100\n",
            "6952/6952 [==============================] - 10s 1ms/step - loss: 0.6846 - sparse_categorical_accuracy: 0.7361\n",
            "Epoch 61/100\n",
            "6952/6952 [==============================] - 10s 1ms/step - loss: 0.6863 - sparse_categorical_accuracy: 0.7355\n",
            "Epoch 62/100\n",
            "6952/6952 [==============================] - 10s 1ms/step - loss: 0.6865 - sparse_categorical_accuracy: 0.7357\n",
            "Epoch 63/100\n",
            "6952/6952 [==============================] - 10s 1ms/step - loss: 0.6847 - sparse_categorical_accuracy: 0.7362\n",
            "Epoch 64/100\n",
            "6952/6952 [==============================] - 10s 1ms/step - loss: 0.6852 - sparse_categorical_accuracy: 0.7359\n",
            "Epoch 65/100\n",
            "6952/6952 [==============================] - 11s 2ms/step - loss: 0.6862 - sparse_categorical_accuracy: 0.7358\n",
            "Epoch 66/100\n",
            "6952/6952 [==============================] - 11s 2ms/step - loss: 0.6843 - sparse_categorical_accuracy: 0.7363\n",
            "Epoch 67/100\n",
            "6952/6952 [==============================] - 11s 2ms/step - loss: 0.6842 - sparse_categorical_accuracy: 0.7364\n",
            "Epoch 68/100\n",
            "6952/6952 [==============================] - 11s 2ms/step - loss: 0.6840 - sparse_categorical_accuracy: 0.7366\n",
            "Epoch 69/100\n",
            "6952/6952 [==============================] - 11s 2ms/step - loss: 0.6839 - sparse_categorical_accuracy: 0.7367\n",
            "Epoch 70/100\n",
            "6952/6952 [==============================] - 10s 2ms/step - loss: 0.6837 - sparse_categorical_accuracy: 0.7366\n",
            "Epoch 71/100\n",
            "6952/6952 [==============================] - 11s 2ms/step - loss: 0.6849 - sparse_categorical_accuracy: 0.7361\n",
            "Epoch 72/100\n",
            "6952/6952 [==============================] - 10s 2ms/step - loss: 0.6857 - sparse_categorical_accuracy: 0.7360\n",
            "Epoch 73/100\n",
            "6952/6952 [==============================] - 11s 2ms/step - loss: 0.6850 - sparse_categorical_accuracy: 0.7361\n",
            "Epoch 74/100\n",
            "6952/6952 [==============================] - 11s 2ms/step - loss: 0.6839 - sparse_categorical_accuracy: 0.7364\n",
            "Epoch 75/100\n",
            "6952/6952 [==============================] - 11s 2ms/step - loss: 0.6847 - sparse_categorical_accuracy: 0.7364\n",
            "Epoch 76/100\n",
            "6952/6952 [==============================] - 11s 2ms/step - loss: 0.6847 - sparse_categorical_accuracy: 0.7364\n",
            "Epoch 77/100\n",
            "6952/6952 [==============================] - 11s 2ms/step - loss: 0.6841 - sparse_categorical_accuracy: 0.7367\n",
            "Epoch 78/100\n",
            "6952/6952 [==============================] - 11s 2ms/step - loss: 0.6832 - sparse_categorical_accuracy: 0.7367\n",
            "Epoch 79/100\n",
            "6952/6952 [==============================] - 11s 2ms/step - loss: 0.6825 - sparse_categorical_accuracy: 0.7367\n",
            "Epoch 80/100\n",
            "6952/6952 [==============================] - 11s 2ms/step - loss: 0.6824 - sparse_categorical_accuracy: 0.7368\n",
            "Epoch 81/100\n",
            "6952/6952 [==============================] - 11s 2ms/step - loss: 0.6828 - sparse_categorical_accuracy: 0.7366\n",
            "Epoch 82/100\n",
            "6952/6952 [==============================] - 11s 2ms/step - loss: 0.6826 - sparse_categorical_accuracy: 0.7367\n",
            "Epoch 83/100\n",
            "6952/6952 [==============================] - 11s 2ms/step - loss: 0.6836 - sparse_categorical_accuracy: 0.7365\n",
            "Epoch 84/100\n",
            "6952/6952 [==============================] - 11s 2ms/step - loss: 0.6841 - sparse_categorical_accuracy: 0.7362\n",
            "Epoch 85/100\n",
            "6952/6952 [==============================] - 11s 2ms/step - loss: 0.6843 - sparse_categorical_accuracy: 0.7363\n",
            "Epoch 86/100\n",
            "6952/6952 [==============================] - 11s 2ms/step - loss: 0.6842 - sparse_categorical_accuracy: 0.7363\n",
            "Epoch 87/100\n",
            "6952/6952 [==============================] - 11s 2ms/step - loss: 0.6842 - sparse_categorical_accuracy: 0.7365\n",
            "Epoch 88/100\n",
            "6952/6952 [==============================] - 11s 2ms/step - loss: 0.6834 - sparse_categorical_accuracy: 0.7368\n",
            "Epoch 89/100\n",
            "6952/6952 [==============================] - 10s 2ms/step - loss: 0.6821 - sparse_categorical_accuracy: 0.7370\n",
            "Epoch 90/100\n",
            "6952/6952 [==============================] - 11s 2ms/step - loss: 0.6817 - sparse_categorical_accuracy: 0.7370\n",
            "Epoch 91/100\n",
            "6952/6952 [==============================] - 11s 2ms/step - loss: 0.6822 - sparse_categorical_accuracy: 0.7369\n",
            "Epoch 92/100\n",
            "6952/6952 [==============================] - 11s 2ms/step - loss: 0.6819 - sparse_categorical_accuracy: 0.7370\n",
            "Epoch 93/100\n",
            "6952/6952 [==============================] - 10s 2ms/step - loss: 0.6819 - sparse_categorical_accuracy: 0.7369\n",
            "Epoch 94/100\n",
            "6952/6952 [==============================] - 11s 2ms/step - loss: 0.6818 - sparse_categorical_accuracy: 0.7371\n",
            "Epoch 95/100\n",
            "6952/6952 [==============================] - 11s 2ms/step - loss: 0.6808 - sparse_categorical_accuracy: 0.7371\n",
            "Epoch 96/100\n",
            "6952/6952 [==============================] - 11s 2ms/step - loss: 0.6803 - sparse_categorical_accuracy: 0.7372\n",
            "Epoch 97/100\n",
            "6952/6952 [==============================] - 11s 2ms/step - loss: 0.6820 - sparse_categorical_accuracy: 0.7367\n",
            "Epoch 98/100\n",
            "6952/6952 [==============================] - 11s 2ms/step - loss: 0.6817 - sparse_categorical_accuracy: 0.7369\n",
            "Epoch 99/100\n",
            "6952/6952 [==============================] - 11s 2ms/step - loss: 0.6824 - sparse_categorical_accuracy: 0.7366\n",
            "Epoch 100/100\n",
            "6952/6952 [==============================] - 11s 2ms/step - loss: 0.6815 - sparse_categorical_accuracy: 0.7369\n"
          ]
        }
      ],
      "source": [
        "model.compile(optimizer=tf.keras.optimizers.Adam(\n",
        "    learning_rate=client_lr), loss=tf.keras.losses.SparseCategoricalCrossentropy(),\n",
        "    metrics=[tf.keras.metrics.SparseCategoricalAccuracy()])\n",
        "start = time()\n",
        "history = model.fit(x_train, y_train, epochs=NUM_ROUNDS, batch_size=BATCH_SIZE,use_multiprocessing=True,shuffle=False)\n",
        "end = time() - start"
      ]
    },
    {
      "cell_type": "code",
      "execution_count": 125,
      "metadata": {},
      "outputs": [
        {
          "name": "stdout",
          "output_type": "stream",
          "text": [
            "Time: 0 hours 16 mins 48 seconds\n"
          ]
        }
      ],
      "source": [
        "total_time = \"Time: {}\".format(sec_to_hours(end))\n",
        "print(total_time)\n"
      ]
    },
    {
      "cell_type": "markdown",
      "metadata": {
        "id": "pQ_J02EAdAFt"
      },
      "source": [
        "### Evaluation"
      ]
    },
    {
      "cell_type": "code",
      "execution_count": 126,
      "metadata": {},
      "outputs": [],
      "source": [
        "best_model_accuracy = history.history['sparse_categorical_accuracy'][np.argmin(history.history['loss'])]"
      ]
    },
    {
      "cell_type": "code",
      "execution_count": 127,
      "metadata": {},
      "outputs": [
        {
          "name": "stdout",
          "output_type": "stream",
          "text": [
            "1738/1738 - 2s - loss: 8.3932 - sparse_categorical_accuracy: 0.1701 - 2s/epoch - 947us/step\n"
          ]
        }
      ],
      "source": [
        "_, test_acc = model.evaluate(x_test, y_test,verbose=2, batch_size=BATCH_SIZE,use_multiprocessing=True)"
      ]
    },
    {
      "cell_type": "code",
      "execution_count": 128,
      "metadata": {},
      "outputs": [],
      "source": [
        "train_val = str(round(best_model_accuracy*100)) + \"_\" + str(round(test_acc*100))"
      ]
    },
    {
      "cell_type": "code",
      "execution_count": 129,
      "metadata": {},
      "outputs": [],
      "source": [
        "this_dir = Path.cwd()\n",
        "model_dir = this_dir / \"sdn_saved_models\" / experiment_name / method / train_val\n",
        "output_dir = this_dir / \"sdn_results\" / experiment_name / method / train_val\n",
        "\n",
        "if not model_dir.exists():\n",
        "    model_dir.mkdir(parents=True)\n",
        "\n",
        "if not output_dir.exists():\n",
        "    output_dir.mkdir(parents=True)"
      ]
    },
    {
      "cell_type": "code",
      "execution_count": 130,
      "metadata": {},
      "outputs": [],
      "source": [
        "model.save(model_dir/'model.h5')"
      ]
    },
    {
      "cell_type": "code",
      "execution_count": 131,
      "metadata": {},
      "outputs": [],
      "source": [
        "with open(output_dir/'parameters.txt', 'w') as f:\n",
        "    print('client_lr: {}\\nEpochs: {}\\nBATCH_SIZE: {}'.format(\n",
        "        client_lr, NUM_ROUNDS, BATCH_SIZE), file=f)\n",
        "    f.close()"
      ]
    },
    {
      "cell_type": "code",
      "execution_count": 132,
      "metadata": {},
      "outputs": [],
      "source": [
        "text_file = open(output_dir/\"time.txt\", \"w\")\n",
        "n = text_file.write(total_time)\n",
        "text_file.close()"
      ]
    },
    {
      "cell_type": "code",
      "execution_count": 133,
      "metadata": {},
      "outputs": [
        {
          "name": "stdout",
          "output_type": "stream",
          "text": [
            "1738/1738 - 1s - 1s/epoch - 839us/step\n"
          ]
        }
      ],
      "source": [
        "predictions = model.predict(x_test,verbose=2,use_multiprocessing=True,batch_size=BATCH_SIZE)"
      ]
    },
    {
      "cell_type": "code",
      "execution_count": 134,
      "metadata": {},
      "outputs": [],
      "source": [
        "y_pred = np.argmax(predictions, axis=-1)\n",
        "test['pred'] = y_pred.tolist()"
      ]
    },
    {
      "cell_type": "code",
      "execution_count": 135,
      "metadata": {},
      "outputs": [],
      "source": [
        "result = test.groupby('flow_id')['pred'].apply(list).to_dict()\n",
        "flow_pred = []\n",
        "for flow in result:\n",
        "    flow_pred.append(most_frequent(result[flow]))"
      ]
    },
    {
      "cell_type": "code",
      "execution_count": 136,
      "metadata": {},
      "outputs": [
        {
          "name": "stdout",
          "output_type": "stream",
          "text": [
            "['Class 0', 'Class 1', 'Class 2', 'Class 3']\n"
          ]
        },
        {
          "name": "stderr",
          "output_type": "stream",
          "text": [
            "/home/onos/FL/venv/lib/python3.9/site-packages/sklearn/metrics/_classification.py:1318: UndefinedMetricWarning: Precision is ill-defined and being set to 0.0 in labels with no predicted samples. Use `zero_division` parameter to control this behavior.\n",
            "  _warn_prf(average, modifier, msg_start, len(result))\n",
            "/home/onos/FL/venv/lib/python3.9/site-packages/sklearn/metrics/_classification.py:1318: UndefinedMetricWarning: Precision is ill-defined and being set to 0.0 in labels with no predicted samples. Use `zero_division` parameter to control this behavior.\n",
            "  _warn_prf(average, modifier, msg_start, len(result))\n",
            "/home/onos/FL/venv/lib/python3.9/site-packages/sklearn/metrics/_classification.py:1318: UndefinedMetricWarning: Precision and F-score are ill-defined and being set to 0.0 in labels with no predicted samples. Use `zero_division` parameter to control this behavior.\n",
            "  _warn_prf(average, modifier, msg_start, len(result))\n",
            "/home/onos/FL/venv/lib/python3.9/site-packages/sklearn/metrics/_classification.py:1318: UndefinedMetricWarning: Precision and F-score are ill-defined and being set to 0.0 in labels with no predicted samples. Use `zero_division` parameter to control this behavior.\n",
            "  _warn_prf(average, modifier, msg_start, len(result))\n",
            "/home/onos/FL/venv/lib/python3.9/site-packages/sklearn/metrics/_classification.py:1318: UndefinedMetricWarning: Precision and F-score are ill-defined and being set to 0.0 in labels with no predicted samples. Use `zero_division` parameter to control this behavior.\n",
            "  _warn_prf(average, modifier, msg_start, len(result))\n"
          ]
        }
      ],
      "source": [
        "from sklearn.metrics import confusion_matrix\n",
        "from sklearn.metrics import accuracy_score, precision_score, recall_score, f1_score\n",
        "from sklearn.metrics import classification_report\n",
        "\n",
        "\n",
        "classes = []\n",
        "for c in range(NUM_CLASSES):\n",
        "    classes.append(\"Class {}\".format(c))\n",
        "print(classes)\n",
        "with open(output_dir/'metrics.txt', 'w') as f:\n",
        "    confusion = confusion_matrix(flow_label, flow_pred)\n",
        "    print('Confusion Matrix\\n', file=f)\n",
        "    print(confusion, file=f)\n",
        "\n",
        "    # importing accuracy_score, precision_score, recall_score, f1_score\n",
        "    print('\\nAccuracy: {:.2f}\\n'.format(\n",
        "        accuracy_score(flow_label, flow_pred)), file=f)\n",
        "\n",
        "    print('Micro Precision: {:.2f}'.format(\n",
        "        precision_score(flow_label, flow_pred, average='micro')), file=f)\n",
        "    print('Micro Recall: {:.2f}'.format(\n",
        "        recall_score(flow_label, flow_pred, average='micro')), file=f)\n",
        "    print(\n",
        "        'Micro F1-score: {:.2f}\\n'.format(f1_score(flow_label, flow_pred, average='micro')), file=f)\n",
        "\n",
        "    print('Macro Precision: {:.2f}'.format(\n",
        "        precision_score(flow_label, flow_pred, average='macro')), file=f)\n",
        "    print('Macro Recall: {:.2f}'.format(\n",
        "        recall_score(flow_label, flow_pred, average='macro')), file=f)\n",
        "    print(\n",
        "        'Macro F1-score: {:.2f}\\n'.format(f1_score(flow_label, flow_pred, average='macro')), file=f)\n",
        "\n",
        "    print('Weighted Precision: {:.2f}'.format(\n",
        "        precision_score(flow_label, flow_pred, average='weighted')), file=f)\n",
        "    print('Weighted Recall: {:.2f}'.format(\n",
        "        recall_score(flow_label, flow_pred, average='weighted')), file=f)\n",
        "    print(\n",
        "        'Weighted F1-score: {:.2f}'.format(f1_score(flow_label, flow_pred, average='weighted')), file=f)\n",
        "\n",
        "    print('\\nClassification Report\\n', file=f)\n",
        "    print(classification_report(flow_label, flow_pred, target_names=classes), file=f)\n",
        "    f.close()\n"
      ]
    },
    {
      "cell_type": "code",
      "execution_count": 137,
      "metadata": {},
      "outputs": [
        {
          "data": {
            "image/png": "[encoded data removed]",
            "text/plain": [
              "<Figure size 1000x600 with 1 Axes>"
            ]
          },
          "metadata": {},
          "output_type": "display_data"
        }
      ],
      "source": [
        "fig = plt.figure(figsize=(10, 6))\n",
        "plt.plot(history.history['sparse_categorical_accuracy'], label='accuracy')\n",
        "plt.xlabel('Epoch')\n",
        "plt.ylabel('Accuracy')\n",
        "plt.ylim([0,1])\n",
        "plt.savefig(output_dir / \"normal_model_Accuracy.png\")"
      ]
    },
    {
      "cell_type": "code",
      "execution_count": null,
      "metadata": {},
      "outputs": [],
      "source": []
    }
  ],
  "metadata": {
    "colab": {
      "collapsed_sections": [],
      "name": "notebook.ipynb",
      "provenance": []
    },
    "kernelspec": {
      "display_name": "venv",
      "language": "python",
      "name": "python3"
    },
    "language_info": {
      "codemirror_mode": {
        "name": "ipython",
        "version": 3
      },
      "file_extension": ".py",
      "mimetype": "text/x-python",
      "name": "python",
      "nbconvert_exporter": "python",
      "pygments_lexer": "ipython3",
      "version": "3.9.14"
    },
    "vscode": {
      "interpreter": {
        "hash": "addd2fdd290c7c34336629330a81969ca1164c4689498c0841c953bddca49006"
      }
    }
  },
  "nbformat": 4,
  "nbformat_minor": 0
}
