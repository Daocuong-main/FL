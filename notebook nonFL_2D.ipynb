{
  "cells": [
    {
      "cell_type": "code",
      "execution_count": 1,
      "metadata": {
        "id": "bZAnYwAkdAFl"
      },
      "outputs": [
        {
          "name": "stderr",
          "output_type": "stream",
          "text": [
            "2022-12-03 16:12:43.113497: I tensorflow/core/platform/cpu_feature_guard.cc:193] This TensorFlow binary is optimized with oneAPI Deep Neural Network Library (oneDNN) to use the following CPU instructions in performance-critical operations:  AVX2 AVX512F FMA\n",
            "To enable them in other operations, rebuild TensorFlow with the appropriate compiler flags.\n",
            "2022-12-03 16:12:43.426984: W tensorflow/stream_executor/platform/default/dso_loader.cc:64] Could not load dynamic library 'libcudart.so.11.0'; dlerror: libcudart.so.11.0: cannot open shared object file: No such file or directory\n",
            "2022-12-03 16:12:43.427018: I tensorflow/stream_executor/cuda/cudart_stub.cc:29] Ignore above cudart dlerror if you do not have a GPU set up on your machine.\n",
            "2022-12-03 16:12:43.480048: E tensorflow/stream_executor/cuda/cuda_blas.cc:2981] Unable to register cuBLAS factory: Attempting to register factory for plugin cuBLAS when one has already been registered\n",
            "2022-12-03 16:12:44.849589: W tensorflow/stream_executor/platform/default/dso_loader.cc:64] Could not load dynamic library 'libnvinfer.so.7'; dlerror: libnvinfer.so.7: cannot open shared object file: No such file or directory\n",
            "2022-12-03 16:12:44.849738: W tensorflow/stream_executor/platform/default/dso_loader.cc:64] Could not load dynamic library 'libnvinfer_plugin.so.7'; dlerror: libnvinfer_plugin.so.7: cannot open shared object file: No such file or directory\n",
            "2022-12-03 16:12:44.849754: W tensorflow/compiler/tf2tensorrt/utils/py_utils.cc:38] TF-TRT Warning: Cannot dlopen some TensorRT libraries. If you would like to use Nvidia GPU with TensorRT, please make sure the missing libraries mentioned above are installed properly.\n"
          ]
        }
      ],
      "source": [
        "from time import time, localtime\n",
        "import numpy as np\n",
        "from utils import plot_graph\n",
        "import tensorflow_federated as tff\n",
        "import tensorflow as tf\n",
        "from sklearn.preprocessing import MinMaxScaler\n",
        "from keras import losses, metrics, optimizers\n",
        "import random\n",
        "import pandas as pd\n",
        "import sys\n",
        "import matplotlib.pyplot as plt\n",
        "import nest_asyncio\n",
        "from pathlib import Path\n",
        "from checkpoint_manager import FileCheckpointManager\n",
        "import tensorflow_addons as tfa\n",
        "nest_asyncio.apply()\n",
        "SEED = 1337\n",
        "tf.random.set_seed(SEED)\n"
      ]
    },
    {
      "cell_type": "code",
      "execution_count": 2,
      "metadata": {},
      "outputs": [],
      "source": [
        "def train_test_split(df, frac=0.2):\n",
        "    selected = df['flow_id'].drop_duplicates().sample(frac=frac)\n",
        "    test = df[df['flow_id'].isin(selected)]\n",
        "    train = df[~df['flow_id'].isin(selected)]\n",
        "    return train, test"
      ]
    },
    {
      "cell_type": "markdown",
      "metadata": {},
      "source": [
        "Lựa chọn model <br>\n",
        "Thay models.<Ten_model>"
      ]
    },
    {
      "cell_type": "code",
      "execution_count": 3,
      "metadata": {},
      "outputs": [],
      "source": [
        "from models.CNN_2D import create_keras_model\n"
      ]
    },
    {
      "cell_type": "markdown",
      "metadata": {},
      "source": [
        "Thay đổi các siêu tham số trong cell dưới <br>\n",
        "**experiment_name:** Tên bộ dữ liệu được sử dụng, <Tên dữ liệu>_<Số byte sử dụng> <br>\n",
        "**method:** Mô hình sử dụng <br>\n",
        "**client_lr, server_lr:** Learning rate của client và server, khi fine tune bắt đầu từ 1 và giảm dần xuống 3e-4 <br>\n",
        "**NUM_ROUNDS:** Số vòng lặp (Bắt đầu từ 1 và tăng dần lên 3000 nếu mô hình chưa hội tụ - 1/100/200/300/400/500/.../3000) <Br>\n",
        "**BATCH_SIZE:** Kích thước batch (Bắt đầu từ 8 và tăng dần lên 64) 8/16/32/64 <br>\n",
        "**split:** Để nguyên là 5"
      ]
    },
    {
      "cell_type": "markdown",
      "metadata": {},
      "source": [
        "byte_number (string): Cac byte cua packet, bao gom 10, 32, 64, 128, 256, 512, 1024, 1460"
      ]
    },
    {
      "cell_type": "code",
      "execution_count": 4,
      "metadata": {},
      "outputs": [],
      "source": [
        "byte_number = \"512\"\n"
      ]
    },
    {
      "cell_type": "code",
      "execution_count": 5,
      "metadata": {
        "id": "ZYYi42tYdAFp"
      },
      "outputs": [],
      "source": [
        "experiment_name = \"GQUIC_\" + byte_number\n",
        "method = \"nonFL_CNN_2D\"\n",
        "client_lr = 3e-4\n",
        "NUM_ROUNDS = 200\n",
        "BATCH_SIZE = 32\n"
      ]
    },
    {
      "cell_type": "code",
      "execution_count": 6,
      "metadata": {},
      "outputs": [],
      "source": [
        "this_dir = Path.cwd()\n",
        "model_dir = this_dir / \"sdn_saved_models\" / experiment_name / method\n",
        "output_dir = this_dir / \"sdn_results\" / experiment_name / method\n",
        "\n",
        "if not model_dir.exists():\n",
        "    model_dir.mkdir(parents=True)\n",
        "\n",
        "if not output_dir.exists():\n",
        "    output_dir.mkdir(parents=True)\n"
      ]
    },
    {
      "cell_type": "code",
      "execution_count": 7,
      "metadata": {},
      "outputs": [],
      "source": [
        "def sec_to_hours(seconds):\n",
        "    a = seconds//3600\n",
        "    b = (seconds % 3600)//60\n",
        "    c = (seconds % 3600) % 60\n",
        "    d = \"{:.0f} hours {:.0f} mins {:.0f} seconds\".format(a, b, c)\n",
        "    return d\n"
      ]
    },
    {
      "cell_type": "code",
      "execution_count": 8,
      "metadata": {},
      "outputs": [],
      "source": [
        "def most_frequent(List):\n",
        "    return max(set(List), key=List.count)\n"
      ]
    },
    {
      "cell_type": "markdown",
      "metadata": {},
      "source": [
        "### Đọc dữ liệu"
      ]
    },
    {
      "cell_type": "code",
      "execution_count": 9,
      "metadata": {},
      "outputs": [],
      "source": [
        "train_dir = '/home/onos/FL/Data_Processing/GQUIC_small/Train/GQUIC_data_' + byte_number + '.feather'\n",
        "test_dir = '/home/onos/FL/Data_Processing/GQUIC_small/Test//GQUIC_test_' + byte_number + '.feather'\n",
        "data = pd.read_feather(train_dir)\n",
        "test = pd.read_feather(test_dir)\n"
      ]
    },
    {
      "cell_type": "code",
      "execution_count": 10,
      "metadata": {},
      "outputs": [],
      "source": [
        "data, val = train_test_split(data,frac=0.2)"
      ]
    },
    {
      "cell_type": "code",
      "execution_count": 11,
      "metadata": {},
      "outputs": [],
      "source": [
        "result = test.groupby('flow_id')['Label'].apply(list).to_dict()\n",
        "flow_label = []\n",
        "for flow in result:\n",
        "    flow_label.append(most_frequent(result[flow]))"
      ]
    },
    {
      "cell_type": "code",
      "execution_count": 12,
      "metadata": {},
      "outputs": [],
      "source": [
        "result = data.groupby('flow_id')['Label'].apply(list).to_dict()\n",
        "train_label = []\n",
        "for flow in result:\n",
        "    train_label.append(most_frequent(result[flow]))"
      ]
    },
    {
      "cell_type": "code",
      "execution_count": 13,
      "metadata": {},
      "outputs": [],
      "source": [
        "result = val.groupby('flow_id')['Label'].apply(list).to_dict()\n",
        "val_label = []\n",
        "for flow in result:\n",
        "    val_label.append(most_frequent(result[flow]))"
      ]
    },
    {
      "cell_type": "code",
      "execution_count": 14,
      "metadata": {},
      "outputs": [],
      "source": [
        "flow_label = np.array(flow_label)\n",
        "train_label = np.array(train_label)\n",
        "val_label = np.array(val_label)"
      ]
    },
    {
      "cell_type": "code",
      "execution_count": 15,
      "metadata": {},
      "outputs": [],
      "source": [
        "true_test = test.drop('flow_id', axis=1)\n",
        "true_data = data.drop('flow_id', axis=1)\n",
        "true_val = val.drop('flow_id',axis=1)"
      ]
    },
    {
      "cell_type": "code",
      "execution_count": 16,
      "metadata": {},
      "outputs": [
        {
          "name": "stdout",
          "output_type": "stream",
          "text": [
            "512 4\n"
          ]
        }
      ],
      "source": [
        "NUM_FEATURE = len(true_test.columns)-1\n",
        "NUM_CLASSES = len(np.unique(true_test['Label']))\n",
        "print(NUM_FEATURE, NUM_CLASSES)"
      ]
    },
    {
      "cell_type": "code",
      "execution_count": 17,
      "metadata": {},
      "outputs": [],
      "source": [
        "x_test = true_test.drop('Label', axis=1).to_numpy()/255\n",
        "x_train = true_data.drop(['Label'], axis=1).to_numpy()/255\n",
        "x_val = true_val.drop(['Label'],axis=1).to_numpy()/255"
      ]
    },
    {
      "cell_type": "code",
      "execution_count": 18,
      "metadata": {},
      "outputs": [],
      "source": [
        "x_train = x_train.reshape(-1,20,NUM_FEATURE)\n",
        "x_test = x_test.reshape(-1,20,NUM_FEATURE)\n",
        "x_val = x_val.reshape(-1,20,NUM_FEATURE)"
      ]
    },
    {
      "cell_type": "code",
      "execution_count": 19,
      "metadata": {},
      "outputs": [],
      "source": [
        "x_train = np.expand_dims(x_train, -1)\n",
        "x_test  = np.expand_dims(x_test, -1)\n",
        "x_val = np.expand_dims(x_val, -1)"
      ]
    },
    {
      "cell_type": "code",
      "execution_count": 20,
      "metadata": {},
      "outputs": [],
      "source": [
        "# def sklearn_to_df(sklearn_dataset):\n",
        "#     df = pd.DataFrame(sklearn_dataset.data,\n",
        "#                       columns=sklearn_dataset.feature_names)\n",
        "#     df['Label'] = pd.Series(sklearn_dataset.Label)\n",
        "#     return df\n"
      ]
    },
    {
      "cell_type": "code",
      "execution_count": 21,
      "metadata": {},
      "outputs": [],
      "source": [
        "# from sklearn import datasets\n",
        "# df = sklearn_to_df(datasets.load_iris())\n"
      ]
    },
    {
      "cell_type": "code",
      "execution_count": 22,
      "metadata": {
        "id": "yqL-buDmdAFt"
      },
      "outputs": [],
      "source": [
        "# train_data = train_data[0].concatenate(train_data[1])\n",
        "# val_data = val_data[0].concatenate(val_data[1])\n"
      ]
    },
    {
      "cell_type": "markdown",
      "metadata": {
        "id": "MDjQc-u0dAFt"
      },
      "source": [
        "### Model Definition"
      ]
    },
    {
      "cell_type": "code",
      "execution_count": 23,
      "metadata": {
        "id": "oj7Wsal0dAFt"
      },
      "outputs": [
        {
          "name": "stderr",
          "output_type": "stream",
          "text": [
            "2022-12-03 16:13:42.823756: W tensorflow/stream_executor/platform/default/dso_loader.cc:64] Could not load dynamic library 'libcuda.so.1'; dlerror: libcuda.so.1: cannot open shared object file: No such file or directory\n",
            "2022-12-03 16:13:42.823809: W tensorflow/stream_executor/cuda/cuda_driver.cc:263] failed call to cuInit: UNKNOWN ERROR (303)\n",
            "2022-12-03 16:13:42.824007: I tensorflow/stream_executor/cuda/cuda_diagnostics.cc:156] kernel driver does not appear to be running on this host (onos-virtual-machine): /proc/driver/nvidia/version does not exist\n",
            "2022-12-03 16:13:42.824886: I tensorflow/core/platform/cpu_feature_guard.cc:193] This TensorFlow binary is optimized with oneAPI Deep Neural Network Library (oneDNN) to use the following CPU instructions in performance-critical operations:  AVX2 AVX512F FMA\n",
            "To enable them in other operations, rebuild TensorFlow with the appropriate compiler flags.\n"
          ]
        },
        {
          "name": "stdout",
          "output_type": "stream",
          "text": [
            "Model: \"sequential\"\n",
            "_________________________________________________________________\n",
            " Layer (type)                Output Shape              Param #   \n",
            "=================================================================\n",
            " conv2d (Conv2D)             (None, 20, 512, 32)       832       \n",
            "                                                                 \n",
            " conv2d_1 (Conv2D)           (None, 20, 512, 32)       25632     \n",
            "                                                                 \n",
            " max_pooling2d (MaxPooling2D  (None, 10, 256, 32)      0         \n",
            " )                                                               \n",
            "                                                                 \n",
            " dropout (Dropout)           (None, 10, 256, 32)       0         \n",
            "                                                                 \n",
            " conv2d_2 (Conv2D)           (None, 10, 256, 64)       18496     \n",
            "                                                                 \n",
            " conv2d_3 (Conv2D)           (None, 10, 256, 64)       36928     \n",
            "                                                                 \n",
            " max_pooling2d_1 (MaxPooling  (None, 5, 128, 64)       0         \n",
            " 2D)                                                             \n",
            "                                                                 \n",
            " dropout_1 (Dropout)         (None, 5, 128, 64)        0         \n",
            "                                                                 \n",
            " flatten (Flatten)           (None, 40960)             0         \n",
            "                                                                 \n",
            " dense (Dense)               (None, 256)               10486016  \n",
            "                                                                 \n",
            " dropout_2 (Dropout)         (None, 256)               0         \n",
            "                                                                 \n",
            " dense_1 (Dense)             (None, 4)                 1028      \n",
            "                                                                 \n",
            "=================================================================\n",
            "Total params: 10,568,932\n",
            "Trainable params: 10,568,932\n",
            "Non-trainable params: 0\n",
            "_________________________________________________________________\n"
          ]
        }
      ],
      "source": [
        "model = create_keras_model(NUM_FEATURE, NUM_CLASSES)\n",
        "model.summary()"
      ]
    },
    {
      "cell_type": "code",
      "execution_count": 24,
      "metadata": {},
      "outputs": [
        {
          "name": "stdout",
          "output_type": "stream",
          "text": [
            "Epoch 1/200\n",
            "279/279 [==============================] - 264s 941ms/step - loss: 0.3094 - sparse_categorical_accuracy: 0.8906 - val_loss: 10.5456 - val_sparse_categorical_accuracy: 0.1704\n",
            "Epoch 2/200\n",
            "279/279 [==============================] - 264s 948ms/step - loss: 0.3939 - sparse_categorical_accuracy: 0.9073 - val_loss: 8.1916 - val_sparse_categorical_accuracy: 0.3687\n",
            "Epoch 3/200\n",
            "279/279 [==============================] - 255s 913ms/step - loss: 0.3490 - sparse_categorical_accuracy: 0.9076 - val_loss: 8.4558 - val_sparse_categorical_accuracy: 0.1551\n",
            "Epoch 4/200\n",
            "279/279 [==============================] - 258s 924ms/step - loss: 0.3835 - sparse_categorical_accuracy: 0.8984 - val_loss: 4.5814 - val_sparse_categorical_accuracy: 0.4164\n",
            "Epoch 5/200\n",
            "279/279 [==============================] - 258s 926ms/step - loss: 0.3246 - sparse_categorical_accuracy: 0.8921 - val_loss: 0.9877 - val_sparse_categorical_accuracy: 0.4227\n",
            "Epoch 6/200\n",
            "279/279 [==============================] - 242s 869ms/step - loss: 0.2165 - sparse_categorical_accuracy: 0.9136 - val_loss: 1.3122 - val_sparse_categorical_accuracy: 0.4006\n",
            "Epoch 7/200\n",
            "279/279 [==============================] - 257s 921ms/step - loss: 0.2439 - sparse_categorical_accuracy: 0.8909 - val_loss: 0.4320 - val_sparse_categorical_accuracy: 0.8683\n",
            "Epoch 8/200\n",
            "279/279 [==============================] - 255s 912ms/step - loss: 0.1969 - sparse_categorical_accuracy: 0.9218 - val_loss: 0.3910 - val_sparse_categorical_accuracy: 0.8462\n",
            "Epoch 9/200\n",
            "279/279 [==============================] - 249s 895ms/step - loss: 0.1861 - sparse_categorical_accuracy: 0.9282 - val_loss: 0.4474 - val_sparse_categorical_accuracy: 0.7455\n",
            "Epoch 10/200\n",
            "279/279 [==============================] - 256s 916ms/step - loss: 0.1807 - sparse_categorical_accuracy: 0.9239 - val_loss: 0.3881 - val_sparse_categorical_accuracy: 0.7905\n",
            "Epoch 11/200\n",
            "279/279 [==============================] - 253s 907ms/step - loss: 0.1639 - sparse_categorical_accuracy: 0.9395 - val_loss: 0.4705 - val_sparse_categorical_accuracy: 0.7590\n",
            "Epoch 12/200\n",
            "279/279 [==============================] - 260s 932ms/step - loss: 0.1404 - sparse_categorical_accuracy: 0.9506 - val_loss: 2.0131 - val_sparse_categorical_accuracy: 0.4789\n",
            "Epoch 13/200\n",
            "279/279 [==============================] - 245s 879ms/step - loss: 0.1535 - sparse_categorical_accuracy: 0.9491 - val_loss: 13.0727 - val_sparse_categorical_accuracy: 0.1542\n",
            "Epoch 14/200\n",
            "279/279 [==============================] - 250s 897ms/step - loss: 0.2326 - sparse_categorical_accuracy: 0.9391 - val_loss: 1.1724 - val_sparse_categorical_accuracy: 0.4793\n",
            "Epoch 15/200\n",
            "279/279 [==============================] - 264s 946ms/step - loss: 0.1691 - sparse_categorical_accuracy: 0.9295 - val_loss: 0.4713 - val_sparse_categorical_accuracy: 0.6902\n",
            "Epoch 16/200\n",
            "279/279 [==============================] - 258s 925ms/step - loss: 0.1491 - sparse_categorical_accuracy: 0.9382 - val_loss: 0.3506 - val_sparse_categorical_accuracy: 0.8192\n",
            "Epoch 17/200\n",
            "279/279 [==============================] - 256s 917ms/step - loss: 0.1370 - sparse_categorical_accuracy: 0.9493 - val_loss: 0.3502 - val_sparse_categorical_accuracy: 0.8309\n",
            "Epoch 18/200\n",
            "279/279 [==============================] - 255s 916ms/step - loss: 0.1278 - sparse_categorical_accuracy: 0.9554 - val_loss: 0.5628 - val_sparse_categorical_accuracy: 0.7208\n",
            "Epoch 19/200\n",
            "279/279 [==============================] - 257s 920ms/step - loss: 0.1175 - sparse_categorical_accuracy: 0.9591 - val_loss: 0.8437 - val_sparse_categorical_accuracy: 0.6412\n",
            "Epoch 20/200\n",
            "279/279 [==============================] - 256s 919ms/step - loss: 0.1192 - sparse_categorical_accuracy: 0.9577 - val_loss: 0.4848 - val_sparse_categorical_accuracy: 0.8031\n",
            "Epoch 21/200\n",
            "279/279 [==============================] - 254s 911ms/step - loss: 0.1056 - sparse_categorical_accuracy: 0.9620 - val_loss: 0.4342 - val_sparse_categorical_accuracy: 0.8201\n",
            "Epoch 22/200\n",
            "279/279 [==============================] - 250s 897ms/step - loss: 0.1025 - sparse_categorical_accuracy: 0.9641 - val_loss: 0.4819 - val_sparse_categorical_accuracy: 0.8098\n",
            "Epoch 23/200\n",
            "279/279 [==============================] - 258s 925ms/step - loss: 0.0948 - sparse_categorical_accuracy: 0.9665 - val_loss: 0.9198 - val_sparse_categorical_accuracy: 0.7500\n",
            "Epoch 24/200\n",
            "279/279 [==============================] - 255s 914ms/step - loss: 0.0952 - sparse_categorical_accuracy: 0.9675 - val_loss: 0.4412 - val_sparse_categorical_accuracy: 0.8291\n",
            "Epoch 25/200\n",
            "279/279 [==============================] - 260s 933ms/step - loss: 0.0868 - sparse_categorical_accuracy: 0.9682 - val_loss: 0.4230 - val_sparse_categorical_accuracy: 0.8485\n",
            "Epoch 26/200\n",
            "279/279 [==============================] - 221s 793ms/step - loss: 0.0817 - sparse_categorical_accuracy: 0.9708 - val_loss: 0.3819 - val_sparse_categorical_accuracy: 0.8543\n",
            "Epoch 27/200\n",
            "279/279 [==============================] - 139s 499ms/step - loss: 0.0698 - sparse_categorical_accuracy: 0.9763 - val_loss: 0.3840 - val_sparse_categorical_accuracy: 0.8674\n",
            "Epoch 28/200\n",
            "279/279 [==============================] - 140s 501ms/step - loss: 0.0619 - sparse_categorical_accuracy: 0.9773 - val_loss: 1.2495 - val_sparse_categorical_accuracy: 0.7217\n",
            "Epoch 29/200\n",
            "279/279 [==============================] - 139s 499ms/step - loss: 0.0565 - sparse_categorical_accuracy: 0.9795 - val_loss: 0.5866 - val_sparse_categorical_accuracy: 0.8296\n",
            "Epoch 30/200\n",
            "279/279 [==============================] - 140s 502ms/step - loss: 0.0526 - sparse_categorical_accuracy: 0.9836 - val_loss: 0.4873 - val_sparse_categorical_accuracy: 0.8696\n",
            "Epoch 31/200\n",
            "279/279 [==============================] - 140s 502ms/step - loss: 0.0578 - sparse_categorical_accuracy: 0.9779 - val_loss: 0.3883 - val_sparse_categorical_accuracy: 0.8786\n",
            "Epoch 32/200\n",
            "279/279 [==============================] - 139s 498ms/step - loss: 0.0455 - sparse_categorical_accuracy: 0.9834 - val_loss: 0.4878 - val_sparse_categorical_accuracy: 0.8817\n",
            "Epoch 33/200\n",
            "279/279 [==============================] - 138s 495ms/step - loss: 0.0419 - sparse_categorical_accuracy: 0.9862 - val_loss: 0.4031 - val_sparse_categorical_accuracy: 0.8903\n",
            "Epoch 34/200\n",
            "279/279 [==============================] - 140s 501ms/step - loss: 0.0401 - sparse_categorical_accuracy: 0.9853 - val_loss: 0.4368 - val_sparse_categorical_accuracy: 0.8930\n",
            "Epoch 35/200\n",
            "279/279 [==============================] - 140s 501ms/step - loss: 0.0363 - sparse_categorical_accuracy: 0.9876 - val_loss: 0.4571 - val_sparse_categorical_accuracy: 0.8862\n",
            "Epoch 36/200\n",
            "279/279 [==============================] - 140s 502ms/step - loss: 0.0349 - sparse_categorical_accuracy: 0.9876 - val_loss: 0.5499 - val_sparse_categorical_accuracy: 0.8642\n",
            "Epoch 37/200\n",
            "279/279 [==============================] - 139s 498ms/step - loss: 0.0322 - sparse_categorical_accuracy: 0.9879 - val_loss: 0.5242 - val_sparse_categorical_accuracy: 0.8858\n",
            "Epoch 38/200\n",
            "279/279 [==============================] - 139s 498ms/step - loss: 0.0331 - sparse_categorical_accuracy: 0.9879 - val_loss: 0.3860 - val_sparse_categorical_accuracy: 0.9006\n",
            "Epoch 39/200\n",
            "279/279 [==============================] - 139s 497ms/step - loss: 0.0369 - sparse_categorical_accuracy: 0.9862 - val_loss: 0.3411 - val_sparse_categorical_accuracy: 0.9155\n",
            "Epoch 40/200\n",
            "279/279 [==============================] - 138s 496ms/step - loss: 0.0306 - sparse_categorical_accuracy: 0.9881 - val_loss: 0.3490 - val_sparse_categorical_accuracy: 0.9281\n",
            "Epoch 41/200\n",
            "279/279 [==============================] - 140s 503ms/step - loss: 0.0342 - sparse_categorical_accuracy: 0.9881 - val_loss: 0.4361 - val_sparse_categorical_accuracy: 0.8903\n",
            "Epoch 42/200\n",
            "279/279 [==============================] - 138s 495ms/step - loss: 0.0279 - sparse_categorical_accuracy: 0.9899 - val_loss: 0.4101 - val_sparse_categorical_accuracy: 0.9218\n",
            "Epoch 43/200\n",
            "279/279 [==============================] - 138s 494ms/step - loss: 0.0246 - sparse_categorical_accuracy: 0.9901 - val_loss: 0.5975 - val_sparse_categorical_accuracy: 0.9015\n",
            "Epoch 44/200\n",
            "279/279 [==============================] - 138s 495ms/step - loss: 0.0218 - sparse_categorical_accuracy: 0.9929 - val_loss: 0.6139 - val_sparse_categorical_accuracy: 0.9060\n",
            "Epoch 45/200\n",
            "279/279 [==============================] - 138s 495ms/step - loss: 0.0233 - sparse_categorical_accuracy: 0.9925 - val_loss: 0.5182 - val_sparse_categorical_accuracy: 0.9191\n",
            "Epoch 46/200\n",
            "279/279 [==============================] - 138s 495ms/step - loss: 0.0236 - sparse_categorical_accuracy: 0.9909 - val_loss: 1.0437 - val_sparse_categorical_accuracy: 0.8907\n",
            "Epoch 47/200\n",
            "279/279 [==============================] - 138s 494ms/step - loss: 0.0227 - sparse_categorical_accuracy: 0.9931 - val_loss: 1.3254 - val_sparse_categorical_accuracy: 0.8404\n",
            "Epoch 48/200\n",
            "279/279 [==============================] - 139s 497ms/step - loss: 0.0178 - sparse_categorical_accuracy: 0.9936 - val_loss: 1.1926 - val_sparse_categorical_accuracy: 0.8525\n",
            "Epoch 49/200\n",
            "279/279 [==============================] - 138s 494ms/step - loss: 0.0209 - sparse_categorical_accuracy: 0.9933 - val_loss: 2.1116 - val_sparse_categorical_accuracy: 0.7977\n",
            "Epoch 50/200\n",
            "279/279 [==============================] - 138s 493ms/step - loss: 0.0235 - sparse_categorical_accuracy: 0.9921 - val_loss: 1.9480 - val_sparse_categorical_accuracy: 0.8112\n",
            "Epoch 51/200\n",
            "279/279 [==============================] - 138s 493ms/step - loss: 0.0204 - sparse_categorical_accuracy: 0.9931 - val_loss: 1.0947 - val_sparse_categorical_accuracy: 0.8826\n",
            "Epoch 52/200\n",
            "279/279 [==============================] - 138s 494ms/step - loss: 0.0211 - sparse_categorical_accuracy: 0.9933 - val_loss: 0.9381 - val_sparse_categorical_accuracy: 0.8880\n",
            "Epoch 53/200\n",
            "279/279 [==============================] - 138s 495ms/step - loss: 0.0164 - sparse_categorical_accuracy: 0.9943 - val_loss: 0.9206 - val_sparse_categorical_accuracy: 0.8970\n",
            "Epoch 54/200\n",
            "279/279 [==============================] - 138s 496ms/step - loss: 0.0177 - sparse_categorical_accuracy: 0.9939 - val_loss: 0.9054 - val_sparse_categorical_accuracy: 0.9006\n",
            "Epoch 55/200\n",
            "279/279 [==============================] - 138s 494ms/step - loss: 0.0184 - sparse_categorical_accuracy: 0.9936 - val_loss: 0.8400 - val_sparse_categorical_accuracy: 0.8835\n",
            "Epoch 56/200\n",
            "279/279 [==============================] - 138s 494ms/step - loss: 0.0261 - sparse_categorical_accuracy: 0.9904 - val_loss: 0.6231 - val_sparse_categorical_accuracy: 0.9155\n",
            "Epoch 57/200\n",
            "279/279 [==============================] - 138s 495ms/step - loss: 0.0197 - sparse_categorical_accuracy: 0.9931 - val_loss: 0.6911 - val_sparse_categorical_accuracy: 0.9272\n",
            "Epoch 58/200\n",
            "279/279 [==============================] - 138s 495ms/step - loss: 0.0194 - sparse_categorical_accuracy: 0.9944 - val_loss: 0.4981 - val_sparse_categorical_accuracy: 0.9344\n",
            "Epoch 59/200\n",
            "279/279 [==============================] - 138s 494ms/step - loss: 0.0157 - sparse_categorical_accuracy: 0.9947 - val_loss: 0.4210 - val_sparse_categorical_accuracy: 0.9384\n",
            "Epoch 60/200\n",
            "279/279 [==============================] - 138s 493ms/step - loss: 0.0157 - sparse_categorical_accuracy: 0.9945 - val_loss: 0.5039 - val_sparse_categorical_accuracy: 0.9384\n",
            "Epoch 61/200\n",
            "279/279 [==============================] - 137s 493ms/step - loss: 0.0173 - sparse_categorical_accuracy: 0.9936 - val_loss: 0.5934 - val_sparse_categorical_accuracy: 0.9348\n",
            "Epoch 62/200\n",
            "279/279 [==============================] - 138s 495ms/step - loss: 0.0156 - sparse_categorical_accuracy: 0.9952 - val_loss: 0.5429 - val_sparse_categorical_accuracy: 0.9218\n",
            "Epoch 63/200\n",
            "279/279 [==============================] - 138s 494ms/step - loss: 0.0164 - sparse_categorical_accuracy: 0.9946 - val_loss: 0.5003 - val_sparse_categorical_accuracy: 0.9294\n",
            "Epoch 64/200\n",
            "279/279 [==============================] - 138s 495ms/step - loss: 0.0130 - sparse_categorical_accuracy: 0.9951 - val_loss: 0.4590 - val_sparse_categorical_accuracy: 0.9433\n",
            "Epoch 65/200\n",
            "279/279 [==============================] - 138s 496ms/step - loss: 0.0130 - sparse_categorical_accuracy: 0.9961 - val_loss: 0.6745 - val_sparse_categorical_accuracy: 0.9281\n",
            "Epoch 66/200\n",
            "279/279 [==============================] - 139s 497ms/step - loss: 0.0107 - sparse_categorical_accuracy: 0.9962 - val_loss: 0.4637 - val_sparse_categorical_accuracy: 0.9397\n",
            "Epoch 67/200\n",
            "279/279 [==============================] - 138s 496ms/step - loss: 0.0142 - sparse_categorical_accuracy: 0.9953 - val_loss: 0.5756 - val_sparse_categorical_accuracy: 0.9267\n",
            "Epoch 68/200\n",
            "279/279 [==============================] - 138s 495ms/step - loss: 0.0154 - sparse_categorical_accuracy: 0.9946 - val_loss: 0.4203 - val_sparse_categorical_accuracy: 0.9505\n",
            "Epoch 69/200\n",
            "279/279 [==============================] - 139s 498ms/step - loss: 0.0130 - sparse_categorical_accuracy: 0.9957 - val_loss: 0.7223 - val_sparse_categorical_accuracy: 0.9200\n",
            "Epoch 70/200\n",
            "279/279 [==============================] - 138s 495ms/step - loss: 0.0162 - sparse_categorical_accuracy: 0.9935 - val_loss: 0.4820 - val_sparse_categorical_accuracy: 0.9375\n",
            "Epoch 71/200\n",
            "279/279 [==============================] - 138s 494ms/step - loss: 0.0119 - sparse_categorical_accuracy: 0.9970 - val_loss: 0.4851 - val_sparse_categorical_accuracy: 0.9438\n",
            "Epoch 72/200\n",
            "279/279 [==============================] - 138s 494ms/step - loss: 0.0111 - sparse_categorical_accuracy: 0.9957 - val_loss: 0.5340 - val_sparse_categorical_accuracy: 0.9415\n",
            "Epoch 73/200\n",
            "279/279 [==============================] - 138s 493ms/step - loss: 0.0120 - sparse_categorical_accuracy: 0.9958 - val_loss: 0.3978 - val_sparse_categorical_accuracy: 0.9478\n",
            "Epoch 74/200\n",
            "279/279 [==============================] - 138s 494ms/step - loss: 0.0127 - sparse_categorical_accuracy: 0.9958 - val_loss: 0.4846 - val_sparse_categorical_accuracy: 0.9469\n",
            "Epoch 75/200\n",
            "279/279 [==============================] - 138s 494ms/step - loss: 0.0134 - sparse_categorical_accuracy: 0.9958 - val_loss: 0.4335 - val_sparse_categorical_accuracy: 0.9429\n",
            "Epoch 76/200\n",
            "279/279 [==============================] - 138s 494ms/step - loss: 0.0157 - sparse_categorical_accuracy: 0.9948 - val_loss: 0.4988 - val_sparse_categorical_accuracy: 0.9438\n",
            "Epoch 77/200\n",
            "279/279 [==============================] - 138s 493ms/step - loss: 0.0129 - sparse_categorical_accuracy: 0.9954 - val_loss: 0.3855 - val_sparse_categorical_accuracy: 0.9496\n",
            "Epoch 78/200\n",
            "279/279 [==============================] - 138s 494ms/step - loss: 0.0126 - sparse_categorical_accuracy: 0.9955 - val_loss: 0.4579 - val_sparse_categorical_accuracy: 0.9496\n",
            "Epoch 79/200\n",
            "279/279 [==============================] - 138s 494ms/step - loss: 0.0110 - sparse_categorical_accuracy: 0.9971 - val_loss: 0.4008 - val_sparse_categorical_accuracy: 0.9487\n",
            "Epoch 80/200\n",
            "279/279 [==============================] - 137s 492ms/step - loss: 0.0107 - sparse_categorical_accuracy: 0.9971 - val_loss: 0.5572 - val_sparse_categorical_accuracy: 0.9474\n",
            "Epoch 81/200\n",
            "279/279 [==============================] - 138s 495ms/step - loss: 0.0148 - sparse_categorical_accuracy: 0.9960 - val_loss: 0.4257 - val_sparse_categorical_accuracy: 0.9510\n",
            "Epoch 82/200\n",
            "279/279 [==============================] - 138s 495ms/step - loss: 0.0103 - sparse_categorical_accuracy: 0.9973 - val_loss: 0.4951 - val_sparse_categorical_accuracy: 0.9344\n",
            "Epoch 83/200\n",
            "279/279 [==============================] - 139s 496ms/step - loss: 0.0104 - sparse_categorical_accuracy: 0.9963 - val_loss: 0.5584 - val_sparse_categorical_accuracy: 0.9339\n",
            "Epoch 84/200\n",
            "279/279 [==============================] - 138s 495ms/step - loss: 0.0136 - sparse_categorical_accuracy: 0.9957 - val_loss: 0.4384 - val_sparse_categorical_accuracy: 0.9523\n",
            "Epoch 85/200\n",
            "279/279 [==============================] - 138s 496ms/step - loss: 0.0094 - sparse_categorical_accuracy: 0.9962 - val_loss: 0.4332 - val_sparse_categorical_accuracy: 0.9559\n",
            "Epoch 86/200\n",
            "279/279 [==============================] - 138s 496ms/step - loss: 0.0111 - sparse_categorical_accuracy: 0.9973 - val_loss: 0.4873 - val_sparse_categorical_accuracy: 0.9541\n",
            "Epoch 87/200\n",
            "279/279 [==============================] - 139s 497ms/step - loss: 0.0100 - sparse_categorical_accuracy: 0.9973 - val_loss: 0.3939 - val_sparse_categorical_accuracy: 0.9555\n",
            "Epoch 88/200\n",
            "279/279 [==============================] - 138s 496ms/step - loss: 0.0073 - sparse_categorical_accuracy: 0.9978 - val_loss: 0.4257 - val_sparse_categorical_accuracy: 0.9618\n",
            "Epoch 89/200\n",
            "279/279 [==============================] - 139s 497ms/step - loss: 0.0109 - sparse_categorical_accuracy: 0.9969 - val_loss: 0.4277 - val_sparse_categorical_accuracy: 0.9483\n",
            "Epoch 90/200\n",
            "279/279 [==============================] - 139s 497ms/step - loss: 0.0086 - sparse_categorical_accuracy: 0.9965 - val_loss: 0.4275 - val_sparse_categorical_accuracy: 0.9501\n",
            "Epoch 91/200\n",
            "279/279 [==============================] - 139s 498ms/step - loss: 0.0113 - sparse_categorical_accuracy: 0.9965 - val_loss: 0.3444 - val_sparse_categorical_accuracy: 0.9546\n",
            "Epoch 92/200\n",
            "279/279 [==============================] - 138s 495ms/step - loss: 0.0084 - sparse_categorical_accuracy: 0.9970 - val_loss: 0.4329 - val_sparse_categorical_accuracy: 0.9577\n",
            "Epoch 93/200\n",
            "279/279 [==============================] - 138s 495ms/step - loss: 0.0097 - sparse_categorical_accuracy: 0.9974 - val_loss: 0.4099 - val_sparse_categorical_accuracy: 0.9411\n",
            "Epoch 94/200\n",
            "279/279 [==============================] - 139s 498ms/step - loss: 0.0121 - sparse_categorical_accuracy: 0.9957 - val_loss: 0.4061 - val_sparse_categorical_accuracy: 0.9555\n",
            "Epoch 95/200\n",
            "279/279 [==============================] - 139s 497ms/step - loss: 0.0130 - sparse_categorical_accuracy: 0.9961 - val_loss: 0.3933 - val_sparse_categorical_accuracy: 0.9519\n",
            "Epoch 96/200\n",
            "279/279 [==============================] - 138s 494ms/step - loss: 0.0117 - sparse_categorical_accuracy: 0.9964 - val_loss: 0.6066 - val_sparse_categorical_accuracy: 0.9362\n",
            "Epoch 97/200\n",
            "279/279 [==============================] - 138s 496ms/step - loss: 0.0135 - sparse_categorical_accuracy: 0.9960 - val_loss: 0.4629 - val_sparse_categorical_accuracy: 0.9541\n",
            "Epoch 98/200\n",
            "279/279 [==============================] - 139s 497ms/step - loss: 0.0085 - sparse_categorical_accuracy: 0.9978 - val_loss: 0.3549 - val_sparse_categorical_accuracy: 0.9604\n",
            "Epoch 99/200\n",
            "279/279 [==============================] - 139s 499ms/step - loss: 0.0079 - sparse_categorical_accuracy: 0.9981 - val_loss: 0.5038 - val_sparse_categorical_accuracy: 0.9496\n",
            "Epoch 100/200\n",
            "279/279 [==============================] - 139s 498ms/step - loss: 0.0111 - sparse_categorical_accuracy: 0.9970 - val_loss: 0.4016 - val_sparse_categorical_accuracy: 0.9600\n",
            "Epoch 101/200\n",
            "279/279 [==============================] - 139s 497ms/step - loss: 0.0091 - sparse_categorical_accuracy: 0.9971 - val_loss: 0.4065 - val_sparse_categorical_accuracy: 0.9582\n",
            "Epoch 102/200\n",
            "279/279 [==============================] - 138s 495ms/step - loss: 0.0071 - sparse_categorical_accuracy: 0.9975 - val_loss: 0.4316 - val_sparse_categorical_accuracy: 0.9564\n",
            "Epoch 103/200\n",
            "279/279 [==============================] - 138s 495ms/step - loss: 0.0120 - sparse_categorical_accuracy: 0.9974 - val_loss: 0.4636 - val_sparse_categorical_accuracy: 0.9505\n",
            "Epoch 104/200\n",
            "279/279 [==============================] - 138s 496ms/step - loss: 0.0100 - sparse_categorical_accuracy: 0.9973 - val_loss: 0.4459 - val_sparse_categorical_accuracy: 0.9595\n",
            "Epoch 105/200\n",
            "279/279 [==============================] - 139s 498ms/step - loss: 0.0101 - sparse_categorical_accuracy: 0.9972 - val_loss: 0.4039 - val_sparse_categorical_accuracy: 0.9586\n",
            "Epoch 106/200\n",
            "279/279 [==============================] - 139s 497ms/step - loss: 0.0081 - sparse_categorical_accuracy: 0.9978 - val_loss: 0.4324 - val_sparse_categorical_accuracy: 0.9604\n",
            "Epoch 107/200\n",
            "279/279 [==============================] - 140s 501ms/step - loss: 0.0071 - sparse_categorical_accuracy: 0.9976 - val_loss: 0.3905 - val_sparse_categorical_accuracy: 0.9627\n",
            "Epoch 108/200\n",
            "279/279 [==============================] - 138s 496ms/step - loss: 0.0096 - sparse_categorical_accuracy: 0.9975 - val_loss: 0.3326 - val_sparse_categorical_accuracy: 0.9622\n",
            "Epoch 109/200\n",
            "279/279 [==============================] - 138s 495ms/step - loss: 0.0060 - sparse_categorical_accuracy: 0.9984 - val_loss: 0.3734 - val_sparse_categorical_accuracy: 0.9627\n",
            "Epoch 110/200\n",
            "279/279 [==============================] - 138s 495ms/step - loss: 0.0080 - sparse_categorical_accuracy: 0.9972 - val_loss: 0.4078 - val_sparse_categorical_accuracy: 0.9613\n",
            "Epoch 111/200\n",
            "279/279 [==============================] - 138s 495ms/step - loss: 0.0092 - sparse_categorical_accuracy: 0.9979 - val_loss: 0.4415 - val_sparse_categorical_accuracy: 0.9582\n",
            "Epoch 112/200\n",
            "279/279 [==============================] - 138s 495ms/step - loss: 0.0087 - sparse_categorical_accuracy: 0.9970 - val_loss: 0.4899 - val_sparse_categorical_accuracy: 0.9523\n",
            "Epoch 113/200\n",
            "279/279 [==============================] - 138s 496ms/step - loss: 0.0119 - sparse_categorical_accuracy: 0.9963 - val_loss: 0.3765 - val_sparse_categorical_accuracy: 0.9600\n",
            "Epoch 114/200\n",
            "279/279 [==============================] - 138s 495ms/step - loss: 0.0071 - sparse_categorical_accuracy: 0.9980 - val_loss: 0.4928 - val_sparse_categorical_accuracy: 0.9577\n",
            "Epoch 115/200\n",
            "279/279 [==============================] - 138s 495ms/step - loss: 0.0081 - sparse_categorical_accuracy: 0.9975 - val_loss: 0.3744 - val_sparse_categorical_accuracy: 0.9582\n",
            "Epoch 116/200\n",
            "279/279 [==============================] - 138s 495ms/step - loss: 0.0086 - sparse_categorical_accuracy: 0.9974 - val_loss: 0.4703 - val_sparse_categorical_accuracy: 0.9528\n",
            "Epoch 117/200\n",
            "279/279 [==============================] - 138s 496ms/step - loss: 0.0084 - sparse_categorical_accuracy: 0.9980 - val_loss: 0.5807 - val_sparse_categorical_accuracy: 0.9388\n",
            "Epoch 118/200\n",
            "279/279 [==============================] - 138s 496ms/step - loss: 0.0090 - sparse_categorical_accuracy: 0.9970 - val_loss: 0.5183 - val_sparse_categorical_accuracy: 0.9532\n",
            "Epoch 119/200\n",
            "279/279 [==============================] - 138s 496ms/step - loss: 0.0107 - sparse_categorical_accuracy: 0.9973 - val_loss: 0.4273 - val_sparse_categorical_accuracy: 0.9532\n",
            "Epoch 120/200\n",
            "279/279 [==============================] - 139s 497ms/step - loss: 0.0085 - sparse_categorical_accuracy: 0.9973 - val_loss: 0.5280 - val_sparse_categorical_accuracy: 0.9532\n",
            "Epoch 121/200\n",
            "279/279 [==============================] - 138s 494ms/step - loss: 0.0160 - sparse_categorical_accuracy: 0.9951 - val_loss: 0.4565 - val_sparse_categorical_accuracy: 0.9591\n",
            "Epoch 122/200\n",
            "279/279 [==============================] - 137s 492ms/step - loss: 0.0089 - sparse_categorical_accuracy: 0.9978 - val_loss: 0.5066 - val_sparse_categorical_accuracy: 0.9550\n",
            "Epoch 123/200\n",
            "279/279 [==============================] - 139s 498ms/step - loss: 0.0085 - sparse_categorical_accuracy: 0.9972 - val_loss: 0.5478 - val_sparse_categorical_accuracy: 0.9487\n",
            "Epoch 124/200\n",
            "279/279 [==============================] - 139s 496ms/step - loss: 0.0104 - sparse_categorical_accuracy: 0.9969 - val_loss: 0.3966 - val_sparse_categorical_accuracy: 0.9645\n",
            "Epoch 125/200\n",
            "279/279 [==============================] - 139s 498ms/step - loss: 0.0097 - sparse_categorical_accuracy: 0.9975 - val_loss: 0.5285 - val_sparse_categorical_accuracy: 0.9433\n",
            "Epoch 126/200\n",
            "279/279 [==============================] - 138s 495ms/step - loss: 0.0099 - sparse_categorical_accuracy: 0.9964 - val_loss: 0.5042 - val_sparse_categorical_accuracy: 0.9528\n",
            "Epoch 127/200\n",
            "279/279 [==============================] - 138s 495ms/step - loss: 0.0088 - sparse_categorical_accuracy: 0.9975 - val_loss: 0.4783 - val_sparse_categorical_accuracy: 0.9604\n",
            "Epoch 128/200\n",
            "279/279 [==============================] - 138s 496ms/step - loss: 0.0087 - sparse_categorical_accuracy: 0.9975 - val_loss: 0.4328 - val_sparse_categorical_accuracy: 0.9613\n",
            "Epoch 129/200\n",
            "279/279 [==============================] - 138s 496ms/step - loss: 0.0071 - sparse_categorical_accuracy: 0.9982 - val_loss: 0.4877 - val_sparse_categorical_accuracy: 0.9586\n",
            "Epoch 130/200\n",
            "279/279 [==============================] - 139s 498ms/step - loss: 0.0063 - sparse_categorical_accuracy: 0.9980 - val_loss: 0.4139 - val_sparse_categorical_accuracy: 0.9627\n",
            "Epoch 131/200\n",
            "279/279 [==============================] - 139s 498ms/step - loss: 0.0097 - sparse_categorical_accuracy: 0.9974 - val_loss: 0.4097 - val_sparse_categorical_accuracy: 0.9631\n",
            "Epoch 132/200\n",
            "279/279 [==============================] - 138s 494ms/step - loss: 0.0081 - sparse_categorical_accuracy: 0.9976 - val_loss: 0.4804 - val_sparse_categorical_accuracy: 0.9537\n",
            "Epoch 133/200\n",
            "279/279 [==============================] - 139s 497ms/step - loss: 0.0084 - sparse_categorical_accuracy: 0.9978 - val_loss: 0.5056 - val_sparse_categorical_accuracy: 0.9505\n",
            "Epoch 134/200\n",
            "279/279 [==============================] - 139s 498ms/step - loss: 0.0094 - sparse_categorical_accuracy: 0.9971 - val_loss: 0.4681 - val_sparse_categorical_accuracy: 0.9600\n",
            "Epoch 135/200\n",
            "279/279 [==============================] - 139s 497ms/step - loss: 0.0083 - sparse_categorical_accuracy: 0.9974 - val_loss: 0.5266 - val_sparse_categorical_accuracy: 0.9559\n",
            "Epoch 136/200\n",
            "279/279 [==============================] - 138s 496ms/step - loss: 0.0063 - sparse_categorical_accuracy: 0.9979 - val_loss: 0.4741 - val_sparse_categorical_accuracy: 0.9586\n",
            "Epoch 137/200\n",
            "279/279 [==============================] - 138s 495ms/step - loss: 0.0087 - sparse_categorical_accuracy: 0.9973 - val_loss: 0.5446 - val_sparse_categorical_accuracy: 0.9586\n",
            "Epoch 138/200\n",
            "279/279 [==============================] - 138s 494ms/step - loss: 0.0062 - sparse_categorical_accuracy: 0.9983 - val_loss: 0.4902 - val_sparse_categorical_accuracy: 0.9591\n",
            "Epoch 139/200\n",
            "279/279 [==============================] - 138s 495ms/step - loss: 0.0074 - sparse_categorical_accuracy: 0.9979 - val_loss: 0.5085 - val_sparse_categorical_accuracy: 0.9586\n",
            "Epoch 140/200\n",
            "279/279 [==============================] - 138s 495ms/step - loss: 0.0076 - sparse_categorical_accuracy: 0.9976 - val_loss: 0.5025 - val_sparse_categorical_accuracy: 0.9627\n",
            "Epoch 141/200\n",
            "279/279 [==============================] - 138s 496ms/step - loss: 0.0070 - sparse_categorical_accuracy: 0.9980 - val_loss: 0.4142 - val_sparse_categorical_accuracy: 0.9685\n",
            "Epoch 142/200\n",
            "279/279 [==============================] - 139s 496ms/step - loss: 0.0129 - sparse_categorical_accuracy: 0.9964 - val_loss: 0.4059 - val_sparse_categorical_accuracy: 0.9582\n",
            "Epoch 143/200\n",
            "279/279 [==============================] - 138s 496ms/step - loss: 0.0072 - sparse_categorical_accuracy: 0.9975 - val_loss: 0.4659 - val_sparse_categorical_accuracy: 0.9591\n",
            "Epoch 144/200\n",
            "279/279 [==============================] - 138s 493ms/step - loss: 0.0095 - sparse_categorical_accuracy: 0.9975 - val_loss: 0.5375 - val_sparse_categorical_accuracy: 0.9532\n",
            "Epoch 145/200\n",
            "279/279 [==============================] - 138s 494ms/step - loss: 0.0076 - sparse_categorical_accuracy: 0.9973 - val_loss: 0.5776 - val_sparse_categorical_accuracy: 0.9559\n",
            "Epoch 146/200\n",
            "279/279 [==============================] - 138s 496ms/step - loss: 0.0060 - sparse_categorical_accuracy: 0.9981 - val_loss: 0.7568 - val_sparse_categorical_accuracy: 0.9528\n",
            "Epoch 147/200\n",
            "279/279 [==============================] - 137s 492ms/step - loss: 0.0066 - sparse_categorical_accuracy: 0.9982 - val_loss: 0.7276 - val_sparse_categorical_accuracy: 0.9577\n",
            "Epoch 148/200\n",
            "279/279 [==============================] - 139s 498ms/step - loss: 0.0097 - sparse_categorical_accuracy: 0.9978 - val_loss: 0.3440 - val_sparse_categorical_accuracy: 0.9604\n",
            "Epoch 149/200\n",
            "279/279 [==============================] - 139s 498ms/step - loss: 0.0097 - sparse_categorical_accuracy: 0.9980 - val_loss: 0.5798 - val_sparse_categorical_accuracy: 0.9586\n",
            "Epoch 150/200\n",
            "279/279 [==============================] - 139s 498ms/step - loss: 0.0102 - sparse_categorical_accuracy: 0.9973 - val_loss: 0.7405 - val_sparse_categorical_accuracy: 0.9586\n",
            "Epoch 151/200\n",
            "279/279 [==============================] - 139s 499ms/step - loss: 0.0120 - sparse_categorical_accuracy: 0.9976 - val_loss: 0.4132 - val_sparse_categorical_accuracy: 0.9604\n",
            "Epoch 152/200\n",
            "279/279 [==============================] - 139s 498ms/step - loss: 0.0078 - sparse_categorical_accuracy: 0.9975 - val_loss: 0.5340 - val_sparse_categorical_accuracy: 0.9631\n",
            "Epoch 153/200\n",
            "279/279 [==============================] - 138s 495ms/step - loss: 0.0060 - sparse_categorical_accuracy: 0.9984 - val_loss: 0.6448 - val_sparse_categorical_accuracy: 0.9559\n",
            "Epoch 154/200\n",
            "279/279 [==============================] - 138s 493ms/step - loss: 0.0078 - sparse_categorical_accuracy: 0.9984 - val_loss: 0.5425 - val_sparse_categorical_accuracy: 0.9640\n",
            "Epoch 155/200\n",
            "279/279 [==============================] - 138s 495ms/step - loss: 0.0093 - sparse_categorical_accuracy: 0.9969 - val_loss: 0.8761 - val_sparse_categorical_accuracy: 0.9474\n",
            "Epoch 156/200\n",
            "279/279 [==============================] - 138s 493ms/step - loss: 0.0097 - sparse_categorical_accuracy: 0.9966 - val_loss: 0.6538 - val_sparse_categorical_accuracy: 0.9586\n",
            "Epoch 157/200\n",
            "279/279 [==============================] - 138s 496ms/step - loss: 0.0074 - sparse_categorical_accuracy: 0.9978 - val_loss: 0.5631 - val_sparse_categorical_accuracy: 0.9600\n",
            "Epoch 158/200\n",
            "279/279 [==============================] - 138s 493ms/step - loss: 0.0062 - sparse_categorical_accuracy: 0.9983 - val_loss: 0.7726 - val_sparse_categorical_accuracy: 0.9523\n",
            "Epoch 159/200\n",
            "279/279 [==============================] - 138s 496ms/step - loss: 0.0067 - sparse_categorical_accuracy: 0.9983 - val_loss: 0.6750 - val_sparse_categorical_accuracy: 0.9582\n",
            "Epoch 160/200\n",
            "279/279 [==============================] - 139s 496ms/step - loss: 0.0100 - sparse_categorical_accuracy: 0.9971 - val_loss: 0.5244 - val_sparse_categorical_accuracy: 0.9483\n",
            "Epoch 161/200\n",
            "279/279 [==============================] - 139s 497ms/step - loss: 0.0087 - sparse_categorical_accuracy: 0.9976 - val_loss: 0.5143 - val_sparse_categorical_accuracy: 0.9631\n",
            "Epoch 162/200\n",
            "279/279 [==============================] - 138s 495ms/step - loss: 0.0072 - sparse_categorical_accuracy: 0.9982 - val_loss: 0.5250 - val_sparse_categorical_accuracy: 0.9613\n",
            "Epoch 163/200\n",
            "279/279 [==============================] - 138s 494ms/step - loss: 0.0051 - sparse_categorical_accuracy: 0.9982 - val_loss: 0.6492 - val_sparse_categorical_accuracy: 0.9586\n",
            "Epoch 164/200\n",
            "279/279 [==============================] - 138s 493ms/step - loss: 0.0046 - sparse_categorical_accuracy: 0.9989 - val_loss: 0.4940 - val_sparse_categorical_accuracy: 0.9645\n",
            "Epoch 165/200\n",
            "279/279 [==============================] - 138s 495ms/step - loss: 0.0077 - sparse_categorical_accuracy: 0.9980 - val_loss: 0.4816 - val_sparse_categorical_accuracy: 0.9613\n",
            "Epoch 166/200\n",
            "279/279 [==============================] - 138s 493ms/step - loss: 0.0049 - sparse_categorical_accuracy: 0.9987 - val_loss: 0.7469 - val_sparse_categorical_accuracy: 0.9523\n",
            "Epoch 167/200\n",
            "279/279 [==============================] - 138s 493ms/step - loss: 0.0050 - sparse_categorical_accuracy: 0.9987 - val_loss: 0.6746 - val_sparse_categorical_accuracy: 0.9532\n",
            "Epoch 168/200\n",
            "279/279 [==============================] - 138s 495ms/step - loss: 0.0074 - sparse_categorical_accuracy: 0.9984 - val_loss: 0.7845 - val_sparse_categorical_accuracy: 0.9492\n",
            "Epoch 169/200\n",
            "279/279 [==============================] - 138s 494ms/step - loss: 0.0100 - sparse_categorical_accuracy: 0.9971 - val_loss: 0.6188 - val_sparse_categorical_accuracy: 0.9523\n",
            "Epoch 170/200\n",
            "279/279 [==============================] - 137s 492ms/step - loss: 0.0067 - sparse_categorical_accuracy: 0.9978 - val_loss: 0.4517 - val_sparse_categorical_accuracy: 0.9627\n",
            "Epoch 171/200\n",
            "279/279 [==============================] - 138s 493ms/step - loss: 0.0076 - sparse_categorical_accuracy: 0.9979 - val_loss: 0.5859 - val_sparse_categorical_accuracy: 0.9559\n",
            "Epoch 172/200\n",
            "279/279 [==============================] - 138s 494ms/step - loss: 0.0094 - sparse_categorical_accuracy: 0.9974 - val_loss: 0.6685 - val_sparse_categorical_accuracy: 0.9532\n",
            "Epoch 173/200\n",
            "279/279 [==============================] - 138s 493ms/step - loss: 0.0059 - sparse_categorical_accuracy: 0.9982 - val_loss: 0.6039 - val_sparse_categorical_accuracy: 0.9559\n",
            "Epoch 174/200\n",
            "279/279 [==============================] - 137s 492ms/step - loss: 0.0075 - sparse_categorical_accuracy: 0.9975 - val_loss: 0.6751 - val_sparse_categorical_accuracy: 0.9582\n",
            "Epoch 175/200\n",
            "279/279 [==============================] - 137s 492ms/step - loss: 0.0063 - sparse_categorical_accuracy: 0.9980 - val_loss: 0.5795 - val_sparse_categorical_accuracy: 0.9618\n",
            "Epoch 176/200\n",
            "279/279 [==============================] - 138s 493ms/step - loss: 0.0059 - sparse_categorical_accuracy: 0.9982 - val_loss: 0.7048 - val_sparse_categorical_accuracy: 0.9622\n",
            "Epoch 177/200\n",
            "279/279 [==============================] - 138s 495ms/step - loss: 0.0062 - sparse_categorical_accuracy: 0.9984 - val_loss: 0.5263 - val_sparse_categorical_accuracy: 0.9685\n",
            "Epoch 178/200\n",
            "279/279 [==============================] - 137s 493ms/step - loss: 0.0077 - sparse_categorical_accuracy: 0.9981 - val_loss: 0.5577 - val_sparse_categorical_accuracy: 0.9631\n",
            "Epoch 179/200\n",
            "279/279 [==============================] - 138s 494ms/step - loss: 0.0067 - sparse_categorical_accuracy: 0.9985 - val_loss: 0.5609 - val_sparse_categorical_accuracy: 0.9663\n",
            "Epoch 180/200\n",
            "279/279 [==============================] - 137s 492ms/step - loss: 0.0058 - sparse_categorical_accuracy: 0.9988 - val_loss: 0.7108 - val_sparse_categorical_accuracy: 0.9586\n",
            "Epoch 181/200\n",
            "279/279 [==============================] - 138s 495ms/step - loss: 0.0154 - sparse_categorical_accuracy: 0.9963 - val_loss: 0.8592 - val_sparse_categorical_accuracy: 0.9501\n",
            "Epoch 182/200\n",
            "279/279 [==============================] - 137s 492ms/step - loss: 0.0080 - sparse_categorical_accuracy: 0.9974 - val_loss: 0.4806 - val_sparse_categorical_accuracy: 0.9600\n",
            "Epoch 183/200\n",
            "279/279 [==============================] - 137s 492ms/step - loss: 0.0077 - sparse_categorical_accuracy: 0.9981 - val_loss: 0.5425 - val_sparse_categorical_accuracy: 0.9600\n",
            "Epoch 184/200\n",
            "279/279 [==============================] - 138s 494ms/step - loss: 0.0074 - sparse_categorical_accuracy: 0.9980 - val_loss: 0.4813 - val_sparse_categorical_accuracy: 0.9672\n",
            "Epoch 185/200\n",
            "279/279 [==============================] - 139s 496ms/step - loss: 0.0054 - sparse_categorical_accuracy: 0.9987 - val_loss: 0.4927 - val_sparse_categorical_accuracy: 0.9636\n",
            "Epoch 186/200\n",
            "279/279 [==============================] - 139s 499ms/step - loss: 0.0057 - sparse_categorical_accuracy: 0.9984 - val_loss: 0.4789 - val_sparse_categorical_accuracy: 0.9636\n",
            "Epoch 187/200\n",
            "279/279 [==============================] - 139s 499ms/step - loss: 0.0052 - sparse_categorical_accuracy: 0.9984 - val_loss: 0.6763 - val_sparse_categorical_accuracy: 0.9622\n",
            "Epoch 188/200\n",
            "279/279 [==============================] - 138s 496ms/step - loss: 0.0077 - sparse_categorical_accuracy: 0.9978 - val_loss: 0.4969 - val_sparse_categorical_accuracy: 0.9622\n",
            "Epoch 189/200\n",
            "279/279 [==============================] - 139s 498ms/step - loss: 0.0061 - sparse_categorical_accuracy: 0.9985 - val_loss: 0.6409 - val_sparse_categorical_accuracy: 0.9636\n",
            "Epoch 190/200\n",
            "279/279 [==============================] - 139s 500ms/step - loss: 0.0084 - sparse_categorical_accuracy: 0.9976 - val_loss: 0.4276 - val_sparse_categorical_accuracy: 0.9618\n",
            "Epoch 191/200\n",
            "279/279 [==============================] - 139s 498ms/step - loss: 0.0088 - sparse_categorical_accuracy: 0.9979 - val_loss: 0.4193 - val_sparse_categorical_accuracy: 0.9667\n",
            "Epoch 192/200\n",
            "279/279 [==============================] - 140s 500ms/step - loss: 0.0070 - sparse_categorical_accuracy: 0.9984 - val_loss: 0.9110 - val_sparse_categorical_accuracy: 0.9541\n",
            "Epoch 193/200\n",
            "279/279 [==============================] - 139s 498ms/step - loss: 0.0071 - sparse_categorical_accuracy: 0.9983 - val_loss: 0.7225 - val_sparse_categorical_accuracy: 0.9582\n",
            "Epoch 194/200\n",
            "279/279 [==============================] - 140s 500ms/step - loss: 0.0052 - sparse_categorical_accuracy: 0.9983 - val_loss: 0.7456 - val_sparse_categorical_accuracy: 0.9604\n",
            "Epoch 195/200\n",
            "279/279 [==============================] - 139s 498ms/step - loss: 0.0054 - sparse_categorical_accuracy: 0.9984 - val_loss: 0.9233 - val_sparse_categorical_accuracy: 0.9532\n",
            "Epoch 196/200\n",
            "279/279 [==============================] - 139s 499ms/step - loss: 0.0072 - sparse_categorical_accuracy: 0.9981 - val_loss: 0.5654 - val_sparse_categorical_accuracy: 0.9649\n",
            "Epoch 197/200\n",
            "279/279 [==============================] - 139s 499ms/step - loss: 0.0071 - sparse_categorical_accuracy: 0.9983 - val_loss: 0.7776 - val_sparse_categorical_accuracy: 0.9586\n",
            "Epoch 198/200\n",
            "279/279 [==============================] - 140s 501ms/step - loss: 0.0065 - sparse_categorical_accuracy: 0.9985 - val_loss: 0.6467 - val_sparse_categorical_accuracy: 0.9613\n",
            "Epoch 199/200\n",
            "279/279 [==============================] - 140s 500ms/step - loss: 0.0079 - sparse_categorical_accuracy: 0.9981 - val_loss: 0.7422 - val_sparse_categorical_accuracy: 0.9600\n",
            "Epoch 200/200\n",
            "279/279 [==============================] - 140s 501ms/step - loss: 0.0064 - sparse_categorical_accuracy: 0.9983 - val_loss: 0.6818 - val_sparse_categorical_accuracy: 0.9559\n"
          ]
        }
      ],
      "source": [
        "model.compile(optimizer=tf.keras.optimizers.Adam(\n",
        "    learning_rate=client_lr), loss=tf.keras.losses.SparseCategoricalCrossentropy(),\n",
        "    metrics=[tf.keras.metrics.SparseCategoricalAccuracy()])\n",
        "start = time()\n",
        "history = model.fit(x_train, train_label, epochs=NUM_ROUNDS, batch_size=BATCH_SIZE,use_multiprocessing=True,shuffle=False,validation_data=(x_val,val_label))\n",
        "end = time() - start"
      ]
    },
    {
      "cell_type": "code",
      "execution_count": 25,
      "metadata": {},
      "outputs": [
        {
          "name": "stdout",
          "output_type": "stream",
          "text": [
            "Time: 8 hours 31 mins 27 seconds\n"
          ]
        }
      ],
      "source": [
        "total_time = \"Time: {}\".format(sec_to_hours(end))\n",
        "print(total_time)\n"
      ]
    },
    {
      "cell_type": "markdown",
      "metadata": {
        "id": "pQ_J02EAdAFt"
      },
      "source": [
        "### Evaluation"
      ]
    },
    {
      "cell_type": "code",
      "execution_count": 27,
      "metadata": {},
      "outputs": [],
      "source": [
        "best_model_accuracy = history.history['sparse_categorical_accuracy'][np.argmin(history.history['loss'])]"
      ]
    },
    {
      "cell_type": "code",
      "execution_count": 28,
      "metadata": {},
      "outputs": [
        {
          "name": "stdout",
          "output_type": "stream",
          "text": [
            "87/87 - 3s - loss: 0.7900 - sparse_categorical_accuracy: 0.9500 - 3s/epoch - 33ms/step\n"
          ]
        }
      ],
      "source": [
        "_, test_acc = model.evaluate(x_test, flow_label, verbose=2, batch_size=BATCH_SIZE,use_multiprocessing=True)"
      ]
    },
    {
      "cell_type": "code",
      "execution_count": 29,
      "metadata": {},
      "outputs": [],
      "source": [
        "train_val = str(round(best_model_accuracy*100)) + \"_\" + str(round(test_acc*100))"
      ]
    },
    {
      "cell_type": "code",
      "execution_count": 30,
      "metadata": {},
      "outputs": [],
      "source": [
        "this_dir = Path.cwd()\n",
        "model_dir = this_dir / \"sdn_saved_models\" / experiment_name / method / train_val\n",
        "output_dir = this_dir / \"sdn_results\" / experiment_name / method / train_val\n",
        "\n",
        "if not model_dir.exists():\n",
        "    model_dir.mkdir(parents=True)\n",
        "\n",
        "if not output_dir.exists():\n",
        "    output_dir.mkdir(parents=True)"
      ]
    },
    {
      "cell_type": "code",
      "execution_count": 31,
      "metadata": {},
      "outputs": [],
      "source": [
        "model.save(model_dir/'model.h5')"
      ]
    },
    {
      "cell_type": "code",
      "execution_count": 32,
      "metadata": {},
      "outputs": [],
      "source": [
        "with open(output_dir/'parameters.txt', 'w') as f:\n",
        "    print('client_lr: {}\\nEpochs: {}\\nBATCH_SIZE: {}'.format(\n",
        "        client_lr, NUM_ROUNDS, BATCH_SIZE), file=f)\n",
        "    f.close()"
      ]
    },
    {
      "cell_type": "code",
      "execution_count": 33,
      "metadata": {},
      "outputs": [],
      "source": [
        "text_file = open(output_dir/\"time.txt\", \"w\")\n",
        "n = text_file.write(total_time)\n",
        "text_file.close()"
      ]
    },
    {
      "cell_type": "code",
      "execution_count": 34,
      "metadata": {},
      "outputs": [
        {
          "name": "stdout",
          "output_type": "stream",
          "text": [
            "87/87 - 3s - 3s/epoch - 37ms/step\n"
          ]
        }
      ],
      "source": [
        "predictions = model.predict(x_test,verbose=2,use_multiprocessing=True,batch_size=BATCH_SIZE)"
      ]
    },
    {
      "cell_type": "code",
      "execution_count": 35,
      "metadata": {},
      "outputs": [],
      "source": [
        "flow_pred = np.argmax(predictions, axis=-1)"
      ]
    },
    {
      "cell_type": "code",
      "execution_count": 36,
      "metadata": {},
      "outputs": [
        {
          "data": {
            "text/plain": [
              "array([1, 1, 1, ..., 2, 2, 2])"
            ]
          },
          "execution_count": 36,
          "metadata": {},
          "output_type": "execute_result"
        }
      ],
      "source": [
        "flow_pred"
      ]
    },
    {
      "cell_type": "code",
      "execution_count": 37,
      "metadata": {},
      "outputs": [
        {
          "data": {
            "text/plain": [
              "1"
            ]
          },
          "execution_count": 37,
          "metadata": {},
          "output_type": "execute_result"
        }
      ],
      "source": [
        "flow_label[0]"
      ]
    },
    {
      "cell_type": "code",
      "execution_count": 38,
      "metadata": {},
      "outputs": [
        {
          "name": "stdout",
          "output_type": "stream",
          "text": [
            "['Class 0', 'Class 1', 'Class 2', 'Class 3']\n"
          ]
        }
      ],
      "source": [
        "from sklearn.metrics import confusion_matrix\n",
        "from sklearn.metrics import accuracy_score, precision_score, recall_score, f1_score\n",
        "from sklearn.metrics import classification_report\n",
        "\n",
        "\n",
        "classes = []\n",
        "for c in range(NUM_CLASSES):\n",
        "    classes.append(\"Class {}\".format(c))\n",
        "print(classes)\n",
        "with open(output_dir/'metrics.txt', 'w') as f:\n",
        "    confusion = confusion_matrix(flow_label, flow_pred)\n",
        "    print('Confusion Matrix\\n', file=f)\n",
        "    print(confusion, file=f)\n",
        "\n",
        "    # importing accuracy_score, precision_score, recall_score, f1_score\n",
        "    print('\\nAccuracy: {:.2f}\\n'.format(\n",
        "        accuracy_score(flow_label, flow_pred)), file=f)\n",
        "\n",
        "    print('Micro Precision: {:.2f}'.format(\n",
        "        precision_score(flow_label, flow_pred, average='micro')), file=f)\n",
        "    print('Micro Recall: {:.2f}'.format(\n",
        "        recall_score(flow_label, flow_pred, average='micro')), file=f)\n",
        "    print(\n",
        "        'Micro F1-score: {:.2f}\\n'.format(f1_score(flow_label, flow_pred, average='micro')), file=f)\n",
        "\n",
        "    print('Macro Precision: {:.2f}'.format(\n",
        "        precision_score(flow_label, flow_pred, average='macro')), file=f)\n",
        "    print('Macro Recall: {:.2f}'.format(\n",
        "        recall_score(flow_label, flow_pred, average='macro')), file=f)\n",
        "    print(\n",
        "        'Macro F1-score: {:.2f}\\n'.format(f1_score(flow_label, flow_pred, average='macro')), file=f)\n",
        "\n",
        "    print('Weighted Precision: {:.2f}'.format(\n",
        "        precision_score(flow_label, flow_pred, average='weighted')), file=f)\n",
        "    print('Weighted Recall: {:.2f}'.format(\n",
        "        recall_score(flow_label, flow_pred, average='weighted')), file=f)\n",
        "    print(\n",
        "        'Weighted F1-score: {:.2f}'.format(f1_score(flow_label, flow_pred, average='weighted')), file=f)\n",
        "\n",
        "    print('\\nClassification Report\\n', file=f)\n",
        "    print(classification_report(flow_label, flow_pred, target_names=classes), file=f)\n",
        "    f.close()\n"
      ]
    },
    {
      "cell_type": "code",
      "execution_count": 39,
      "metadata": {},
      "outputs": [
        {
          "data": {
            "image/png": "[encoded data removed]",
            "text/plain": [
              "<Figure size 1000x600 with 1 Axes>"
            ]
          },
          "metadata": {},
          "output_type": "display_data"
        }
      ],
      "source": [
        "fig = plt.figure(figsize=(10, 6))\n",
        "plt.plot(history.history['sparse_categorical_accuracy'], label='accuracy')\n",
        "plt.plot(history.history['val_sparse_categorical_accuracy'], label='val_accuracy')\n",
        "plt.xlabel('Epoch')\n",
        "plt.ylabel('Accuracy')\n",
        "plt.ylim([0,1])\n",
        "plt.savefig(output_dir / \"normal_model_Accuracy.png\")"
      ]
    },
    {
      "cell_type": "code",
      "execution_count": 40,
      "metadata": {},
      "outputs": [
        {
          "data": {
            "image/png": "[encoded data removed]",
            "text/plain": [
              "<Figure size 1000x600 with 1 Axes>"
            ]
          },
          "metadata": {},
          "output_type": "display_data"
        }
      ],
      "source": [
        "fig = plt.figure(figsize=(10, 6))\n",
        "plt.plot(history.history['loss'], label='loss')\n",
        "plt.plot(history.history['val_loss'], label='val_loss')\n",
        "plt.xlabel('Epoch')\n",
        "plt.ylabel('Loss')\n",
        "plt.ylim([0,1])\n",
        "plt.savefig(output_dir / \"normal_model_Loss.png\")"
      ]
    },
    {
      "cell_type": "code",
      "execution_count": null,
      "metadata": {},
      "outputs": [],
      "source": []
    }
  ],
  "metadata": {
    "colab": {
      "collapsed_sections": [],
      "name": "notebook.ipynb",
      "provenance": []
    },
    "kernelspec": {
      "display_name": "venv",
      "language": "python",
      "name": "python3"
    },
    "language_info": {
      "codemirror_mode": {
        "name": "ipython",
        "version": 3
      },
      "file_extension": ".py",
      "mimetype": "text/x-python",
      "name": "python",
      "nbconvert_exporter": "python",
      "pygments_lexer": "ipython3",
      "version": "3.9.14"
    },
    "vscode": {
      "interpreter": {
        "hash": "addd2fdd290c7c34336629330a81969ca1164c4689498c0841c953bddca49006"
      }
    }
  },
  "nbformat": 4,
  "nbformat_minor": 0
}
