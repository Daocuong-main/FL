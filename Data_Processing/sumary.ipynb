{
 "cells": [
  {
   "cell_type": "code",
   "execution_count": 1,
   "id": "56ec2009",
   "metadata": {},
   "outputs": [],
   "source": [
    "import os\n",
    "import pandas as pd\n",
    "import numpy as np\n",
    "import glob\n",
    "import pyarrow.feather as feather\n",
    "from pyarrow import csv\n",
    "import random\n",
    "\n",
    "from sklearn import preprocessing\n",
    "le = preprocessing.LabelEncoder()\n",
    "scale = preprocessing.MinMaxScaler()\n",
    "pd.set_option(\"display.max_rows\", None)\n",
    "\n",
    "\n",
    "def train_test_split(df, frac=0.2):\n",
    "    selected = df['flow_id'].drop_duplicates().sample(frac=frac)\n",
    "    test = df[df['flow_id'].isin(selected)]\n",
    "    train = df[~df['flow_id'].isin(selected)]\n",
    "    return train, test\n",
    "\n",
    "\n",
    "def label_encoding(df, columns_list):\n",
    "    for col in columns_list:\n",
    "        df[col] = le.fit_transform(df[col])\n",
    "        le_name_mapping = dict(zip(le.classes_, le.transform(le.classes_)))\n",
    "        with open('Label_mapping_GQUIC.txt', 'a') as data:\n",
    "            data.write(col+\": \"+str(le_name_mapping) + \"\\n\")\n",
    "    return df\n",
    "\n",
    "\n",
    "def index_reset(df):\n",
    "    return pd.RangeIndex(len(df.index))\n",
    "\n",
    "\n",
    "def data_scale(df):\n",
    "    df.loc[:, '0': '1459'] = df.loc[:, '0': '1459'].div(255)\n",
    "    # df[['length']] = scale.fit_transform(\n",
    "    #     df[['length']])\n",
    "    return df\n",
    "\n",
    "\n",
    "def remove_protocol(df):\n",
    "    df = df.loc[(df['protocol'] == 'GQUIC')]\n",
    "    return df\n",
    "\n",
    "\n",
    "def remove_columns(df):\n",
    "    df = df.drop(['ip_proto', 'data', 'length'], axis=1)\n",
    "    return df\n",
    "\n",
    "\n",
    "def final_remove(df):\n",
    "    df = df.drop(['ip_src', 'ip_dst', 'protocol', 'info'], axis=1)\n",
    "    return df\n",
    "\n",
    "def get_static(df):\n",
    "    for col in ['A->B', 'B->A','total']:\n",
    "        print(\"Cột {}: \".format(col))\n",
    "        for num in [1000,550,500,450,100]:\n",
    "            total_flow = df.shape[0]\n",
    "            count = df[col][df[col] < num].count()\n",
    "            remain = total_flow - count\n",
    "            percent = round((count/float(df.shape[0])) * 100,2)\n",
    "            print(\"<{} chiếm {}% ({}/{}) con lai {})\".format(num,percent,count,df.shape[0],remain))"
   ]
  },
  {
   "cell_type": "markdown",
   "id": "1380d87c",
   "metadata": {},
   "source": [
    "# VoIP"
   ]
  },
  {
   "cell_type": "code",
   "execution_count": 2,
   "id": "48259186",
   "metadata": {},
   "outputs": [],
   "source": [
    "# get your working directory and target folder that contains all your files\n",
    "path = os.path.join(os.getcwd(), 'rawds-summary/rawds/NetFlow-QUIC1/Summary/GoogleHangout_VoIP')\n",
    "\n",
    "files = [os.path.join(path, i) for i in os.listdir(\n",
    "    path) if os.path.isfile(os.path.join(path, i))]\n",
    "\n",
    "df_GoogleHangout_VoIP = pd.DataFrame()\n",
    "\n",
    "# for every file in folder, read it and append to a empty dataframe with column filename as 'Label'\n",
    "for file in files:\n",
    "    _df_GoogleHangout_VoIP = pd.read_csv(\n",
    "        file, engine='pyarrow')\n",
    "    _df_GoogleHangout_VoIP['Label'] = \"GoogleHangout_VoIP\"\n",
    "    file_name = file.split('/')\n",
    "    _df_GoogleHangout_VoIP['File_name'] = file_name[-1]\n",
    "    df_GoogleHangout_VoIP = pd.concat(\n",
    "        [df_GoogleHangout_VoIP, _df_GoogleHangout_VoIP], ignore_index=True)\n",
    "del _df_GoogleHangout_VoIP\n"
   ]
  },
  {
   "cell_type": "code",
   "execution_count": 3,
   "id": "7138db36",
   "metadata": {},
   "outputs": [],
   "source": [
    "df_sorted = df_GoogleHangout_VoIP.sort_values(['stream_id', 'File_name'])\n",
    "del df_GoogleHangout_VoIP\n",
    "df_sorted['flow_id'] = (df_sorted.groupby(['stream_id', 'File_name']).cumcount()==0).astype(int)\n",
    "df_sorted['flow_id'] = df_sorted['flow_id'].cumsum()"
   ]
  },
  {
   "cell_type": "code",
   "execution_count": 4,
   "id": "733c40d0",
   "metadata": {},
   "outputs": [
    {
     "data": {
      "text/plain": [
       "73303"
      ]
     },
     "execution_count": 4,
     "metadata": {},
     "output_type": "execute_result"
    }
   ],
   "source": [
    "df_sorted['flow_id'].nunique()"
   ]
  },
  {
   "cell_type": "code",
   "execution_count": 13,
   "id": "07585831",
   "metadata": {},
   "outputs": [],
   "source": [
    "df_GoogleHangout_VoIP.to_csv(\n",
    "    \"GQUIC_sumary/sumary_GoogleHangout_VoIP.csv\", index=False)\n",
    "del df_GoogleHangout_VoIP\n"
   ]
  },
  {
   "cell_type": "markdown",
   "id": "47922dc7",
   "metadata": {},
   "source": [
    "# Music"
   ]
  },
  {
   "cell_type": "code",
   "execution_count": 14,
   "id": "7b28754a",
   "metadata": {},
   "outputs": [],
   "source": [
    "# get your working directory and target folder that contains all your files\n",
    "path = os.path.join(os.getcwd(), 'rawds-summary/rawds/NetFlow-QUIC1/Summary/Google_PlayMusic')\n",
    "\n",
    "files = [os.path.join(path, i) for i in os.listdir(\n",
    "    path) if os.path.isfile(os.path.join(path, i))]\n",
    "\n",
    "df_Google_PlayMusic = pd.DataFrame()\n",
    "\n",
    "# for every file in folder, read it and append to a empty dataframe with column filename as 'Label'\n",
    "for file in files:\n",
    "    _df_Google_PlayMusic = pd.read_csv(\n",
    "        file, engine='pyarrow')\n",
    "    # print(file)\n",
    "    _df_Google_PlayMusic['Label'] = \"Google_PlayMusic\"\n",
    "    file_name = file.split('/')\n",
    "    _df_Google_PlayMusic['File_name'] = file_name[-1]\n",
    "    df_Google_PlayMusic = pd.concat(\n",
    "        [df_Google_PlayMusic, _df_Google_PlayMusic])\n",
    "del _df_Google_PlayMusic\n"
   ]
  },
  {
   "cell_type": "code",
   "execution_count": 15,
   "id": "df1885d3",
   "metadata": {},
   "outputs": [],
   "source": [
    "df_Google_PlayMusic.to_csv(\"GQUIC_sumary/sumary_Google_PlayMusic.csv\", index=False)\n",
    "del df_Google_PlayMusic\n"
   ]
  },
  {
   "cell_type": "markdown",
   "id": "d6dc65d1",
   "metadata": {},
   "source": [
    "# File Transfer"
   ]
  },
  {
   "cell_type": "code",
   "execution_count": 16,
   "id": "c64b3efd",
   "metadata": {},
   "outputs": [],
   "source": [
    "# get your working directory and target folder that contains all your files\n",
    "path = os.path.join(os.getcwd(), 'rawds-summary/rawds/NetFlow-QUIC1/Summary/FileTransfer')\n",
    "\n",
    "files = [os.path.join(path, i) for i in os.listdir(\n",
    "    path) if os.path.isfile(os.path.join(path, i))]\n",
    "\n",
    "df_FileTransfer = pd.DataFrame()\n",
    "\n",
    "# for every file in folder, read it and append to a empty dataframe with column filename as 'Label'\n",
    "for file in files:\n",
    "    _df_FileTransfer = pd.read_csv(file, engine='pyarrow')\n",
    "    # print(file)\n",
    "    _df_FileTransfer['Label'] = \"FileTransfer\"\n",
    "    file_name = file.split('/')\n",
    "    _df_FileTransfer['File_name'] = file_name[-1]\n",
    "    df_FileTransfer = pd.concat([df_FileTransfer, _df_FileTransfer])\n",
    "del _df_FileTransfer\n"
   ]
  },
  {
   "cell_type": "code",
   "execution_count": 17,
   "id": "96e36640",
   "metadata": {},
   "outputs": [],
   "source": [
    "df_FileTransfer.to_csv(\"GQUIC_sumary/sumary_FileTranfer.csv\", index=False)\n",
    "del df_FileTransfer\n"
   ]
  },
  {
   "cell_type": "markdown",
   "id": "12724525",
   "metadata": {},
   "source": [
    "# Youtube"
   ]
  },
  {
   "cell_type": "code",
   "execution_count": 18,
   "id": "38f77dad",
   "metadata": {},
   "outputs": [],
   "source": [
    "# get your working directory and target folder that contains all your files\n",
    "path = os.path.join(\n",
    "    os.getcwd(), 'rawds-summary/rawds/NetFlow-QUIC1/Summary/Youtube')\n",
    "\n",
    "files = [os.path.join(path, i) for i in os.listdir(\n",
    "    path) if os.path.isfile(os.path.join(path, i))]\n",
    "\n",
    "df_Youtube = pd.DataFrame()\n",
    "\n",
    "# for every file in folder, read it and append to a empty dataframe with column filename as 'Label'\n",
    "for file in files:\n",
    "    _df_Youtube = pd.read_csv(file, engine='pyarrow')\n",
    "    # print(file)\n",
    "    file_name = file.split('/')\n",
    "    _df_Youtube['File_name'] = file_name[-1]\n",
    "    _df_Youtube['Label'] = \"Youtube\"\n",
    "    df_Youtube = pd.concat([df_Youtube, _df_Youtube])\n",
    "del _df_Youtube\n"
   ]
  },
  {
   "cell_type": "code",
   "execution_count": 19,
   "id": "2e51ec05",
   "metadata": {},
   "outputs": [],
   "source": [
    "df_Youtube.to_csv(\n",
    "    \"GQUIC_sumary/sumary_Youtube.csv\", index=False)\n",
    "del df_Youtube"
   ]
  },
  {
   "cell_type": "markdown",
   "id": "38a5052b",
   "metadata": {},
   "source": [
    "# Final"
   ]
  },
  {
   "cell_type": "markdown",
   "id": "52b249ba",
   "metadata": {},
   "source": [
    "## Gop du lieu"
   ]
  },
  {
   "cell_type": "code",
   "execution_count": 25,
   "id": "4740d621",
   "metadata": {},
   "outputs": [],
   "source": [
    "path = os.path.join(os.getcwd(),  '/home/onos/FL/Data_Processing/GQUIC_sumary')\n",
    "all_files = glob.glob(os.path.join(path, \"*.csv\"))\n",
    "df_GQUIC = pd.concat((pd.read_csv(f,engine='pyarrow') for f in all_files), ignore_index=True)\n"
   ]
  },
  {
   "cell_type": "code",
   "execution_count": 26,
   "id": "ebb74731",
   "metadata": {},
   "outputs": [],
   "source": [
    "df_sorted = df_GQUIC.sort_values(['stream_id', 'File_name'])\n",
    "del df_GQUIC\n",
    "df_sorted['flow_id'] = (df_sorted.groupby(['stream_id', 'File_name']).cumcount()==0).astype(int)\n",
    "df_sorted['flow_id'] = df_sorted['flow_id'].cumsum()"
   ]
  },
  {
   "cell_type": "code",
   "execution_count": 28,
   "id": "28711db6",
   "metadata": {},
   "outputs": [],
   "source": [
    "df_sorted.index = pd.RangeIndex(len(df_sorted.index))\n",
    "df_sorted.to_feather('sumary.feather')\n",
    "del df_sorted"
   ]
  }
 ],
 "metadata": {
  "kernelspec": {
   "display_name": "venv",
   "language": "python",
   "name": "python3"
  },
  "language_info": {
   "codemirror_mode": {
    "name": "ipython",
    "version": 3
   },
   "file_extension": ".py",
   "mimetype": "text/x-python",
   "name": "python",
   "nbconvert_exporter": "python",
   "pygments_lexer": "ipython3",
   "version": "3.9.14"
  },
  "latex_envs": {
   "LaTeX_envs_menu_present": true,
   "autoclose": false,
   "autocomplete": true,
   "bibliofile": "biblio.bib",
   "cite_by": "apalike",
   "current_citInitial": 1,
   "eqLabelWithNumbers": true,
   "eqNumInitial": 1,
   "hotkeys": {
    "equation": "Ctrl-E",
    "itemize": "Ctrl-I"
   },
   "labels_anchors": false,
   "latex_user_defs": false,
   "report_style_numbering": false,
   "user_envs_cfg": false
  },
  "toc": {
   "base_numbering": 1,
   "nav_menu": {},
   "number_sections": true,
   "sideBar": true,
   "skip_h1_title": false,
   "title_cell": "Table of Contents",
   "title_sidebar": "Contents",
   "toc_cell": false,
   "toc_position": {},
   "toc_section_display": true,
   "toc_window_display": false
  },
  "vscode": {
   "interpreter": {
    "hash": "addd2fdd290c7c34336629330a81969ca1164c4689498c0841c953bddca49006"
   }
  }
 },
 "nbformat": 4,
 "nbformat_minor": 5
}
