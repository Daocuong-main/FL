{
 "cells": [
  {
   "cell_type": "code",
   "execution_count": 5,
   "metadata": {},
   "outputs": [
    {
     "name": "stdout",
     "output_type": "stream",
     "text": [
      "Adding data from 0 to 9600 for client : client_1\n",
      "Adding data from 9600 to 19200 for client : client_2\n",
      "Adding data from 19200 to 28800 for client : client_3\n",
      "Adding data from 28800 to 38400 for client : client_4\n",
      "Adding data from 38400 to 48000 for client : client_5\n"
     ]
    }
   ],
   "source": [
    "import collections\n",
    "import numpy as np\n",
    "from tensorflow import reshape, nest, config\n",
    "from tensorflow.keras import losses, metrics, optimizers\n",
    "import tensorflow_federated as tff\n",
    "from matplotlib import pyplot as plt\n",
    "from pathlib import Path\n",
    "from utils import plot_graph\n",
    "import pandas as pd\n",
    "from sklearn.model_selection import train_test_split\n",
    "\n",
    "gpus = config.list_physical_devices('GPU')\n",
    "if gpus:\n",
    "  try:\n",
    "    for gpu in gpus:\n",
    "        config.experimental.set_memory_growth(gpu, True)\n",
    "  except RuntimeError as e:\n",
    "    print(e)\n",
    "\n",
    "\n",
    "experiment_name = \"sdn_data\"\n",
    "method = \"tff_training\"\n",
    "client_lr = 1e-2\n",
    "server_lr = 1e-2\n",
    "split = 5\n",
    "NUM_ROUNDS = 5\n",
    "NUM_EPOCHS = 100\n",
    "BATCH_SIZE = 20\n",
    "PREFETCH_BUFFER = 1\n",
    "\n",
    "this_dir = Path.cwd()\n",
    "model_dir = this_dir / \"sdn_saved_models\" / experiment_name / method\n",
    "output_dir = this_dir / \"sdn_results\" / experiment_name / method\n",
    "\n",
    "if not model_dir.exists():\n",
    "    model_dir.mkdir(parents=True)\n",
    "\n",
    "if not output_dir.exists():\n",
    "    output_dir.mkdir(parents=True)\n",
    "\n",
    "data = pd.read_csv('dataset.csv')\n",
    "X_full = data.drop('Label', axis=1).to_numpy()\n",
    "y_full = data.Label.to_numpy()\n",
    "x_train, x_test, y_train, y_test = train_test_split(X_full, y_full,test_size=0.2, shuffle=True)\n",
    "\n",
    "x_train = x_train.reshape( x_train.shape[0], 1, x_train.shape[1] )\n",
    "x_test = x_test.reshape( x_test.shape[0], 1, x_test.shape[1])\n",
    "\n",
    "total_image_count = len(x_train)\n",
    "image_per_set = int(np.floor(total_image_count/split))\n",
    "\n",
    "client_train_dataset = collections.OrderedDict()\n",
    "for i in range(1, split+1):\n",
    "    client_name = \"client_\" + str(i)\n",
    "    start = image_per_set * (i-1)\n",
    "    end = image_per_set * i\n",
    "\n",
    "    print(f\"Adding data from {start} to {end} for client : {client_name}\")\n",
    "    data = collections.OrderedDict((('label', y_train[start:end]), ('pixels', x_train[start:end])))\n",
    "    client_train_dataset[client_name] = data"
   ]
  },
  {
   "cell_type": "code",
   "execution_count": 6,
   "metadata": {},
   "outputs": [],
   "source": [
    "from models.conv_2 import create_keras_model\n",
    "\n",
    "train_dataset = tff.simulation.datasets.TestClientData(client_train_dataset)\n",
    "\n",
    "sample_dataset = train_dataset.create_tf_dataset_for_client(train_dataset.client_ids[0])\n",
    "sample_element = next(iter(sample_dataset))\n",
    "\n",
    "SHUFFLE_BUFFER = image_per_set\n"
   ]
  },
  {
   "cell_type": "code",
   "execution_count": 7,
   "metadata": {},
   "outputs": [
    {
     "name": "stdout",
     "output_type": "stream",
     "text": [
      "Number of client datasets: 5\n",
      "First dataset: <PrefetchDataset element_spec=OrderedDict([('x', TensorSpec(shape=(None, 1, 100), dtype=tf.float64, name=None)), ('y', TensorSpec(shape=(None, 1), dtype=tf.int64, name=None))])>\n",
      "( -> <global_model_weights=<trainable=<float32[100,256],float32[64,256],float32[256],float32[64,512],float32[128,512],float32[512],float32[128,256],float32[64,256],float32[256],float32[64,1],float32[1]>,non_trainable=<>>,distributor=<>,client_work=<>,aggregator=<value_sum_process=<>,weight_sum_process=<>>,finalizer=<int64>>@SERVER)\n"
     ]
    }
   ],
   "source": [
    "def preprocess(dataset):\n",
    "\n",
    "  def batch_format_fn(element):\n",
    "    \"\"\"Flatten a batch `pixels` and return the features as an `OrderedDict`.\"\"\"\n",
    "\n",
    "    return collections.OrderedDict(\n",
    "        x=reshape(element['pixels'], [ -1, 1, 100]),\n",
    "        y=reshape(element['label'], [-1, 1]))\n",
    "\n",
    "  return dataset.repeat(NUM_EPOCHS).shuffle(SHUFFLE_BUFFER).batch(\n",
    "      BATCH_SIZE).map(batch_format_fn).prefetch(PREFETCH_BUFFER)\n",
    "\n",
    "preprocessed_sample_dataset = preprocess(sample_dataset)\n",
    "sample_batch = nest.map_structure(lambda x: x.numpy(), next(iter(preprocessed_sample_dataset)))\n",
    "\n",
    "\n",
    "def make_federated_data(client_data, client_ids):\n",
    "    return [preprocess(client_data.create_tf_dataset_for_client(x)) for x in client_ids]\n",
    "\n",
    "federated_train_data = make_federated_data(train_dataset, train_dataset.client_ids)\n",
    "\n",
    "print('Number of client datasets: {l}'.format(l=len(federated_train_data)))\n",
    "print('First dataset: {d}'.format(d=federated_train_data[0]))\n",
    "\n",
    "def model_fn():\n",
    "  # We _must_ create a new model here, and _not_ capture it from an external\n",
    "  # scope. TFF will call this within different graph contexts.\n",
    "\n",
    "  keras_model = create_keras_model(x_train)\n",
    "  return tff.learning.from_keras_model(\n",
    "      keras_model,\n",
    "      input_spec=preprocessed_sample_dataset.element_spec,\n",
    "      loss=losses.MeanSquaredError())\n",
    "\n",
    "iterative_process = tff.learning.algorithms.build_weighted_fed_avg(\n",
    "    model_fn,\n",
    "    client_optimizer_fn=lambda: optimizers.SGD(learning_rate=client_lr),\n",
    "    server_optimizer_fn=lambda: optimizers.SGD(learning_rate=server_lr))\n",
    "\n",
    "print(str(iterative_process.initialize.type_signature))\n",
    "\n",
    "state = iterative_process.initialize()"
   ]
  },
  {
   "cell_type": "code",
   "execution_count": 8,
   "metadata": {},
   "outputs": [
    {
     "name": "stdout",
     "output_type": "stream",
     "text": [
      "round  1, loss=0.653\n",
      "round  2, loss=0.652\n",
      "round  3, loss=0.652\n",
      "round  4, loss=0.651\n",
      "round  5, loss=0.651\n"
     ]
    }
   ],
   "source": [
    "tff_train_acc = []\n",
    "tff_val_acc = []\n",
    "tff_train_loss = []\n",
    "tff_val_loss = []\n",
    "\n",
    "eval_model = None\n",
    "for round_num in range(1, NUM_ROUNDS+1):\n",
    "    eval_model = create_keras_model(x_train)\n",
    "    eval_model.compile(optimizer=optimizers.SGD(learning_rate=client_lr),\n",
    "                       loss=losses.CategoricalCrossentropy(),\n",
    "                        metrics=[metrics.Accuracy()])\n",
    "\n",
    "    result = iterative_process.next(state, federated_train_data)\n",
    "    state = result.state\n",
    "    train_metrics = result.metrics['client_work']['train']\n",
    "\n",
    "    ev_result = eval_model.evaluate(x_test, y_test, verbose=0)\n",
    "    print('round {:2d}, loss={l:.3f}'.format(round_num, l=train_metrics['loss']))\n",
    "    # print(f\"Eval loss : {ev_result[0]} and Eval accuracy : {ev_result[1]}\")\n",
    "    tff_val_acc.append(ev_result[1])\n",
    "    tff_train_loss.append(float(train_metrics['loss']))\n",
    "    tff_val_loss.append(ev_result[0])\n"
   ]
  },
  {
   "cell_type": "code",
   "execution_count": 10,
   "metadata": {},
   "outputs": [
    {
     "data": {
      "text/plain": [
       "<matplotlib.legend.Legend at 0x7f98f8e5fc70>"
      ]
     },
     "execution_count": 10,
     "metadata": {},
     "output_type": "execute_result"
    },
    {
     "data": {
      "text/plain": [
       "<Figure size 1000x600 with 0 Axes>"
      ]
     },
     "metadata": {},
     "output_type": "display_data"
    },
    {
     "data": {
      "image/png": "[encoded data removed]",
      "text/plain": [
       "<Figure size 1000x600 with 1 Axes>"
      ]
     },
     "metadata": {},
     "output_type": "display_data"
    }
   ],
   "source": [
    "metric_collection = {\"loss\": tff_train_loss}\n",
    "\n",
    "if eval_model:\n",
    "    eval_model.save(model_dir / (experiment_name + \".h5\"))\n",
    "else:\n",
    "    print(\"training didn't started\")\n",
    "    exit()\n",
    "\n",
    "fig = plt.figure(figsize=(10, 6))\n",
    "# plot_graph(list(range(1, 26))[4::5], tff_train_acc, label='Train Accuracy')\n",
    "# plot_graph(list(range(1, 26))[4::5], tff_val_acc, label='Validation Accuracy')\n",
    "# plt.legend()\n",
    "# plt.savefig(output_dir / \"federated_model_Accuracy.png\")\n",
    "\n",
    "plt.figure(figsize=(10, 6))\n",
    "plot_graph(list(range(1, 26))[4::5], tff_train_loss, label='Train loss')\n",
    "# plot_graph(list(range(1, 26))[4::5], tff_val_loss, label='Validation loss')\n",
    "plt.legend()\n",
    "# plt.savefig(output_dir / \"federated_model_loss.png\")"
   ]
  },
  {
   "cell_type": "code",
   "execution_count": null,
   "metadata": {},
   "outputs": [],
   "source": []
  }
 ],
 "metadata": {
  "kernelspec": {
   "display_name": "Python 3",
   "language": "python",
   "name": "python3"
  },
  "language_info": {
   "codemirror_mode": {
    "name": "ipython",
    "version": 3
   },
   "file_extension": ".py",
   "mimetype": "text/x-python",
   "name": "python",
   "nbconvert_exporter": "python",
   "pygments_lexer": "ipython3",
   "version": "3.6.9"
  },
  "vscode": {
   "interpreter": {
    "hash": "addd2fdd290c7c34336629330a81969ca1164c4689498c0841c953bddca49006"
   }
  }
 },
 "nbformat": 4,
 "nbformat_minor": 2
}
