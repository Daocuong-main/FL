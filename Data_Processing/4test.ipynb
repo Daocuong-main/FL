{
 "cells": [
  {
   "cell_type": "code",
   "execution_count": 1,
   "metadata": {},
   "outputs": [],
   "source": [
    "import pandas as pd"
   ]
  },
  {
   "cell_type": "code",
   "execution_count": 2,
   "metadata": {},
   "outputs": [],
   "source": [
    "df_20 = pd.read_csv('/home/onos/FL/Data_Processing/csv/gquic/GoogleHangout_VoIP/GoogleHangout_VoIP_00001.csv',engine='pyarrow')\n",
    "df_summary_20 = pd.read_csv('/home/onos/FL/Data_Processing/rawds-summary/rawds/NetFlow-QUIC1/Summary/GoogleHangout_VoIP/GoogleHangout_VoIP_00001_summary.csv')"
   ]
  },
  {
   "cell_type": "code",
   "execution_count": 14,
   "metadata": {},
   "outputs": [
    {
     "name": "stdout",
     "output_type": "stream",
     "text": [
      "4116\n",
      "5965\n"
     ]
    }
   ],
   "source": [
    "print(df_20['stream_id'].nunique())\n",
    "print(df_summary_20['stream_id'].nunique())"
   ]
  },
  {
   "cell_type": "code",
   "execution_count": 7,
   "metadata": {},
   "outputs": [],
   "source": [
    "df_100 = pd.read_csv('/home/onos/FL/Data_Processing/rawds-100/NetFlow-QUIC1/GoogleHangout_VoIP/GoogleHangout_VoIP_00001.csv',engine='pyarrow')\n",
    "df_summary_100 = pd.read_csv('/home/onos/FL/Data_Processing/rawds-100/NetFlow-QUIC1/GoogleHangout_VoIP/GoogleHangout_VoIP_00001_summary.csv',engine='pyarrow')"
   ]
  },
  {
   "cell_type": "code",
   "execution_count": 15,
   "metadata": {},
   "outputs": [
    {
     "name": "stdout",
     "output_type": "stream",
     "text": [
      "4116\n",
      "5965\n"
     ]
    }
   ],
   "source": [
    "print(df_100['stream_id'].nunique())\n",
    "print(df_summary_100['stream_id'].nunique())"
   ]
  },
  {
   "cell_type": "code",
   "execution_count": 16,
   "metadata": {},
   "outputs": [
    {
     "data": {
      "text/plain": [
       "Index(['l4_proto', 'stream_id', 'A->B', 'B->A', 'total'], dtype='object')"
      ]
     },
     "execution_count": 16,
     "metadata": {},
     "output_type": "execute_result"
    }
   ],
   "source": [
    "df_summary_20.columns"
   ]
  },
  {
   "cell_type": "code",
   "execution_count": 17,
   "metadata": {},
   "outputs": [
    {
     "data": {
      "text/plain": [
       "0          0\n",
       "1          1\n",
       "2          2\n",
       "3          3\n",
       "4          4\n",
       "        ... \n",
       "5960    5960\n",
       "5961    5961\n",
       "5962    5962\n",
       "5963    5963\n",
       "5964    5964\n",
       "Name: stream_id, Length: 5965, dtype: int64"
      ]
     },
     "execution_count": 17,
     "metadata": {},
     "output_type": "execute_result"
    }
   ],
   "source": [
    "df_summary_20['stream_id'].sort_values()"
   ]
  },
  {
   "cell_type": "code",
   "execution_count": 18,
   "metadata": {},
   "outputs": [
    {
     "data": {
      "text/plain": [
       "0           0\n",
       "209         0\n",
       "229         0\n",
       "232         0\n",
       "255         0\n",
       "         ... \n",
       "67270    5958\n",
       "67269    5958\n",
       "67268    5958\n",
       "67259    5958\n",
       "67264    5958\n",
       "Name: stream_id, Length: 67290, dtype: int64"
      ]
     },
     "execution_count": 18,
     "metadata": {},
     "output_type": "execute_result"
    }
   ],
   "source": [
    "df_20['stream_id'].sort_values()"
   ]
  },
  {
   "cell_type": "code",
   "execution_count": 24,
   "metadata": {},
   "outputs": [],
   "source": [
    "list_20_summary = df_summary_20['stream_id'].sort_values().to_list()"
   ]
  },
  {
   "cell_type": "code",
   "execution_count": 25,
   "metadata": {},
   "outputs": [],
   "source": [
    "list_20 = df_20['stream_id'].sort_values().to_list()"
   ]
  },
  {
   "cell_type": "code",
   "execution_count": 26,
   "metadata": {},
   "outputs": [],
   "source": [
    "main_list = list(set(list_20_summary)-set(list_20))"
   ]
  },
  {
   "cell_type": "code",
   "execution_count": 28,
   "metadata": {},
   "outputs": [
    {
     "name": "stdout",
     "output_type": "stream",
     "text": [
      "1849\n"
     ]
    }
   ],
   "source": [
    "print(len(main_list))"
   ]
  },
  {
   "cell_type": "code",
   "execution_count": null,
   "metadata": {},
   "outputs": [],
   "source": []
  }
 ],
 "metadata": {
  "kernelspec": {
   "display_name": "Python 3.9.14 ('venv': venv)",
   "language": "python",
   "name": "python3"
  },
  "language_info": {
   "codemirror_mode": {
    "name": "ipython",
    "version": 3
   },
   "file_extension": ".py",
   "mimetype": "text/x-python",
   "name": "python",
   "nbconvert_exporter": "python",
   "pygments_lexer": "ipython3",
   "version": "3.9.14"
  },
  "orig_nbformat": 4,
  "vscode": {
   "interpreter": {
    "hash": "addd2fdd290c7c34336629330a81969ca1164c4689498c0841c953bddca49006"
   }
  }
 },
 "nbformat": 4,
 "nbformat_minor": 2
}
