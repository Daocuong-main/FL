{
  "cells": [
    {
      "cell_type": "code",
      "execution_count": 324,
      "metadata": {
        "id": "bZAnYwAkdAFl"
      },
      "outputs": [],
      "source": [
        "from time import time, localtime\n",
        "import numpy as np\n",
        "from utils import plot_graph\n",
        "import tensorflow_federated as tff\n",
        "import tensorflow as tf\n",
        "from sklearn.preprocessing import MinMaxScaler\n",
        "from sklearn.model_selection import train_test_split\n",
        "from keras import losses, metrics, optimizers\n",
        "import random\n",
        "import pandas as pd\n",
        "import sys\n",
        "import matplotlib.pyplot as plt\n",
        "import nest_asyncio\n",
        "from pathlib import Path\n",
        "from checkpoint_manager import FileCheckpointManager\n",
        "import tensorflow_addons as tfa\n",
        "nest_asyncio.apply()\n",
        "SEED = 1337\n",
        "tf.random.set_seed(SEED)\n"
      ]
    },
    {
      "cell_type": "markdown",
      "metadata": {},
      "source": [
        "Lựa chọn model <br>\n",
        "Thay models.<Ten_model>"
      ]
    },
    {
      "cell_type": "code",
      "execution_count": 325,
      "metadata": {},
      "outputs": [],
      "source": [
        "from models.CNN_2D import create_keras_model\n"
      ]
    },
    {
      "cell_type": "markdown",
      "metadata": {},
      "source": [
        "Thay đổi các siêu tham số trong cell dưới <br>\n",
        "**experiment_name:** Tên bộ dữ liệu được sử dụng, <Tên dữ liệu>_<Số byte sử dụng> <br>\n",
        "**method:** Mô hình sử dụng <br>\n",
        "**client_lr, server_lr:** Learning rate của client và server, khi fine tune bắt đầu từ 1 và giảm dần xuống 3e-4 <br>\n",
        "**NUM_ROUNDS:** Số vòng lặp (Bắt đầu từ 1 và tăng dần lên 3000 nếu mô hình chưa hội tụ - 1/100/200/300/400/500/.../3000) <Br>\n",
        "**BATCH_SIZE:** Kích thước batch (Bắt đầu từ 8 và tăng dần lên 64) 8/16/32/64 <br>\n",
        "**split:** Để nguyên là 5"
      ]
    },
    {
      "cell_type": "markdown",
      "metadata": {},
      "source": [
        "byte_number (string): Cac byte cua packet, bao gom 10, 32, 64, 128, 256, 512, 1024, 1460"
      ]
    },
    {
      "cell_type": "code",
      "execution_count": 326,
      "metadata": {},
      "outputs": [],
      "source": [
        "byte_number = \"512\"\n"
      ]
    },
    {
      "cell_type": "code",
      "execution_count": 327,
      "metadata": {
        "id": "ZYYi42tYdAFp"
      },
      "outputs": [],
      "source": [
        "experiment_name = \"GQUIC_\" + byte_number\n",
        "method = \"nonFL_CNN_2D\"\n",
        "client_lr = 3e-4\n",
        "NUM_ROUNDS = 5\n",
        "BATCH_SIZE = 32\n"
      ]
    },
    {
      "cell_type": "code",
      "execution_count": 328,
      "metadata": {},
      "outputs": [],
      "source": [
        "this_dir = Path.cwd()\n",
        "model_dir = this_dir / \"sdn_saved_models\" / experiment_name / method\n",
        "output_dir = this_dir / \"sdn_results\" / experiment_name / method\n",
        "\n",
        "if not model_dir.exists():\n",
        "    model_dir.mkdir(parents=True)\n",
        "\n",
        "if not output_dir.exists():\n",
        "    output_dir.mkdir(parents=True)\n"
      ]
    },
    {
      "cell_type": "code",
      "execution_count": 329,
      "metadata": {},
      "outputs": [],
      "source": [
        "def sec_to_hours(seconds):\n",
        "    a = seconds//3600\n",
        "    b = (seconds % 3600)//60\n",
        "    c = (seconds % 3600) % 60\n",
        "    d = \"{:.0f} hours {:.0f} mins {:.0f} seconds\".format(a, b, c)\n",
        "    return d\n"
      ]
    },
    {
      "cell_type": "code",
      "execution_count": 330,
      "metadata": {},
      "outputs": [],
      "source": [
        "def most_frequent(List):\n",
        "    return max(set(List), key=List.count)\n"
      ]
    },
    {
      "cell_type": "markdown",
      "metadata": {},
      "source": [
        "### Đọc dữ liệu"
      ]
    },
    {
      "cell_type": "code",
      "execution_count": 331,
      "metadata": {},
      "outputs": [],
      "source": [
        "train_dir = '/home/onos/FL/Data_Processing/GQUIC_small/Train/GQUIC_data_' + byte_number + '.feather'\n",
        "test_dir = '/home/onos/FL/Data_Processing/GQUIC_small/Test//GQUIC_test_' + byte_number + '.feather'\n",
        "data = pd.read_feather(train_dir)\n",
        "test = pd.read_feather(test_dir)\n"
      ]
    },
    {
      "cell_type": "code",
      "execution_count": 332,
      "metadata": {},
      "outputs": [],
      "source": [
        "result = test.groupby('flow_id')['Label'].apply(list).to_dict()\n",
        "flow_label = []\n",
        "for flow in result:\n",
        "    flow_label.append(most_frequent(result[flow]))"
      ]
    },
    {
      "cell_type": "code",
      "execution_count": 333,
      "metadata": {},
      "outputs": [],
      "source": [
        "result = data.groupby('flow_id')['Label'].apply(list).to_dict()\n",
        "train_label = []\n",
        "for flow in result:\n",
        "    train_label.append(most_frequent(result[flow]))"
      ]
    },
    {
      "cell_type": "code",
      "execution_count": 334,
      "metadata": {},
      "outputs": [],
      "source": [
        "flow_label = np.array(flow_label)\n",
        "train_label = np.array(train_label)"
      ]
    },
    {
      "cell_type": "code",
      "execution_count": 335,
      "metadata": {},
      "outputs": [],
      "source": [
        "true_test = test.drop('flow_id', axis=1)\n",
        "true_data = data.drop('flow_id', axis=1)"
      ]
    },
    {
      "cell_type": "code",
      "execution_count": 336,
      "metadata": {},
      "outputs": [
        {
          "name": "stdout",
          "output_type": "stream",
          "text": [
            "512 4\n"
          ]
        }
      ],
      "source": [
        "NUM_FEATURE = len(true_test.columns)-1\n",
        "NUM_CLASSES = len(np.unique(true_test['Label']))\n",
        "print(NUM_FEATURE, NUM_CLASSES)"
      ]
    },
    {
      "cell_type": "code",
      "execution_count": 337,
      "metadata": {},
      "outputs": [],
      "source": [
        "y_test = true_test['Label'].to_numpy()\n",
        "x_test = true_test.drop('Label', axis=1).to_numpy()/255\n",
        "y_train = true_data['Label'].to_numpy()\n",
        "x_train = true_data.drop(['Label'], axis=1).to_numpy()/255"
      ]
    },
    {
      "cell_type": "code",
      "execution_count": 338,
      "metadata": {},
      "outputs": [
        {
          "data": {
            "text/plain": [
              "(55600, 512)"
            ]
          },
          "execution_count": 338,
          "metadata": {},
          "output_type": "execute_result"
        }
      ],
      "source": [
        "x_test.shape"
      ]
    },
    {
      "cell_type": "code",
      "execution_count": 339,
      "metadata": {},
      "outputs": [],
      "source": [
        "x_train = x_train.reshape(-1,20,NUM_FEATURE)\n",
        "x_test = x_test.reshape(-1,20,NUM_FEATURE)"
      ]
    },
    {
      "cell_type": "code",
      "execution_count": 340,
      "metadata": {},
      "outputs": [],
      "source": [
        "x_train = np.expand_dims(x_train, -1)\n",
        "x_test  = np.expand_dims(x_test, -1)"
      ]
    },
    {
      "cell_type": "code",
      "execution_count": 341,
      "metadata": {},
      "outputs": [
        {
          "data": {
            "text/plain": [
              "(2780, 20, 512, 1)"
            ]
          },
          "execution_count": 341,
          "metadata": {},
          "output_type": "execute_result"
        }
      ],
      "source": [
        "x_test.shape"
      ]
    },
    {
      "cell_type": "code",
      "execution_count": 342,
      "metadata": {},
      "outputs": [],
      "source": [
        "# def sklearn_to_df(sklearn_dataset):\n",
        "#     df = pd.DataFrame(sklearn_dataset.data,\n",
        "#                       columns=sklearn_dataset.feature_names)\n",
        "#     df['Label'] = pd.Series(sklearn_dataset.Label)\n",
        "#     return df\n"
      ]
    },
    {
      "cell_type": "code",
      "execution_count": 343,
      "metadata": {},
      "outputs": [],
      "source": [
        "# from sklearn import datasets\n",
        "# df = sklearn_to_df(datasets.load_iris())\n"
      ]
    },
    {
      "cell_type": "code",
      "execution_count": 344,
      "metadata": {
        "id": "yqL-buDmdAFt"
      },
      "outputs": [],
      "source": [
        "# train_data = train_data[0].concatenate(train_data[1])\n",
        "# val_data = val_data[0].concatenate(val_data[1])\n"
      ]
    },
    {
      "cell_type": "markdown",
      "metadata": {
        "id": "MDjQc-u0dAFt"
      },
      "source": [
        "### Model Definition"
      ]
    },
    {
      "cell_type": "code",
      "execution_count": 345,
      "metadata": {
        "id": "oj7Wsal0dAFt"
      },
      "outputs": [
        {
          "name": "stdout",
          "output_type": "stream",
          "text": [
            "Model: \"sequential_4\"\n",
            "_________________________________________________________________\n",
            " Layer (type)                Output Shape              Param #   \n",
            "=================================================================\n",
            " conv2d_16 (Conv2D)          (None, 20, 512, 32)       832       \n",
            "                                                                 \n",
            " conv2d_17 (Conv2D)          (None, 20, 512, 32)       25632     \n",
            "                                                                 \n",
            " max_pooling2d_8 (MaxPooling  (None, 10, 256, 32)      0         \n",
            " 2D)                                                             \n",
            "                                                                 \n",
            " dropout_12 (Dropout)        (None, 10, 256, 32)       0         \n",
            "                                                                 \n",
            " conv2d_18 (Conv2D)          (None, 10, 256, 64)       18496     \n",
            "                                                                 \n",
            " conv2d_19 (Conv2D)          (None, 10, 256, 64)       36928     \n",
            "                                                                 \n",
            " max_pooling2d_9 (MaxPooling  (None, 5, 128, 64)       0         \n",
            " 2D)                                                             \n",
            "                                                                 \n",
            " dropout_13 (Dropout)        (None, 5, 128, 64)        0         \n",
            "                                                                 \n",
            " flatten_4 (Flatten)         (None, 40960)             0         \n",
            "                                                                 \n",
            " dense_8 (Dense)             (None, 256)               10486016  \n",
            "                                                                 \n",
            " dropout_14 (Dropout)        (None, 256)               0         \n",
            "                                                                 \n",
            " dense_9 (Dense)             (None, 4)                 1028      \n",
            "                                                                 \n",
            "=================================================================\n",
            "Total params: 10,568,932\n",
            "Trainable params: 10,568,932\n",
            "Non-trainable params: 0\n",
            "_________________________________________________________________\n"
          ]
        }
      ],
      "source": [
        "model = create_keras_model(NUM_FEATURE, NUM_CLASSES)\n",
        "model.summary()"
      ]
    },
    {
      "cell_type": "code",
      "execution_count": 346,
      "metadata": {},
      "outputs": [
        {
          "name": "stdout",
          "output_type": "stream",
          "text": [
            "Epoch 1/5\n"
          ]
        },
        {
          "name": "stderr",
          "output_type": "stream",
          "text": [
            "2022-12-02 15:42:21.814849: W tensorflow/core/framework/cpu_allocator_impl.cc:82] Allocation of 455557120 exceeds 10% of free system memory.\n"
          ]
        },
        {
          "name": "stdout",
          "output_type": "stream",
          "text": [
            "348/348 [==============================] - 181s 517ms/step - loss: 0.3051 - accuracy: 0.8956\n",
            "Epoch 2/5\n",
            "348/348 [==============================] - 180s 518ms/step - loss: 0.4061 - accuracy: 0.9139\n",
            "Epoch 3/5\n",
            "348/348 [==============================] - 179s 515ms/step - loss: 0.3413 - accuracy: 0.9108\n",
            "Epoch 4/5\n",
            "348/348 [==============================] - 180s 517ms/step - loss: 0.3048 - accuracy: 0.9135\n",
            "Epoch 5/5\n",
            "348/348 [==============================] - 179s 514ms/step - loss: 0.2875 - accuracy: 0.9117\n"
          ]
        }
      ],
      "source": [
        "model.compile(optimizer=tf.keras.optimizers.Adam(\n",
        "    learning_rate=client_lr), loss=tf.keras.losses.SparseCategoricalCrossentropy(),\n",
        "    metrics=['accuracy'])\n",
        "start = time()\n",
        "history = model.fit(x_train, train_label, epochs=NUM_ROUNDS, batch_size=BATCH_SIZE,use_multiprocessing=True,shuffle=False)\n",
        "end = time() - start"
      ]
    },
    {
      "cell_type": "code",
      "execution_count": 347,
      "metadata": {},
      "outputs": [
        {
          "name": "stdout",
          "output_type": "stream",
          "text": [
            "Time: 0 hours 14 mins 60 seconds\n"
          ]
        }
      ],
      "source": [
        "total_time = \"Time: {}\".format(sec_to_hours(end))\n",
        "print(total_time)\n"
      ]
    },
    {
      "cell_type": "markdown",
      "metadata": {
        "id": "pQ_J02EAdAFt"
      },
      "source": [
        "### Evaluation"
      ]
    },
    {
      "cell_type": "code",
      "execution_count": 348,
      "metadata": {},
      "outputs": [],
      "source": [
        "best_model_accuracy = history.history['accuracy'][np.argmin(history.history['loss'])]"
      ]
    },
    {
      "cell_type": "code",
      "execution_count": 349,
      "metadata": {},
      "outputs": [
        {
          "name": "stdout",
          "output_type": "stream",
          "text": [
            "87/87 - 3s - loss: 2.3369 - accuracy: 0.4137 - 3s/epoch - 36ms/step\n"
          ]
        }
      ],
      "source": [
        "_, test_acc = model.evaluate(x_test, flow_label, verbose=2, batch_size=BATCH_SIZE,use_multiprocessing=True)"
      ]
    },
    {
      "cell_type": "code",
      "execution_count": 350,
      "metadata": {},
      "outputs": [],
      "source": [
        "train_val = str(round(best_model_accuracy*100)) + \"_\" + str(round(test_acc*100))"
      ]
    },
    {
      "cell_type": "code",
      "execution_count": 351,
      "metadata": {},
      "outputs": [],
      "source": [
        "this_dir = Path.cwd()\n",
        "model_dir = this_dir / \"sdn_saved_models\" / experiment_name / method / train_val\n",
        "output_dir = this_dir / \"sdn_results\" / experiment_name / method / train_val\n",
        "\n",
        "if not model_dir.exists():\n",
        "    model_dir.mkdir(parents=True)\n",
        "\n",
        "if not output_dir.exists():\n",
        "    output_dir.mkdir(parents=True)"
      ]
    },
    {
      "cell_type": "code",
      "execution_count": 352,
      "metadata": {},
      "outputs": [],
      "source": [
        "model.save(model_dir/'model.h5')"
      ]
    },
    {
      "cell_type": "code",
      "execution_count": 353,
      "metadata": {},
      "outputs": [],
      "source": [
        "with open(output_dir/'parameters.txt', 'w') as f:\n",
        "    print('client_lr: {}\\nEpochs: {}\\nBATCH_SIZE: {}'.format(\n",
        "        client_lr, NUM_ROUNDS, BATCH_SIZE), file=f)\n",
        "    f.close()"
      ]
    },
    {
      "cell_type": "code",
      "execution_count": 354,
      "metadata": {},
      "outputs": [],
      "source": [
        "text_file = open(output_dir/\"time.txt\", \"w\")\n",
        "n = text_file.write(total_time)\n",
        "text_file.close()"
      ]
    },
    {
      "cell_type": "code",
      "execution_count": 355,
      "metadata": {},
      "outputs": [
        {
          "name": "stdout",
          "output_type": "stream",
          "text": [
            "87/87 - 3s - 3s/epoch - 37ms/step\n"
          ]
        }
      ],
      "source": [
        "predictions = model.predict(x_test,verbose=2,use_multiprocessing=True,batch_size=BATCH_SIZE)"
      ]
    },
    {
      "cell_type": "code",
      "execution_count": 356,
      "metadata": {},
      "outputs": [],
      "source": [
        "flow_pred = np.argmax(predictions, axis=-1)"
      ]
    },
    {
      "cell_type": "code",
      "execution_count": 357,
      "metadata": {},
      "outputs": [
        {
          "data": {
            "text/plain": [
              "array([2, 2, 2, ..., 2, 2, 2])"
            ]
          },
          "execution_count": 357,
          "metadata": {},
          "output_type": "execute_result"
        }
      ],
      "source": [
        "flow_pred"
      ]
    },
    {
      "cell_type": "code",
      "execution_count": 358,
      "metadata": {},
      "outputs": [
        {
          "data": {
            "text/plain": [
              "1"
            ]
          },
          "execution_count": 358,
          "metadata": {},
          "output_type": "execute_result"
        }
      ],
      "source": [
        "flow_label[0]"
      ]
    },
    {
      "cell_type": "code",
      "execution_count": 359,
      "metadata": {},
      "outputs": [
        {
          "name": "stdout",
          "output_type": "stream",
          "text": [
            "['Class 0', 'Class 1', 'Class 2', 'Class 3']\n"
          ]
        },
        {
          "name": "stderr",
          "output_type": "stream",
          "text": [
            "/home/onos/FL/venv/lib/python3.9/site-packages/sklearn/metrics/_classification.py:1318: UndefinedMetricWarning: Precision is ill-defined and being set to 0.0 in labels with no predicted samples. Use `zero_division` parameter to control this behavior.\n",
            "  _warn_prf(average, modifier, msg_start, len(result))\n",
            "/home/onos/FL/venv/lib/python3.9/site-packages/sklearn/metrics/_classification.py:1318: UndefinedMetricWarning: Precision is ill-defined and being set to 0.0 in labels with no predicted samples. Use `zero_division` parameter to control this behavior.\n",
            "  _warn_prf(average, modifier, msg_start, len(result))\n",
            "/home/onos/FL/venv/lib/python3.9/site-packages/sklearn/metrics/_classification.py:1318: UndefinedMetricWarning: Precision and F-score are ill-defined and being set to 0.0 in labels with no predicted samples. Use `zero_division` parameter to control this behavior.\n",
            "  _warn_prf(average, modifier, msg_start, len(result))\n",
            "/home/onos/FL/venv/lib/python3.9/site-packages/sklearn/metrics/_classification.py:1318: UndefinedMetricWarning: Precision and F-score are ill-defined and being set to 0.0 in labels with no predicted samples. Use `zero_division` parameter to control this behavior.\n",
            "  _warn_prf(average, modifier, msg_start, len(result))\n",
            "/home/onos/FL/venv/lib/python3.9/site-packages/sklearn/metrics/_classification.py:1318: UndefinedMetricWarning: Precision and F-score are ill-defined and being set to 0.0 in labels with no predicted samples. Use `zero_division` parameter to control this behavior.\n",
            "  _warn_prf(average, modifier, msg_start, len(result))\n"
          ]
        }
      ],
      "source": [
        "from sklearn.metrics import confusion_matrix\n",
        "from sklearn.metrics import accuracy_score, precision_score, recall_score, f1_score\n",
        "from sklearn.metrics import classification_report\n",
        "\n",
        "\n",
        "classes = []\n",
        "for c in range(NUM_CLASSES):\n",
        "    classes.append(\"Class {}\".format(c))\n",
        "print(classes)\n",
        "with open(output_dir/'metrics.txt', 'w') as f:\n",
        "    confusion = confusion_matrix(flow_label, flow_pred)\n",
        "    print('Confusion Matrix\\n', file=f)\n",
        "    print(confusion, file=f)\n",
        "\n",
        "    # importing accuracy_score, precision_score, recall_score, f1_score\n",
        "    print('\\nAccuracy: {:.2f}\\n'.format(\n",
        "        accuracy_score(flow_label, flow_pred)), file=f)\n",
        "\n",
        "    print('Micro Precision: {:.2f}'.format(\n",
        "        precision_score(flow_label, flow_pred, average='micro')), file=f)\n",
        "    print('Micro Recall: {:.2f}'.format(\n",
        "        recall_score(flow_label, flow_pred, average='micro')), file=f)\n",
        "    print(\n",
        "        'Micro F1-score: {:.2f}\\n'.format(f1_score(flow_label, flow_pred, average='micro')), file=f)\n",
        "\n",
        "    print('Macro Precision: {:.2f}'.format(\n",
        "        precision_score(flow_label, flow_pred, average='macro')), file=f)\n",
        "    print('Macro Recall: {:.2f}'.format(\n",
        "        recall_score(flow_label, flow_pred, average='macro')), file=f)\n",
        "    print(\n",
        "        'Macro F1-score: {:.2f}\\n'.format(f1_score(flow_label, flow_pred, average='macro')), file=f)\n",
        "\n",
        "    print('Weighted Precision: {:.2f}'.format(\n",
        "        precision_score(flow_label, flow_pred, average='weighted')), file=f)\n",
        "    print('Weighted Recall: {:.2f}'.format(\n",
        "        recall_score(flow_label, flow_pred, average='weighted')), file=f)\n",
        "    print(\n",
        "        'Weighted F1-score: {:.2f}'.format(f1_score(flow_label, flow_pred, average='weighted')), file=f)\n",
        "\n",
        "    print('\\nClassification Report\\n', file=f)\n",
        "    print(classification_report(flow_label, flow_pred, target_names=classes), file=f)\n",
        "    f.close()\n"
      ]
    },
    {
      "cell_type": "code",
      "execution_count": 360,
      "metadata": {},
      "outputs": [
        {
          "data": {
            "image/png": "[encoded data removed]",
            "text/plain": [
              "<Figure size 1000x600 with 1 Axes>"
            ]
          },
          "metadata": {},
          "output_type": "display_data"
        }
      ],
      "source": [
        "fig = plt.figure(figsize=(10, 6))\n",
        "plt.plot(history.history['accuracy'], label='accuracy')\n",
        "plt.xlabel('Epoch')\n",
        "plt.ylabel('Accuracy')\n",
        "plt.ylim([0,1])\n",
        "plt.savefig(output_dir / \"normal_model_Accuracy.png\")"
      ]
    }
  ],
  "metadata": {
    "colab": {
      "collapsed_sections": [],
      "name": "notebook.ipynb",
      "provenance": []
    },
    "kernelspec": {
      "display_name": "venv",
      "language": "python",
      "name": "python3"
    },
    "language_info": {
      "codemirror_mode": {
        "name": "ipython",
        "version": 3
      },
      "file_extension": ".py",
      "mimetype": "text/x-python",
      "name": "python",
      "nbconvert_exporter": "python",
      "pygments_lexer": "ipython3",
      "version": "3.9.14"
    },
    "vscode": {
      "interpreter": {
        "hash": "addd2fdd290c7c34336629330a81969ca1164c4689498c0841c953bddca49006"
      }
    }
  },
  "nbformat": 4,
  "nbformat_minor": 0
}
