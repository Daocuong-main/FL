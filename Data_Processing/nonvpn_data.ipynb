{
 "cells": [
  {
   "cell_type": "code",
   "execution_count": 3,
   "id": "56ec2009",
   "metadata": {},
   "outputs": [],
   "source": [
    "import os\n",
    "import pandas as pd\n",
    "import numpy as np\n",
    "import glob\n",
    "import pyarrow.feather as feather\n",
    "\n",
    "from sklearn import preprocessing\n",
    "le = preprocessing.LabelEncoder()\n",
    "scale = preprocessing.MinMaxScaler()\n",
    "pd.set_option(\"display.max_rows\", None)\n",
    "\n",
    "\n",
    "def label_encoding(df, columns_list):\n",
    "    for col in columns_list:\n",
    "        df[col] = le.fit_transform(df[col])\n",
    "        le_name_mapping = dict(zip(le.classes_, le.transform(le.classes_)))\n",
    "        with open('Label_mapping_nonvpn.txt', 'a') as data:\n",
    "            data.write(col+\": \"+str(le_name_mapping) + \"\\n\")\n",
    "    return df\n",
    "\n",
    "\n",
    "def data_scale(df):\n",
    "    df.loc[:, '0': '127'] = df.loc[:, '0': '127'] / 255.0\n",
    "    df[['total_packet_lenght']] = scale.fit_transform(\n",
    "        df[['total_packet_lenght']])\n",
    "    return df\n",
    "\n",
    "\n",
    "def remove_protocol(df, list_protocol):\n",
    "    df = df.loc[~df['protocol'].isin(list_protocol)]\n",
    "    return df\n",
    "\n",
    "\n",
    "def remove_hello(df):\n",
    "    df = df[~df['info'].str.contains('Hello|Handshake|Cert')]\n",
    "    return df\n",
    "\n",
    "\n",
    "def final_remove(df):\n",
    "    df = df.drop(['ip_src', 'ip_dst',\n",
    "                 'info', 'data'], axis=1)\n",
    "    return df\n"
   ]
  },
  {
   "cell_type": "markdown",
   "id": "fb58373d",
   "metadata": {},
   "source": [
    "# Chat"
   ]
  },
  {
   "cell_type": "code",
   "execution_count": 4,
   "id": "48259186",
   "metadata": {},
   "outputs": [],
   "source": [
    "# get your working directory and target folder that contains all your files\n",
    "path = os.path.join(\n",
    "    os.getcwd(), '/home/onos/FL/Data Processing/rawds/nonvpn/Chat')\n",
    "\n",
    "files = [os.path.join(path, i) for i in os.listdir(\n",
    "    path) if os.path.isfile(os.path.join(path, i))]\n",
    "\n",
    "df_Chat = pd.DataFrame()\n",
    "\n",
    "# for every file in folder, read it and append to a empty dataframe with column filename as 'Label'\n",
    "for file in files:\n",
    "    _df_Chat = pd.read_csv(file, engine='pyarrow')\n",
    "    _df_Chat['Label'] = \"Chat\"\n",
    "    file_name = file.split('/')\n",
    "    _df_Chat['File_name'] = file_name[-1]\n",
    "    df_Chat = pd.concat([df_Chat, _df_Chat])\n",
    "del _df_Chat\n"
   ]
  },
  {
   "cell_type": "code",
   "execution_count": 5,
   "id": "c0e60cfe",
   "metadata": {},
   "outputs": [],
   "source": [
    "remove_protocols = ['SSL', 'X11', 'XMPP/XML', 'OCSP', 'SSLv2','VNC','ICMP','SPOOLSS','SSLv3']\n"
   ]
  },
  {
   "cell_type": "code",
   "execution_count": 6,
   "id": "93c9fec5",
   "metadata": {},
   "outputs": [],
   "source": [
    "df_Chat = df_Chat.pipe(remove_protocol,remove_protocols).pipe(remove_hello).pipe(final_remove)"
   ]
  },
  {
   "cell_type": "code",
   "execution_count": 7,
   "id": "701a0178",
   "metadata": {},
   "outputs": [
    {
     "data": {
      "text/plain": [
       "(3747, 8)"
      ]
     },
     "execution_count": 7,
     "metadata": {},
     "output_type": "execute_result"
    }
   ],
   "source": [
    "df_Chat.shape\n"
   ]
  },
  {
   "cell_type": "code",
   "execution_count": 8,
   "id": "07585831",
   "metadata": {},
   "outputs": [],
   "source": [
    "df_Chat.to_csv(\n",
    "    \"nonvpn_csv/df_Chat.csv\", index=False)\n",
    "del df_Chat\n"
   ]
  },
  {
   "cell_type": "markdown",
   "id": "2104620b",
   "metadata": {},
   "source": [
    "# Email"
   ]
  },
  {
   "cell_type": "code",
   "execution_count": 9,
   "id": "7b28754a",
   "metadata": {},
   "outputs": [
    {
     "name": "stdout",
     "output_type": "stream",
     "text": [
      "/home/onos/FL/Data Processing/rawds/nonvpn/Email/email2a.csv\n",
      "/home/onos/FL/Data Processing/rawds/nonvpn/Email/email1a.csv\n"
     ]
    }
   ],
   "source": [
    "# get your working directory and target folder that contains all your files\n",
    "path = os.path.join(os.getcwd(), 'rawds/nonvpn/Email')\n",
    "\n",
    "files = [os.path.join(path, i) for i in os.listdir(\n",
    "    path) if os.path.isfile(os.path.join(path, i))]\n",
    "\n",
    "df_Email = pd.DataFrame()\n",
    "\n",
    "# for every file in folder, read it and append to a empty dataframe with column filename as 'Label'\n",
    "for file in files:\n",
    "    _df_Email = pd.read_csv(file, engine='pyarrow')\n",
    "    print(file)\n",
    "    _df_Email['Label'] = \"Email\"\n",
    "    file_name = file.split('/')\n",
    "    _df_Email['File_name'] = file_name[-1]\n",
    "    df_Email = pd.concat([df_Email, _df_Email])\n",
    "del _df_Email\n"
   ]
  },
  {
   "cell_type": "code",
   "execution_count": 10,
   "id": "1359e9be",
   "metadata": {},
   "outputs": [],
   "source": [
    "df_Email = df_Email.pipe(remove_protocol,remove_protocols).pipe(remove_hello).pipe(final_remove)"
   ]
  },
  {
   "cell_type": "code",
   "execution_count": 11,
   "id": "05b93767",
   "metadata": {},
   "outputs": [
    {
     "data": {
      "text/plain": [
       "(2754, 8)"
      ]
     },
     "execution_count": 11,
     "metadata": {},
     "output_type": "execute_result"
    }
   ],
   "source": [
    "df_Email.shape\n"
   ]
  },
  {
   "cell_type": "code",
   "execution_count": 12,
   "id": "df1885d3",
   "metadata": {},
   "outputs": [],
   "source": [
    "df_Email.to_csv(\"nonvpn_csv/df_Email.csv\", index=False)\n",
    "del df_Email\n"
   ]
  },
  {
   "cell_type": "markdown",
   "id": "e836d74f",
   "metadata": {},
   "source": [
    "# FileTransfer"
   ]
  },
  {
   "cell_type": "code",
   "execution_count": 13,
   "id": "c64b3efd",
   "metadata": {},
   "outputs": [
    {
     "name": "stdout",
     "output_type": "stream",
     "text": [
      "/home/onos/FL/Data Processing/rawds/nonvpn/FileTransfer/scpDown4.csv\n",
      "/home/onos/FL/Data Processing/rawds/nonvpn/FileTransfer/sftpDown1.csv\n",
      "/home/onos/FL/Data Processing/rawds/nonvpn/FileTransfer/sftpUp1.csv\n",
      "/home/onos/FL/Data Processing/rawds/nonvpn/FileTransfer/scpUp2.csv\n",
      "/home/onos/FL/Data Processing/rawds/nonvpn/FileTransfer/ftps_up_2a.csv\n",
      "/home/onos/FL/Data Processing/rawds/nonvpn/FileTransfer/skype_file6.csv\n",
      "/home/onos/FL/Data Processing/rawds/nonvpn/FileTransfer/scpUp3.csv\n",
      "/home/onos/FL/Data Processing/rawds/nonvpn/FileTransfer/scpDown1.csv\n",
      "/home/onos/FL/Data Processing/rawds/nonvpn/FileTransfer/scpDown3.csv\n",
      "/home/onos/FL/Data Processing/rawds/nonvpn/FileTransfer/skype_file5.csv\n",
      "/home/onos/FL/Data Processing/rawds/nonvpn/FileTransfer/scpDown6.csv\n",
      "/home/onos/FL/Data Processing/rawds/nonvpn/FileTransfer/sftpDown2.csv\n",
      "/home/onos/FL/Data Processing/rawds/nonvpn/FileTransfer/skype_file3.csv\n",
      "/home/onos/FL/Data Processing/rawds/nonvpn/FileTransfer/scpUp1.csv\n",
      "/home/onos/FL/Data Processing/rawds/nonvpn/FileTransfer/scp1.csv\n",
      "/home/onos/FL/Data Processing/rawds/nonvpn/FileTransfer/scpDown5.csv\n",
      "/home/onos/FL/Data Processing/rawds/nonvpn/FileTransfer/ftps_down_1a.csv\n",
      "/home/onos/FL/Data Processing/rawds/nonvpn/FileTransfer/skype_file2.csv\n",
      "/home/onos/FL/Data Processing/rawds/nonvpn/FileTransfer/skype_file4.csv\n",
      "/home/onos/FL/Data Processing/rawds/nonvpn/FileTransfer/skype_file7.csv\n",
      "/home/onos/FL/Data Processing/rawds/nonvpn/FileTransfer/skype_file1.csv\n",
      "/home/onos/FL/Data Processing/rawds/nonvpn/FileTransfer/sftp_down_3a.csv\n",
      "/home/onos/FL/Data Processing/rawds/nonvpn/FileTransfer/sftp1.csv\n",
      "/home/onos/FL/Data Processing/rawds/nonvpn/FileTransfer/scpDown2.csv\n",
      "/home/onos/FL/Data Processing/rawds/nonvpn/FileTransfer/sftp_up_2a.csv\n",
      "/home/onos/FL/Data Processing/rawds/nonvpn/FileTransfer/skype_file8.csv\n",
      "/home/onos/FL/Data Processing/rawds/nonvpn/FileTransfer/scpUp6.csv\n",
      "/home/onos/FL/Data Processing/rawds/nonvpn/FileTransfer/scpUp5.csv\n"
     ]
    }
   ],
   "source": [
    "# get your working directory and target folder that contains all your files\n",
    "path = os.path.join(os.getcwd(), 'rawds/nonvpn/FileTransfer')\n",
    "\n",
    "files = [os.path.join(path, i) for i in os.listdir(\n",
    "    path) if os.path.isfile(os.path.join(path, i))]\n",
    "\n",
    "df_FileTransfer = pd.DataFrame()\n",
    "\n",
    "# for every file in folder, read it and append to a empty dataframe with column filename as 'Label'\n",
    "for file in files:\n",
    "    _df_FileTransfer = pd.read_csv(file, engine='pyarrow')\n",
    "    print(file)\n",
    "    _df_FileTransfer['Label'] = \"FileTransfer\"\n",
    "    file_name = file.split('/')\n",
    "    _df_FileTransfer['File_name'] = file_name[-1]\n",
    "    df_FileTransfer = pd.concat([df_FileTransfer, _df_FileTransfer])\n",
    "del _df_FileTransfer\n"
   ]
  },
  {
   "cell_type": "code",
   "execution_count": 14,
   "id": "1f3fec0d",
   "metadata": {},
   "outputs": [],
   "source": [
    "df_FileTransfer = df_FileTransfer.pipe(remove_protocol,remove_protocols).pipe(remove_hello).pipe(final_remove)"
   ]
  },
  {
   "cell_type": "code",
   "execution_count": 15,
   "id": "96e36640",
   "metadata": {},
   "outputs": [],
   "source": [
    "df_FileTransfer.to_csv(\"nonvpn_csv/df_FileTranfer.csv\", index=False)\n",
    "del df_FileTransfer\n"
   ]
  },
  {
   "cell_type": "markdown",
   "id": "23f93d3e",
   "metadata": {},
   "source": [
    "# Streaming"
   ]
  },
  {
   "cell_type": "code",
   "execution_count": 16,
   "id": "dea42eb8",
   "metadata": {},
   "outputs": [
    {
     "name": "stdout",
     "output_type": "stream",
     "text": [
      "/home/onos/FL/Data Processing/rawds/nonvpn/Streaming/youtube6.csv\n",
      "/home/onos/FL/Data Processing/rawds/nonvpn/Streaming/netflix4.csv\n",
      "/home/onos/FL/Data Processing/rawds/nonvpn/Streaming/netflix1.csv\n",
      "/home/onos/FL/Data Processing/rawds/nonvpn/Streaming/skype_video1a.csv\n",
      "/home/onos/FL/Data Processing/rawds/nonvpn/Streaming/youtube1.csv\n",
      "/home/onos/FL/Data Processing/rawds/nonvpn/Streaming/youtube5.csv\n",
      "/home/onos/FL/Data Processing/rawds/nonvpn/Streaming/netflix3.csv\n",
      "/home/onos/FL/Data Processing/rawds/nonvpn/Streaming/facebook_video2a.csv\n",
      "/home/onos/FL/Data Processing/rawds/nonvpn/Streaming/youtube4.csv\n",
      "/home/onos/FL/Data Processing/rawds/nonvpn/Streaming/hangouts_video2a.csv\n",
      "/home/onos/FL/Data Processing/rawds/nonvpn/Streaming/skype_video2a.csv\n",
      "/home/onos/FL/Data Processing/rawds/nonvpn/Streaming/youtube2.csv\n",
      "/home/onos/FL/Data Processing/rawds/nonvpn/Streaming/youtube3.csv\n",
      "/home/onos/FL/Data Processing/rawds/nonvpn/Streaming/vimeo3.csv\n",
      "/home/onos/FL/Data Processing/rawds/nonvpn/Streaming/vimeo4.csv\n",
      "/home/onos/FL/Data Processing/rawds/nonvpn/Streaming/youtubeHTML5_1.csv\n",
      "/home/onos/FL/Data Processing/rawds/nonvpn/Streaming/netflix2.csv\n",
      "/home/onos/FL/Data Processing/rawds/nonvpn/Streaming/vimeo1.csv\n",
      "/home/onos/FL/Data Processing/rawds/nonvpn/Streaming/facebook_video1a.csv\n",
      "/home/onos/FL/Data Processing/rawds/nonvpn/Streaming/vimeo2.csv\n"
     ]
    }
   ],
   "source": [
    "# get your working directory and target folder that contains all your files\n",
    "path = os.path.join(os.getcwd(), 'rawds/nonvpn/Streaming')\n",
    "\n",
    "files = [os.path.join(path, i) for i in os.listdir(\n",
    "    path) if os.path.isfile(os.path.join(path, i))]\n",
    "\n",
    "df_Streaming = pd.DataFrame()\n",
    "\n",
    "# for every file in folder, read it and append to a empty dataframe with column filename as 'Label'\n",
    "for file in files:\n",
    "    _df_Streaming = pd.read_csv(file, engine='pyarrow')\n",
    "    print(file)\n",
    "    _df_Streaming['Label'] = \"Streaming\"\n",
    "    file_name = file.split('/')\n",
    "    _df_Streaming['File_name'] = file_name[-1]\n",
    "    df_Streaming = pd.concat([df_Streaming,_df_Streaming])\n",
    "del _df_Streaming\n"
   ]
  },
  {
   "cell_type": "code",
   "execution_count": 17,
   "id": "75ffea79",
   "metadata": {},
   "outputs": [],
   "source": [
    "df_Streaming = df_Streaming.pipe(remove_protocol,remove_protocols).pipe(remove_hello).pipe(final_remove)"
   ]
  },
  {
   "cell_type": "code",
   "execution_count": 18,
   "id": "e668f22c",
   "metadata": {},
   "outputs": [],
   "source": [
    "df_Streaming.to_csv(\n",
    "    \"nonvpn_csv/df_Streaming.csv\", index=False)\n",
    "del df_Streaming\n"
   ]
  },
  {
   "cell_type": "markdown",
   "id": "6c5b8e0b",
   "metadata": {},
   "source": [
    "# VoIP"
   ]
  },
  {
   "cell_type": "code",
   "execution_count": 19,
   "id": "d219e3b5",
   "metadata": {},
   "outputs": [
    {
     "name": "stdout",
     "output_type": "stream",
     "text": [
      "/home/onos/FL/Data Processing/rawds/nonvpn/VoIP/hangouts_audio3.csv\n",
      "/home/onos/FL/Data Processing/rawds/nonvpn/VoIP/facebook_audio2a.csv\n",
      "/home/onos/FL/Data Processing/rawds/nonvpn/VoIP/skype_audio3.csv\n",
      "/home/onos/FL/Data Processing/rawds/nonvpn/VoIP/spotify3.csv\n",
      "/home/onos/FL/Data Processing/rawds/nonvpn/VoIP/facebook_audio1a.csv\n",
      "/home/onos/FL/Data Processing/rawds/nonvpn/VoIP/skype_audio2a.csv\n",
      "/home/onos/FL/Data Processing/rawds/nonvpn/VoIP/hangouts_audio4.csv\n",
      "/home/onos/FL/Data Processing/rawds/nonvpn/VoIP/spotify4.csv\n",
      "/home/onos/FL/Data Processing/rawds/nonvpn/VoIP/spotify2.csv\n",
      "/home/onos/FL/Data Processing/rawds/nonvpn/VoIP/spotify1.csv\n",
      "/home/onos/FL/Data Processing/rawds/nonvpn/VoIP/facebook_audio4.csv\n",
      "/home/onos/FL/Data Processing/rawds/nonvpn/VoIP/facebook_audio3.csv\n",
      "/home/onos/FL/Data Processing/rawds/nonvpn/VoIP/hangouts_audio2a.csv\n",
      "/home/onos/FL/Data Processing/rawds/nonvpn/VoIP/skype_audio4.csv\n",
      "/home/onos/FL/Data Processing/rawds/nonvpn/VoIP/skype_audio1a.csv\n",
      "/home/onos/FL/Data Processing/rawds/nonvpn/VoIP/hangouts_audio1a.csv\n",
      "/home/onos/FL/Data Processing/rawds/nonvpn/VoIP/voipbuster_4a.csv\n"
     ]
    }
   ],
   "source": [
    "# get your working directory and target folder that contains all your files\n",
    "path = os.path.join(os.getcwd(), 'rawds/nonvpn/VoIP')\n",
    "\n",
    "files = [os.path.join(path, i) for i in os.listdir(\n",
    "    path) if os.path.isfile(os.path.join(path, i))]\n",
    "\n",
    "df_VoIP = pd.DataFrame()\n",
    "\n",
    "# for every file in folder, read it and append to a empty dataframe with column filename as 'Label'\n",
    "for file in files:\n",
    "    _df_VoIP = pd.read_csv(file, engine='pyarrow')\n",
    "    print(file)\n",
    "    _df_VoIP['Label'] = \"VoIP\"\n",
    "    file_name = file.split('/')\n",
    "    _df_VoIP['File_name'] = file_name[-1]\n",
    "    df_VoIP = pd.concat([df_VoIP,_df_VoIP])\n",
    "del _df_VoIP\n"
   ]
  },
  {
   "cell_type": "code",
   "execution_count": 20,
   "id": "9818cbe2",
   "metadata": {},
   "outputs": [],
   "source": [
    "df_VoIP = df_VoIP.pipe(remove_protocol,remove_protocols).pipe(remove_hello).pipe(final_remove)"
   ]
  },
  {
   "cell_type": "code",
   "execution_count": 21,
   "id": "c84b586e",
   "metadata": {},
   "outputs": [
    {
     "data": {
      "text/plain": [
       "(21474, 8)"
      ]
     },
     "execution_count": 21,
     "metadata": {},
     "output_type": "execute_result"
    }
   ],
   "source": [
    "df_VoIP.shape"
   ]
  },
  {
   "cell_type": "code",
   "execution_count": 22,
   "id": "9253b32b",
   "metadata": {},
   "outputs": [],
   "source": [
    "df_VoIP.to_csv(\n",
    "    \"nonvpn_csv/df_VoIP.csv\", index=False)\n",
    "del df_VoIP\n"
   ]
  },
  {
   "cell_type": "markdown",
   "id": "2b907356",
   "metadata": {},
   "source": [
    "# Final"
   ]
  },
  {
   "cell_type": "code",
   "execution_count": 23,
   "id": "4740d621",
   "metadata": {},
   "outputs": [],
   "source": [
    "path = os.path.join(os.getcwd(),  '/home/onos/FL/Data Processing/nonvpn_csv')\n",
    "all_files = glob.glob(os.path.join(path, \"*.csv\"))\n",
    "df_nonvpn = pd.concat((pd.read_csv(f,engine='pyarrow') for f in all_files), ignore_index=True)\n"
   ]
  },
  {
   "cell_type": "code",
   "execution_count": 24,
   "id": "520aece4",
   "metadata": {},
   "outputs": [],
   "source": [
    "import matplotlib.pyplot as plt\n"
   ]
  },
  {
   "cell_type": "code",
   "execution_count": 29,
   "id": "04399ef4",
   "metadata": {},
   "outputs": [
    {
     "data": {
      "image/png": "[encoded data removed]",
      "text/plain": [
       "<Figure size 1000x600 with 1 Axes>"
      ]
     },
     "metadata": {},
     "output_type": "display_data"
    }
   ],
   "source": [
    "fig = plt.figure(figsize=(10, 6))\n",
    "fig.suptitle(\"Thống kê nhãn trên tập nonvpn theo flow\")\n",
    "(df_nonvpn.Label.value_counts()/20).round(0).plot(kind='barh')\n",
    "plt.savefig('image/nonvpn_label_flow.png')\n"
   ]
  },
  {
   "cell_type": "code",
   "execution_count": 31,
   "id": "b7899244",
   "metadata": {},
   "outputs": [
    {
     "data": {
      "text/plain": [
       "VoIP            1074.0\n",
       "FileTransfer     749.0\n",
       "Streaming        302.0\n",
       "Chat             187.0\n",
       "Email            138.0\n",
       "Name: Label, dtype: float64"
      ]
     },
     "execution_count": 31,
     "metadata": {},
     "output_type": "execute_result"
    }
   ],
   "source": [
    "(df_nonvpn.Label.value_counts()/20).round(0)"
   ]
  },
  {
   "cell_type": "code",
   "execution_count": 366,
   "id": "243b8044",
   "metadata": {},
   "outputs": [
    {
     "data": {
      "text/plain": [
       "Index(['time_epoch', 'frame_number', 'stream_id', 'ip_proto', 'protocol',\n",
       "       'length', '0', '1', '2', '3',\n",
       "       ...\n",
       "       '1452', '1453', '1454', '1455', '1456', '1457', '1458', '1459', 'Label',\n",
       "       'File_name'],\n",
       "      dtype='object', length=1468)"
      ]
     },
     "execution_count": 366,
     "metadata": {},
     "output_type": "execute_result"
    }
   ],
   "source": [
    "df_nonvpn.columns"
   ]
  },
  {
   "cell_type": "code",
   "execution_count": 367,
   "id": "8dd1f17d",
   "metadata": {},
   "outputs": [],
   "source": [
    "df_nonvpn = df_nonvpn.pipe(label_encoding,['protocol', 'Label'])"
   ]
  },
  {
   "cell_type": "code",
   "execution_count": 368,
   "id": "4394db50",
   "metadata": {},
   "outputs": [],
   "source": [
    "from sklearn.model_selection import train_test_split\n",
    "\n",
    "train, test_case = train_test_split(df_nonvpn, test_size=0.2)\n",
    "\n",
    "train = train.drop(['time_epoch', 'frame_number', 'File_name'],axis=1)\n",
    "train, test = train_test_split(train, test_size=0.2)\n",
    "train = train.drop(['stream_id'],axis=1)\n",
    "train.to_csv(\"nonvpn_data.csv\", index=False)\n",
    "test.to_csv(\"nonvpn_test.csv\", index=False)"
   ]
  },
  {
   "cell_type": "code",
   "execution_count": 369,
   "id": "21aeb359",
   "metadata": {},
   "outputs": [
    {
     "name": "stdout",
     "output_type": "stream",
     "text": [
      "Adding data from 0 to 1960 for client : client_1\n",
      "Adding data from 1960 to 3920 for client : client_2\n",
      "Adding data from 3920 to 5880 for client : client_3\n",
      "Adding data from 5880 to 7840 for client : client_4\n",
      "Adding data from 7840 to 9800 for client : client_5\n"
     ]
    }
   ],
   "source": [
    "test_case = test_case[['time_epoch', 'frame_number', 'stream_id', 'length', 'Label', 'File_name']]\n",
    "split = 5\n",
    "total_data_count = test_case.shape[0]\n",
    "data_per_set = int(np.floor(total_data_count/split))\n",
    "DataFrameDict = {}\n",
    "for i in range(1, split+1):\n",
    "    client_name = \"client_\" + str(i)\n",
    "    start = data_per_set * (i-1)\n",
    "    end = data_per_set * i\n",
    "\n",
    "    print(f\"Adding data from {start} to {end} for client : {client_name}\")\n",
    "    DataFrameDict[client_name] = test_case[start:end]\n",
    "for df in DataFrameDict.keys():\n",
    "    csv_path = \"nonvpn_test_case/\"+df + \".csv\"\n",
    "    DataFrameDict[df].to_csv(csv_path,index=False)\n"
   ]
  },
  {
   "cell_type": "code",
   "execution_count": 370,
   "id": "43d45486",
   "metadata": {},
   "outputs": [],
   "source": [
    "# index = 0\n",
    "# with pd.read_csv(\"nonvpn_data.csv\", chunksize=1000000) as reader:\n",
    "#     for data in reader:\n",
    "#         path = '/home/onos/FL/Data Processing/nonvpn_arrow/nonvpn_data({}).arrow'.format(index)\n",
    "#         feather.write_feather(data, path)\n",
    "#         index += 1\n"
   ]
  },
  {
   "cell_type": "code",
   "execution_count": 371,
   "id": "f56476ef",
   "metadata": {},
   "outputs": [],
   "source": [
    "# df_nonvpn.info()\n",
    "# df_nonvpn.head(2)\n",
    "# df_nonvpn = df_nonvpn.astype('float16')\n",
    "# df_nonvpn.head(2)\n"
   ]
  },
  {
   "cell_type": "code",
   "execution_count": 372,
   "id": "23439818",
   "metadata": {},
   "outputs": [],
   "source": [
    "# df_nonvpn.info()\n"
   ]
  },
  {
   "cell_type": "code",
   "execution_count": 373,
   "id": "ea03c708",
   "metadata": {},
   "outputs": [],
   "source": [
    "# df_nonvpn[\"Label\"] = df_nonvpn[\"Label\"].astype(\"int8\")\n"
   ]
  },
  {
   "cell_type": "code",
   "execution_count": 374,
   "id": "36f18859",
   "metadata": {},
   "outputs": [],
   "source": [
    "# df_nonvpn.info()\n"
   ]
  },
  {
   "cell_type": "code",
   "execution_count": 375,
   "id": "78141992",
   "metadata": {},
   "outputs": [],
   "source": [
    "# df = pd.read_csv(\"iris.csv\")\n"
   ]
  },
  {
   "cell_type": "code",
   "execution_count": 376,
   "id": "e43ac82e",
   "metadata": {},
   "outputs": [],
   "source": [
    "# df.info()\n"
   ]
  },
  {
   "cell_type": "code",
   "execution_count": 377,
   "id": "8292e8c4",
   "metadata": {},
   "outputs": [],
   "source": [
    "# df = (df.pipe(label_encoding, ['variety']))\n"
   ]
  },
  {
   "cell_type": "code",
   "execution_count": 378,
   "id": "0b7b38fe",
   "metadata": {},
   "outputs": [],
   "source": [
    "# df.info()\n"
   ]
  },
  {
   "cell_type": "code",
   "execution_count": 379,
   "id": "1b71c975",
   "metadata": {},
   "outputs": [],
   "source": [
    "# df.to_csv(\"iris.csv\")\n"
   ]
  },
  {
   "cell_type": "code",
   "execution_count": null,
   "id": "a0fa951e",
   "metadata": {},
   "outputs": [],
   "source": []
  }
 ],
 "metadata": {
  "kernelspec": {
   "display_name": "Python 3.9.14 ('venv': venv)",
   "language": "python",
   "name": "python3"
  },
  "language_info": {
   "codemirror_mode": {
    "name": "ipython",
    "version": 3
   },
   "file_extension": ".py",
   "mimetype": "text/x-python",
   "name": "python",
   "nbconvert_exporter": "python",
   "pygments_lexer": "ipython3",
   "version": "3.9.14 (main, Sep 18 2022, 16:34:37) \n[GCC 7.5.0]"
  },
  "latex_envs": {
   "LaTeX_envs_menu_present": true,
   "autoclose": false,
   "autocomplete": true,
   "bibliofile": "biblio.bib",
   "cite_by": "apalike",
   "current_citInitial": 1,
   "eqLabelWithNumbers": true,
   "eqNumInitial": 1,
   "hotkeys": {
    "equation": "Ctrl-E",
    "itemize": "Ctrl-I"
   },
   "labels_anchors": false,
   "latex_user_defs": false,
   "report_style_numbering": false,
   "user_envs_cfg": false
  },
  "toc": {
   "base_numbering": 1,
   "nav_menu": {},
   "number_sections": true,
   "sideBar": true,
   "skip_h1_title": false,
   "title_cell": "Table of Contents",
   "title_sidebar": "Contents",
   "toc_cell": false,
   "toc_position": {},
   "toc_section_display": true,
   "toc_window_display": false
  },
  "vscode": {
   "interpreter": {
    "hash": "addd2fdd290c7c34336629330a81969ca1164c4689498c0841c953bddca49006"
   }
  }
 },
 "nbformat": 4,
 "nbformat_minor": 5
}
