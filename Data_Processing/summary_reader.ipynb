{
 "cells": [
  {
   "cell_type": "code",
   "execution_count": 1,
   "metadata": {},
   "outputs": [],
   "source": [
    "import pandas as pd\n",
    "import os\n",
    "import numpy as np\n",
    "import glob\n",
    "import pyarrow.feather as feather\n",
    "from pathlib import Path\n",
    "pd.set_option('mode.chained_assignment', None)\n",
    "def index_reset(df):\n",
    "    return pd.RangeIndex(len(df.index))\n"
   ]
  },
  {
   "cell_type": "markdown",
   "metadata": {},
   "source": [
    "Load df"
   ]
  },
  {
   "cell_type": "code",
   "execution_count": 2,
   "metadata": {},
   "outputs": [
    {
     "name": "stdout",
     "output_type": "stream",
     "text": [
      "VoIP\n",
      "FileTransfer\n",
      "Music\n",
      "Youtube\n"
     ]
    }
   ],
   "source": [
    "# get your working directory and target folder that contains all your files\n",
    "for nhan in ['VoIP','FileTransfer','Music','Youtube']:\n",
    "    print(nhan)\n",
    "    path = os.path.join(os.getcwd(), '/home/onos/FL/Data_Processing/send/rawds-20/gquic/' + nhan)\n",
    "    files = [os.path.join(path, i) for i in os.listdir(\n",
    "        path) if os.path.isfile(os.path.join(path, i))]\n",
    "    summary_path = os.path.join(os.getcwd(), '/home/onos/FL/Data_Processing/Summary/' + nhan)\n",
    "    sumary_files = [os.path.join(summary_path, i) for i in os.listdir(\n",
    "        summary_path) if os.path.isfile(os.path.join(summary_path, i))]\n",
    "    names = []\n",
    "    for file in sumary_files:\n",
    "        names.append((file.split('/'))[-1])\n",
    "    for name in names:\n",
    "        sum_path = summary_path + \"/\" + name\n",
    "        pfile_name = name.replace('_summary','')\n",
    "        pfile_path = path + \"/\" + pfile_name\n",
    "        df_sum = pd.read_csv(sum_path)\n",
    "        df = pd.read_csv(pfile_path, engine='pyarrow')\n",
    "        df_stream_id = df[['stream_id', 'ip_src', 'port_src', 'ip_dst', 'port_dst']].groupby(['stream_id']).head(1)\n",
    "        df_sum_final = pd.DataFrame()\n",
    "        for _, row in df_stream_id.iterrows():\n",
    "            result = df_sum.loc[ (df_sum['A_ip'] == row['ip_src']) & (df_sum['A_port'] == row['port_src']) &\n",
    "                                (df_sum['B_ip'] == row['ip_dst']) & (df_sum['B_port'] == row['port_dst']) |\n",
    "                                (df_sum['B_ip'] == row['ip_src']) & (df_sum['B_port'] == row['port_src']) & \n",
    "                                (df_sum['A_ip'] == row['ip_dst']) & (df_sum['A_port'] == row['port_dst']) ]\n",
    "            result['stream_id'] = row['stream_id']\n",
    "            df_sum_final = pd.concat([df_sum_final,result])\n",
    "            del result\n",
    "        final_path = summary_path.replace('Summary/','Summary/Final/')\n",
    "        if not Path(final_path).exists():\n",
    "            Path(final_path).mkdir(parents=True)\n",
    "        df_sum_final.index = index_reset(df_sum_final)\n",
    "        df_sum_final.to_feather(path=final_path+\"/\"+name.replace('.csv','.feather'))\n",
    "        del df_sum,df_sum_final,df"
   ]
  }
 ],
 "metadata": {
  "kernelspec": {
   "display_name": "Python 3.9.14 ('venv': venv)",
   "language": "python",
   "name": "python3"
  },
  "language_info": {
   "codemirror_mode": {
    "name": "ipython",
    "version": 3
   },
   "file_extension": ".py",
   "mimetype": "text/x-python",
   "name": "python",
   "nbconvert_exporter": "python",
   "pygments_lexer": "ipython3",
   "version": "3.9.14"
  },
  "orig_nbformat": 4,
  "vscode": {
   "interpreter": {
    "hash": "addd2fdd290c7c34336629330a81969ca1164c4689498c0841c953bddca49006"
   }
  }
 },
 "nbformat": 4,
 "nbformat_minor": 2
}
