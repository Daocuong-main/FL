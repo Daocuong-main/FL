{
  "cells": [
    {
      "cell_type": "code",
      "execution_count": 1,
      "metadata": {
        "id": "bZAnYwAkdAFl"
      },
      "outputs": [
        {
          "name": "stderr",
          "output_type": "stream",
          "text": [
            "2022-11-29 00:48:05.871295: I tensorflow/core/platform/cpu_feature_guard.cc:193] This TensorFlow binary is optimized with oneAPI Deep Neural Network Library (oneDNN) to use the following CPU instructions in performance-critical operations:  AVX2 AVX512F FMA\n",
            "To enable them in other operations, rebuild TensorFlow with the appropriate compiler flags.\n",
            "2022-11-29 00:48:06.012013: W tensorflow/stream_executor/platform/default/dso_loader.cc:64] Could not load dynamic library 'libcudart.so.11.0'; dlerror: libcudart.so.11.0: cannot open shared object file: No such file or directory\n",
            "2022-11-29 00:48:06.012058: I tensorflow/stream_executor/cuda/cudart_stub.cc:29] Ignore above cudart dlerror if you do not have a GPU set up on your machine.\n",
            "2022-11-29 00:48:06.041837: E tensorflow/stream_executor/cuda/cuda_blas.cc:2981] Unable to register cuBLAS factory: Attempting to register factory for plugin cuBLAS when one has already been registered\n",
            "2022-11-29 00:48:09.217634: W tensorflow/stream_executor/platform/default/dso_loader.cc:64] Could not load dynamic library 'libnvinfer.so.7'; dlerror: libnvinfer.so.7: cannot open shared object file: No such file or directory\n",
            "2022-11-29 00:48:09.217757: W tensorflow/stream_executor/platform/default/dso_loader.cc:64] Could not load dynamic library 'libnvinfer_plugin.so.7'; dlerror: libnvinfer_plugin.so.7: cannot open shared object file: No such file or directory\n",
            "2022-11-29 00:48:09.217767: W tensorflow/compiler/tf2tensorrt/utils/py_utils.cc:38] TF-TRT Warning: Cannot dlopen some TensorRT libraries. If you would like to use Nvidia GPU with TensorRT, please make sure the missing libraries mentioned above are installed properly.\n"
          ]
        }
      ],
      "source": [
        "from time import time, localtime\n",
        "import numpy as np\n",
        "from utils import plot_graph\n",
        "import tensorflow_federated as tff\n",
        "import tensorflow as tf\n",
        "from sklearn.preprocessing import MinMaxScaler\n",
        "from sklearn.model_selection import train_test_split\n",
        "from keras import losses, metrics, optimizers\n",
        "import random\n",
        "import pandas as pd\n",
        "import sys\n",
        "import matplotlib.pyplot as plt\n",
        "import nest_asyncio\n",
        "from pathlib import Path\n",
        "from checkpoint_manager import FileCheckpointManager\n",
        "import tensorflow_addons as tfa\n",
        "nest_asyncio.apply()\n",
        "SEED = 1337\n",
        "tf.random.set_seed(SEED)\n"
      ]
    },
    {
      "cell_type": "markdown",
      "metadata": {},
      "source": [
        "Lựa chọn model <br>\n",
        "Thay models.<Ten_model>"
      ]
    },
    {
      "cell_type": "code",
      "execution_count": 2,
      "metadata": {},
      "outputs": [],
      "source": [
        "from models.CNNv6 import create_keras_model\n"
      ]
    },
    {
      "cell_type": "markdown",
      "metadata": {},
      "source": [
        "Thay đổi các siêu tham số trong cell dưới <br>\n",
        "**experiment_name:** Tên bộ dữ liệu được sử dụng, <Tên dữ liệu>_<Số byte sử dụng> <br>\n",
        "**method:** Mô hình sử dụng <br>\n",
        "**client_lr, server_lr:** Learning rate của client và server, khi fine tune bắt đầu từ 1 và giảm dần xuống 3e-4 <br>\n",
        "**NUM_ROUNDS:** Số vòng lặp (Bắt đầu từ 1 và tăng dần lên 3000 nếu mô hình chưa hội tụ - 1/100/200/300/400/500/.../3000) <Br>\n",
        "**BATCH_SIZE:** Kích thước batch (Bắt đầu từ 8 và tăng dần lên 64) 8/16/32/64 <br>\n",
        "**split:** Để nguyên là 5"
      ]
    },
    {
      "cell_type": "markdown",
      "metadata": {},
      "source": [
        "byte_number (string): Cac byte cua packet, bao gom 10, 32, 64, 128, 256, 512, 1024, 1460"
      ]
    },
    {
      "cell_type": "code",
      "execution_count": 3,
      "metadata": {},
      "outputs": [],
      "source": [
        "byte_number = \"512\"\n"
      ]
    },
    {
      "cell_type": "code",
      "execution_count": 4,
      "metadata": {
        "id": "ZYYi42tYdAFp"
      },
      "outputs": [],
      "source": [
        "experiment_name = \"GQUIC_\" + byte_number\n",
        "method = \"nonFL_CNNv6_W_FS\"\n",
        "client_lr = 3e-4\n",
        "NUM_ROUNDS = 100\n",
        "BATCH_SIZE = 16\n"
      ]
    },
    {
      "cell_type": "code",
      "execution_count": 5,
      "metadata": {},
      "outputs": [],
      "source": [
        "this_dir = Path.cwd()\n",
        "model_dir = this_dir / \"sdn_saved_models\" / experiment_name / method\n",
        "output_dir = this_dir / \"sdn_results\" / experiment_name / method\n",
        "\n",
        "if not model_dir.exists():\n",
        "    model_dir.mkdir(parents=True)\n",
        "\n",
        "if not output_dir.exists():\n",
        "    output_dir.mkdir(parents=True)\n"
      ]
    },
    {
      "cell_type": "code",
      "execution_count": 6,
      "metadata": {},
      "outputs": [],
      "source": [
        "def sec_to_hours(seconds):\n",
        "    a = seconds//3600\n",
        "    b = (seconds % 3600)//60\n",
        "    c = (seconds % 3600) % 60\n",
        "    d = \"{:.0f} hours {:.0f} mins {:.0f} seconds\".format(a, b, c)\n",
        "    return d\n"
      ]
    },
    {
      "cell_type": "code",
      "execution_count": 7,
      "metadata": {},
      "outputs": [],
      "source": [
        "def most_frequent(List):\n",
        "    return max(set(List), key=List.count)\n"
      ]
    },
    {
      "cell_type": "markdown",
      "metadata": {},
      "source": [
        "### Đọc dữ liệu"
      ]
    },
    {
      "cell_type": "code",
      "execution_count": 8,
      "metadata": {},
      "outputs": [],
      "source": [
        "train_dir = '/home/onos/FL/Data_Processing/GQUIC_small/Train/GQUIC_data_' + byte_number + '.feather'\n",
        "test_dir = '/home/onos/FL/Data_Processing/GQUIC_small/Test//GQUIC_test_' + byte_number + '.feather'\n",
        "data = pd.read_feather(train_dir)\n",
        "test = pd.read_feather(test_dir)\n"
      ]
    },
    {
      "cell_type": "code",
      "execution_count": 9,
      "metadata": {},
      "outputs": [],
      "source": [
        "# data.drop(['length'],axis=1,inplace=True)\n",
        "# test.drop(['length'],axis=1,inplace=True)\n"
      ]
    },
    {
      "cell_type": "code",
      "execution_count": 10,
      "metadata": {},
      "outputs": [],
      "source": [
        "result = test.groupby('flow_id')['Label'].apply(list).to_dict()\n",
        "flow_label = []\n",
        "for flow in result:\n",
        "    flow_label.append(most_frequent(result[flow]))"
      ]
    },
    {
      "cell_type": "code",
      "execution_count": 11,
      "metadata": {},
      "outputs": [],
      "source": [
        "true_test = test.drop('flow_id', axis=1)\n",
        "true_data = data.drop('flow_id', axis=1)"
      ]
    },
    {
      "cell_type": "code",
      "execution_count": 12,
      "metadata": {},
      "outputs": [
        {
          "name": "stdout",
          "output_type": "stream",
          "text": [
            "512 4\n"
          ]
        }
      ],
      "source": [
        "NUM_FEATURE = len(true_test.columns)-1\n",
        "NUM_CLASSES = len(np.unique(true_test['Label']))\n",
        "print(NUM_FEATURE, NUM_CLASSES)\n"
      ]
    },
    {
      "cell_type": "code",
      "execution_count": 13,
      "metadata": {},
      "outputs": [],
      "source": [
        "y_test = true_test['Label'].to_numpy()\n",
        "x_test = true_test.drop('Label', axis=1).to_numpy()\n",
        "y_train = true_data['Label'].to_numpy()\n",
        "x_train = true_data.drop(['Label'], axis=1).to_numpy()"
      ]
    },
    {
      "cell_type": "code",
      "execution_count": 14,
      "metadata": {},
      "outputs": [],
      "source": [
        "# def sklearn_to_df(sklearn_dataset):\n",
        "#     df = pd.DataFrame(sklearn_dataset.data,\n",
        "#                       columns=sklearn_dataset.feature_names)\n",
        "#     df['Label'] = pd.Series(sklearn_dataset.Label)\n",
        "#     return df\n"
      ]
    },
    {
      "cell_type": "code",
      "execution_count": 15,
      "metadata": {},
      "outputs": [],
      "source": [
        "# from sklearn import datasets\n",
        "# df = sklearn_to_df(datasets.load_iris())\n"
      ]
    },
    {
      "cell_type": "code",
      "execution_count": 16,
      "metadata": {
        "id": "yqL-buDmdAFt"
      },
      "outputs": [],
      "source": [
        "# train_data = train_data[0].concatenate(train_data[1])\n",
        "# val_data = val_data[0].concatenate(val_data[1])\n"
      ]
    },
    {
      "cell_type": "markdown",
      "metadata": {
        "id": "MDjQc-u0dAFt"
      },
      "source": [
        "### Model Definition"
      ]
    },
    {
      "cell_type": "code",
      "execution_count": 17,
      "metadata": {
        "id": "oj7Wsal0dAFt"
      },
      "outputs": [
        {
          "name": "stderr",
          "output_type": "stream",
          "text": [
            "2022-11-29 00:48:19.053558: W tensorflow/stream_executor/platform/default/dso_loader.cc:64] Could not load dynamic library 'libcuda.so.1'; dlerror: libcuda.so.1: cannot open shared object file: No such file or directory\n",
            "2022-11-29 00:48:19.053609: W tensorflow/stream_executor/cuda/cuda_driver.cc:263] failed call to cuInit: UNKNOWN ERROR (303)\n",
            "2022-11-29 00:48:19.053633: I tensorflow/stream_executor/cuda/cuda_diagnostics.cc:156] kernel driver does not appear to be running on this host (onos-virtual-machine): /proc/driver/nvidia/version does not exist\n",
            "2022-11-29 00:48:19.053948: I tensorflow/core/platform/cpu_feature_guard.cc:193] This TensorFlow binary is optimized with oneAPI Deep Neural Network Library (oneDNN) to use the following CPU instructions in performance-critical operations:  AVX2 AVX512F FMA\n",
            "To enable them in other operations, rebuild TensorFlow with the appropriate compiler flags.\n"
          ]
        },
        {
          "name": "stdout",
          "output_type": "stream",
          "text": [
            "Model: \"sequential\"\n",
            "_________________________________________________________________\n",
            " Layer (type)                Output Shape              Param #   \n",
            "=================================================================\n",
            " conv1d (Conv1D)             (None, 512, 32)           64        \n",
            "                                                                 \n",
            " dropout (Dropout)           (None, 512, 32)           0         \n",
            "                                                                 \n",
            " max_pooling1d (MaxPooling1D  (None, 171, 32)          0         \n",
            " )                                                               \n",
            "                                                                 \n",
            " flatten (Flatten)           (None, 5472)              0         \n",
            "                                                                 \n",
            " dense (Dense)               (None, 32)                175136    \n",
            "                                                                 \n",
            " dropout_1 (Dropout)         (None, 32)                0         \n",
            "                                                                 \n",
            " dense_1 (Dense)             (None, 4)                 132       \n",
            "                                                                 \n",
            "=================================================================\n",
            "Total params: 175,332\n",
            "Trainable params: 175,332\n",
            "Non-trainable params: 0\n",
            "_________________________________________________________________\n"
          ]
        }
      ],
      "source": [
        "model = create_keras_model(NUM_FEATURE, NUM_CLASSES)\n",
        "model.summary()"
      ]
    },
    {
      "cell_type": "code",
      "execution_count": 18,
      "metadata": {},
      "outputs": [
        {
          "name": "stdout",
          "output_type": "stream",
          "text": [
            "Epoch 1/100\n"
          ]
        },
        {
          "name": "stderr",
          "output_type": "stream",
          "text": [
            "2022-11-29 00:48:20.130079: W tensorflow/core/framework/cpu_allocator_impl.cc:82] Allocation of 911114240 exceeds 10% of free system memory.\n"
          ]
        },
        {
          "name": "stdout",
          "output_type": "stream",
          "text": [
            "13903/13903 [==============================] - 55s 4ms/step - loss: 14.5114 - sparse_categorical_accuracy: 0.6448\n",
            "Epoch 2/100\n",
            "13903/13903 [==============================] - 53s 4ms/step - loss: 1.0110 - sparse_categorical_accuracy: 0.6264\n",
            "Epoch 3/100\n",
            "13903/13903 [==============================] - 53s 4ms/step - loss: 0.9348 - sparse_categorical_accuracy: 0.6373\n",
            "Epoch 4/100\n",
            "13903/13903 [==============================] - 53s 4ms/step - loss: 0.9151 - sparse_categorical_accuracy: 0.6423\n",
            "Epoch 5/100\n",
            "13903/13903 [==============================] - 57s 4ms/step - loss: 0.9151 - sparse_categorical_accuracy: 0.6393\n",
            "Epoch 6/100\n",
            "13903/13903 [==============================] - 87s 6ms/step - loss: 0.9091 - sparse_categorical_accuracy: 0.6400\n",
            "Epoch 7/100\n",
            "13903/13903 [==============================] - 87s 6ms/step - loss: 0.9013 - sparse_categorical_accuracy: 0.6423\n",
            "Epoch 8/100\n",
            "13903/13903 [==============================] - 89s 6ms/step - loss: 0.8961 - sparse_categorical_accuracy: 0.6452\n",
            "Epoch 9/100\n",
            "13903/13903 [==============================] - 86s 6ms/step - loss: 0.8923 - sparse_categorical_accuracy: 0.6453\n",
            "Epoch 10/100\n",
            "13903/13903 [==============================] - 88s 6ms/step - loss: 0.8916 - sparse_categorical_accuracy: 0.6453\n",
            "Epoch 11/100\n",
            "13903/13903 [==============================] - 88s 6ms/step - loss: 0.8932 - sparse_categorical_accuracy: 0.6446\n",
            "Epoch 12/100\n",
            "13903/13903 [==============================] - 90s 6ms/step - loss: 0.8961 - sparse_categorical_accuracy: 0.6423\n",
            "Epoch 13/100\n",
            "13903/13903 [==============================] - 90s 6ms/step - loss: 0.8938 - sparse_categorical_accuracy: 0.6443\n",
            "Epoch 14/100\n",
            "13903/13903 [==============================] - 89s 6ms/step - loss: 0.8983 - sparse_categorical_accuracy: 0.6414\n",
            "Epoch 15/100\n",
            "13903/13903 [==============================] - 90s 6ms/step - loss: 0.8990 - sparse_categorical_accuracy: 0.6432\n",
            "Epoch 16/100\n",
            "13903/13903 [==============================] - 89s 6ms/step - loss: 0.8922 - sparse_categorical_accuracy: 0.6451\n",
            "Epoch 17/100\n",
            "13903/13903 [==============================] - 89s 6ms/step - loss: 0.8937 - sparse_categorical_accuracy: 0.6429\n",
            "Epoch 18/100\n",
            "13903/13903 [==============================] - 89s 6ms/step - loss: 0.9039 - sparse_categorical_accuracy: 0.6411\n",
            "Epoch 19/100\n",
            "13903/13903 [==============================] - 89s 6ms/step - loss: 0.9071 - sparse_categorical_accuracy: 0.6422\n",
            "Epoch 20/100\n",
            "13903/13903 [==============================] - 90s 6ms/step - loss: 0.8886 - sparse_categorical_accuracy: 0.6438\n",
            "Epoch 21/100\n",
            "13903/13903 [==============================] - 91s 7ms/step - loss: 0.8926 - sparse_categorical_accuracy: 0.6450\n",
            "Epoch 22/100\n",
            "13903/13903 [==============================] - 91s 7ms/step - loss: 0.8932 - sparse_categorical_accuracy: 0.6436\n",
            "Epoch 23/100\n",
            "13903/13903 [==============================] - 91s 7ms/step - loss: 0.8963 - sparse_categorical_accuracy: 0.6434\n",
            "Epoch 24/100\n",
            "13903/13903 [==============================] - 90s 6ms/step - loss: 0.8909 - sparse_categorical_accuracy: 0.6439\n",
            "Epoch 25/100\n",
            "13903/13903 [==============================] - 90s 7ms/step - loss: 0.8933 - sparse_categorical_accuracy: 0.6444\n",
            "Epoch 26/100\n",
            "13903/13903 [==============================] - 90s 6ms/step - loss: 0.8901 - sparse_categorical_accuracy: 0.6455\n",
            "Epoch 27/100\n",
            "13903/13903 [==============================] - 90s 6ms/step - loss: 0.8831 - sparse_categorical_accuracy: 0.6465\n",
            "Epoch 28/100\n",
            "13903/13903 [==============================] - 90s 6ms/step - loss: 0.8875 - sparse_categorical_accuracy: 0.6452\n",
            "Epoch 29/100\n",
            "13903/13903 [==============================] - 90s 6ms/step - loss: 0.8867 - sparse_categorical_accuracy: 0.6458\n",
            "Epoch 30/100\n",
            "13903/13903 [==============================] - 89s 6ms/step - loss: 0.8864 - sparse_categorical_accuracy: 0.6454\n",
            "Epoch 31/100\n",
            "13903/13903 [==============================] - 90s 6ms/step - loss: 0.8919 - sparse_categorical_accuracy: 0.6441\n",
            "Epoch 32/100\n",
            "13903/13903 [==============================] - 91s 7ms/step - loss: 0.8948 - sparse_categorical_accuracy: 0.6432\n",
            "Epoch 33/100\n",
            "13903/13903 [==============================] - 90s 6ms/step - loss: 0.8949 - sparse_categorical_accuracy: 0.6449\n",
            "Epoch 34/100\n",
            "13903/13903 [==============================] - 90s 6ms/step - loss: 0.8883 - sparse_categorical_accuracy: 0.6452\n",
            "Epoch 35/100\n",
            "13903/13903 [==============================] - 90s 6ms/step - loss: 0.8921 - sparse_categorical_accuracy: 0.6441\n",
            "Epoch 36/100\n",
            "13903/13903 [==============================] - 89s 6ms/step - loss: 0.8850 - sparse_categorical_accuracy: 0.6461\n",
            "Epoch 37/100\n",
            "13903/13903 [==============================] - 91s 7ms/step - loss: 0.8871 - sparse_categorical_accuracy: 0.6452\n",
            "Epoch 38/100\n",
            "13903/13903 [==============================] - 91s 7ms/step - loss: 0.8902 - sparse_categorical_accuracy: 0.6433\n",
            "Epoch 39/100\n",
            "13903/13903 [==============================] - 90s 6ms/step - loss: 0.8902 - sparse_categorical_accuracy: 0.6444\n",
            "Epoch 40/100\n",
            "13903/13903 [==============================] - 90s 6ms/step - loss: 0.8866 - sparse_categorical_accuracy: 0.6442\n",
            "Epoch 41/100\n",
            "13903/13903 [==============================] - 90s 6ms/step - loss: 0.8878 - sparse_categorical_accuracy: 0.6451\n",
            "Epoch 42/100\n",
            "13903/13903 [==============================] - 90s 6ms/step - loss: 0.8849 - sparse_categorical_accuracy: 0.6452\n",
            "Epoch 43/100\n",
            "13903/13903 [==============================] - 90s 6ms/step - loss: 0.8851 - sparse_categorical_accuracy: 0.6457\n",
            "Epoch 44/100\n",
            "13903/13903 [==============================] - 89s 6ms/step - loss: 0.8899 - sparse_categorical_accuracy: 0.6446\n",
            "Epoch 45/100\n",
            "13903/13903 [==============================] - 90s 6ms/step - loss: 0.8903 - sparse_categorical_accuracy: 0.6444\n",
            "Epoch 46/100\n",
            "13903/13903 [==============================] - 90s 6ms/step - loss: 0.8874 - sparse_categorical_accuracy: 0.6450\n",
            "Epoch 47/100\n",
            "13903/13903 [==============================] - 91s 7ms/step - loss: 0.9585 - sparse_categorical_accuracy: 0.6126\n",
            "Epoch 48/100\n",
            "13903/13903 [==============================] - 90s 6ms/step - loss: 0.9280 - sparse_categorical_accuracy: 0.6126\n",
            "Epoch 49/100\n",
            "13903/13903 [==============================] - 90s 6ms/step - loss: 0.9274 - sparse_categorical_accuracy: 0.6134\n",
            "Epoch 50/100\n",
            "13903/13903 [==============================] - 90s 6ms/step - loss: 0.9262 - sparse_categorical_accuracy: 0.6136\n",
            "Epoch 51/100\n",
            "13903/13903 [==============================] - 90s 6ms/step - loss: 0.9258 - sparse_categorical_accuracy: 0.6130\n",
            "Epoch 52/100\n",
            "13903/13903 [==============================] - 90s 6ms/step - loss: 0.9256 - sparse_categorical_accuracy: 0.6127\n",
            "Epoch 53/100\n",
            "13903/13903 [==============================] - 91s 7ms/step - loss: 0.9254 - sparse_categorical_accuracy: 0.6129\n",
            "Epoch 54/100\n",
            "13903/13903 [==============================] - 90s 6ms/step - loss: 0.9248 - sparse_categorical_accuracy: 0.6124\n",
            "Epoch 55/100\n",
            "13903/13903 [==============================] - 91s 7ms/step - loss: 0.9237 - sparse_categorical_accuracy: 0.6128\n",
            "Epoch 56/100\n",
            "13903/13903 [==============================] - 89s 6ms/step - loss: 0.9249 - sparse_categorical_accuracy: 0.6124\n",
            "Epoch 57/100\n",
            "13903/13903 [==============================] - 90s 6ms/step - loss: 0.9248 - sparse_categorical_accuracy: 0.6124\n",
            "Epoch 58/100\n",
            "13903/13903 [==============================] - 90s 6ms/step - loss: 0.9243 - sparse_categorical_accuracy: 0.6131\n",
            "Epoch 59/100\n",
            "13903/13903 [==============================] - 90s 7ms/step - loss: 0.9241 - sparse_categorical_accuracy: 0.6133\n",
            "Epoch 60/100\n",
            "13903/13903 [==============================] - 89s 6ms/step - loss: 0.9232 - sparse_categorical_accuracy: 0.6130\n",
            "Epoch 61/100\n",
            "13903/13903 [==============================] - 90s 6ms/step - loss: 0.9229 - sparse_categorical_accuracy: 0.6131\n",
            "Epoch 62/100\n",
            "13903/13903 [==============================] - 90s 6ms/step - loss: 0.9232 - sparse_categorical_accuracy: 0.6124\n",
            "Epoch 63/100\n",
            "13903/13903 [==============================] - 91s 7ms/step - loss: 0.9233 - sparse_categorical_accuracy: 0.6128\n",
            "Epoch 64/100\n",
            "13903/13903 [==============================] - 90s 6ms/step - loss: 0.9224 - sparse_categorical_accuracy: 0.6131\n",
            "Epoch 65/100\n",
            "13903/13903 [==============================] - 90s 6ms/step - loss: 0.9239 - sparse_categorical_accuracy: 0.6123\n",
            "Epoch 66/100\n",
            "13903/13903 [==============================] - 90s 6ms/step - loss: 0.9233 - sparse_categorical_accuracy: 0.6125\n",
            "Epoch 67/100\n",
            "13903/13903 [==============================] - 90s 6ms/step - loss: 0.9229 - sparse_categorical_accuracy: 0.6119\n",
            "Epoch 68/100\n",
            "13903/13903 [==============================] - 90s 7ms/step - loss: 0.9233 - sparse_categorical_accuracy: 0.6126\n",
            "Epoch 69/100\n",
            "13903/13903 [==============================] - 89s 6ms/step - loss: 0.9223 - sparse_categorical_accuracy: 0.6124\n",
            "Epoch 70/100\n",
            "13903/13903 [==============================] - 90s 6ms/step - loss: 0.9233 - sparse_categorical_accuracy: 0.6123\n",
            "Epoch 71/100\n",
            "13903/13903 [==============================] - 92s 7ms/step - loss: 0.9226 - sparse_categorical_accuracy: 0.6124\n",
            "Epoch 72/100\n",
            "13903/13903 [==============================] - 91s 7ms/step - loss: 0.9228 - sparse_categorical_accuracy: 0.6115\n",
            "Epoch 73/100\n",
            "13903/13903 [==============================] - 90s 6ms/step - loss: 0.9230 - sparse_categorical_accuracy: 0.6127\n",
            "Epoch 74/100\n",
            "13903/13903 [==============================] - 91s 7ms/step - loss: 0.9222 - sparse_categorical_accuracy: 0.6126\n",
            "Epoch 75/100\n",
            "13903/13903 [==============================] - 92s 7ms/step - loss: 0.9230 - sparse_categorical_accuracy: 0.6121\n",
            "Epoch 76/100\n",
            "13903/13903 [==============================] - 91s 7ms/step - loss: 0.9233 - sparse_categorical_accuracy: 0.6119\n",
            "Epoch 77/100\n",
            "13903/13903 [==============================] - 91s 7ms/step - loss: 0.9236 - sparse_categorical_accuracy: 0.6123\n",
            "Epoch 78/100\n",
            "13903/13903 [==============================] - 91s 7ms/step - loss: 0.9233 - sparse_categorical_accuracy: 0.6121\n",
            "Epoch 79/100\n",
            "13903/13903 [==============================] - 90s 7ms/step - loss: 0.9237 - sparse_categorical_accuracy: 0.6123\n",
            "Epoch 80/100\n",
            "13903/13903 [==============================] - 90s 6ms/step - loss: 0.9236 - sparse_categorical_accuracy: 0.6119\n",
            "Epoch 81/100\n",
            "13903/13903 [==============================] - 89s 6ms/step - loss: 0.9237 - sparse_categorical_accuracy: 0.6124\n",
            "Epoch 82/100\n",
            "13903/13903 [==============================] - 91s 7ms/step - loss: 0.9237 - sparse_categorical_accuracy: 0.6111\n",
            "Epoch 83/100\n",
            "13903/13903 [==============================] - 91s 7ms/step - loss: 0.9234 - sparse_categorical_accuracy: 0.6128\n",
            "Epoch 84/100\n",
            "13903/13903 [==============================] - 90s 6ms/step - loss: 0.9234 - sparse_categorical_accuracy: 0.6124\n",
            "Epoch 85/100\n",
            "13903/13903 [==============================] - 91s 7ms/step - loss: 0.9238 - sparse_categorical_accuracy: 0.6127\n",
            "Epoch 86/100\n",
            "13903/13903 [==============================] - 90s 6ms/step - loss: 0.9237 - sparse_categorical_accuracy: 0.6120\n",
            "Epoch 87/100\n",
            "13903/13903 [==============================] - 90s 7ms/step - loss: 0.9231 - sparse_categorical_accuracy: 0.6119\n",
            "Epoch 88/100\n",
            "13903/13903 [==============================] - 92s 7ms/step - loss: 0.9234 - sparse_categorical_accuracy: 0.6122\n",
            "Epoch 89/100\n",
            "13903/13903 [==============================] - 94s 7ms/step - loss: 0.9234 - sparse_categorical_accuracy: 0.6127\n",
            "Epoch 90/100\n",
            "13903/13903 [==============================] - 92s 7ms/step - loss: 0.9233 - sparse_categorical_accuracy: 0.6117\n",
            "Epoch 91/100\n",
            "13903/13903 [==============================] - 90s 6ms/step - loss: 0.9233 - sparse_categorical_accuracy: 0.6124\n",
            "Epoch 92/100\n",
            "13903/13903 [==============================] - 90s 6ms/step - loss: 0.9232 - sparse_categorical_accuracy: 0.6123\n",
            "Epoch 93/100\n",
            "13903/13903 [==============================] - 93s 7ms/step - loss: 0.9233 - sparse_categorical_accuracy: 0.6121\n",
            "Epoch 94/100\n",
            "13903/13903 [==============================] - 91s 7ms/step - loss: 0.9226 - sparse_categorical_accuracy: 0.6121\n",
            "Epoch 95/100\n",
            "13903/13903 [==============================] - 92s 7ms/step - loss: 0.9234 - sparse_categorical_accuracy: 0.6118\n",
            "Epoch 96/100\n",
            "13903/13903 [==============================] - 92s 7ms/step - loss: 0.9229 - sparse_categorical_accuracy: 0.6123\n",
            "Epoch 97/100\n",
            "13903/13903 [==============================] - 91s 7ms/step - loss: 0.9229 - sparse_categorical_accuracy: 0.6120\n",
            "Epoch 98/100\n",
            "13903/13903 [==============================] - 91s 7ms/step - loss: 0.9230 - sparse_categorical_accuracy: 0.6122\n",
            "Epoch 99/100\n",
            "13903/13903 [==============================] - 92s 7ms/step - loss: 0.9227 - sparse_categorical_accuracy: 0.6117\n",
            "Epoch 100/100\n",
            "13903/13903 [==============================] - 92s 7ms/step - loss: 0.9230 - sparse_categorical_accuracy: 0.6121\n"
          ]
        }
      ],
      "source": [
        "model.compile(optimizer=tf.keras.optimizers.Adam(\n",
        "    learning_rate=client_lr), loss=tf.keras.losses.SparseCategoricalCrossentropy(),\n",
        "    metrics=[tf.keras.metrics.SparseCategoricalAccuracy()])\n",
        "start = time()\n",
        "history = model.fit(x_train, y_train, epochs=NUM_ROUNDS, batch_size=BATCH_SIZE,use_multiprocessing=True,shuffle=False)\n",
        "end = time() - start"
      ]
    },
    {
      "cell_type": "code",
      "execution_count": 19,
      "metadata": {},
      "outputs": [
        {
          "name": "stdout",
          "output_type": "stream",
          "text": [
            "Time: 2 hours 27 mins 15 seconds\n"
          ]
        }
      ],
      "source": [
        "total_time = \"Time: {}\".format(sec_to_hours(end))\n",
        "print(total_time)\n"
      ]
    },
    {
      "cell_type": "markdown",
      "metadata": {
        "id": "pQ_J02EAdAFt"
      },
      "source": [
        "### Evaluation"
      ]
    },
    {
      "cell_type": "code",
      "execution_count": 20,
      "metadata": {},
      "outputs": [],
      "source": [
        "best_model_accuracy = history.history['sparse_categorical_accuracy'][np.argmin(history.history['loss'])]"
      ]
    },
    {
      "cell_type": "code",
      "execution_count": 21,
      "metadata": {},
      "outputs": [
        {
          "name": "stdout",
          "output_type": "stream",
          "text": [
            "3475/3475 - 7s - loss: 8.6295 - sparse_categorical_accuracy: 0.1568 - 7s/epoch - 2ms/step\n"
          ]
        }
      ],
      "source": [
        "_, test_acc = model.evaluate(x_test, y_test,verbose=2, batch_size=BATCH_SIZE,use_multiprocessing=True)"
      ]
    },
    {
      "cell_type": "code",
      "execution_count": 22,
      "metadata": {},
      "outputs": [],
      "source": [
        "train_val = str(round(best_model_accuracy*100)) + \"_\" + str(round(test_acc*100))"
      ]
    },
    {
      "cell_type": "code",
      "execution_count": 23,
      "metadata": {},
      "outputs": [],
      "source": [
        "this_dir = Path.cwd()\n",
        "model_dir = this_dir / \"sdn_saved_models\" / experiment_name / method / train_val\n",
        "output_dir = this_dir / \"sdn_results\" / experiment_name / method / train_val\n",
        "\n",
        "if not model_dir.exists():\n",
        "    model_dir.mkdir(parents=True)\n",
        "\n",
        "if not output_dir.exists():\n",
        "    output_dir.mkdir(parents=True)"
      ]
    },
    {
      "cell_type": "code",
      "execution_count": 24,
      "metadata": {},
      "outputs": [],
      "source": [
        "model.save(model_dir/'model.h5')"
      ]
    },
    {
      "cell_type": "code",
      "execution_count": 25,
      "metadata": {},
      "outputs": [],
      "source": [
        "with open(output_dir/'parameters.txt', 'w') as f:\n",
        "    print('client_lr: {}\\nEpochs: {}\\nBATCH_SIZE: {}'.format(\n",
        "        client_lr, NUM_ROUNDS, BATCH_SIZE), file=f)\n",
        "    f.close()"
      ]
    },
    {
      "cell_type": "code",
      "execution_count": 26,
      "metadata": {},
      "outputs": [],
      "source": [
        "text_file = open(output_dir/\"time.txt\", \"w\")\n",
        "n = text_file.write(total_time)\n",
        "text_file.close()"
      ]
    },
    {
      "cell_type": "code",
      "execution_count": 27,
      "metadata": {},
      "outputs": [
        {
          "name": "stdout",
          "output_type": "stream",
          "text": [
            "3475/3475 - 7s - 7s/epoch - 2ms/step\n"
          ]
        }
      ],
      "source": [
        "predictions = model.predict(x_test,verbose=2,use_multiprocessing=True,batch_size=BATCH_SIZE)"
      ]
    },
    {
      "cell_type": "code",
      "execution_count": 28,
      "metadata": {},
      "outputs": [],
      "source": [
        "y_pred = np.argmax(predictions, axis=-1)\n",
        "test['pred'] = y_pred.tolist()"
      ]
    },
    {
      "cell_type": "code",
      "execution_count": 29,
      "metadata": {},
      "outputs": [],
      "source": [
        "result = test.groupby('flow_id')['pred'].apply(list).to_dict()\n",
        "flow_pred = []\n",
        "for flow in result:\n",
        "    flow_pred.append(most_frequent(result[flow]))"
      ]
    },
    {
      "cell_type": "code",
      "execution_count": 30,
      "metadata": {},
      "outputs": [
        {
          "name": "stdout",
          "output_type": "stream",
          "text": [
            "['Class 0', 'Class 1', 'Class 2', 'Class 3']\n"
          ]
        },
        {
          "name": "stderr",
          "output_type": "stream",
          "text": [
            "/home/onos/FL/venv/lib/python3.9/site-packages/sklearn/metrics/_classification.py:1318: UndefinedMetricWarning: Precision is ill-defined and being set to 0.0 in labels with no predicted samples. Use `zero_division` parameter to control this behavior.\n",
            "  _warn_prf(average, modifier, msg_start, len(result))\n",
            "/home/onos/FL/venv/lib/python3.9/site-packages/sklearn/metrics/_classification.py:1318: UndefinedMetricWarning: Precision is ill-defined and being set to 0.0 in labels with no predicted samples. Use `zero_division` parameter to control this behavior.\n",
            "  _warn_prf(average, modifier, msg_start, len(result))\n",
            "/home/onos/FL/venv/lib/python3.9/site-packages/sklearn/metrics/_classification.py:1318: UndefinedMetricWarning: Precision and F-score are ill-defined and being set to 0.0 in labels with no predicted samples. Use `zero_division` parameter to control this behavior.\n",
            "  _warn_prf(average, modifier, msg_start, len(result))\n",
            "/home/onos/FL/venv/lib/python3.9/site-packages/sklearn/metrics/_classification.py:1318: UndefinedMetricWarning: Precision and F-score are ill-defined and being set to 0.0 in labels with no predicted samples. Use `zero_division` parameter to control this behavior.\n",
            "  _warn_prf(average, modifier, msg_start, len(result))\n",
            "/home/onos/FL/venv/lib/python3.9/site-packages/sklearn/metrics/_classification.py:1318: UndefinedMetricWarning: Precision and F-score are ill-defined and being set to 0.0 in labels with no predicted samples. Use `zero_division` parameter to control this behavior.\n",
            "  _warn_prf(average, modifier, msg_start, len(result))\n"
          ]
        }
      ],
      "source": [
        "from sklearn.metrics import confusion_matrix\n",
        "from sklearn.metrics import accuracy_score, precision_score, recall_score, f1_score\n",
        "from sklearn.metrics import classification_report\n",
        "\n",
        "\n",
        "classes = []\n",
        "for c in range(NUM_CLASSES):\n",
        "    classes.append(\"Class {}\".format(c))\n",
        "print(classes)\n",
        "with open(output_dir/'metrics.txt', 'w') as f:\n",
        "    confusion = confusion_matrix(flow_label, flow_pred)\n",
        "    print('Confusion Matrix\\n', file=f)\n",
        "    print(confusion, file=f)\n",
        "\n",
        "    # importing accuracy_score, precision_score, recall_score, f1_score\n",
        "    print('\\nAccuracy: {:.2f}\\n'.format(\n",
        "        accuracy_score(flow_label, flow_pred)), file=f)\n",
        "\n",
        "    print('Micro Precision: {:.2f}'.format(\n",
        "        precision_score(flow_label, flow_pred, average='micro')), file=f)\n",
        "    print('Micro Recall: {:.2f}'.format(\n",
        "        recall_score(flow_label, flow_pred, average='micro')), file=f)\n",
        "    print(\n",
        "        'Micro F1-score: {:.2f}\\n'.format(f1_score(flow_label, flow_pred, average='micro')), file=f)\n",
        "\n",
        "    print('Macro Precision: {:.2f}'.format(\n",
        "        precision_score(flow_label, flow_pred, average='macro')), file=f)\n",
        "    print('Macro Recall: {:.2f}'.format(\n",
        "        recall_score(flow_label, flow_pred, average='macro')), file=f)\n",
        "    print(\n",
        "        'Macro F1-score: {:.2f}\\n'.format(f1_score(flow_label, flow_pred, average='macro')), file=f)\n",
        "\n",
        "    print('Weighted Precision: {:.2f}'.format(\n",
        "        precision_score(flow_label, flow_pred, average='weighted')), file=f)\n",
        "    print('Weighted Recall: {:.2f}'.format(\n",
        "        recall_score(flow_label, flow_pred, average='weighted')), file=f)\n",
        "    print(\n",
        "        'Weighted F1-score: {:.2f}'.format(f1_score(flow_label, flow_pred, average='weighted')), file=f)\n",
        "\n",
        "    print('\\nClassification Report\\n', file=f)\n",
        "    print(classification_report(flow_label, flow_pred, target_names=classes), file=f)\n",
        "    f.close()\n"
      ]
    },
    {
      "cell_type": "code",
      "execution_count": 31,
      "metadata": {},
      "outputs": [
        {
          "data": {
            "image/png": "[encoded data removed]",
            "text/plain": [
              "<Figure size 1000x600 with 1 Axes>"
            ]
          },
          "metadata": {},
          "output_type": "display_data"
        }
      ],
      "source": [
        "fig = plt.figure(figsize=(10, 6))\n",
        "plt.plot(history.history['sparse_categorical_accuracy'], label='accuracy')\n",
        "plt.xlabel('Epoch')\n",
        "plt.ylabel('Accuracy')\n",
        "plt.ylim([0,1])\n",
        "plt.savefig(output_dir / \"normal_model_Accuracy.png\")"
      ]
    },
    {
      "cell_type": "code",
      "execution_count": null,
      "metadata": {},
      "outputs": [],
      "source": []
    }
  ],
  "metadata": {
    "colab": {
      "collapsed_sections": [],
      "name": "notebook.ipynb",
      "provenance": []
    },
    "kernelspec": {
      "display_name": "venv",
      "language": "python",
      "name": "python3"
    },
    "language_info": {
      "codemirror_mode": {
        "name": "ipython",
        "version": 3
      },
      "file_extension": ".py",
      "mimetype": "text/x-python",
      "name": "python",
      "nbconvert_exporter": "python",
      "pygments_lexer": "ipython3",
      "version": "3.9.14"
    },
    "vscode": {
      "interpreter": {
        "hash": "addd2fdd290c7c34336629330a81969ca1164c4689498c0841c953bddca49006"
      }
    }
  },
  "nbformat": 4,
  "nbformat_minor": 0
}
