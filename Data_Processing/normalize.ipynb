{
 "cells": [
  {
   "cell_type": "code",
   "execution_count": 5,
   "metadata": {},
   "outputs": [],
   "source": [
    "import os\n",
    "import pandas as pd\n",
    "import numpy as np\n",
    "import glob\n",
    "import pyarrow.feather as feather\n",
    "\n",
    "from sklearn import preprocessing\n",
    "le = preprocessing.LabelEncoder()\n",
    "scale = preprocessing.MinMaxScaler()\n",
    "pd.set_option(\"display.max_rows\", None)\n",
    "\n",
    "\n",
    "def data_scale(df,list_columns):\n",
    "    df.loc[:, '0': '1459'] = df.loc[:, '0': '1459'] / 255.0\n",
    "    df[list_columns] = scale.fit_transform(\n",
    "        df[list_columns])\n",
    "    return df\n",
    "def onehot(df,list_columns):\n",
    "    for column in list_columns:\n",
    "        one_hot = pd.get_dummies(df[column],prefix=column)\n",
    "        # Drop column B as it is now encoded\n",
    "        df = df.drop([column],axis = 1)\n",
    "        # Join the encoded df\n",
    "        df = df.join(one_hot)\n",
    "    return df"
   ]
  },
  {
   "cell_type": "code",
   "execution_count": 6,
   "metadata": {},
   "outputs": [],
   "source": [
    "GQUIC_data = pd.read_csv('/home/onos/FL/Data Processing/GQUIC_data.csv',engine='pyarrow')\n",
    "GQUIC_data = GQUIC_data.pipe(data_scale,['length'])\n",
    "GQUIC_data.to_csv('GQUIC_data.csv',index=False)\n",
    "del GQUIC_data"
   ]
  },
  {
   "cell_type": "code",
   "execution_count": 7,
   "metadata": {},
   "outputs": [],
   "source": [
    "GQUIC_test = pd.read_csv('/home/onos/FL/Data Processing/GQUIC_test.csv',engine='pyarrow')\n",
    "GQUIC_test = GQUIC_test.pipe(data_scale,['length'])\n",
    "GQUIC_test.to_csv('GQUIC_test.csv',index=False)\n",
    "del GQUIC_test"
   ]
  },
  {
   "cell_type": "code",
   "execution_count": 9,
   "metadata": {},
   "outputs": [],
   "source": [
    "nonvpn_data = pd.read_csv('/home/onos/FL/Data Processing/nonvpn_data.csv',engine='pyarrow')\n",
    "nonvpn_data = nonvpn_data.pipe(data_scale,['length']).pipe(onehot,['ip_proto','protocol'])\n",
    "nonvpn_data.to_csv('nonvpn_data.csv',index=False)\n",
    "del nonvpn_data"
   ]
  },
  {
   "cell_type": "code",
   "execution_count": null,
   "metadata": {},
   "outputs": [],
   "source": [
    "nonvpn_test = pd.read_csv('/home/onos/FL/Data Processing/nonvpn_test.csv',engine='pyarrow')\n",
    "nonvpn_test = nonvpn_test.pipe(data_scale,['length']).pipe(onehot,['ip_proto','protocol'])\n",
    "nonvpn_test.to_csv('nonvpn_test.csv',index=False)\n",
    "del nonvpn_test"
   ]
  },
  {
   "cell_type": "code",
   "execution_count": null,
   "metadata": {},
   "outputs": [],
   "source": [
    "vpn_data = pd.read_csv('/home/onos/FL/Data Processing/vpn_data.csv',engine='pyarrow')\n",
    "vpn_data = vpn_data.pipe(data_scale,['length']).pipe(onehot,['ip_proto','protocol'])\n",
    "vpn_data.to_csv('vpn_data.csv',index=False)\n",
    "del vpn_data"
   ]
  },
  {
   "cell_type": "code",
   "execution_count": null,
   "metadata": {},
   "outputs": [],
   "source": [
    "vpn_test = pd.read_csv('/home/onos/FL/Data Processing/vpn_test.csv',engine='pyarrow')\n",
    "vpn_test = vpn_test.pipe(data_scale,['length']).pipe(onehot,['ip_proto','protocol'])\n",
    "vpn_test.to_csv('vpn_test.csv',index=False)\n",
    "del vpn_test"
   ]
  }
 ],
 "metadata": {
  "kernelspec": {
   "display_name": "venv",
   "language": "python",
   "name": "python3"
  },
  "language_info": {
   "codemirror_mode": {
    "name": "ipython",
    "version": 3
   },
   "file_extension": ".py",
   "mimetype": "text/x-python",
   "name": "python",
   "nbconvert_exporter": "python",
   "pygments_lexer": "ipython3",
   "version": "3.9.14 (main, Sep 18 2022, 16:34:37) \n[GCC 7.5.0]"
  },
  "orig_nbformat": 4,
  "vscode": {
   "interpreter": {
    "hash": "addd2fdd290c7c34336629330a81969ca1164c4689498c0841c953bddca49006"
   }
  }
 },
 "nbformat": 4,
 "nbformat_minor": 2
}
