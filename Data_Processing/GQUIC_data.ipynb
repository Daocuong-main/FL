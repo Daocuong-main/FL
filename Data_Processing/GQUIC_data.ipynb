{
 "cells": [
  {
   "cell_type": "code",
   "execution_count": 1,
   "id": "56ec2009",
   "metadata": {},
   "outputs": [],
   "source": [
    "import os\n",
    "import pandas as pd\n",
    "import numpy as np\n",
    "import glob\n",
    "import pyarrow.feather as feather\n",
    "\n",
    "from sklearn import preprocessing\n",
    "le = preprocessing.LabelEncoder()\n",
    "scale = preprocessing.MinMaxScaler()\n",
    "pd.set_option(\"display.max_rows\", None)\n",
    "\n",
    "\n",
    "def label_encoding(df, columns_list):\n",
    "    for col in columns_list:\n",
    "        df[col] = le.fit_transform(df[col])\n",
    "        le_name_mapping = dict(zip(le.classes_, le.transform(le.classes_)))\n",
    "        with open('Label_mapping_GQUIC.txt', 'a') as data:\n",
    "            data.write(col+\": \"+str(le_name_mapping) + \"\\n\")\n",
    "    return df\n",
    "\n",
    "\n",
    "def data_scale(df):\n",
    "    df.loc[:, '0': '1459'] = df.loc[:, '0': '1459'].div(255)\n",
    "    df[['length']] = scale.fit_transform(\n",
    "        df[['length']])\n",
    "    return df\n",
    "\n",
    "\n",
    "def remove_protocol(df):\n",
    "    df = df.loc[(df['protocol'] == 'GQUIC')]\n",
    "    return df\n",
    "\n",
    "\n",
    "def remove_columns(df):\n",
    "    df = df.drop(['ip_proto', 'data'], axis=1)\n",
    "    return df\n",
    "\n",
    "\n",
    "def final_remove(df):\n",
    "    df = df.drop(['ip_src', 'ip_dst', 'protocol', 'info'], axis=1)\n",
    "    return df\n",
    "\n",
    "\n",
    "def remove_ip(df, ip):\n",
    "    df = df[(df['ip_src'].str[:7].str.contains(ip))]\n",
    "    df = df[(df['ip_dst'].str[:7].str.contains(ip))]\n",
    "    return df\n"
   ]
  },
  {
   "cell_type": "markdown",
   "id": "1380d87c",
   "metadata": {},
   "source": [
    "# VoIP"
   ]
  },
  {
   "cell_type": "code",
   "execution_count": 2,
   "id": "48259186",
   "metadata": {},
   "outputs": [],
   "source": [
    "# get your working directory and target folder that contains all your files\n",
    "path = os.path.join(os.getcwd(), 'csv/gquic/GoogleHangout_VoIP')\n",
    "\n",
    "files = [os.path.join(path, i) for i in os.listdir(\n",
    "    path) if os.path.isfile(os.path.join(path, i))]\n",
    "\n",
    "df_GoogleHangout_VoIP = pd.DataFrame()\n",
    "\n",
    "# for every file in folder, read it and append to a empty dataframe with column filename as 'Label'\n",
    "for file in files:\n",
    "    _df_GoogleHangout_VoIP = pd.read_csv(\n",
    "        file, engine='pyarrow')\n",
    "    _df_GoogleHangout_VoIP['Label'] = \"GoogleHangout_VoIP\"\n",
    "    file_name = file.split('/')\n",
    "    _df_GoogleHangout_VoIP['File_name'] = file_name[-1]\n",
    "    df_GoogleHangout_VoIP = pd.concat(\n",
    "        [df_GoogleHangout_VoIP, _df_GoogleHangout_VoIP], ignore_index=True)\n",
    "del _df_GoogleHangout_VoIP\n"
   ]
  },
  {
   "cell_type": "code",
   "execution_count": 3,
   "id": "c26a0c7d",
   "metadata": {},
   "outputs": [
    {
     "data": {
      "text/plain": [
       "Index(['time_epoch', 'frame_number', 'stream_id', 'ip_src', 'ip_dst',\n",
       "       'ip_proto', 'protocol', 'length', 'info', 'data',\n",
       "       ...\n",
       "       '1452', '1453', '1454', '1455', '1456', '1457', '1458', '1459', 'Label',\n",
       "       'File_name'],\n",
       "      dtype='object', length=1472)"
      ]
     },
     "execution_count": 3,
     "metadata": {},
     "output_type": "execute_result"
    }
   ],
   "source": [
    "df_GoogleHangout_VoIP.columns"
   ]
  },
  {
   "cell_type": "code",
   "execution_count": 6,
   "id": "aeec0996",
   "metadata": {},
   "outputs": [
    {
     "data": {
      "text/plain": [
       "192.168.0.108      120396\n",
       "192.168.0.119       87257\n",
       "192.168.43.5        78567\n",
       "192.168.0.104       39753\n",
       "192.168.0.103       31017\n",
       "172.217.161.174     25487\n",
       "172.217.24.206      18464\n",
       "172.217.25.14       14578\n",
       "172.217.31.238      13935\n",
       "172.217.161.142     13652\n",
       "Name: ip_src, dtype: int64"
      ]
     },
     "execution_count": 6,
     "metadata": {},
     "output_type": "execute_result"
    }
   ],
   "source": [
    "df_GoogleHangout_VoIP['ip_src'].value_counts().nlargest(10)"
   ]
  },
  {
   "cell_type": "code",
   "execution_count": 7,
   "id": "523af7c8",
   "metadata": {},
   "outputs": [
    {
     "data": {
      "text/plain": [
       "192.168.0.108      128796\n",
       "192.168.0.119       94162\n",
       "192.168.43.5        84809\n",
       "192.168.0.104       42511\n",
       "192.168.0.103       36263\n",
       "172.217.161.174     19921\n",
       "74.125.23.127       17237\n",
       "172.217.24.206      15088\n",
       "172.217.25.14       12351\n",
       "172.217.31.238      11835\n",
       "Name: ip_dst, dtype: int64"
      ]
     },
     "execution_count": 7,
     "metadata": {},
     "output_type": "execute_result"
    }
   ],
   "source": [
    "df_GoogleHangout_VoIP['ip_dst'].value_counts().nlargest(10)"
   ]
  },
  {
   "cell_type": "code",
   "execution_count": null,
   "id": "25f1715b",
   "metadata": {},
   "outputs": [],
   "source": []
  },
  {
   "cell_type": "code",
   "execution_count": 3,
   "id": "57c9a421",
   "metadata": {},
   "outputs": [],
   "source": [
    "# df_GoogleHangout_VoIP = (df_GoogleHangout_VoIP.pipe(remove_protocol).pipe(remove_columns))\n"
   ]
  },
  {
   "cell_type": "code",
   "execution_count": 4,
   "id": "53361e0a",
   "metadata": {},
   "outputs": [],
   "source": [
    "# df_GoogleHangout_VoIP = (df_GoogleHangout_VoIP.pipe(remove_ip,\"192.168|172.217\").pipe(final_remove))"
   ]
  },
  {
   "cell_type": "code",
   "execution_count": 5,
   "id": "07585831",
   "metadata": {},
   "outputs": [],
   "source": [
    "# df_GoogleHangout_VoIP.to_csv(\n",
    "#     \"GQUIC_csv/df_GoogleHangout_VoIP.csv\", index=False)\n"
   ]
  },
  {
   "cell_type": "code",
   "execution_count": 8,
   "id": "8f7b35b5",
   "metadata": {},
   "outputs": [],
   "source": [
    "del df_GoogleHangout_VoIP\n"
   ]
  },
  {
   "cell_type": "markdown",
   "id": "47922dc7",
   "metadata": {},
   "source": [
    "# Music"
   ]
  },
  {
   "cell_type": "code",
   "execution_count": 9,
   "id": "7b28754a",
   "metadata": {},
   "outputs": [],
   "source": [
    "# get your working directory and target folder that contains all your files\n",
    "path = os.path.join(os.getcwd(), 'csv/gquic/Google_PlayMusic')\n",
    "\n",
    "files = [os.path.join(path, i) for i in os.listdir(\n",
    "    path) if os.path.isfile(os.path.join(path, i))]\n",
    "\n",
    "df_Google_PlayMusic = pd.DataFrame()\n",
    "\n",
    "# for every file in folder, read it and append to a empty dataframe with column filename as 'Label'\n",
    "for file in files:\n",
    "    _df_Google_PlayMusic = pd.read_csv(\n",
    "        file, engine='pyarrow')\n",
    "    # print(file)\n",
    "    _df_Google_PlayMusic['Label'] = \"Google_PlayMusic\"\n",
    "    file_name = file.split('/')\n",
    "    _df_Google_PlayMusic['File_name'] = file_name[-1]\n",
    "    df_Google_PlayMusic = pd.concat(\n",
    "        [df_Google_PlayMusic, _df_Google_PlayMusic])\n",
    "del _df_Google_PlayMusic\n"
   ]
  },
  {
   "cell_type": "code",
   "execution_count": 10,
   "id": "a9402e06",
   "metadata": {},
   "outputs": [
    {
     "data": {
      "text/plain": [
       "172.31.1.227      272391\n",
       "172.31.46.140      16004\n",
       "172.217.9.194       9863\n",
       "172.217.13.66       9280\n",
       "172.217.12.226      8983\n",
       "172.217.15.98       8628\n",
       "172.217.7.142       8260\n",
       "172.217.15.66       7274\n",
       "172.217.13.78       7099\n",
       "216.58.217.110      7077\n",
       "Name: ip_src, dtype: int64"
      ]
     },
     "execution_count": 10,
     "metadata": {},
     "output_type": "execute_result"
    }
   ],
   "source": [
    "df_Google_PlayMusic['ip_src'].value_counts().nlargest(10)"
   ]
  },
  {
   "cell_type": "code",
   "execution_count": 11,
   "id": "79a82b3a",
   "metadata": {},
   "outputs": [
    {
     "data": {
      "text/plain": [
       "172.31.1.227      347886\n",
       "172.31.46.140      19217\n",
       "172.217.9.194       8872\n",
       "172.217.13.66       8312\n",
       "172.217.12.226      8132\n",
       "172.217.15.98       8035\n",
       "172.217.7.142       7899\n",
       "216.58.217.110      6891\n",
       "172.217.13.78       6671\n",
       "172.217.15.66       6567\n",
       "Name: ip_dst, dtype: int64"
      ]
     },
     "execution_count": 11,
     "metadata": {},
     "output_type": "execute_result"
    }
   ],
   "source": [
    "df_Google_PlayMusic['ip_dst'].value_counts().nlargest(10)"
   ]
  },
  {
   "cell_type": "code",
   "execution_count": 7,
   "id": "daafb1d4",
   "metadata": {},
   "outputs": [],
   "source": [
    "# df_Google_PlayMusic = (df_Google_PlayMusic.pipe(remove_protocol).pipe(remove_columns))\n",
    "\n",
    "# df_Google_PlayMusic = (df_Google_PlayMusic.pipe(remove_ip,\"172.31|172.217\").pipe(final_remove))"
   ]
  },
  {
   "cell_type": "code",
   "execution_count": 9,
   "id": "df1885d3",
   "metadata": {},
   "outputs": [],
   "source": [
    "# df_Google_PlayMusic.to_csv(\"GQUIC_csv/df_Google_PlayMusic.csv\", index=False)"
   ]
  },
  {
   "cell_type": "code",
   "execution_count": 12,
   "id": "0cc21486",
   "metadata": {},
   "outputs": [],
   "source": [
    "\n",
    "del df_Google_PlayMusic\n"
   ]
  },
  {
   "cell_type": "markdown",
   "id": "d6dc65d1",
   "metadata": {},
   "source": [
    "# File Transfer"
   ]
  },
  {
   "cell_type": "code",
   "execution_count": 13,
   "id": "c64b3efd",
   "metadata": {},
   "outputs": [],
   "source": [
    "# get your working directory and target folder that contains all your files\n",
    "path = os.path.join(os.getcwd(), 'csv/gquic/FileTransfer')\n",
    "\n",
    "files = [os.path.join(path, i) for i in os.listdir(\n",
    "    path) if os.path.isfile(os.path.join(path, i))]\n",
    "\n",
    "df_FileTransfer = pd.DataFrame()\n",
    "\n",
    "# for every file in folder, read it and append to a empty dataframe with column filename as 'Label'\n",
    "for file in files:\n",
    "    _df_FileTransfer = pd.read_csv(file, engine='pyarrow')\n",
    "    # print(file)\n",
    "    _df_FileTransfer['Label'] = \"FileTransfer\"\n",
    "    file_name = file.split('/')\n",
    "    _df_FileTransfer['File_name'] = file_name[-1]\n",
    "    df_FileTransfer = pd.concat([df_FileTransfer, _df_FileTransfer])\n",
    "del _df_FileTransfer\n"
   ]
  },
  {
   "cell_type": "code",
   "execution_count": 14,
   "id": "5bcfb243",
   "metadata": {},
   "outputs": [
    {
     "data": {
      "text/plain": [
       "192.168.10.30    63416\n",
       "192.168.10.35    23448\n",
       "192.168.10.32    13773\n",
       "Name: ip_src, dtype: int64"
      ]
     },
     "execution_count": 14,
     "metadata": {},
     "output_type": "execute_result"
    }
   ],
   "source": [
    "df_FileTransfer['ip_src'].value_counts().nlargest(10)"
   ]
  },
  {
   "cell_type": "code",
   "execution_count": 15,
   "id": "d4e19ce0",
   "metadata": {},
   "outputs": [
    {
     "data": {
      "text/plain": [
       "192.168.10.35    38072\n",
       "192.168.10.30    37221\n",
       "192.168.10.32    25344\n",
       "Name: ip_dst, dtype: int64"
      ]
     },
     "execution_count": 15,
     "metadata": {},
     "output_type": "execute_result"
    }
   ],
   "source": [
    "df_FileTransfer['ip_dst'].value_counts().nlargest(10)"
   ]
  },
  {
   "cell_type": "code",
   "execution_count": 11,
   "id": "618bd0d8",
   "metadata": {},
   "outputs": [],
   "source": [
    "# df_FileTransfer = df_FileTransfer.loc[(df_FileTransfer['protocol'] == 'GQUIC')]\n",
    "# df_FileTransfer = df_FileTransfer.pipe(remove_columns).pipe(final_remove)"
   ]
  },
  {
   "cell_type": "code",
   "execution_count": 13,
   "id": "96e36640",
   "metadata": {},
   "outputs": [],
   "source": [
    "# df_FileTransfer.to_csv(\"GQUIC_csv/df_FileTranfer.csv\", index=False)\n"
   ]
  },
  {
   "cell_type": "code",
   "execution_count": 16,
   "id": "2f033bf8",
   "metadata": {},
   "outputs": [],
   "source": [
    "del df_FileTransfer\n"
   ]
  },
  {
   "cell_type": "markdown",
   "id": "34eafa46",
   "metadata": {},
   "source": [
    "# Chat"
   ]
  },
  {
   "cell_type": "code",
   "execution_count": 14,
   "id": "dea42eb8",
   "metadata": {},
   "outputs": [],
   "source": [
    "# # get your working directory and target folder that contains all your files\n",
    "# path = os.path.join(os.getcwd(), 'csv/gquic/GoogleHangout_Chat')\n",
    "\n",
    "# files = [os.path.join(path, i) for i in os.listdir(\n",
    "#     path) if os.path.isfile(os.path.join(path, i))]\n",
    "\n",
    "# df_GoogleHangout_Chat = pd.DataFrame()\n",
    "\n",
    "# # for every file in folder, read it and append to a empty dataframe with column filename as 'Label'\n",
    "# for file in files:\n",
    "#     _df_GoogleHangout_Chat = pd.read_csv(file, engine='pyarrow')\n",
    "#     # print(file)\n",
    "#     _df_GoogleHangout_Chat['Label'] = \"GoogleHangout_Chat\"\n",
    "#     file_name = file.split('/')\n",
    "#     _df_GoogleHangout_Chat['File_name'] = file_name[-1]\n",
    "#     df_GoogleHangout_Chat = pd.concat([df_GoogleHangout_Chat,_df_GoogleHangout_Chat])\n",
    "# del _df_GoogleHangout_Chat\n"
   ]
  },
  {
   "cell_type": "code",
   "execution_count": 15,
   "id": "b098f0c5",
   "metadata": {},
   "outputs": [],
   "source": [
    "# df_GoogleHangout_Chat = df_GoogleHangout_Chat.pipe(remove_protocol).pipe(remove_columns)"
   ]
  },
  {
   "cell_type": "code",
   "execution_count": 16,
   "id": "b58f3c33",
   "metadata": {},
   "outputs": [],
   "source": [
    "# df_GoogleHangout_Chat = df_GoogleHangout_Chat.pipe(remove_ip,\"192.168|172.217|216.58\").pipe(final_remove)"
   ]
  },
  {
   "cell_type": "code",
   "execution_count": 17,
   "id": "e668f22c",
   "metadata": {},
   "outputs": [],
   "source": [
    "# df_GoogleHangout_Chat.to_csv(\n",
    "#     \"GQUIC_csv/df_GoogleHangout_Chat.csv\", index=False)\n",
    "# del df_GoogleHangout_Chat\n"
   ]
  },
  {
   "cell_type": "markdown",
   "id": "12724525",
   "metadata": {},
   "source": [
    "# Youtube"
   ]
  },
  {
   "cell_type": "code",
   "execution_count": 17,
   "id": "38f77dad",
   "metadata": {},
   "outputs": [],
   "source": [
    "# get your working directory and target folder that contains all your files\n",
    "path = os.path.join(os.getcwd(), 'csv/gquic/Youtube')\n",
    "\n",
    "files = [os.path.join(path, i) for i in os.listdir(\n",
    "    path) if os.path.isfile(os.path.join(path, i))]\n",
    "\n",
    "df_Youtube = pd.DataFrame()\n",
    "\n",
    "# for every file in folder, read it and append to a empty dataframe with column filename as 'Label'\n",
    "for file in files:\n",
    "    _df_Youtube = pd.read_csv(file, engine='pyarrow')\n",
    "    # print(file)\n",
    "    file_name = file.split('/')\n",
    "    _df_Youtube['File_name'] = file_name[-1]\n",
    "    _df_Youtube['Label'] = \"Youtube\"\n",
    "    df_Youtube = pd.concat([df_Youtube,_df_Youtube])\n",
    "del _df_Youtube"
   ]
  },
  {
   "cell_type": "code",
   "execution_count": 18,
   "id": "22aa7725",
   "metadata": {},
   "outputs": [
    {
     "data": {
      "text/plain": [
       "192.168.0.107      144515\n",
       "192.168.10.31      105741\n",
       "192.168.10.35       72660\n",
       "172.217.161.162     17160\n",
       "216.58.220.194      14629\n",
       "216.58.197.98       14368\n",
       "172.217.31.226      14243\n",
       "172.217.161.161      9510\n",
       "216.58.197.100       9104\n",
       "216.58.197.99        8552\n",
       "Name: ip_src, dtype: int64"
      ]
     },
     "execution_count": 18,
     "metadata": {},
     "output_type": "execute_result"
    }
   ],
   "source": [
    "df_Youtube['ip_src'].value_counts().nlargest(10)"
   ]
  },
  {
   "cell_type": "code",
   "execution_count": 19,
   "id": "1c4dcdef",
   "metadata": {},
   "outputs": [
    {
     "data": {
      "text/plain": [
       "192.168.0.107      182087\n",
       "192.168.10.31      132942\n",
       "192.168.10.35       98995\n",
       "172.217.161.162     16108\n",
       "172.217.31.226      13551\n",
       "216.58.197.98       13444\n",
       "216.58.220.194      12560\n",
       "172.217.24.194       7723\n",
       "216.58.200.2         7648\n",
       "216.58.197.99        7254\n",
       "Name: ip_dst, dtype: int64"
      ]
     },
     "execution_count": 19,
     "metadata": {},
     "output_type": "execute_result"
    }
   ],
   "source": [
    "df_Youtube['ip_dst'].value_counts().nlargest(10)"
   ]
  },
  {
   "cell_type": "code",
   "execution_count": 19,
   "id": "8af25270",
   "metadata": {},
   "outputs": [],
   "source": [
    "# df_Youtube = df_Youtube.pipe(remove_protocol).pipe(remove_columns)\n",
    "# df_Youtube = df_Youtube.pipe(remove_ip,\"192.168|172.217|216.58\").pipe(final_remove)"
   ]
  },
  {
   "cell_type": "code",
   "execution_count": null,
   "id": "448c2894",
   "metadata": {},
   "outputs": [],
   "source": [
    "# df_Youtube.to_csv(\n",
    "#     \"GQUIC_csv/df_Youtube.csv\", index=False)\n"
   ]
  },
  {
   "cell_type": "code",
   "execution_count": 20,
   "id": "1f3ae996",
   "metadata": {},
   "outputs": [],
   "source": [
    "del df_Youtube"
   ]
  },
  {
   "cell_type": "markdown",
   "id": "38a5052b",
   "metadata": {},
   "source": [
    "# Final"
   ]
  },
  {
   "cell_type": "code",
   "execution_count": 4,
   "id": "4740d621",
   "metadata": {},
   "outputs": [],
   "source": [
    "path = os.path.join(os.getcwd(),  '/home/onos/FL/Data Processing/GQUIC_csv')\n",
    "all_files = glob.glob(os.path.join(path, \"*.csv\"))\n",
    "df_GQUIC = pd.concat((pd.read_csv(f,engine='pyarrow') for f in all_files), ignore_index=True)\n"
   ]
  },
  {
   "cell_type": "code",
   "execution_count": null,
   "id": "163cb51d",
   "metadata": {},
   "outputs": [],
   "source": [
    "# remove_rows = df_GQUIC[(df_GQUIC['Label'] == 'GoogleHangout_Chat') | (\n",
    "#     df_GQUIC['Label'] == 'GoogleHangout_VoIP')].index\n",
    "# df_GQUIC.drop(remove_rows, inplace=True)\n"
   ]
  },
  {
   "cell_type": "code",
   "execution_count": null,
   "id": "520aece4",
   "metadata": {},
   "outputs": [],
   "source": [
    "# import matplotlib.pyplot as plt\n"
   ]
  },
  {
   "cell_type": "code",
   "execution_count": null,
   "id": "04399ef4",
   "metadata": {},
   "outputs": [],
   "source": [
    "# fig = plt.figure(figsize=(10, 6))\n",
    "# fig.suptitle(\"Thống kê nhãn trên tập GQUIC\")\n",
    "# df_GQUIC.Label.value_counts().plot(kind=\"barh\")\n",
    "# plt.savefig('image/GQUIC_label.png')\n"
   ]
  },
  {
   "cell_type": "code",
   "execution_count": null,
   "id": "b7899244",
   "metadata": {},
   "outputs": [],
   "source": [
    "# df_GQUIC.Label.value_counts()\n"
   ]
  },
  {
   "cell_type": "code",
   "execution_count": null,
   "id": "50f9a2b1",
   "metadata": {},
   "outputs": [],
   "source": [
    "# (df_GQUIC.Label.value_counts()/20).round(0)"
   ]
  },
  {
   "cell_type": "code",
   "execution_count": null,
   "id": "672bf6ae",
   "metadata": {},
   "outputs": [],
   "source": [
    "# fig = plt.figure(figsize=(10, 6))\n",
    "# fig.suptitle(\"Thống kê nhãn trên tập GQUIC theo flow\")\n",
    "# (df_GQUIC.Label.value_counts()/20).round(0).plot(kind=\"barh\")\n",
    "# plt.savefig('image/GQUIC_label_flow.png')"
   ]
  },
  {
   "cell_type": "code",
   "execution_count": null,
   "id": "ebf06b43",
   "metadata": {},
   "outputs": [],
   "source": [
    "# df_GQUIC_small = df_GQUIC.sample(n=100)\n",
    "# df_GQUIC_small.to_csv(\"GQUIC_data_small.csv\", index=False)\n"
   ]
  },
  {
   "cell_type": "code",
   "execution_count": null,
   "id": "4d0a6f9c",
   "metadata": {},
   "outputs": [],
   "source": [
    "# df_GQUIC.head()"
   ]
  },
  {
   "cell_type": "code",
   "execution_count": null,
   "id": "429d8c5c",
   "metadata": {},
   "outputs": [],
   "source": [
    "# df_GQUIC[df_GQUIC['stream_id']==3]['File_name'].value_counts()"
   ]
  },
  {
   "cell_type": "code",
   "execution_count": 5,
   "id": "ebb74731",
   "metadata": {},
   "outputs": [],
   "source": [
    "df_sorted = df_GQUIC.sort_values(['stream_id', 'File_name'])\n",
    "df_sorted['flow_id'] = (df_sorted.groupby(['stream_id', 'File_name']).cumcount()==0).astype(int)\n",
    "\n",
    "df_sorted['flow_id'] = df_sorted['flow_id'].cumsum()"
   ]
  },
  {
   "cell_type": "code",
   "execution_count": null,
   "id": "178ef6a0",
   "metadata": {},
   "outputs": [],
   "source": [
    "# def most_frequent(List):\n",
    "#     return max(set(List), key = List.count)"
   ]
  },
  {
   "cell_type": "code",
   "execution_count": null,
   "id": "3e7c4d7d",
   "metadata": {},
   "outputs": [],
   "source": [
    "# result=df_sorted.groupby('flow_id')['Label'].apply(list).to_dict()\n",
    "# flow_label = []\n",
    "# for flow in result:\n",
    "#     flow_label.append(most_frequent(result[flow]))"
   ]
  },
  {
   "cell_type": "code",
   "execution_count": 6,
   "id": "98c4ea8f",
   "metadata": {},
   "outputs": [
    {
     "data": {
      "text/plain": [
       "83439"
      ]
     },
     "execution_count": 6,
     "metadata": {},
     "output_type": "execute_result"
    }
   ],
   "source": [
    "df_sorted['flow_id'].nunique()"
   ]
  },
  {
   "cell_type": "code",
   "execution_count": null,
   "id": "05c0a18a",
   "metadata": {},
   "outputs": [],
   "source": [
    "df_sorted = (df_sorted.pipe(label_encoding, ['Label']).pipe(data_scale))"
   ]
  },
  {
   "cell_type": "code",
   "execution_count": 7,
   "id": "2f8a74ff",
   "metadata": {},
   "outputs": [
    {
     "ename": "ValueError",
     "evalue": "The least populated class in y has only 1 member, which is too few. The minimum number of groups for any class cannot be less than 2.",
     "output_type": "error",
     "traceback": [
      "\u001b[0;31m---------------------------------------------------------------------------\u001b[0m",
      "\u001b[0;31mValueError\u001b[0m                                Traceback (most recent call last)",
      "Cell \u001b[0;32mIn [7], line 3\u001b[0m\n\u001b[1;32m      1\u001b[0m \u001b[39mfrom\u001b[39;00m \u001b[39msklearn\u001b[39;00m\u001b[39m.\u001b[39;00m\u001b[39mmodel_selection\u001b[39;00m \u001b[39mimport\u001b[39;00m train_test_split\n\u001b[0;32m----> 3\u001b[0m train, test_case \u001b[39m=\u001b[39m train_test_split(df_sorted, test_size\u001b[39m=\u001b[39;49m\u001b[39m0.2\u001b[39;49m, stratify\u001b[39m=\u001b[39;49mdf_sorted[\u001b[39m'\u001b[39;49m\u001b[39mflow_id\u001b[39;49m\u001b[39m'\u001b[39;49m])\n\u001b[1;32m      5\u001b[0m train \u001b[39m=\u001b[39m train\u001b[39m.\u001b[39mdrop([\u001b[39m'\u001b[39m\u001b[39mtime_epoch\u001b[39m\u001b[39m'\u001b[39m, \u001b[39m'\u001b[39m\u001b[39mframe_number\u001b[39m\u001b[39m'\u001b[39m, \u001b[39m'\u001b[39m\u001b[39mFile_name\u001b[39m\u001b[39m'\u001b[39m,\u001b[39m'\u001b[39m\u001b[39mstream_id\u001b[39m\u001b[39m'\u001b[39m],axis\u001b[39m=\u001b[39m\u001b[39m1\u001b[39m)\n\u001b[1;32m      6\u001b[0m train, test \u001b[39m=\u001b[39m train_test_split(train, test_size\u001b[39m=\u001b[39m\u001b[39m0.2\u001b[39m)\n",
      "File \u001b[0;32m~/FL/venv/lib/python3.9/site-packages/sklearn/model_selection/_split.py:2441\u001b[0m, in \u001b[0;36mtrain_test_split\u001b[0;34m(test_size, train_size, random_state, shuffle, stratify, *arrays)\u001b[0m\n\u001b[1;32m   2437\u001b[0m         CVClass \u001b[39m=\u001b[39m ShuffleSplit\n\u001b[1;32m   2439\u001b[0m     cv \u001b[39m=\u001b[39m CVClass(test_size\u001b[39m=\u001b[39mn_test, train_size\u001b[39m=\u001b[39mn_train, random_state\u001b[39m=\u001b[39mrandom_state)\n\u001b[0;32m-> 2441\u001b[0m     train, test \u001b[39m=\u001b[39m \u001b[39mnext\u001b[39;49m(cv\u001b[39m.\u001b[39;49msplit(X\u001b[39m=\u001b[39;49marrays[\u001b[39m0\u001b[39;49m], y\u001b[39m=\u001b[39;49mstratify))\n\u001b[1;32m   2443\u001b[0m \u001b[39mreturn\u001b[39;00m \u001b[39mlist\u001b[39m(\n\u001b[1;32m   2444\u001b[0m     chain\u001b[39m.\u001b[39mfrom_iterable(\n\u001b[1;32m   2445\u001b[0m         (_safe_indexing(a, train), _safe_indexing(a, test)) \u001b[39mfor\u001b[39;00m a \u001b[39min\u001b[39;00m arrays\n\u001b[1;32m   2446\u001b[0m     )\n\u001b[1;32m   2447\u001b[0m )\n",
      "File \u001b[0;32m~/FL/venv/lib/python3.9/site-packages/sklearn/model_selection/_split.py:1600\u001b[0m, in \u001b[0;36mBaseShuffleSplit.split\u001b[0;34m(self, X, y, groups)\u001b[0m\n\u001b[1;32m   1570\u001b[0m \u001b[39m\"\"\"Generate indices to split data into training and test set.\u001b[39;00m\n\u001b[1;32m   1571\u001b[0m \n\u001b[1;32m   1572\u001b[0m \u001b[39mParameters\u001b[39;00m\n\u001b[0;32m   (...)\u001b[0m\n\u001b[1;32m   1597\u001b[0m \u001b[39mto an integer.\u001b[39;00m\n\u001b[1;32m   1598\u001b[0m \u001b[39m\"\"\"\u001b[39;00m\n\u001b[1;32m   1599\u001b[0m X, y, groups \u001b[39m=\u001b[39m indexable(X, y, groups)\n\u001b[0;32m-> 1600\u001b[0m \u001b[39mfor\u001b[39;00m train, test \u001b[39min\u001b[39;00m \u001b[39mself\u001b[39m\u001b[39m.\u001b[39m_iter_indices(X, y, groups):\n\u001b[1;32m   1601\u001b[0m     \u001b[39myield\u001b[39;00m train, test\n",
      "File \u001b[0;32m~/FL/venv/lib/python3.9/site-packages/sklearn/model_selection/_split.py:1940\u001b[0m, in \u001b[0;36mStratifiedShuffleSplit._iter_indices\u001b[0;34m(self, X, y, groups)\u001b[0m\n\u001b[1;32m   1938\u001b[0m class_counts \u001b[39m=\u001b[39m np\u001b[39m.\u001b[39mbincount(y_indices)\n\u001b[1;32m   1939\u001b[0m \u001b[39mif\u001b[39;00m np\u001b[39m.\u001b[39mmin(class_counts) \u001b[39m<\u001b[39m \u001b[39m2\u001b[39m:\n\u001b[0;32m-> 1940\u001b[0m     \u001b[39mraise\u001b[39;00m \u001b[39mValueError\u001b[39;00m(\n\u001b[1;32m   1941\u001b[0m         \u001b[39m\"\u001b[39m\u001b[39mThe least populated class in y has only 1\u001b[39m\u001b[39m\"\u001b[39m\n\u001b[1;32m   1942\u001b[0m         \u001b[39m\"\u001b[39m\u001b[39m member, which is too few. The minimum\u001b[39m\u001b[39m\"\u001b[39m\n\u001b[1;32m   1943\u001b[0m         \u001b[39m\"\u001b[39m\u001b[39m number of groups for any class cannot\u001b[39m\u001b[39m\"\u001b[39m\n\u001b[1;32m   1944\u001b[0m         \u001b[39m\"\u001b[39m\u001b[39m be less than 2.\u001b[39m\u001b[39m\"\u001b[39m\n\u001b[1;32m   1945\u001b[0m     )\n\u001b[1;32m   1947\u001b[0m \u001b[39mif\u001b[39;00m n_train \u001b[39m<\u001b[39m n_classes:\n\u001b[1;32m   1948\u001b[0m     \u001b[39mraise\u001b[39;00m \u001b[39mValueError\u001b[39;00m(\n\u001b[1;32m   1949\u001b[0m         \u001b[39m\"\u001b[39m\u001b[39mThe train_size = \u001b[39m\u001b[39m%d\u001b[39;00m\u001b[39m should be greater or \u001b[39m\u001b[39m\"\u001b[39m\n\u001b[1;32m   1950\u001b[0m         \u001b[39m\"\u001b[39m\u001b[39mequal to the number of classes = \u001b[39m\u001b[39m%d\u001b[39;00m\u001b[39m\"\u001b[39m \u001b[39m%\u001b[39m (n_train, n_classes)\n\u001b[1;32m   1951\u001b[0m     )\n",
      "\u001b[0;31mValueError\u001b[0m: The least populated class in y has only 1 member, which is too few. The minimum number of groups for any class cannot be less than 2."
     ]
    }
   ],
   "source": [
    "from sklearn.model_selection import train_test_split\n",
    "\n",
    "train, test_case = train_test_split(df_sorted, test_size=0.2, stratify=df_sorted['flow_id'])\n",
    "\n",
    "train = train.drop(['time_epoch', 'frame_number', 'File_name','stream_id'],axis=1)\n",
    "train, test = train_test_split(train, test_size=0.2)\n",
    "train = train.drop(['flow_id'],axis=1)\n",
    "\n",
    "train.to_csv(\"GQUIC_data.csv\", index=False)\n",
    "\n",
    "test = test.sort_values(['flow_id'])\n",
    "test.to_csv(\"GQUIC_test.csv\", index=False)"
   ]
  },
  {
   "cell_type": "code",
   "execution_count": null,
   "id": "42d91937",
   "metadata": {},
   "outputs": [],
   "source": []
  },
  {
   "cell_type": "code",
   "execution_count": null,
   "id": "dd4183a1",
   "metadata": {},
   "outputs": [],
   "source": [
    "first_column = test.pop('flow_id')\n",
    "test.insert(0, 'flow_id', first_column)"
   ]
  },
  {
   "cell_type": "code",
   "execution_count": null,
   "id": "f6518ab9",
   "metadata": {},
   "outputs": [],
   "source": [
    "data_bytes = ['9','31','63','127','255','511','1023']"
   ]
  },
  {
   "cell_type": "code",
   "execution_count": null,
   "id": "cbfec554",
   "metadata": {},
   "outputs": [],
   "source": [
    "for each_byte in data_bytes:\n",
    "    data_train = pd.concat([train.loc[:, : each_byte],train.iloc[:,-1:]],axis=1)\n",
    "    data_test = pd.concat([test.loc[:, : each_byte ],test.iloc[:,-1:]],axis=1)\n",
    "    each_byte = str(int(each_byte)+1)\n",
    "    data_train_name = \"GQUIC_data_\" + each_byte +\".csv\"\n",
    "    data_test_name = \"GQUIC_test_\" + each_byte +\".csv\"\n",
    "    data_train.to_csv(data_train_name,index=False)\n",
    "    data_test.to_csv(data_test_name,index=False)"
   ]
  },
  {
   "cell_type": "code",
   "execution_count": null,
   "id": "c9a6bfd1",
   "metadata": {},
   "outputs": [
    {
     "name": "stdout",
     "output_type": "stream",
     "text": [
      "Adding data from 0 to 53306 for client : client_1\n",
      "Adding data from 53306 to 106612 for client : client_2\n",
      "Adding data from 106612 to 159918 for client : client_3\n",
      "Adding data from 159918 to 213224 for client : client_4\n",
      "Adding data from 213224 to 266530 for client : client_5\n"
     ]
    }
   ],
   "source": [
    "test_case = test_case[['time_epoch', 'frame_number', 'stream_id', 'length', 'Label', 'File_name', 'flow_id']]\n",
    "split = 5\n",
    "total_data_count = test_case.shape[0]\n",
    "data_per_set = int(np.floor(total_data_count/split))\n",
    "DataFrameDict = {}\n",
    "for i in range(1, split+1):\n",
    "    client_name = \"client_\" + str(i)\n",
    "    start = data_per_set * (i-1)\n",
    "    end = data_per_set * i\n",
    "\n",
    "    print(f\"Adding data from {start} to {end} for client : {client_name}\")\n",
    "    DataFrameDict[client_name] = test_case[start:end]\n",
    "for df in DataFrameDict.keys():\n",
    "    csv_path = \"gquic_test_case/\"+df + \".csv\"\n",
    "    DataFrameDict[df].to_csv(csv_path,index=False)"
   ]
  },
  {
   "cell_type": "code",
   "execution_count": null,
   "id": "21aeb359",
   "metadata": {},
   "outputs": [],
   "source": [
    "# train.to_csv(\"GQUIC_data.csv\", index=False)\n",
    "# test.to_csv(\"GQUIC_data_test.csv\",index=False)\n"
   ]
  },
  {
   "cell_type": "code",
   "execution_count": null,
   "id": "6d9dea2e",
   "metadata": {},
   "outputs": [],
   "source": [
    "# train.to_csv('GQUIC_data_2label.csv', index=False)\n",
    "# test.to_csv('GQUIC_test_2label.csv', index=False)\n"
   ]
  },
  {
   "cell_type": "code",
   "execution_count": null,
   "id": "43d45486",
   "metadata": {},
   "outputs": [],
   "source": [
    "# index = 0\n",
    "# with pd.read_csv(\"GQUIC_data.csv\", chunksize=1000000) as reader:\n",
    "#     for data in reader:\n",
    "#         path = '/home/onos/FL/Data Processing/GQUIC_arrow/GQUIC_data({}).arrow'.format(index)\n",
    "#         feather.write_feather(data, path)\n",
    "#         index += 1\n"
   ]
  },
  {
   "cell_type": "code",
   "execution_count": null,
   "id": "f56476ef",
   "metadata": {},
   "outputs": [],
   "source": [
    "# df_GQUIC.info()\n",
    "# df_GQUIC.head(2)\n",
    "# df_GQUIC = df_GQUIC.astype('float16')\n",
    "# df_GQUIC.head(2)\n"
   ]
  },
  {
   "cell_type": "code",
   "execution_count": null,
   "id": "23439818",
   "metadata": {},
   "outputs": [],
   "source": [
    "# df_GQUIC.info()\n"
   ]
  },
  {
   "cell_type": "code",
   "execution_count": null,
   "id": "ea03c708",
   "metadata": {},
   "outputs": [],
   "source": [
    "# df_GQUIC[\"Label\"] = df_GQUIC[\"Label\"].astype(\"int8\")\n"
   ]
  },
  {
   "cell_type": "code",
   "execution_count": null,
   "id": "36f18859",
   "metadata": {},
   "outputs": [],
   "source": [
    "# df_GQUIC.info()\n"
   ]
  },
  {
   "cell_type": "code",
   "execution_count": null,
   "id": "78141992",
   "metadata": {},
   "outputs": [],
   "source": [
    "# df = pd.read_csv(\"iris.csv\")\n"
   ]
  },
  {
   "cell_type": "code",
   "execution_count": null,
   "id": "e43ac82e",
   "metadata": {},
   "outputs": [],
   "source": [
    "# df.info()\n"
   ]
  },
  {
   "cell_type": "code",
   "execution_count": null,
   "id": "8292e8c4",
   "metadata": {},
   "outputs": [],
   "source": [
    "# df = (df.pipe(label_encoding, ['variety']))\n"
   ]
  },
  {
   "cell_type": "code",
   "execution_count": null,
   "id": "0b7b38fe",
   "metadata": {},
   "outputs": [],
   "source": [
    "# df.info()\n"
   ]
  },
  {
   "cell_type": "code",
   "execution_count": null,
   "id": "1b71c975",
   "metadata": {},
   "outputs": [],
   "source": [
    "# df.to_csv(\"iris.csv\")\n"
   ]
  }
 ],
 "metadata": {
  "kernelspec": {
   "display_name": "venv",
   "language": "python",
   "name": "python3"
  },
  "language_info": {
   "codemirror_mode": {
    "name": "ipython",
    "version": 3
   },
   "file_extension": ".py",
   "mimetype": "text/x-python",
   "name": "python",
   "nbconvert_exporter": "python",
   "pygments_lexer": "ipython3",
   "version": "3.9.14 (main, Sep 18 2022, 16:34:37) \n[GCC 7.5.0]"
  },
  "latex_envs": {
   "LaTeX_envs_menu_present": true,
   "autoclose": false,
   "autocomplete": true,
   "bibliofile": "biblio.bib",
   "cite_by": "apalike",
   "current_citInitial": 1,
   "eqLabelWithNumbers": true,
   "eqNumInitial": 1,
   "hotkeys": {
    "equation": "Ctrl-E",
    "itemize": "Ctrl-I"
   },
   "labels_anchors": false,
   "latex_user_defs": false,
   "report_style_numbering": false,
   "user_envs_cfg": false
  },
  "toc": {
   "base_numbering": 1,
   "nav_menu": {},
   "number_sections": true,
   "sideBar": true,
   "skip_h1_title": false,
   "title_cell": "Table of Contents",
   "title_sidebar": "Contents",
   "toc_cell": false,
   "toc_position": {},
   "toc_section_display": true,
   "toc_window_display": false
  },
  "vscode": {
   "interpreter": {
    "hash": "addd2fdd290c7c34336629330a81969ca1164c4689498c0841c953bddca49006"
   }
  }
 },
 "nbformat": 4,
 "nbformat_minor": 5
}
