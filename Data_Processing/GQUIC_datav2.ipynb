{
 "cells": [
  {
   "cell_type": "code",
   "execution_count": 71,
   "id": "56ec2009",
   "metadata": {},
   "outputs": [],
   "source": [
    "import os\n",
    "import pandas as pd\n",
    "import numpy as np\n",
    "import glob\n",
    "import pyarrow.feather as feather\n",
    "from pyarrow import csv\n",
    "import random\n",
    "\n",
    "from sklearn import preprocessing\n",
    "le = preprocessing.LabelEncoder()\n",
    "scale = preprocessing.MinMaxScaler()\n",
    "pd.set_option(\"display.max_rows\", None)\n",
    "\n",
    "\n",
    "def train_test_split(df, frac=0.2):\n",
    "    selected = df['flow_id'].drop_duplicates().sample(frac=frac)\n",
    "    test = df[df['flow_id'].isin(selected)]\n",
    "    train = df[~df['flow_id'].isin(selected)]\n",
    "    return train, test\n",
    "\n",
    "\n",
    "def label_encoding(df, columns_list):\n",
    "    for col in columns_list:\n",
    "        df[col] = le.fit_transform(df[col])\n",
    "        le_name_mapping = dict(zip(le.classes_, le.transform(le.classes_)))\n",
    "        with open('Label_mapping_GQUIC.txt', 'a') as data:\n",
    "            data.write(col+\": \"+str(le_name_mapping) + \"\\n\")\n",
    "    return df\n",
    "\n",
    "\n",
    "def index_reset(df):\n",
    "    return pd.RangeIndex(len(df.index))\n",
    "\n",
    "\n",
    "def data_scale(df):\n",
    "    df.loc[:, '0': '1459'] = df.loc[:, '0': '1459'].div(255)\n",
    "    # df[['length']] = scale.fit_transform(\n",
    "    #     df[['length']])\n",
    "    return df\n",
    "\n",
    "\n",
    "def remove_protocol(df):\n",
    "    df = df.loc[(df['protocol'] == 'GQUIC')]\n",
    "    return df\n",
    "\n",
    "\n",
    "def remove_columns(df):\n",
    "    df = df.drop(['ip_proto', 'data', 'length'], axis=1)\n",
    "    return df\n",
    "\n",
    "\n",
    "def final_remove(df):\n",
    "    df = df.drop(['ip_src', 'ip_dst', 'protocol', 'info'], axis=1)\n",
    "    return df\n",
    "\n",
    "def get_static(df):\n",
    "    for col in ['A->B', 'B->A','total']:\n",
    "        print(\"Cột {}: \".format(col))\n",
    "        for num in [1000,550,500,450,100]:\n",
    "            total_flow = df.shape[0]\n",
    "            count = df[col][df[col] < num].count()\n",
    "            remain = total_flow - count\n",
    "            percent = round((count/float(df.shape[0])) * 100,2)\n",
    "            print(\"<{} chiếm {}% ({}/{}) con lai {})\".format(num,percent,count,df.shape[0],remain))"
   ]
  },
  {
   "cell_type": "markdown",
   "id": "1380d87c",
   "metadata": {},
   "source": [
    "# VoIP"
   ]
  },
  {
   "cell_type": "code",
   "execution_count": 2,
   "id": "48259186",
   "metadata": {},
   "outputs": [],
   "source": [
    "# get your working directory and target folder that contains all your files\n",
    "path = os.path.join(os.getcwd(), 'rawds-summary/rawds/NetFlow-QUIC1/Summary/GoogleHangout_VoIP')\n",
    "\n",
    "files = [os.path.join(path, i) for i in os.listdir(\n",
    "    path) if os.path.isfile(os.path.join(path, i))]\n",
    "\n",
    "df_GoogleHangout_VoIP = pd.DataFrame()\n",
    "\n",
    "# for every file in folder, read it and append to a empty dataframe with column filename as 'Label'\n",
    "for file in files:\n",
    "    _df_GoogleHangout_VoIP = pd.read_csv(\n",
    "        file, engine='pyarrow')\n",
    "    _df_GoogleHangout_VoIP['Label'] = \"GoogleHangout_VoIP\"\n",
    "    file_name = file.split('/')\n",
    "    _df_GoogleHangout_VoIP['File_name'] = file_name[-1]\n",
    "    df_GoogleHangout_VoIP = pd.concat(\n",
    "        [df_GoogleHangout_VoIP, _df_GoogleHangout_VoIP], ignore_index=True)\n",
    "del _df_GoogleHangout_VoIP\n"
   ]
  },
  {
   "cell_type": "code",
   "execution_count": 10,
   "id": "8d59cfdf",
   "metadata": {},
   "outputs": [
    {
     "data": {
      "text/plain": [
       "Index(['l4_proto', 'stream_id', 'A->B', 'B->A', 'total', 'Label', 'File_name'], dtype='object')"
      ]
     },
     "execution_count": 10,
     "metadata": {},
     "output_type": "execute_result"
    }
   ],
   "source": [
    "df_GoogleHangout_VoIP.columns"
   ]
  },
  {
   "cell_type": "code",
   "execution_count": 6,
   "id": "54666d10",
   "metadata": {},
   "outputs": [
    {
     "data": {
      "text/plain": [
       "(73303, 7)"
      ]
     },
     "execution_count": 6,
     "metadata": {},
     "output_type": "execute_result"
    }
   ],
   "source": [
    "df_GoogleHangout_VoIP.shape"
   ]
  },
  {
   "cell_type": "code",
   "execution_count": 51,
   "id": "c40f05d8",
   "metadata": {},
   "outputs": [],
   "source": [
    "test_column = df_GoogleHangout_VoIP['total']"
   ]
  },
  {
   "cell_type": "code",
   "execution_count": 9,
   "id": "1791f65e",
   "metadata": {},
   "outputs": [],
   "source": [
    "total_rows = df_GoogleHangout_VoIP.shape[0]"
   ]
  },
  {
   "cell_type": "code",
   "execution_count": 72,
   "id": "b2421ff5",
   "metadata": {},
   "outputs": [
    {
     "name": "stdout",
     "output_type": "stream",
     "text": [
      "Cột A->B: \n",
      "<1000 chiếm 97.27% (71301/73303) con lai 2002)\n",
      "<550 chiếm 97.21% (71258/73303) con lai 2045)\n",
      "<500 chiếm 97.18% (71238/73303) con lai 2065)\n",
      "<450 chiếm 97.17% (71227/73303) con lai 2076)\n",
      "<100 chiếm 92.52% (67820/73303) con lai 5483)\n",
      "Cột B->A: \n",
      "<1000 chiếm 99.81% (73162/73303) con lai 141)\n",
      "<550 chiếm 98.32% (72069/73303) con lai 1234)\n",
      "<500 chiếm 98.26% (72026/73303) con lai 1277)\n",
      "<450 chiếm 98.18% (71971/73303) con lai 1332)\n",
      "<100 chiếm 93.79% (68754/73303) con lai 4549)\n",
      "Cột total: \n",
      "<1000 chiếm 97.17% (71225/73303) con lai 2078)\n",
      "<550 chiếm 96.25% (70554/73303) con lai 2749)\n",
      "<500 chiếm 96.15% (70480/73303) con lai 2823)\n",
      "<450 chiếm 96.07% (70421/73303) con lai 2882)\n",
      "<100 chiếm 86.4% (63334/73303) con lai 9969)\n"
     ]
    }
   ],
   "source": [
    "get_static(df_GoogleHangout_VoIP)"
   ]
  },
  {
   "cell_type": "code",
   "execution_count": 7,
   "id": "b16088e3",
   "metadata": {},
   "outputs": [
    {
     "data": {
      "text/plain": [
       "70480"
      ]
     },
     "execution_count": 7,
     "metadata": {},
     "output_type": "execute_result"
    }
   ],
   "source": [
    "df_GoogleHangout_VoIP['total'][df_GoogleHangout_VoIP['total'] < 500].count()"
   ]
  },
  {
   "cell_type": "code",
   "execution_count": 58,
   "id": "4a003789",
   "metadata": {},
   "outputs": [
    {
     "data": {
      "text/plain": [
       "2078"
      ]
     },
     "execution_count": 58,
     "metadata": {},
     "output_type": "execute_result"
    }
   ],
   "source": [
    "df_GoogleHangout_VoIP['total'][df_GoogleHangout_VoIP['total'] > 1000].count()"
   ]
  },
  {
   "cell_type": "code",
   "execution_count": null,
   "id": "9acbe80b",
   "metadata": {},
   "outputs": [],
   "source": []
  },
  {
   "cell_type": "code",
   "execution_count": null,
   "id": "57c9a421",
   "metadata": {},
   "outputs": [],
   "source": [
    "df_GoogleHangout_VoIP = (df_GoogleHangout_VoIP.pipe(remove_columns).pipe(final_remove))"
   ]
  },
  {
   "cell_type": "code",
   "execution_count": null,
   "id": "07585831",
   "metadata": {},
   "outputs": [],
   "source": [
    "df_GoogleHangout_VoIP.to_csv(\n",
    "    \"GQUIC_csv/df_GoogleHangout_VoIP.csv\", index=False)\n",
    "del df_GoogleHangout_VoIP\n"
   ]
  },
  {
   "cell_type": "markdown",
   "id": "47922dc7",
   "metadata": {},
   "source": [
    "# Music"
   ]
  },
  {
   "cell_type": "code",
   "execution_count": 42,
   "id": "7b28754a",
   "metadata": {},
   "outputs": [],
   "source": [
    "# get your working directory and target folder that contains all your files\n",
    "path = os.path.join(os.getcwd(), 'rawds-summary/rawds/NetFlow-QUIC1/Summary/Google_PlayMusic')\n",
    "\n",
    "files = [os.path.join(path, i) for i in os.listdir(\n",
    "    path) if os.path.isfile(os.path.join(path, i))]\n",
    "\n",
    "df_Google_PlayMusic = pd.DataFrame()\n",
    "\n",
    "# for every file in folder, read it and append to a empty dataframe with column filename as 'Label'\n",
    "for file in files:\n",
    "    _df_Google_PlayMusic = pd.read_csv(\n",
    "        file, engine='pyarrow')\n",
    "    # print(file)\n",
    "    _df_Google_PlayMusic['Label'] = \"Google_PlayMusic\"\n",
    "    file_name = file.split('/')\n",
    "    _df_Google_PlayMusic['File_name'] = file_name[-1]\n",
    "    df_Google_PlayMusic = pd.concat(\n",
    "        [df_Google_PlayMusic, _df_Google_PlayMusic])\n",
    "del _df_Google_PlayMusic\n"
   ]
  },
  {
   "cell_type": "code",
   "execution_count": 70,
   "id": "3ec5ce20",
   "metadata": {},
   "outputs": [
    {
     "name": "stdout",
     "output_type": "stream",
     "text": [
      "Cột A->B: \n",
      "<1000 chiếm 90.24% (33306/36909) con lai 3603)\n",
      "<550 chiếm 89.17% (32911/36909) con lai 3998)\n",
      "<500 chiếm 89.11% (32888/36909) con lai 4021)\n",
      "<100 chiếm 87.34% (32238/36909) con lai 4671)\n",
      "Cột B->A: \n",
      "<1000 chiếm 98.91% (36506/36909) con lai 403)\n",
      "<550 chiếm 95.21% (35142/36909) con lai 1767)\n",
      "<500 chiếm 94.3% (34807/36909) con lai 2102)\n",
      "<100 chiếm 88.38% (32622/36909) con lai 4287)\n",
      "Cột total: \n",
      "<1000 chiếm 90.05% (33236/36909) con lai 3673)\n",
      "<550 chiếm 88.69% (32736/36909) con lai 4173)\n",
      "<500 chiếm 88.19% (32551/36909) con lai 4358)\n",
      "<100 chiếm 86.54% (31940/36909) con lai 4969)\n"
     ]
    }
   ],
   "source": [
    "get_static(df_Google_PlayMusic)"
   ]
  },
  {
   "cell_type": "code",
   "execution_count": null,
   "id": "daafb1d4",
   "metadata": {},
   "outputs": [],
   "source": [
    "df_Google_PlayMusic = (df_Google_PlayMusic.pipe(remove_columns).pipe(final_remove))"
   ]
  },
  {
   "cell_type": "code",
   "execution_count": null,
   "id": "df1885d3",
   "metadata": {},
   "outputs": [],
   "source": [
    "df_Google_PlayMusic.to_csv(\"GQUIC_csv/df_Google_PlayMusic.csv\", index=False)\n",
    "del df_Google_PlayMusic\n"
   ]
  },
  {
   "cell_type": "markdown",
   "id": "d6dc65d1",
   "metadata": {},
   "source": [
    "# File Transfer"
   ]
  },
  {
   "cell_type": "code",
   "execution_count": 24,
   "id": "c64b3efd",
   "metadata": {},
   "outputs": [],
   "source": [
    "# get your working directory and target folder that contains all your files\n",
    "path = os.path.join(os.getcwd(), 'rawds-summary/rawds/NetFlow-QUIC1/Summary/FileTransfer')\n",
    "\n",
    "files = [os.path.join(path, i) for i in os.listdir(\n",
    "    path) if os.path.isfile(os.path.join(path, i))]\n",
    "\n",
    "df_FileTransfer = pd.DataFrame()\n",
    "\n",
    "# for every file in folder, read it and append to a empty dataframe with column filename as 'Label'\n",
    "for file in files:\n",
    "    _df_FileTransfer = pd.read_csv(file, engine='pyarrow')\n",
    "    # print(file)\n",
    "    _df_FileTransfer['Label'] = \"FileTransfer\"\n",
    "    file_name = file.split('/')\n",
    "    _df_FileTransfer['File_name'] = file_name[-1]\n",
    "    df_FileTransfer = pd.concat([df_FileTransfer, _df_FileTransfer])\n",
    "del _df_FileTransfer\n"
   ]
  },
  {
   "cell_type": "code",
   "execution_count": 64,
   "id": "9de2e125",
   "metadata": {},
   "outputs": [
    {
     "name": "stdout",
     "output_type": "stream",
     "text": [
      "Cột A->B: \n",
      "<1000 chiếm 96.59% (4873/5045) con lai 172)\n",
      "<500 chiếm 88.68% (4474/5045) con lai 571)\n",
      "<100 chiếm 3.9% (197/5045) con lai 4848)\n",
      "Cột B->A: \n",
      "<1000 chiếm 99.31% (5010/5045) con lai 35)\n",
      "<500 chiếm 96.61% (4874/5045) con lai 171)\n",
      "<100 chiếm 4.62% (233/5045) con lai 4812)\n",
      "Cột total: \n",
      "<1000 chiếm 92.59% (4671/5045) con lai 374)\n",
      "<500 chiếm 11.77% (594/5045) con lai 4451)\n",
      "<100 chiếm 3.39% (171/5045) con lai 4874)\n"
     ]
    }
   ],
   "source": [
    "get_static(df_FileTransfer)"
   ]
  },
  {
   "cell_type": "code",
   "execution_count": null,
   "id": "618bd0d8",
   "metadata": {},
   "outputs": [],
   "source": [
    "df_FileTransfer = df_FileTransfer.pipe(remove_columns).pipe(final_remove)"
   ]
  },
  {
   "cell_type": "code",
   "execution_count": null,
   "id": "96e36640",
   "metadata": {},
   "outputs": [],
   "source": [
    "df_FileTransfer.to_csv(\"GQUIC_csv/df_FileTranfer.csv\", index=False)\n",
    "del df_FileTransfer\n"
   ]
  },
  {
   "cell_type": "markdown",
   "id": "34eafa46",
   "metadata": {},
   "source": [
    "# Chat"
   ]
  },
  {
   "cell_type": "code",
   "execution_count": null,
   "id": "dea42eb8",
   "metadata": {},
   "outputs": [],
   "source": [
    "# # get your working directory and target folder that contains all your files\n",
    "# path = os.path.join(os.getcwd(), 'csv/gquic/GoogleHangout_Chat')\n",
    "\n",
    "# files = [os.path.join(path, i) for i in os.listdir(\n",
    "#     path) if os.path.isfile(os.path.join(path, i))]\n",
    "\n",
    "# df_GoogleHangout_Chat = pd.DataFrame()\n",
    "\n",
    "# # for every file in folder, read it and append to a empty dataframe with column filename as 'Label'\n",
    "# for file in files:\n",
    "#     _df_GoogleHangout_Chat = pd.read_csv(file, engine='pyarrow')\n",
    "#     # print(file)\n",
    "#     _df_GoogleHangout_Chat['Label'] = \"GoogleHangout_Chat\"\n",
    "#     file_name = file.split('/')\n",
    "#     _df_GoogleHangout_Chat['File_name'] = file_name[-1]\n",
    "#     df_GoogleHangout_Chat = pd.concat([df_GoogleHangout_Chat,_df_GoogleHangout_Chat])\n",
    "# del _df_GoogleHangout_Chat\n"
   ]
  },
  {
   "cell_type": "code",
   "execution_count": null,
   "id": "b098f0c5",
   "metadata": {},
   "outputs": [],
   "source": [
    "# df_GoogleHangout_Chat = df_GoogleHangout_Chatpipe(remove_columns)"
   ]
  },
  {
   "cell_type": "code",
   "execution_count": null,
   "id": "b58f3c33",
   "metadata": {},
   "outputs": [],
   "source": [
    "# df_GoogleHangout_Chat = df_GoogleHangout_Chat.pipe(remove_ip,\"192.168|172.217|216.58\").pipe(final_remove)"
   ]
  },
  {
   "cell_type": "code",
   "execution_count": null,
   "id": "e668f22c",
   "metadata": {},
   "outputs": [],
   "source": [
    "# df_GoogleHangout_Chat.to_csv(\n",
    "#     \"GQUIC_csv/df_GoogleHangout_Chat.csv\", index=False)\n",
    "# del df_GoogleHangout_Chat\n"
   ]
  },
  {
   "cell_type": "markdown",
   "id": "12724525",
   "metadata": {},
   "source": [
    "# Youtube"
   ]
  },
  {
   "cell_type": "code",
   "execution_count": 49,
   "id": "38f77dad",
   "metadata": {},
   "outputs": [],
   "source": [
    "# get your working directory and target folder that contains all your files\n",
    "path = os.path.join(\n",
    "    os.getcwd(), 'rawds-summary/rawds/NetFlow-QUIC1/Summary/Youtube')\n",
    "\n",
    "files = [os.path.join(path, i) for i in os.listdir(\n",
    "    path) if os.path.isfile(os.path.join(path, i))]\n",
    "\n",
    "df_Youtube = pd.DataFrame()\n",
    "\n",
    "# for every file in folder, read it and append to a empty dataframe with column filename as 'Label'\n",
    "for file in files:\n",
    "    _df_Youtube = pd.read_csv(file, engine='pyarrow')\n",
    "    # print(file)\n",
    "    file_name = file.split('/')\n",
    "    _df_Youtube['File_name'] = file_name[-1]\n",
    "    _df_Youtube['Label'] = \"Youtube\"\n",
    "    df_Youtube = pd.concat([df_Youtube, _df_Youtube])\n",
    "del _df_Youtube\n"
   ]
  },
  {
   "cell_type": "code",
   "execution_count": 65,
   "id": "be833e38",
   "metadata": {},
   "outputs": [
    {
     "name": "stdout",
     "output_type": "stream",
     "text": [
      "Cột A->B: \n",
      "<1000 chiếm 88.91% (43615/49056) con lai 5441)\n",
      "<500 chiếm 88.45% (43391/49056) con lai 5665)\n",
      "<100 chiếm 86.62% (42494/49056) con lai 6562)\n",
      "Cột B->A: \n",
      "<1000 chiếm 89.43% (43872/49056) con lai 5184)\n",
      "<500 chiếm 88.75% (43536/49056) con lai 5520)\n",
      "<100 chiếm 87.56% (42953/49056) con lai 6103)\n",
      "Cột total: \n",
      "<1000 chiếm 88.57% (43449/49056) con lai 5607)\n",
      "<500 chiếm 88.08% (43210/49056) con lai 5846)\n",
      "<100 chiếm 84.87% (41632/49056) con lai 7424)\n"
     ]
    }
   ],
   "source": [
    "get_static(df_Youtube)"
   ]
  },
  {
   "cell_type": "code",
   "execution_count": null,
   "id": "52213370",
   "metadata": {},
   "outputs": [],
   "source": []
  },
  {
   "cell_type": "code",
   "execution_count": null,
   "id": "8af25270",
   "metadata": {},
   "outputs": [],
   "source": [
    "df_Youtube = df_Youtube.pipe(remove_columns).pipe(final_remove)"
   ]
  },
  {
   "cell_type": "code",
   "execution_count": null,
   "id": "2e51ec05",
   "metadata": {},
   "outputs": [],
   "source": [
    "df_Youtube.to_csv(\n",
    "    \"GQUIC_csv/df_Youtube.csv\", index=False)\n",
    "del df_Youtube"
   ]
  },
  {
   "cell_type": "markdown",
   "id": "38a5052b",
   "metadata": {},
   "source": [
    "# Final"
   ]
  },
  {
   "cell_type": "markdown",
   "id": "52b249ba",
   "metadata": {},
   "source": [
    "## Gop du lieu"
   ]
  },
  {
   "cell_type": "code",
   "execution_count": 1,
   "id": "4740d621",
   "metadata": {},
   "outputs": [
    {
     "ename": "NameError",
     "evalue": "name 'glob' is not defined",
     "output_type": "error",
     "traceback": [
      "\u001b[0;31m---------------------------------------------------------------------------\u001b[0m",
      "\u001b[0;31mNameError\u001b[0m                                 Traceback (most recent call last)",
      "Cell \u001b[0;32mIn [1], line 2\u001b[0m\n\u001b[1;32m      1\u001b[0m path \u001b[39m=\u001b[39m os\u001b[39m.\u001b[39mpath\u001b[39m.\u001b[39mjoin(os\u001b[39m.\u001b[39mgetcwd(),  \u001b[39m'\u001b[39m\u001b[39m/home/onos/FL/Data Processing/GQUIC_csv\u001b[39m\u001b[39m'\u001b[39m)\n\u001b[0;32m----> 2\u001b[0m all_files \u001b[39m=\u001b[39m glob\u001b[39m.\u001b[39mglob(os\u001b[39m.\u001b[39mpath\u001b[39m.\u001b[39mjoin(path, \u001b[39m\"\u001b[39m\u001b[39m*.csv\u001b[39m\u001b[39m\"\u001b[39m))\n\u001b[1;32m      3\u001b[0m df_GQUIC \u001b[39m=\u001b[39m pd\u001b[39m.\u001b[39mconcat((pd\u001b[39m.\u001b[39mread_csv(f,engine\u001b[39m=\u001b[39m\u001b[39m'\u001b[39m\u001b[39mpyarrow\u001b[39m\u001b[39m'\u001b[39m) \u001b[39mfor\u001b[39;00m f \u001b[39min\u001b[39;00m all_files), ignore_index\u001b[39m=\u001b[39m\u001b[39mTrue\u001b[39;00m)\n",
      "\u001b[0;31mNameError\u001b[0m: name 'glob' is not defined"
     ]
    }
   ],
   "source": [
    "path = os.path.join(os.getcwd(),  '/home/onos/FL/Data Processing/GQUIC_csv')\n",
    "all_files = glob.glob(os.path.join(path, \"*.csv\"))\n",
    "df_GQUIC = pd.concat((pd.read_csv(f,engine='pyarrow') for f in all_files), ignore_index=True)\n"
   ]
  },
  {
   "cell_type": "code",
   "execution_count": null,
   "id": "ebb74731",
   "metadata": {},
   "outputs": [],
   "source": [
    "df_sorted = df_GQUIC.sort_values(['stream_id', 'File_name'])\n",
    "del df_GQUIC"
   ]
  },
  {
   "cell_type": "code",
   "execution_count": 4,
   "id": "631aa9d6",
   "metadata": {},
   "outputs": [],
   "source": [
    "df_sorted['flow_id'] = (df_sorted.groupby(['stream_id', 'File_name']).cumcount()==0).astype(int)\n",
    "df_sorted['flow_id'] = df_sorted['flow_id'].cumsum()"
   ]
  },
  {
   "cell_type": "code",
   "execution_count": 5,
   "id": "28711db6",
   "metadata": {},
   "outputs": [],
   "source": [
    "df_sorted.index = pd.RangeIndex(len(df_sorted.index))\n",
    "df_sorted.to_feather('sorted.feather')\n",
    "del df_sorted"
   ]
  },
  {
   "cell_type": "markdown",
   "id": "af60cb7c",
   "metadata": {},
   "source": [
    "## Loc flow <20 packet"
   ]
  },
  {
   "cell_type": "code",
   "execution_count": 7,
   "id": "df43c8ec",
   "metadata": {},
   "outputs": [],
   "source": [
    "df_sorted = pd.read_feather('sorted.feather')\n",
    "print(df_sorted['flow_id'].value_counts().describe())\n",
    "value_c = df_sorted['flow_id'].value_counts()\n",
    "print('So flow co packet < 20: ',value_c[value_c < 20].count())"
   ]
  },
  {
   "cell_type": "code",
   "execution_count": 16,
   "id": "600069f8",
   "metadata": {},
   "outputs": [
    {
     "data": {
      "text/plain": [
       "47.335115220689154"
      ]
     },
     "execution_count": 16,
     "metadata": {},
     "output_type": "execute_result"
    }
   ],
   "source": [
    "print(round((65526.0/138430.0)*100),'%')\n",
    "sub_df = df_sorted[df_sorted.groupby('flow_id').flow_id.transform('count')>19].copy()\n",
    "del df_sorted\n",
    "sub_df.index = pd.RangeIndex(len(sub_df.index))\n",
    "sub_df.to_feather('sub_df.feather')\n",
    "del sub_df"
   ]
  },
  {
   "cell_type": "markdown",
   "id": "764c57d4",
   "metadata": {},
   "source": [
    "## Chuan hoa"
   ]
  },
  {
   "cell_type": "code",
   "execution_count": 7,
   "id": "22d79700",
   "metadata": {},
   "outputs": [],
   "source": [
    "df_sorted = pd.read_feather('sub_df.feather')"
   ]
  },
  {
   "cell_type": "code",
   "execution_count": 8,
   "id": "d25bd8ca",
   "metadata": {},
   "outputs": [],
   "source": [
    "_,small_sample = train_test_split(df_sorted,frac=0.01)"
   ]
  },
  {
   "cell_type": "code",
   "execution_count": 9,
   "id": "7f7f9336",
   "metadata": {},
   "outputs": [],
   "source": [
    "small_sample.to_csv(\"data_sample.csv\",index=False)"
   ]
  },
  {
   "cell_type": "code",
   "execution_count": 8,
   "id": "05c0a18a",
   "metadata": {},
   "outputs": [],
   "source": [
    "df_sorted = (df_sorted.pipe(label_encoding, ['Label']))"
   ]
  },
  {
   "cell_type": "code",
   "execution_count": 9,
   "id": "4231eadd",
   "metadata": {},
   "outputs": [
    {
     "ename": "NameError",
     "evalue": "name 'sorted' is not defined",
     "output_type": "error",
     "traceback": [
      "\u001b[0;31m---------------------------------------------------------------------------\u001b[0m",
      "\u001b[0;31mNameError\u001b[0m                                 Traceback (most recent call last)",
      "Cell \u001b[0;32mIn [9], line 2\u001b[0m\n\u001b[1;32m      1\u001b[0m df_sorted\u001b[39m.\u001b[39mto_feather(\u001b[39m'\u001b[39m\u001b[39mdf_with_label_encoding.feather\u001b[39m\u001b[39m'\u001b[39m)\n\u001b[0;32m----> 2\u001b[0m \u001b[39mdel\u001b[39;00m \u001b[39msorted\u001b[39m\n",
      "\u001b[0;31mNameError\u001b[0m: name 'sorted' is not defined"
     ]
    }
   ],
   "source": [
    "df_sorted.to_feather('df_with_label_encoding.feather')\n",
    "\n",
    "del df_sorted"
   ]
  },
  {
   "cell_type": "markdown",
   "id": "cd561d20",
   "metadata": {},
   "source": [
    "## Chia du lieu cho test case"
   ]
  },
  {
   "cell_type": "code",
   "execution_count": 3,
   "id": "b2b799c3",
   "metadata": {},
   "outputs": [],
   "source": [
    "df_sorted = pd.read_feather('df_with_label_encoding.feather')"
   ]
  },
  {
   "cell_type": "code",
   "execution_count": 4,
   "id": "8bb347bc",
   "metadata": {},
   "outputs": [
    {
     "name": "stdout",
     "output_type": "stream",
     "text": [
      "14581\n",
      "58323\n"
     ]
    }
   ],
   "source": [
    "training_data, test_case = train_test_split(df_sorted, 0.2)\n",
    "print(test_case['flow_id'].nunique())\n",
    "print(training_data['flow_id'].nunique())"
   ]
  },
  {
   "cell_type": "code",
   "execution_count": 5,
   "id": "04ec68cd",
   "metadata": {},
   "outputs": [],
   "source": [
    "del df_sorted"
   ]
  },
  {
   "cell_type": "code",
   "execution_count": 6,
   "id": "321ab050",
   "metadata": {},
   "outputs": [],
   "source": [
    "training_data = training_data.drop(['time_epoch', 'frame_number', 'File_name','stream_id'],axis=1)\n",
    "train, test = train_test_split(training_data, frac=0.2)\n",
    "del training_data\n",
    "train = train.drop(['flow_id'],axis=1)\n",
    "train.index = index_reset(train)\n",
    "train.to_feather('GQUIC_data.feather')\n",
    "del train\n",
    "test = test.sort_values(['flow_id'])\n",
    "test.index = index_reset(test)\n",
    "test.to_feather(\"GQUIC_test.feather\")\n",
    "del test"
   ]
  },
  {
   "cell_type": "code",
   "execution_count": null,
   "id": "f6518ab9",
   "metadata": {},
   "outputs": [],
   "source": [
    "# data_bytes = ['9','31','63','127','255','511','1023']\n",
    "# for each_byte in data_bytes:\n",
    "#     data_train = pd.concat([df_sorted.loc[:, : each_byte],df_sorted.iloc[:,-1:]],axis=1)\n",
    "#     # data_test = pd.concat([df_sorted.loc[:, : each_byte ],df_sorted.iloc[:,-1:]],axis=1)\n",
    "#     each_byte = str(int(each_byte)+1)\n",
    "#     data_train_name = \"GQUIC_data_\" + each_byte +\".csv\"\n",
    "#     # data_test_name = \"GQUIC_test_\" + each_byte +\".csv\"\n",
    "#     data_train.to_csv(data_train_name,index=False)\n",
    "#     # data_test.to_csv(data_test_name,index=False)"
   ]
  },
  {
   "cell_type": "code",
   "execution_count": null,
   "id": "dd4183a1",
   "metadata": {},
   "outputs": [],
   "source": [
    "# first_column = test.pop('flow_id')\n",
    "# test.insert(0, 'flow_id', first_column)"
   ]
  },
  {
   "cell_type": "code",
   "execution_count": null,
   "id": "f6c51872",
   "metadata": {},
   "outputs": [],
   "source": [
    "# del train,test,df_sorted,data_train,data_test"
   ]
  },
  {
   "cell_type": "code",
   "execution_count": null,
   "id": "c9a6bfd1",
   "metadata": {},
   "outputs": [],
   "source": [
    "# test_case = test_case[['time_epoch', 'frame_number', 'stream_id', 'length', 'Label', 'File_name', 'flow_id']]\n",
    "# split = 5\n",
    "# total_data_count = test_case.shape[0]\n",
    "# data_per_set = int(np.floor(total_data_count/split))\n",
    "# DataFrameDict = {}\n",
    "# for i in range(1, split+1):\n",
    "#     client_name = \"client_\" + str(i)\n",
    "#     start = data_per_set * (i-1)\n",
    "#     end = data_per_set * i\n",
    "\n",
    "#     print(f\"Adding data from {start} to {end} for client : {client_name}\")\n",
    "#     DataFrameDict[client_name] = test_case[start:end]\n",
    "# for df in DataFrameDict.keys():\n",
    "#     csv_path = \"gquic_test_case/\"+df + \".csv\"\n",
    "#     DataFrameDict[df].to_csv(csv_path,index=False)"
   ]
  },
  {
   "cell_type": "code",
   "execution_count": null,
   "id": "21aeb359",
   "metadata": {},
   "outputs": [],
   "source": [
    "# train.to_csv(\"GQUIC_data.csv\", index=False)\n",
    "# test.to_csv(\"GQUIC_data_test.csv\",index=False)\n"
   ]
  },
  {
   "cell_type": "code",
   "execution_count": null,
   "id": "6d9dea2e",
   "metadata": {},
   "outputs": [],
   "source": [
    "# train.to_csv('GQUIC_data_2label.csv', index=False)\n",
    "# test.to_csv('GQUIC_test_2label.csv', index=False)\n"
   ]
  },
  {
   "cell_type": "code",
   "execution_count": null,
   "id": "43d45486",
   "metadata": {},
   "outputs": [],
   "source": [
    "# index = 0\n",
    "# with pd.read_csv(\"GQUIC_data.csv\", chunksize=1000000) as reader:\n",
    "#     for data in reader:\n",
    "#         path = '/home/onos/FL/Data Processing/GQUIC_arrow/GQUIC_data({}).arrow'.format(index)\n",
    "#         feather.write_feather(data, path)\n",
    "#         index += 1\n"
   ]
  },
  {
   "cell_type": "code",
   "execution_count": null,
   "id": "f56476ef",
   "metadata": {},
   "outputs": [],
   "source": [
    "# df_GQUIC.info()\n",
    "# df_GQUIC.head(2)\n",
    "# df_GQUIC = df_GQUIC.astype('float16')\n",
    "# df_GQUIC.head(2)\n"
   ]
  },
  {
   "cell_type": "code",
   "execution_count": null,
   "id": "23439818",
   "metadata": {},
   "outputs": [],
   "source": [
    "# df_GQUIC.info()\n"
   ]
  },
  {
   "cell_type": "code",
   "execution_count": null,
   "id": "ea03c708",
   "metadata": {},
   "outputs": [],
   "source": [
    "# df_GQUIC[\"Label\"] = df_GQUIC[\"Label\"].astype(\"int8\")\n"
   ]
  },
  {
   "cell_type": "code",
   "execution_count": null,
   "id": "36f18859",
   "metadata": {},
   "outputs": [],
   "source": [
    "# df_GQUIC.info()\n"
   ]
  },
  {
   "cell_type": "code",
   "execution_count": null,
   "id": "78141992",
   "metadata": {},
   "outputs": [],
   "source": [
    "# df = pd.read_csv(\"iris.csv\")\n"
   ]
  },
  {
   "cell_type": "code",
   "execution_count": null,
   "id": "e43ac82e",
   "metadata": {},
   "outputs": [],
   "source": [
    "# df.info()\n"
   ]
  },
  {
   "cell_type": "code",
   "execution_count": null,
   "id": "8292e8c4",
   "metadata": {},
   "outputs": [],
   "source": [
    "# df = (df.pipe(label_encoding, ['variety']))\n"
   ]
  },
  {
   "cell_type": "code",
   "execution_count": null,
   "id": "0b7b38fe",
   "metadata": {},
   "outputs": [],
   "source": [
    "# df.info()\n"
   ]
  },
  {
   "cell_type": "code",
   "execution_count": null,
   "id": "1b71c975",
   "metadata": {},
   "outputs": [],
   "source": [
    "# df.to_csv(\"iris.csv\")\n"
   ]
  }
 ],
 "metadata": {
  "kernelspec": {
   "display_name": "venv",
   "language": "python",
   "name": "python3"
  },
  "language_info": {
   "codemirror_mode": {
    "name": "ipython",
    "version": 3
   },
   "file_extension": ".py",
   "mimetype": "text/x-python",
   "name": "python",
   "nbconvert_exporter": "python",
   "pygments_lexer": "ipython3",
   "version": "3.9.14"
  },
  "latex_envs": {
   "LaTeX_envs_menu_present": true,
   "autoclose": false,
   "autocomplete": true,
   "bibliofile": "biblio.bib",
   "cite_by": "apalike",
   "current_citInitial": 1,
   "eqLabelWithNumbers": true,
   "eqNumInitial": 1,
   "hotkeys": {
    "equation": "Ctrl-E",
    "itemize": "Ctrl-I"
   },
   "labels_anchors": false,
   "latex_user_defs": false,
   "report_style_numbering": false,
   "user_envs_cfg": false
  },
  "toc": {
   "base_numbering": 1,
   "nav_menu": {},
   "number_sections": true,
   "sideBar": true,
   "skip_h1_title": false,
   "title_cell": "Table of Contents",
   "title_sidebar": "Contents",
   "toc_cell": false,
   "toc_position": {},
   "toc_section_display": true,
   "toc_window_display": false
  },
  "vscode": {
   "interpreter": {
    "hash": "addd2fdd290c7c34336629330a81969ca1164c4689498c0841c953bddca49006"
   }
  }
 },
 "nbformat": 4,
 "nbformat_minor": 5
}
